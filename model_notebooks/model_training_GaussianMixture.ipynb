{
 "cells": [
  {
   "cell_type": "markdown",
   "metadata": {},
   "source": [
    "Author: Laiya Lubben (llubben@umich.edu)\n",
    "<br/>Last updated: Aug 17, 2021"
   ]
  },
  {
   "cell_type": "markdown",
   "metadata": {
    "id": "fxDUTxGzQ_IO"
   },
   "source": [
    "# **Import libraries**\n"
   ]
  },
  {
   "cell_type": "code",
   "execution_count": 1,
   "metadata": {
    "colab": {
     "base_uri": "https://localhost:8080/"
    },
    "executionInfo": {
     "elapsed": 4523,
     "status": "ok",
     "timestamp": 1628285210694,
     "user": {
      "displayName": "Laiya Lubben",
      "photoUrl": "https://lh3.googleusercontent.com/a/default-user=s64",
      "userId": "11817724685368002439"
     },
     "user_tz": 420
    },
    "id": "s9ScDGK3Q_IT",
    "outputId": "9495cbfb-d4a3-4a10-f755-17c1a85509e6"
   },
   "outputs": [
    {
     "name": "stderr",
     "output_type": "stream",
     "text": [
      "[nltk_data] Downloading package averaged_perceptron_tagger to\n",
      "[nltk_data]     C:\\Users\\laiya\\AppData\\Roaming\\nltk_data...\n",
      "[nltk_data]   Package averaged_perceptron_tagger is already up-to-\n",
      "[nltk_data]       date!\n",
      "[nltk_data] Downloading package punkt to\n",
      "[nltk_data]     C:\\Users\\laiya\\AppData\\Roaming\\nltk_data...\n",
      "[nltk_data]   Package punkt is already up-to-date!\n",
      "[nltk_data] Downloading package stopwords to\n",
      "[nltk_data]     C:\\Users\\laiya\\AppData\\Roaming\\nltk_data...\n",
      "[nltk_data]   Package stopwords is already up-to-date!\n",
      "[nltk_data] Downloading package averaged_perceptron_tagger to\n",
      "[nltk_data]     C:\\Users\\laiya\\AppData\\Roaming\\nltk_data...\n",
      "[nltk_data]   Package averaged_perceptron_tagger is already up-to-\n",
      "[nltk_data]       date!\n",
      "[nltk_data] Downloading package punkt to\n",
      "[nltk_data]     C:\\Users\\laiya\\AppData\\Roaming\\nltk_data...\n",
      "[nltk_data]   Package punkt is already up-to-date!\n",
      "[nltk_data] Downloading package stopwords to\n",
      "[nltk_data]     C:\\Users\\laiya\\AppData\\Roaming\\nltk_data...\n",
      "[nltk_data]   Package stopwords is already up-to-date!\n"
     ]
    },
    {
     "data": {
      "text/plain": [
       "True"
      ]
     },
     "execution_count": 1,
     "metadata": {},
     "output_type": "execute_result"
    }
   ],
   "source": [
    "# Here is a list of libraries we need to conduct the analysis:\n",
    "import pandas as pd                                                 # Loading files into pandas dataframe\n",
    "import numpy as np                                                  # To use numpy aggregation functions\n",
    "from tqdm.auto import tqdm                                          # track loop time\n",
    "import warnings                                                     # Suppress all warnings\n",
    "warnings.filterwarnings('ignore')\n",
    "\n",
    "import pymysql\n",
    "import re\n",
    "import json\n",
    "import model_shared_utilities as msu                                # helper functions \n",
    "import topic_model_utilities as tm                                  # helper functions\n",
    "# --------------------------------------------------------------------------------------------------\n",
    "import matplotlib.pyplot as plt                                     # Generate visualization \n",
    "import matplotlib.cm as cm\n",
    "import altair as alt                                          \n",
    "import seaborn as sns\n",
    "# --------------------------------------------------------------------------------------------------\n",
    "from sklearn.preprocessing import StandardScaler                    # Transforming dataset\n",
    "from sklearn.feature_extraction.text import TfidfVectorizer\n",
    "from sklearn.feature_extraction.text import CountVectorizer\n",
    "from sklearn.decomposition import PCA\n",
    "from sklearn.manifold import TSNE\n",
    "from nltk.tokenize import sent_tokenize\n",
    "# --------------------------------------------------------------------------------------------------\n",
    "from sklearn.decomposition import NMF, LatentDirichletAllocation    # Model Training\n",
    "from sklearn.model_selection import train_test_split         \n",
    "from sklearn.cluster import KMeans, MiniBatchKMeans\n",
    "from sklearn.metrics import silhouette_samples, silhouette_score\n",
    "from sklearn.mixture import GaussianMixture\n",
    "# --------------------------------------------------------------------------------------------------\n",
    "from sklearn.metrics.pairwise import cosine_similarity              # Calculate the similarity between word vectors\n",
    "# --------------------------------------------------------------------------------------------------\n",
    "import nltk                                                         # Downloading necessary packagings from nltk\n",
    "nltk.download('averaged_perceptron_tagger')\n",
    "nltk.download('punkt')\n",
    "nltk.download('stopwords')"
   ]
  },
  {
   "cell_type": "code",
   "execution_count": 2,
   "metadata": {
    "executionInfo": {
     "elapsed": 8,
     "status": "ok",
     "timestamp": 1628285210695,
     "user": {
      "displayName": "Laiya Lubben",
      "photoUrl": "https://lh3.googleusercontent.com/a/default-user=s64",
      "userId": "11817724685368002439"
     },
     "user_tz": 420
    },
    "id": "4Hxpfco6Q_IU"
   },
   "outputs": [],
   "source": [
    "# This is a magic function to generate the graph within the notebook \n",
    "%matplotlib inline\n",
    "\n",
    "# use this to set random_state to reproduce the same result\n",
    "RANDOM_SEED = 14\n"
   ]
  },
  {
   "cell_type": "markdown",
   "metadata": {
    "id": "KFKos4Cm6Kzp"
   },
   "source": [
    "# **Helper Functions**\n",
    "\n",
    "In the *model_shared_utilities* module, the functions that might be relevant to this notebook: \n",
    "\n",
    "\n",
    "1. generate_avg_silhouette_plot(data, max_k, model, RANDOM_SEED): \n",
    "  * plot the average silouette score with different number of clusters\n",
    "2. generate_tsne_pca_plot(data, pred_clusters, n_clusters, RANDOM_SEED): \n",
    "  * generate PCA cluster plot that capture global structure of the data \n",
    "  * generate TSNE cluster plot that capture the local distances between neighbors\n",
    "3. get_top_keywords(data, pred_clusters, terms, n_terms): \n",
    "  * get the top n terms for each cluster\n"
   ]
  },
  {
   "cell_type": "code",
   "execution_count": 3,
   "metadata": {
    "executionInfo": {
     "elapsed": 7,
     "status": "ok",
     "timestamp": 1628285210696,
     "user": {
      "displayName": "Laiya Lubben",
      "photoUrl": "https://lh3.googleusercontent.com/a/default-user=s64",
      "userId": "11817724685368002439"
     },
     "user_tz": 420
    },
    "id": "ZD21UlMthCPL"
   },
   "outputs": [],
   "source": [
    "# BIC is a criterion for model selection among a finite set of models; the model with the lowest BIC is preferred.\n",
    "# It penalizes the complexity of the model (number of parameters in the model).\n",
    "\n",
    "\n",
    "def generate_bic_plot(data, max_k):\n",
    "    \"\"\"\n",
    "      this function is to generate Bayesian information criterion (BIC) plot\n",
    "\n",
    "      Parameters\n",
    "      ----------\n",
    "      data: numerical matrix (tfidf transformation of the text data)\n",
    "      max_k (int): maximum number for n_components \n",
    "\n",
    "    \"\"\"\n",
    "    n_components = range(2, max_k+1, 2)\n",
    "    models = [GaussianMixture(n, random_state=RANDOM_SEED).fit(data)\n",
    "              for n in tqdm(n_components)]\n",
    "    bic = [m.bic(data) for m in tqdm(models)]\n",
    "\n",
    "    f, ax = plt.subplots(1, 1, figsize=(10,5))\n",
    "\n",
    "    ax.plot(n_components, bic, marker='o')\n",
    "    ax.set_xlabel('n_components')\n",
    "    ax.set_xticks(n_components)\n",
    "    ax.set_xticklabels(n_components)\n",
    "    ax.set_ylabel('BIC')\n",
    "    ax.set_title('BIC Plot')\n"
   ]
  },
  {
   "cell_type": "markdown",
   "metadata": {
    "id": "_BzgnzWM547h"
   },
   "source": [
    "# **Load / Transform Data**"
   ]
  },
  {
   "cell_type": "code",
   "execution_count": 4,
   "metadata": {
    "scrolled": true
   },
   "outputs": [],
   "source": [
    "# read the secret keys from json file \n",
    "# Note the config file need to be filled with your own credentials before running this notebook \n",
    "# or ask the owners of this repository for the filled config file\n",
    "with open('config.json', 'r') as f:\n",
    "    secret = json.load(f)\n",
    "    "
   ]
  },
  {
   "cell_type": "code",
   "execution_count": 5,
   "metadata": {
    "executionInfo": {
     "elapsed": 6342,
     "status": "ok",
     "timestamp": 1628285217032,
     "user": {
      "displayName": "Laiya Lubben",
      "photoUrl": "https://lh3.googleusercontent.com/a/default-user=s64",
      "userId": "11817724685368002439"
     },
     "user_tz": 420
    },
    "id": "4BKcfB2_5Zw1"
   },
   "outputs": [],
   "source": [
    "# connect to the database\n",
    "connection = pymysql.connect(host=secret['host'],\n",
    "                              user=secret['user'],\n",
    "                              password=secret['password'],\n",
    "                              database=secret['database'],\n",
    "                              port=secret['port'],\n",
    "                              charset=secret['charset'],\n",
    "                              cursorclass=pymysql.cursors.DictCursor)\n",
    "\n",
    "cursor = connection.cursor()\n",
    "\n",
    "cursor.execute(\"SELECT * FROM jd;\")\n",
    "table = cursor.fetchall()\n",
    "connection.close()"
   ]
  },
  {
   "cell_type": "code",
   "execution_count": 6,
   "metadata": {
    "colab": {
     "base_uri": "https://localhost:8080/"
    },
    "executionInfo": {
     "elapsed": 225,
     "status": "ok",
     "timestamp": 1628285217224,
     "user": {
      "displayName": "Laiya Lubben",
      "photoUrl": "https://lh3.googleusercontent.com/a/default-user=s64",
      "userId": "11817724685368002439"
     },
     "user_tz": 420
    },
    "id": "HesGQ34D5aXu",
    "outputId": "137c7295-cb4d-438e-be4f-ec559a4f23a3"
   },
   "outputs": [
    {
     "name": "stdout",
     "output_type": "stream",
     "text": [
      "Job dataset has 18087 rows of data\n"
     ]
    }
   ],
   "source": [
    "# Now let's put the table into pandas dataframe \n",
    "job_df = pd.DataFrame(table)\n",
    "job_df = job_df.dropna(subset=['job_description'])\n",
    "\n",
    "print(\"Job dataset has\", job_df.shape[0], \"rows of data\")"
   ]
  },
  {
   "cell_type": "code",
   "execution_count": 7,
   "metadata": {
    "executionInfo": {
     "elapsed": 8,
     "status": "ok",
     "timestamp": 1628285217226,
     "user": {
      "displayName": "Laiya Lubben",
      "photoUrl": "https://lh3.googleusercontent.com/a/default-user=s64",
      "userId": "11817724685368002439"
     },
     "user_tz": 420
    },
    "id": "z8VMCA0W5gsJ"
   },
   "outputs": [],
   "source": [
    "# remove words that are common in job postings and data science related terms\n",
    "# notice some terms like \"jefferson\" and \"cybercoders\" are recruitment companies \n",
    "stopwords = [\"job\", \"summary\", \"posted\", \"location\" , \"employee\", \"today\", \"type\", \"data\", \"scientist\", \"level\", \"experience\", \"skills\", \n",
    "             \"deep\", \"learning\", \"machine\", \"jobdescriptiontext\", \"ability\", \"analytics\", \"work\", \"modeling\", \"models\", \"analysis\", \"research\", \n",
    "             \"big\", \"technical\", \"requirements\", \"requirement\", \"required\", \"strong\", \"years\", \"team\", \"experienced\",\n",
    "             \"rsquo\", \"nbsp\", \"reference\", \"career\", \"persons\", \"hired\", \"eligibility\", \"applicants\", \"authorized\", \"transform\",\n",
    "             \"manipulate\", \"need\", \"position\", \"complete\", \"employment\", \"document\", \"verify\", \"identity\", \"looking\", \"equal\", \"apply\", \"status\",\n",
    "             \"color\", \"veteran\", \"religion\", \"race\", \"origin\", \"sexual\", \"orientation\", \"opportunity\", \"disability\", \"gender\", \"time\", \"recruitment\", \"hiring\", \n",
    "             \"people\", \"working\", \"employer\", \"qualified\", \"form\", \"hire\", \"pregnancy\", \"marital\", \"color\", \"compliance\", \"federal\", \"right\", \"resume\", \"protected\", \"applicable\", \"laws\",\n",
    "             \"statistical\", \"projects\", \"provide\", \"reports\", \"including\" , \"large\", \"engineering\", \"insights\" , \"computer\", \"problems\",\n",
    "             \"algorithms\", \"knowledge\", \"advanced\", \"statistics\", \"solutions\", \"using\", \"techniques\", \"statistical\", \"verification\", \n",
    "             'build', 'help', 'products', 'teams', 'company', 'building', 'make', 'full', 'please', 'paid', 'jefferson', 'frank', 'cybercoders',    \n",
    "             'python', 'spark', 'sets', 'mining', 'customers', 'services', 'related', 'degree', 'support', 'information', 'project', \n",
    "             'related', 'must','scientists', 'processing', 'language', 'engineers', 'applied',\n",
    "             'reporting', 'processes', 'analyst', 'customer', 'needs', 'booz', 'allen', 'robert', 'half', 'change', 'answers', 'certifications', 'turn', 'taboola', 'newsroom', \n",
    "             'paid', 'preferred', 'schedule', 'benefits', 'year', 'dental', 'vision', 'clearance', 'jobs', 'find', 'organizations', 'jeffersonfrank', 'north', 'america',\n",
    "             'forward', 'receiving', 'states', 'upon', 'characteristic', 'united', 'national', 'proud', 'receive', 'click', 'consideration', 'without', 'regard',\n",
    "             'capture', 'methods', 'structured', 'unstructured', 'outcomes', 'analyses', 'read', 'something'\n",
    "             'drive', 'complex', 'results', 'across', 'sources', 'identify', 'great', 'happy', 'qualifications', 'relevant', 'application', 'essential',\n",
    "             'field', 'best','perform', 'relevant', 'duties', 'drive', 'analytic', 'role', 'responsibilities', 'join', 'impact', 'science', 'analytical', 'develop', 'quantitative',\n",
    "             'scale', 'like','opportunities','understanding', 'training', 'access', 'intelligence', 'know', 'world', 'onsite', 'responsibilitie', 'cluster', \n",
    "             'four', 'greater', 'case', 'problem', 'interpreting', 'feature', 'carlo', 'bagging', 'professionals', 'deploy', 'nosql', 'interpreting'] \n",
    "my_stop_words = set(nltk.corpus.stopwords.words('english')).union(stopwords)"
   ]
  },
  {
   "cell_type": "code",
   "execution_count": 8,
   "metadata": {
    "colab": {
     "base_uri": "https://localhost:8080/"
    },
    "executionInfo": {
     "elapsed": 19007,
     "status": "ok",
     "timestamp": 1628285236227,
     "user": {
      "displayName": "Laiya Lubben",
      "photoUrl": "https://lh3.googleusercontent.com/a/default-user=s64",
      "userId": "11817724685368002439"
     },
     "user_tz": 420
    },
    "id": "0LGLRt955hNL",
    "outputId": "6a4c0e7e-ba33-4807-fed8-c6ccab844ca5"
   },
   "outputs": [
    {
     "name": "stdout",
     "output_type": "stream",
     "text": [
      "(18087, 10000)\n"
     ]
    }
   ],
   "source": [
    "# Let's initiate the TfidfVectorizer and transform the job descriptions \n",
    "tfidf_vectorizer = TfidfVectorizer(max_features=10000,              # only top n by freq\n",
    "                                   lowercase=True,                  # lowercase all tokens\n",
    "                                   token_pattern=r\"[A-Za-z]{4,15}\", # words with 4 to 15 characters\n",
    "                                   ngram_range=(1,2),               # include 2-word phrases\n",
    "                                   min_df=25,                       # absolute count of doc\n",
    "                                   max_df=0.75,                     # % of docs\n",
    "                                   stop_words=my_stop_words)        # used the stopwords we created from code above\n",
    "\n",
    "tfidf_docs = tfidf_vectorizer.fit_transform(job_df[\"cleaned_jd\"])  \n",
    "print(tfidf_docs.shape)\n",
    "tfidf_terms = tfidf_vectorizer.get_feature_names()"
   ]
  },
  {
   "cell_type": "markdown",
   "metadata": {
    "id": "ImVJLHLX6Ns4"
   },
   "source": [
    "# **Model Training**\n",
    "\n",
    "From what we observed from TSNE cluster plot and PCA cluster plot from the KMeans, there are lot of overlaps between the clusters. For the second model, we want to try the [Gaussian Mixture Model](https://scikit-learn.org/stable/modules/generated/sklearn.mixture.GaussianMixture.html), which is a probabilistic model that assumes the data are generated from a mixture of Gaussian distributions. The methods we will use to evaluate the quality of the clusters: \n",
    "1. **Average Silhouette Plot**: silhouette score measure how close each point in one cluster is to points in the neighboring clusters. Near +1 indicate that the sample is far away from the neighboring clusters; 0 indicates that the sample is on or very close to the decision boundary between two neighboring clusters; negative values indicate that those samples might have been assigned to the wrong cluster. \n",
    "2. **BIC Plot**: Bayesian information criterion is a built-in method from the sklearn GMM model. BIC is an estimation on how good the GMM in terms of predicting the data we have. The lower is the BIC, the better is the model to actually predict the data. The model with the lowest BIC is preferred."
   ]
  },
  {
   "cell_type": "markdown",
   "metadata": {
    "id": "xj-NpZAq7BAH"
   },
   "source": [
    "## Gaussian Mixture Model"
   ]
  },
  {
   "cell_type": "code",
   "execution_count": 9,
   "metadata": {
    "colab": {
     "base_uri": "https://localhost:8080/"
    },
    "executionInfo": {
     "elapsed": 289808,
     "status": "ok",
     "timestamp": 1628285533428,
     "user": {
      "displayName": "Laiya Lubben",
      "photoUrl": "https://lh3.googleusercontent.com/a/default-user=s64",
      "userId": "11817724685368002439"
     },
     "user_tz": 420
    },
    "id": "mKfASsYC7F-4",
    "outputId": "3db7a005-b4e1-4917-b9c0-611d84565464"
   },
   "outputs": [
    {
     "data": {
      "text/plain": [
       "0.8425407237676198"
      ]
     },
     "execution_count": 9,
     "metadata": {},
     "output_type": "execute_result"
    }
   ],
   "source": [
    "# Let's reduce the number of dimensions so that we can generate multiple models with different number of clusters\n",
    "pca = PCA(n_components=2500, random_state=RANDOM_SEED)\n",
    "pca_docs = pca.fit_transform(tfidf_docs.todense())\n",
    "pca.explained_variance_ratio_.sum()"
   ]
  },
  {
   "cell_type": "code",
   "execution_count": 10,
   "metadata": {
    "colab": {
     "base_uri": "https://localhost:8080/",
     "height": 399,
     "referenced_widgets": [
      "0658870f868648cab97ddc0547b31e07",
      "b505096a9e3142e2a3f543ee0e505100",
      "13ba1e4d364843f0925c8ec31a75f70d",
      "4a4c672f7ff4414b9b6b7148178e99a5",
      "bac0172f45d346c7b8477b7588315173",
      "bd518fe23b6b4f1b881122657fcb723d",
      "287937bc6be64d28a6f9f47d1d541b97",
      "927fa70a44be47928512992538c175da"
     ]
    },
    "executionInfo": {
     "elapsed": 2619745,
     "status": "ok",
     "timestamp": 1627354311307,
     "user": {
      "displayName": "Laiya Lubben",
      "photoUrl": "",
      "userId": "11817724685368002439"
     },
     "user_tz": 420
    },
    "id": "ewWtTRAygvWh",
    "outputId": "f1ce4aad-c375-4134-881d-622abeb992cf"
   },
   "outputs": [
    {
     "data": {
      "application/vnd.jupyter.widget-view+json": {
       "model_id": "2acbb60b8788410f8769a24c73831cd7",
       "version_major": 2,
       "version_minor": 0
      },
      "text/plain": [
       "  0%|          | 0/15 [00:00<?, ?it/s]"
      ]
     },
     "metadata": {},
     "output_type": "display_data"
    },
    {
     "data": {
      "image/png": "[encoded data removed]",
      "text/plain": [
       "<Figure size 720x360 with 1 Axes>"
      ]
     },
     "metadata": {
      "needs_background": "light"
     },
     "output_type": "display_data"
    }
   ],
   "source": [
    "# plot the average silouette scores for each number of cluster\n",
    "msu.generate_avg_silhouette_plot(pca_docs, 30, 'GMM', RANDOM_SEED)"
   ]
  },
  {
   "cell_type": "code",
   "execution_count": 14,
   "metadata": {
    "colab": {
     "base_uri": "https://localhost:8080/",
     "height": 449,
     "referenced_widgets": [
      "7520e2304eb34d7c97c7a295e1effce3",
      "44c550fa678040f7924d8b432619f3e2",
      "5cacbb53beac44788ee44ca738607058",
      "121d75f53b7045a88fdd27c3205efa0a",
      "629c3b92760448158ae8d6a8ca1d8517",
      "c7c0f4a2a2004b168651b3a42cddea33",
      "90b9974e965e45479ed23fd8b72a50da",
      "4f75cc76d27743e0b080ec072d822a4f",
      "9f6b5f61d76b4301891c595d0bff75a8",
      "163f77f6f0bc45cf9667817534c23a06",
      "57c420d138364857a87f41a1ed2f28e7",
      "fc147cc896544e0394bb6febaa0deed7",
      "999414c18bd1445980159e07fc9f0c55",
      "bbe91243440e417c89421d55aecb98dd",
      "36c2f95ae713495387627d055e122b41",
      "fe8d890d95a746ae9c033e169d22a79c"
     ]
    },
    "executionInfo": {
     "elapsed": 7067121,
     "status": "ok",
     "timestamp": 1628234292882,
     "user": {
      "displayName": "Laiya Lubben",
      "photoUrl": "https://lh3.googleusercontent.com/a/default-user=s64",
      "userId": "11817724685368002439"
     },
     "user_tz": 420
    },
    "id": "QJhPpYAO4-c6",
    "outputId": "4943cbc1-eba0-4546-cd35-731b9be9cfc5"
   },
   "outputs": [
    {
     "data": {
      "application/vnd.jupyter.widget-view+json": {
       "model_id": "6b09967ce3274bb6878b6b42e0197991",
       "version_major": 2,
       "version_minor": 0
      },
      "text/plain": [
       "  0%|          | 0/15 [00:00<?, ?it/s]"
      ]
     },
     "metadata": {},
     "output_type": "display_data"
    },
    {
     "data": {
      "application/vnd.jupyter.widget-view+json": {
       "model_id": "ebd5ed140bd6436b92f57891973784e0",
       "version_major": 2,
       "version_minor": 0
      },
      "text/plain": [
       "  0%|          | 0/15 [00:00<?, ?it/s]"
      ]
     },
     "metadata": {},
     "output_type": "display_data"
    },
    {
     "data": {
      "image/png": "[encoded data removed]",
      "text/plain": [
       "<Figure size 720x360 with 1 Axes>"
      ]
     },
     "metadata": {
      "needs_background": "light"
     },
     "output_type": "display_data"
    }
   ],
   "source": [
    "# let's plot the BIC criterion for each number of cluster \n",
    "generate_bic_plot(pca_docs, 30)"
   ]
  },
  {
   "cell_type": "code",
   "execution_count": 15,
   "metadata": {
    "executionInfo": {
     "elapsed": 825363,
     "status": "ok",
     "timestamp": 1628286358785,
     "user": {
      "displayName": "Laiya Lubben",
      "photoUrl": "https://lh3.googleusercontent.com/a/default-user=s64",
      "userId": "11817724685368002439"
     },
     "user_tz": 420
    },
    "id": "ZWG0K7iQdDDy"
   },
   "outputs": [],
   "source": [
    "# From the average silhouette plot, we can see that the curve slow down at k=24\n",
    "# so let's look at the result for 24 clusters \n",
    "GMM = GaussianMixture(n_components=24, random_state=RANDOM_SEED)\n",
    "clusters_labels = GMM.fit_predict(pca_docs)"
   ]
  },
  {
   "cell_type": "code",
   "execution_count": 16,
   "metadata": {
    "colab": {
     "base_uri": "https://localhost:8080/"
    },
    "executionInfo": {
     "elapsed": 1814,
     "status": "ok",
     "timestamp": 1628286360597,
     "user": {
      "displayName": "Laiya Lubben",
      "photoUrl": "https://lh3.googleusercontent.com/a/default-user=s64",
      "userId": "11817724685368002439"
     },
     "user_tz": 420
    },
    "id": "LhbaMzw27GHd",
    "outputId": "6d4a32d5-e909-466b-fafc-8b67a734ed8b"
   },
   "outputs": [
    {
     "name": "stdout",
     "output_type": "stream",
     "text": [
      "\n",
      "Cluster 0\n",
      "strategic goals,operational strategic,various forms,tailor,functionalities,refinement existing,collection refinement,azure,meaningful recommendations,familiar\n",
      "\n",
      "Cluster 1\n",
      "development,service,manufacturing,education,system,process,systems,equipment,business,management\n",
      "\n",
      "Cluster 2\n",
      "fair chance,ordinance,chance initiative,angeles fair,initiative ordinance,consistent angeles,angeles criminal,consider city,city angeles,angeles\n",
      "\n",
      "Cluster 3\n",
      "online presentation,power dedicated,resources university,towards functional,premier social,good competition,portal specifically,leaders partnership,public sectors,online\n",
      "\n",
      "Cluster 4\n",
      "platform,software,tools,digital,design,clients,development,technology,business,product\n",
      "\n",
      "Cluster 5\n",
      "tool powered,editors special,downtown builds,editorial tool,increase readership,environment,content,hadoop,google google,google\n",
      "\n",
      "Cluster 6\n",
      "hadoop,tools,plus,senior,development,code,software,business,contract,client\n",
      "\n",
      "Cluster 7\n",
      "market built,users throughout,throughout specializing,specializing solely,placing candidates,deal partners,built relationships,solely placing,agency deal,relationships employers\n",
      "\n",
      "Cluster 8\n",
      "copyright,link bottom,going detail,copyright rights,directly clicking,email search,bottom email,detail link,search open,going\n",
      "\n",
      "Cluster 9\n",
      "morgan,investment,small businesses,business,small,jpmorgan chase,jpmorgan,financial,banking,chase\n",
      "\n",
      "Cluster 10\n",
      "prescriptive meet,specializes rigorous,representation visualizations,simulation bootstrap,communicate graphical,survey firm,downstream insight,public,visualizations,ssrs\n",
      "\n",
      "Cluster 11\n",
      "cloud,technologies,family,security,discrimination,harassment,dell technologies,discrimination harassment,vmware,dell\n",
      "\n",
      "Cluster 12\n",
      "firm growth,growth proven,globally offices,date worked,contract market,worldwide deliver,record servicing,market date,worked globally,azure\n",
      "\n",
      "Cluster 13\n",
      "reimagining intersection,better brightest,state shopping,largest retailer,mission,business,walmart ecommerce,ecommerce,shopping,walmart\n",
      "\n",
      "Cluster 14\n",
      "operations,decision,model,stakeholders,development,marketing,predictive,tools,management,business\n",
      "\n",
      "Cluster 15\n",
      "business society,challenge,reinventing,ibmer,business,clients,next challenge,professional expertise,ibmers,progressive\n",
      "\n",
      "Cluster 16\n",
      "true partnership,partnership teksystems,teksystems partners,teksystems allegis,leaders thats,clients activate,stack technology,progressive leaders,accommodation,teksystems\n",
      "\n",
      "Cluster 17\n",
      "secret,government,mission,defense,kpmg,software,development,systems,cyber,security\n",
      "\n",
      "Cluster 18\n",
      "relationships clients,relationships,demonstrating,fraud,management,client,demonstrates,business,guidehouse,clients\n",
      "\n",
      "Cluster 19\n",
      "engineer,applications,technologies,architecture,business,systems,cloud,design,development,software\n",
      "\n",
      "Cluster 20\n",
      "monday friday,monday,insurance health,remotely,middot,hour,insurance insurance,health insurance,health,insurance\n",
      "\n",
      "Cluster 21\n",
      "ensuring safety,biolife plasma,biolife feel,focus donors,safety donors,takeda,donor,biolife,plasma,donors\n",
      "\n",
      "Cluster 22\n",
      "management,health care,quality,patients,medical,patient,care,healthcare,health,clinical\n",
      "\n",
      "Cluster 23\n",
      "health,nursing,together,facebook,optum,group,care,davita,unitedhealth group,unitedhealth\n"
     ]
    }
   ],
   "source": [
    "msu.get_top_keywords(tfidf_docs, clusters_labels, tfidf_terms, 10)"
   ]
  },
  {
   "cell_type": "markdown",
   "metadata": {},
   "source": [
    "Although some of the clusters are very specific to a certain domain (ex. cluster 9, 22), there are still a lot of clusters that include generic terms, which are difficult to label. In addition, the average silhouette plot and the BIC plot did not help identify the optimal number of clusters to set the n_components in our model. As a result, we will not be using this model to generate the domain label for our job posting dataset "
   ]
  },
  {
   "cell_type": "code",
   "execution_count": null,
   "metadata": {},
   "outputs": [],
   "source": []
  }
 ],
 "metadata": {
  "colab": {
   "authorship_tag": "ABX9TyOVZ3ow5iR2BaHslPXMTvUT",
   "collapsed_sections": [
    "63BLhBE85NdP",
    "KFKos4Cm6Kzp"
   ],
   "name": "model_training_GaussianMixture.ipynb",
   "provenance": []
  },
  "kernelspec": {
   "display_name": "Python 3",
   "language": "python",
   "name": "python3"
  },
  "language_info": {
   "codemirror_mode": {
    "name": "ipython",
    "version": 3
   },
   "file_extension": ".py",
   "mimetype": "text/x-python",
   "name": "python",
   "nbconvert_exporter": "python",
   "pygments_lexer": "ipython3",
   "version": "3.7.4"
  },
  "widgets": {
   "application/vnd.jupyter.widget-state+json": {
    "0658870f868648cab97ddc0547b31e07": {
     "model_module": "@jupyter-widgets/controls",
     "model_name": "HBoxModel",
     "state": {
      "_dom_classes": [],
      "_model_module": "@jupyter-widgets/controls",
      "_model_module_version": "1.5.0",
      "_model_name": "HBoxModel",
      "_view_count": null,
      "_view_module": "@jupyter-widgets/controls",
      "_view_module_version": "1.5.0",
      "_view_name": "HBoxView",
      "box_style": "",
      "children": [
       "IPY_MODEL_13ba1e4d364843f0925c8ec31a75f70d",
       "IPY_MODEL_4a4c672f7ff4414b9b6b7148178e99a5"
      ],
      "layout": "IPY_MODEL_b505096a9e3142e2a3f543ee0e505100"
     }
    },
    "121d75f53b7045a88fdd27c3205efa0a": {
     "model_module": "@jupyter-widgets/controls",
     "model_name": "HTMLModel",
     "state": {
      "_dom_classes": [],
      "_model_module": "@jupyter-widgets/controls",
      "_model_module_version": "1.5.0",
      "_model_name": "HTMLModel",
      "_view_count": null,
      "_view_module": "@jupyter-widgets/controls",
      "_view_module_version": "1.5.0",
      "_view_name": "HTMLView",
      "description": "",
      "description_tooltip": null,
      "layout": "IPY_MODEL_4f75cc76d27743e0b080ec072d822a4f",
      "placeholder": "​",
      "style": "IPY_MODEL_90b9974e965e45479ed23fd8b72a50da",
      "value": " 8/8 [1:57:46&lt;00:00, 883.29s/it]"
     }
    },
    "13ba1e4d364843f0925c8ec31a75f70d": {
     "model_module": "@jupyter-widgets/controls",
     "model_name": "FloatProgressModel",
     "state": {
      "_dom_classes": [],
      "_model_module": "@jupyter-widgets/controls",
      "_model_module_version": "1.5.0",
      "_model_name": "FloatProgressModel",
      "_view_count": null,
      "_view_module": "@jupyter-widgets/controls",
      "_view_module_version": "1.5.0",
      "_view_name": "ProgressView",
      "bar_style": "success",
      "description": "100%",
      "description_tooltip": null,
      "layout": "IPY_MODEL_bd518fe23b6b4f1b881122657fcb723d",
      "max": 15,
      "min": 0,
      "orientation": "horizontal",
      "style": "IPY_MODEL_bac0172f45d346c7b8477b7588315173",
      "value": 15
     }
    },
    "163f77f6f0bc45cf9667817534c23a06": {
     "model_module": "@jupyter-widgets/base",
     "model_name": "LayoutModel",
     "state": {
      "_model_module": "@jupyter-widgets/base",
      "_model_module_version": "1.2.0",
      "_model_name": "LayoutModel",
      "_view_count": null,
      "_view_module": "@jupyter-widgets/base",
      "_view_module_version": "1.2.0",
      "_view_name": "LayoutView",
      "align_content": null,
      "align_items": null,
      "align_self": null,
      "border": null,
      "bottom": null,
      "display": null,
      "flex": null,
      "flex_flow": null,
      "grid_area": null,
      "grid_auto_columns": null,
      "grid_auto_flow": null,
      "grid_auto_rows": null,
      "grid_column": null,
      "grid_gap": null,
      "grid_row": null,
      "grid_template_areas": null,
      "grid_template_columns": null,
      "grid_template_rows": null,
      "height": null,
      "justify_content": null,
      "justify_items": null,
      "left": null,
      "margin": null,
      "max_height": null,
      "max_width": null,
      "min_height": null,
      "min_width": null,
      "object_fit": null,
      "object_position": null,
      "order": null,
      "overflow": null,
      "overflow_x": null,
      "overflow_y": null,
      "padding": null,
      "right": null,
      "top": null,
      "visibility": null,
      "width": null
     }
    },
    "287937bc6be64d28a6f9f47d1d541b97": {
     "model_module": "@jupyter-widgets/controls",
     "model_name": "DescriptionStyleModel",
     "state": {
      "_model_module": "@jupyter-widgets/controls",
      "_model_module_version": "1.5.0",
      "_model_name": "DescriptionStyleModel",
      "_view_count": null,
      "_view_module": "@jupyter-widgets/base",
      "_view_module_version": "1.2.0",
      "_view_name": "StyleView",
      "description_width": ""
     }
    },
    "36c2f95ae713495387627d055e122b41": {
     "model_module": "@jupyter-widgets/controls",
     "model_name": "DescriptionStyleModel",
     "state": {
      "_model_module": "@jupyter-widgets/controls",
      "_model_module_version": "1.5.0",
      "_model_name": "DescriptionStyleModel",
      "_view_count": null,
      "_view_module": "@jupyter-widgets/base",
      "_view_module_version": "1.2.0",
      "_view_name": "StyleView",
      "description_width": ""
     }
    },
    "44c550fa678040f7924d8b432619f3e2": {
     "model_module": "@jupyter-widgets/base",
     "model_name": "LayoutModel",
     "state": {
      "_model_module": "@jupyter-widgets/base",
      "_model_module_version": "1.2.0",
      "_model_name": "LayoutModel",
      "_view_count": null,
      "_view_module": "@jupyter-widgets/base",
      "_view_module_version": "1.2.0",
      "_view_name": "LayoutView",
      "align_content": null,
      "align_items": null,
      "align_self": null,
      "border": null,
      "bottom": null,
      "display": null,
      "flex": null,
      "flex_flow": null,
      "grid_area": null,
      "grid_auto_columns": null,
      "grid_auto_flow": null,
      "grid_auto_rows": null,
      "grid_column": null,
      "grid_gap": null,
      "grid_row": null,
      "grid_template_areas": null,
      "grid_template_columns": null,
      "grid_template_rows": null,
      "height": null,
      "justify_content": null,
      "justify_items": null,
      "left": null,
      "margin": null,
      "max_height": null,
      "max_width": null,
      "min_height": null,
      "min_width": null,
      "object_fit": null,
      "object_position": null,
      "order": null,
      "overflow": null,
      "overflow_x": null,
      "overflow_y": null,
      "padding": null,
      "right": null,
      "top": null,
      "visibility": null,
      "width": null
     }
    },
    "4a4c672f7ff4414b9b6b7148178e99a5": {
     "model_module": "@jupyter-widgets/controls",
     "model_name": "HTMLModel",
     "state": {
      "_dom_classes": [],
      "_model_module": "@jupyter-widgets/controls",
      "_model_module_version": "1.5.0",
      "_model_name": "HTMLModel",
      "_view_count": null,
      "_view_module": "@jupyter-widgets/controls",
      "_view_module_version": "1.5.0",
      "_view_name": "HTMLView",
      "description": "",
      "description_tooltip": null,
      "layout": "IPY_MODEL_927fa70a44be47928512992538c175da",
      "placeholder": "​",
      "style": "IPY_MODEL_287937bc6be64d28a6f9f47d1d541b97",
      "value": " 15/15 [1:58:23&lt;00:00, 473.59s/it]"
     }
    },
    "4f75cc76d27743e0b080ec072d822a4f": {
     "model_module": "@jupyter-widgets/base",
     "model_name": "LayoutModel",
     "state": {
      "_model_module": "@jupyter-widgets/base",
      "_model_module_version": "1.2.0",
      "_model_name": "LayoutModel",
      "_view_count": null,
      "_view_module": "@jupyter-widgets/base",
      "_view_module_version": "1.2.0",
      "_view_name": "LayoutView",
      "align_content": null,
      "align_items": null,
      "align_self": null,
      "border": null,
      "bottom": null,
      "display": null,
      "flex": null,
      "flex_flow": null,
      "grid_area": null,
      "grid_auto_columns": null,
      "grid_auto_flow": null,
      "grid_auto_rows": null,
      "grid_column": null,
      "grid_gap": null,
      "grid_row": null,
      "grid_template_areas": null,
      "grid_template_columns": null,
      "grid_template_rows": null,
      "height": null,
      "justify_content": null,
      "justify_items": null,
      "left": null,
      "margin": null,
      "max_height": null,
      "max_width": null,
      "min_height": null,
      "min_width": null,
      "object_fit": null,
      "object_position": null,
      "order": null,
      "overflow": null,
      "overflow_x": null,
      "overflow_y": null,
      "padding": null,
      "right": null,
      "top": null,
      "visibility": null,
      "width": null
     }
    },
    "57c420d138364857a87f41a1ed2f28e7": {
     "model_module": "@jupyter-widgets/controls",
     "model_name": "FloatProgressModel",
     "state": {
      "_dom_classes": [],
      "_model_module": "@jupyter-widgets/controls",
      "_model_module_version": "1.5.0",
      "_model_name": "FloatProgressModel",
      "_view_count": null,
      "_view_module": "@jupyter-widgets/controls",
      "_view_module_version": "1.5.0",
      "_view_name": "ProgressView",
      "bar_style": "success",
      "description": "100%",
      "description_tooltip": null,
      "layout": "IPY_MODEL_bbe91243440e417c89421d55aecb98dd",
      "max": 8,
      "min": 0,
      "orientation": "horizontal",
      "style": "IPY_MODEL_999414c18bd1445980159e07fc9f0c55",
      "value": 8
     }
    },
    "5cacbb53beac44788ee44ca738607058": {
     "model_module": "@jupyter-widgets/controls",
     "model_name": "FloatProgressModel",
     "state": {
      "_dom_classes": [],
      "_model_module": "@jupyter-widgets/controls",
      "_model_module_version": "1.5.0",
      "_model_name": "FloatProgressModel",
      "_view_count": null,
      "_view_module": "@jupyter-widgets/controls",
      "_view_module_version": "1.5.0",
      "_view_name": "ProgressView",
      "bar_style": "success",
      "description": "100%",
      "description_tooltip": null,
      "layout": "IPY_MODEL_c7c0f4a2a2004b168651b3a42cddea33",
      "max": 8,
      "min": 0,
      "orientation": "horizontal",
      "style": "IPY_MODEL_629c3b92760448158ae8d6a8ca1d8517",
      "value": 8
     }
    },
    "629c3b92760448158ae8d6a8ca1d8517": {
     "model_module": "@jupyter-widgets/controls",
     "model_name": "ProgressStyleModel",
     "state": {
      "_model_module": "@jupyter-widgets/controls",
      "_model_module_version": "1.5.0",
      "_model_name": "ProgressStyleModel",
      "_view_count": null,
      "_view_module": "@jupyter-widgets/base",
      "_view_module_version": "1.2.0",
      "_view_name": "StyleView",
      "bar_color": null,
      "description_width": "initial"
     }
    },
    "7520e2304eb34d7c97c7a295e1effce3": {
     "model_module": "@jupyter-widgets/controls",
     "model_name": "HBoxModel",
     "state": {
      "_dom_classes": [],
      "_model_module": "@jupyter-widgets/controls",
      "_model_module_version": "1.5.0",
      "_model_name": "HBoxModel",
      "_view_count": null,
      "_view_module": "@jupyter-widgets/controls",
      "_view_module_version": "1.5.0",
      "_view_name": "HBoxView",
      "box_style": "",
      "children": [
       "IPY_MODEL_5cacbb53beac44788ee44ca738607058",
       "IPY_MODEL_121d75f53b7045a88fdd27c3205efa0a"
      ],
      "layout": "IPY_MODEL_44c550fa678040f7924d8b432619f3e2"
     }
    },
    "90b9974e965e45479ed23fd8b72a50da": {
     "model_module": "@jupyter-widgets/controls",
     "model_name": "DescriptionStyleModel",
     "state": {
      "_model_module": "@jupyter-widgets/controls",
      "_model_module_version": "1.5.0",
      "_model_name": "DescriptionStyleModel",
      "_view_count": null,
      "_view_module": "@jupyter-widgets/base",
      "_view_module_version": "1.2.0",
      "_view_name": "StyleView",
      "description_width": ""
     }
    },
    "927fa70a44be47928512992538c175da": {
     "model_module": "@jupyter-widgets/base",
     "model_name": "LayoutModel",
     "state": {
      "_model_module": "@jupyter-widgets/base",
      "_model_module_version": "1.2.0",
      "_model_name": "LayoutModel",
      "_view_count": null,
      "_view_module": "@jupyter-widgets/base",
      "_view_module_version": "1.2.0",
      "_view_name": "LayoutView",
      "align_content": null,
      "align_items": null,
      "align_self": null,
      "border": null,
      "bottom": null,
      "display": null,
      "flex": null,
      "flex_flow": null,
      "grid_area": null,
      "grid_auto_columns": null,
      "grid_auto_flow": null,
      "grid_auto_rows": null,
      "grid_column": null,
      "grid_gap": null,
      "grid_row": null,
      "grid_template_areas": null,
      "grid_template_columns": null,
      "grid_template_rows": null,
      "height": null,
      "justify_content": null,
      "justify_items": null,
      "left": null,
      "margin": null,
      "max_height": null,
      "max_width": null,
      "min_height": null,
      "min_width": null,
      "object_fit": null,
      "object_position": null,
      "order": null,
      "overflow": null,
      "overflow_x": null,
      "overflow_y": null,
      "padding": null,
      "right": null,
      "top": null,
      "visibility": null,
      "width": null
     }
    },
    "999414c18bd1445980159e07fc9f0c55": {
     "model_module": "@jupyter-widgets/controls",
     "model_name": "ProgressStyleModel",
     "state": {
      "_model_module": "@jupyter-widgets/controls",
      "_model_module_version": "1.5.0",
      "_model_name": "ProgressStyleModel",
      "_view_count": null,
      "_view_module": "@jupyter-widgets/base",
      "_view_module_version": "1.2.0",
      "_view_name": "StyleView",
      "bar_color": null,
      "description_width": "initial"
     }
    },
    "9f6b5f61d76b4301891c595d0bff75a8": {
     "model_module": "@jupyter-widgets/controls",
     "model_name": "HBoxModel",
     "state": {
      "_dom_classes": [],
      "_model_module": "@jupyter-widgets/controls",
      "_model_module_version": "1.5.0",
      "_model_name": "HBoxModel",
      "_view_count": null,
      "_view_module": "@jupyter-widgets/controls",
      "_view_module_version": "1.5.0",
      "_view_name": "HBoxView",
      "box_style": "",
      "children": [
       "IPY_MODEL_57c420d138364857a87f41a1ed2f28e7",
       "IPY_MODEL_fc147cc896544e0394bb6febaa0deed7"
      ],
      "layout": "IPY_MODEL_163f77f6f0bc45cf9667817534c23a06"
     }
    },
    "b505096a9e3142e2a3f543ee0e505100": {
     "model_module": "@jupyter-widgets/base",
     "model_name": "LayoutModel",
     "state": {
      "_model_module": "@jupyter-widgets/base",
      "_model_module_version": "1.2.0",
      "_model_name": "LayoutModel",
      "_view_count": null,
      "_view_module": "@jupyter-widgets/base",
      "_view_module_version": "1.2.0",
      "_view_name": "LayoutView",
      "align_content": null,
      "align_items": null,
      "align_self": null,
      "border": null,
      "bottom": null,
      "display": null,
      "flex": null,
      "flex_flow": null,
      "grid_area": null,
      "grid_auto_columns": null,
      "grid_auto_flow": null,
      "grid_auto_rows": null,
      "grid_column": null,
      "grid_gap": null,
      "grid_row": null,
      "grid_template_areas": null,
      "grid_template_columns": null,
      "grid_template_rows": null,
      "height": null,
      "justify_content": null,
      "justify_items": null,
      "left": null,
      "margin": null,
      "max_height": null,
      "max_width": null,
      "min_height": null,
      "min_width": null,
      "object_fit": null,
      "object_position": null,
      "order": null,
      "overflow": null,
      "overflow_x": null,
      "overflow_y": null,
      "padding": null,
      "right": null,
      "top": null,
      "visibility": null,
      "width": null
     }
    },
    "bac0172f45d346c7b8477b7588315173": {
     "model_module": "@jupyter-widgets/controls",
     "model_name": "ProgressStyleModel",
     "state": {
      "_model_module": "@jupyter-widgets/controls",
      "_model_module_version": "1.5.0",
      "_model_name": "ProgressStyleModel",
      "_view_count": null,
      "_view_module": "@jupyter-widgets/base",
      "_view_module_version": "1.2.0",
      "_view_name": "StyleView",
      "bar_color": null,
      "description_width": "initial"
     }
    },
    "bbe91243440e417c89421d55aecb98dd": {
     "model_module": "@jupyter-widgets/base",
     "model_name": "LayoutModel",
     "state": {
      "_model_module": "@jupyter-widgets/base",
      "_model_module_version": "1.2.0",
      "_model_name": "LayoutModel",
      "_view_count": null,
      "_view_module": "@jupyter-widgets/base",
      "_view_module_version": "1.2.0",
      "_view_name": "LayoutView",
      "align_content": null,
      "align_items": null,
      "align_self": null,
      "border": null,
      "bottom": null,
      "display": null,
      "flex": null,
      "flex_flow": null,
      "grid_area": null,
      "grid_auto_columns": null,
      "grid_auto_flow": null,
      "grid_auto_rows": null,
      "grid_column": null,
      "grid_gap": null,
      "grid_row": null,
      "grid_template_areas": null,
      "grid_template_columns": null,
      "grid_template_rows": null,
      "height": null,
      "justify_content": null,
      "justify_items": null,
      "left": null,
      "margin": null,
      "max_height": null,
      "max_width": null,
      "min_height": null,
      "min_width": null,
      "object_fit": null,
      "object_position": null,
      "order": null,
      "overflow": null,
      "overflow_x": null,
      "overflow_y": null,
      "padding": null,
      "right": null,
      "top": null,
      "visibility": null,
      "width": null
     }
    },
    "bd518fe23b6b4f1b881122657fcb723d": {
     "model_module": "@jupyter-widgets/base",
     "model_name": "LayoutModel",
     "state": {
      "_model_module": "@jupyter-widgets/base",
      "_model_module_version": "1.2.0",
      "_model_name": "LayoutModel",
      "_view_count": null,
      "_view_module": "@jupyter-widgets/base",
      "_view_module_version": "1.2.0",
      "_view_name": "LayoutView",
      "align_content": null,
      "align_items": null,
      "align_self": null,
      "border": null,
      "bottom": null,
      "display": null,
      "flex": null,
      "flex_flow": null,
      "grid_area": null,
      "grid_auto_columns": null,
      "grid_auto_flow": null,
      "grid_auto_rows": null,
      "grid_column": null,
      "grid_gap": null,
      "grid_row": null,
      "grid_template_areas": null,
      "grid_template_columns": null,
      "grid_template_rows": null,
      "height": null,
      "justify_content": null,
      "justify_items": null,
      "left": null,
      "margin": null,
      "max_height": null,
      "max_width": null,
      "min_height": null,
      "min_width": null,
      "object_fit": null,
      "object_position": null,
      "order": null,
      "overflow": null,
      "overflow_x": null,
      "overflow_y": null,
      "padding": null,
      "right": null,
      "top": null,
      "visibility": null,
      "width": null
     }
    },
    "c7c0f4a2a2004b168651b3a42cddea33": {
     "model_module": "@jupyter-widgets/base",
     "model_name": "LayoutModel",
     "state": {
      "_model_module": "@jupyter-widgets/base",
      "_model_module_version": "1.2.0",
      "_model_name": "LayoutModel",
      "_view_count": null,
      "_view_module": "@jupyter-widgets/base",
      "_view_module_version": "1.2.0",
      "_view_name": "LayoutView",
      "align_content": null,
      "align_items": null,
      "align_self": null,
      "border": null,
      "bottom": null,
      "display": null,
      "flex": null,
      "flex_flow": null,
      "grid_area": null,
      "grid_auto_columns": null,
      "grid_auto_flow": null,
      "grid_auto_rows": null,
      "grid_column": null,
      "grid_gap": null,
      "grid_row": null,
      "grid_template_areas": null,
      "grid_template_columns": null,
      "grid_template_rows": null,
      "height": null,
      "justify_content": null,
      "justify_items": null,
      "left": null,
      "margin": null,
      "max_height": null,
      "max_width": null,
      "min_height": null,
      "min_width": null,
      "object_fit": null,
      "object_position": null,
      "order": null,
      "overflow": null,
      "overflow_x": null,
      "overflow_y": null,
      "padding": null,
      "right": null,
      "top": null,
      "visibility": null,
      "width": null
     }
    },
    "fc147cc896544e0394bb6febaa0deed7": {
     "model_module": "@jupyter-widgets/controls",
     "model_name": "HTMLModel",
     "state": {
      "_dom_classes": [],
      "_model_module": "@jupyter-widgets/controls",
      "_model_module_version": "1.5.0",
      "_model_name": "HTMLModel",
      "_view_count": null,
      "_view_module": "@jupyter-widgets/controls",
      "_view_module_version": "1.5.0",
      "_view_name": "HTMLView",
      "description": "",
      "description_tooltip": null,
      "layout": "IPY_MODEL_fe8d890d95a746ae9c033e169d22a79c",
      "placeholder": "​",
      "style": "IPY_MODEL_36c2f95ae713495387627d055e122b41",
      "value": " 8/8 [05:43&lt;00:00, 42.89s/it]"
     }
    },
    "fe8d890d95a746ae9c033e169d22a79c": {
     "model_module": "@jupyter-widgets/base",
     "model_name": "LayoutModel",
     "state": {
      "_model_module": "@jupyter-widgets/base",
      "_model_module_version": "1.2.0",
      "_model_name": "LayoutModel",
      "_view_count": null,
      "_view_module": "@jupyter-widgets/base",
      "_view_module_version": "1.2.0",
      "_view_name": "LayoutView",
      "align_content": null,
      "align_items": null,
      "align_self": null,
      "border": null,
      "bottom": null,
      "display": null,
      "flex": null,
      "flex_flow": null,
      "grid_area": null,
      "grid_auto_columns": null,
      "grid_auto_flow": null,
      "grid_auto_rows": null,
      "grid_column": null,
      "grid_gap": null,
      "grid_row": null,
      "grid_template_areas": null,
      "grid_template_columns": null,
      "grid_template_rows": null,
      "height": null,
      "justify_content": null,
      "justify_items": null,
      "left": null,
      "margin": null,
      "max_height": null,
      "max_width": null,
      "min_height": null,
      "min_width": null,
      "object_fit": null,
      "object_position": null,
      "order": null,
      "overflow": null,
      "overflow_x": null,
      "overflow_y": null,
      "padding": null,
      "right": null,
      "top": null,
      "visibility": null,
      "width": null
     }
    }
   }
  }
 },
 "nbformat": 4,
 "nbformat_minor": 1
}
