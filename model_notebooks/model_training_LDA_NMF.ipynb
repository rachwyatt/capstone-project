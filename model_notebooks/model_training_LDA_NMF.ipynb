{
 "cells": [
  {
   "cell_type": "markdown",
   "metadata": {
    "id": "63BLhBE85NdP"
   },
   "source": [
    "# **1. Initialization - Import / Install libraries**\n"
   ]
  },
  {
   "cell_type": "code",
   "execution_count": 1,
   "metadata": {
    "colab": {
     "base_uri": "https://localhost:8080/"
    },
    "executionInfo": {
     "elapsed": 8514,
     "status": "ok",
     "timestamp": 1628207452404,
     "user": {
      "displayName": "Laiya Lubben",
      "photoUrl": "https://lh3.googleusercontent.com/a/default-user=s64",
      "userId": "11817724685368002439"
     },
     "user_tz": 420
    },
    "id": "y3ZRFPwWyboZ",
    "outputId": "766ef67c-cf1f-4dc0-a145-776f280fea93"
   },
   "outputs": [
    {
     "name": "stdout",
     "output_type": "stream",
     "text": [
      "Requirement already satisfied: nltk in c:\\users\\laiya\\anaconda3\\envs\\infovis1\\lib\\site-packages (3.5)\n",
      "Requirement already satisfied: tqdm in c:\\users\\laiya\\anaconda3\\envs\\infovis1\\lib\\site-packages (from nltk) (4.55.1)\n",
      "Requirement already satisfied: regex in c:\\users\\laiya\\anaconda3\\envs\\infovis1\\lib\\site-packages (from nltk) (2020.11.13)\n",
      "Requirement already satisfied: click in c:\\users\\laiya\\anaconda3\\envs\\infovis1\\lib\\site-packages (from nltk) (7.1.2)\n",
      "Requirement already satisfied: joblib in c:\\users\\laiya\\anaconda3\\envs\\infovis1\\lib\\site-packages (from nltk) (0.14.1)\n",
      "Requirement already satisfied: pymysql in c:\\users\\laiya\\anaconda3\\envs\\infovis1\\lib\\site-packages (1.0.2)\n",
      "Requirement already satisfied: pyLDAvis in c:\\users\\laiya\\anaconda3\\envs\\infovis1\\lib\\site-packages (2.1.2)\n",
      "Requirement already satisfied: future in c:\\users\\laiya\\anaconda3\\envs\\infovis1\\lib\\site-packages (from pyLDAvis) (0.18.2)\n",
      "Requirement already satisfied: pytest in c:\\users\\laiya\\anaconda3\\envs\\infovis1\\lib\\site-packages (from pyLDAvis) (6.2.1)\n",
      "Requirement already satisfied: scipy>=0.18.0 in c:\\users\\laiya\\anaconda3\\envs\\infovis1\\lib\\site-packages (from pyLDAvis) (1.3.1)\n",
      "Requirement already satisfied: jinja2>=2.7.2 in c:\\users\\laiya\\anaconda3\\envs\\infovis1\\lib\\site-packages (from pyLDAvis) (2.10.3)\n",
      "Requirement already satisfied: joblib>=0.8.4 in c:\\users\\laiya\\anaconda3\\envs\\infovis1\\lib\\site-packages (from pyLDAvis) (0.14.1)\n",
      "Requirement already satisfied: wheel>=0.23.0 in c:\\users\\laiya\\anaconda3\\envs\\infovis1\\lib\\site-packages (from pyLDAvis) (0.36.2)\n",
      "Requirement already satisfied: numpy>=1.9.2 in c:\\users\\laiya\\anaconda3\\envs\\infovis1\\lib\\site-packages (from pyLDAvis) (1.19.5)\n",
      "Requirement already satisfied: funcy in c:\\users\\laiya\\anaconda3\\envs\\infovis1\\lib\\site-packages (from pyLDAvis) (1.15)\n",
      "Requirement already satisfied: pandas>=0.17.0 in c:\\users\\laiya\\anaconda3\\envs\\infovis1\\lib\\site-packages (from pyLDAvis) (0.25.1)\n",
      "Requirement already satisfied: numexpr in c:\\users\\laiya\\anaconda3\\envs\\infovis1\\lib\\site-packages (from pyLDAvis) (2.7.2)\n",
      "Requirement already satisfied: atomicwrites>=1.0; sys_platform == \"win32\" in c:\\users\\laiya\\anaconda3\\envs\\infovis1\\lib\\site-packages (from pytest->pyLDAvis) (1.4.0)\n",
      "Requirement already satisfied: packaging in c:\\users\\laiya\\anaconda3\\envs\\infovis1\\lib\\site-packages (from pytest->pyLDAvis) (19.2)\n",
      "Requirement already satisfied: iniconfig in c:\\users\\laiya\\anaconda3\\envs\\infovis1\\lib\\site-packages (from pytest->pyLDAvis) (1.1.1)\n",
      "Requirement already satisfied: toml in c:\\users\\laiya\\anaconda3\\envs\\infovis1\\lib\\site-packages (from pytest->pyLDAvis) (0.10.2)\n",
      "Requirement already satisfied: colorama; sys_platform == \"win32\" in c:\\users\\laiya\\anaconda3\\envs\\infovis1\\lib\\site-packages (from pytest->pyLDAvis) (0.4.1)\n",
      "Requirement already satisfied: importlib-metadata>=0.12; python_version < \"3.8\" in c:\\users\\laiya\\anaconda3\\envs\\infovis1\\lib\\site-packages (from pytest->pyLDAvis) (0.23)\n",
      "Requirement already satisfied: attrs>=19.2.0 in c:\\users\\laiya\\anaconda3\\envs\\infovis1\\lib\\site-packages (from pytest->pyLDAvis) (19.3.0)\n",
      "Requirement already satisfied: py>=1.8.2 in c:\\users\\laiya\\anaconda3\\envs\\infovis1\\lib\\site-packages (from pytest->pyLDAvis) (1.10.0)\n",
      "Requirement already satisfied: pluggy<1.0.0a1,>=0.12 in c:\\users\\laiya\\anaconda3\\envs\\infovis1\\lib\\site-packages (from pytest->pyLDAvis) (0.13.1)\n",
      "Requirement already satisfied: MarkupSafe>=0.23 in c:\\users\\laiya\\anaconda3\\envs\\infovis1\\lib\\site-packages (from jinja2>=2.7.2->pyLDAvis) (1.1.1)\n",
      "Requirement already satisfied: python-dateutil>=2.6.1 in c:\\users\\laiya\\anaconda3\\envs\\infovis1\\lib\\site-packages (from pandas>=0.17.0->pyLDAvis) (2.8.0)\n",
      "Requirement already satisfied: pytz>=2017.2 in c:\\users\\laiya\\anaconda3\\envs\\infovis1\\lib\\site-packages (from pandas>=0.17.0->pyLDAvis) (2019.3)\n",
      "Requirement already satisfied: pyparsing>=2.0.2 in c:\\users\\laiya\\anaconda3\\envs\\infovis1\\lib\\site-packages (from packaging->pytest->pyLDAvis) (2.4.5)\n",
      "Requirement already satisfied: six in c:\\users\\laiya\\anaconda3\\envs\\infovis1\\lib\\site-packages (from packaging->pytest->pyLDAvis) (1.15.0)\n",
      "Requirement already satisfied: zipp>=0.5 in c:\\users\\laiya\\anaconda3\\envs\\infovis1\\lib\\site-packages (from importlib-metadata>=0.12; python_version < \"3.8\"->pytest->pyLDAvis) (0.6.0)\n",
      "Requirement already satisfied: more-itertools in c:\\users\\laiya\\anaconda3\\envs\\infovis1\\lib\\site-packages (from zipp>=0.5->importlib-metadata>=0.12; python_version < \"3.8\"->pytest->pyLDAvis) (7.2.0)\n"
     ]
    }
   ],
   "source": [
    "# This is a magic function to generate the graph within the notebook \n",
    "%matplotlib inline\n",
    "\n",
    "# Install library \n",
    "!pip install nltk\n",
    "!pip install pymysql\n",
    "!pip install pyLDAvis"
   ]
  },
  {
   "cell_type": "code",
   "execution_count": 2,
   "metadata": {
    "colab": {
     "base_uri": "https://localhost:8080/"
    },
    "executionInfo": {
     "elapsed": 146,
     "status": "ok",
     "timestamp": 1628208854123,
     "user": {
      "displayName": "Laiya Lubben",
      "photoUrl": "https://lh3.googleusercontent.com/a/default-user=s64",
      "userId": "11817724685368002439"
     },
     "user_tz": 420
    },
    "id": "CvUjUnRW5OnG",
    "outputId": "5820c928-3330-4539-af36-dbb21d46b8e8"
   },
   "outputs": [
    {
     "name": "stderr",
     "output_type": "stream",
     "text": [
      "[nltk_data] Downloading package averaged_perceptron_tagger to\n",
      "[nltk_data]     C:\\Users\\laiya\\AppData\\Roaming\\nltk_data...\n",
      "[nltk_data]   Package averaged_perceptron_tagger is already up-to-\n",
      "[nltk_data]       date!\n",
      "[nltk_data] Downloading package punkt to\n",
      "[nltk_data]     C:\\Users\\laiya\\AppData\\Roaming\\nltk_data...\n",
      "[nltk_data]   Package punkt is already up-to-date!\n",
      "[nltk_data] Downloading package stopwords to\n",
      "[nltk_data]     C:\\Users\\laiya\\AppData\\Roaming\\nltk_data...\n",
      "[nltk_data]   Package stopwords is already up-to-date!\n",
      "[nltk_data] Downloading package averaged_perceptron_tagger to\n",
      "[nltk_data]     C:\\Users\\laiya\\AppData\\Roaming\\nltk_data...\n",
      "[nltk_data]   Package averaged_perceptron_tagger is already up-to-\n",
      "[nltk_data]       date!\n",
      "[nltk_data] Downloading package punkt to\n",
      "[nltk_data]     C:\\Users\\laiya\\AppData\\Roaming\\nltk_data...\n",
      "[nltk_data]   Package punkt is already up-to-date!\n",
      "[nltk_data] Downloading package stopwords to\n",
      "[nltk_data]     C:\\Users\\laiya\\AppData\\Roaming\\nltk_data...\n",
      "[nltk_data]   Package stopwords is already up-to-date!\n"
     ]
    },
    {
     "data": {
      "text/plain": [
       "True"
      ]
     },
     "execution_count": 2,
     "metadata": {},
     "output_type": "execute_result"
    }
   ],
   "source": [
    "# Here is a list of libraries we need to conduct the analysis:\n",
    "import pandas as pd                                           # Loading files into pandas dataframe\n",
    "import numpy as np                                            # To use numpy aggregation functions\n",
    "from tqdm.auto import tqdm                                    # track loop time\n",
    "import warnings                                               # Suppress all warnings\n",
    "warnings.filterwarnings('ignore')\n",
    "warnings.filterwarnings(\"ignore\", category=DeprecationWarning) \n",
    "import pickle\n",
    "import pymysql\n",
    "import re\n",
    "import json\n",
    "import model_shared_utilities as msu                          # helper functions \n",
    "import topic_model_utilities as tm                            # helper functions\n",
    "# --------------------------------------------------------------------------------------------------\n",
    "import matplotlib.pyplot as plt                               # Generate visualization \n",
    "import matplotlib.cm as cm\n",
    "import altair as alt                                          \n",
    "import seaborn as sns\n",
    "import pyLDAvis.sklearn\n",
    "# --------------------------------------------------------------------------------------------------\n",
    "from sklearn.preprocessing import StandardScaler              # Transforming dataset\n",
    "from sklearn.feature_extraction.text import TfidfVectorizer\n",
    "from sklearn.feature_extraction.text import CountVectorizer\n",
    "from sklearn.decomposition import PCA\n",
    "from sklearn.manifold import TSNE\n",
    "from nltk.tokenize import sent_tokenize\n",
    "# --------------------------------------------------------------------------------------------------\n",
    "from sklearn.decomposition import NMF, LatentDirichletAllocation    # Model Training\n",
    "# --------------------------------------------------------------------------------------------------\n",
    "from sklearn.metrics.pairwise import cosine_similarity        # Calculate the similarity between word vectors\n",
    "# --------------------------------------------------------------------------------------------------\n",
    "import nltk                                                   # Downloading necessary packagings from nltk\n",
    "nltk.download('averaged_perceptron_tagger')\n",
    "nltk.download('punkt')\n",
    "nltk.download('stopwords')"
   ]
  },
  {
   "cell_type": "code",
   "execution_count": 3,
   "metadata": {
    "executionInfo": {
     "elapsed": 13,
     "status": "ok",
     "timestamp": 1628207453985,
     "user": {
      "displayName": "Laiya Lubben",
      "photoUrl": "https://lh3.googleusercontent.com/a/default-user=s64",
      "userId": "11817724685368002439"
     },
     "user_tz": 420
    },
    "id": "KbHK4uk8sgUp"
   },
   "outputs": [],
   "source": [
    "# use this to set random_state to reproduce the same result\n",
    "RANDOM_SEED = 14\n"
   ]
  },
  {
   "cell_type": "markdown",
   "metadata": {
    "id": "EMEPCPEb97AA"
   },
   "source": [
    "# **2. Helper Functions**\n",
    "\n",
    "Functions in the ***topic_model_utilities*** module:\n",
    "\n",
    " 1. train_model(vec_docs, n_topics, model_type):\n",
    "  * Train LDA/NMF model\n",
    " 2. get_top_terms(model, terms, no_top_words, display=False):\n",
    "  * extract the top n terms for each topic\n",
    " 3. topical_coherence(words_list, embeddings_dict):\n",
    "  * calculate the cosine similarity of the words in the list using a pretrained word embeddings\n",
    " 4. eval_topic_model(model, vec_docs, top_terms, embeddings_dict, display=True):\n",
    "  * evaluate the topic model based on the average topical coherence score "
   ]
  },
  {
   "cell_type": "markdown",
   "metadata": {
    "id": "_BzgnzWM547h"
   },
   "source": [
    "# **3. Load / Transform Data**"
   ]
  },
  {
   "cell_type": "code",
   "execution_count": 4,
   "metadata": {},
   "outputs": [],
   "source": [
    "# read the secret keys from json file \n",
    "# Note the config file need to be filled with your own credentials before running this notebook \n",
    "# or ask the owners of this repository for the filled config file\n",
    "with open('config.json', 'r') as f:\n",
    "    secret = json.load(f)"
   ]
  },
  {
   "cell_type": "code",
   "execution_count": 5,
   "metadata": {
    "executionInfo": {
     "elapsed": 365716,
     "status": "ok",
     "timestamp": 1628207835227,
     "user": {
      "displayName": "Laiya Lubben",
      "photoUrl": "https://lh3.googleusercontent.com/a/default-user=s64",
      "userId": "11817724685368002439"
     },
     "user_tz": 420
    },
    "id": "4BKcfB2_5Zw1"
   },
   "outputs": [],
   "source": [
    "# connect to the database\n",
    "connection = pymysql.connect(host=secret['host'],\n",
    "                              user=secret['user'],\n",
    "                              password=secret['password'],\n",
    "                              database=secret['database'],\n",
    "                              port=secret['port'],\n",
    "                              charset=secret['charset'],\n",
    "                              cursorclass=pymysql.cursors.DictCursor)\n",
    "\n",
    "cursor = connection.cursor()\n",
    "\n",
    "cursor.execute(\"SELECT * FROM jd;\")\n",
    "table = cursor.fetchall()\n",
    "connection.close()"
   ]
  },
  {
   "cell_type": "code",
   "execution_count": 6,
   "metadata": {
    "colab": {
     "base_uri": "https://localhost:8080/"
    },
    "executionInfo": {
     "elapsed": 254,
     "status": "ok",
     "timestamp": 1628207835443,
     "user": {
      "displayName": "Laiya Lubben",
      "photoUrl": "https://lh3.googleusercontent.com/a/default-user=s64",
      "userId": "11817724685368002439"
     },
     "user_tz": 420
    },
    "id": "HesGQ34D5aXu",
    "outputId": "2e8210c2-64bf-46d8-b974-6dc1cbb013d4"
   },
   "outputs": [
    {
     "name": "stdout",
     "output_type": "stream",
     "text": [
      "Job dataset has 18087 rows of data\n"
     ]
    }
   ],
   "source": [
    "# Now let's put the table into pandas dataframe \n",
    "job_df = pd.DataFrame(table)\n",
    "job_df = job_df.dropna(subset=['job_description'])\n",
    "print(\"Job dataset has\", job_df.shape[0], \"rows of data\")\n"
   ]
  },
  {
   "cell_type": "code",
   "execution_count": 7,
   "metadata": {
    "executionInfo": {
     "elapsed": 206,
     "status": "ok",
     "timestamp": 1628218487823,
     "user": {
      "displayName": "Laiya Lubben",
      "photoUrl": "https://lh3.googleusercontent.com/a/default-user=s64",
      "userId": "11817724685368002439"
     },
     "user_tz": 420
    },
    "id": "nzhGUgH7yV6v"
   },
   "outputs": [],
   "source": [
    "# remove words that are common in job postings and data science related terms\n",
    "stopwords = [\"job\", \"summary\", \"posted\", \"location\" , \"employee\", \"today\", \"type\", \"data\", \"scientist\", \"level\", \"experience\", \"skills\", \n",
    "             \"deep\", \"learning\", \"machine\", \"jobdescriptiontext\", \"ability\", \"analytics\", \"work\", \"modeling\", \"models\", \"analysis\", \"research\", \n",
    "             \"big\", \"technical\", \"requirements\", \"requirement\", \"required\", \"strong\", \"years\", \"team\", \"experienced\",\n",
    "             \"rsquo\", \"nbsp\", \"reference\", \"career\", \"persons\", \"hired\", \"eligibility\", \"applicants\", \"authorized\", \"transform\",\n",
    "             \"manipulate\", \"need\", \"position\", \"complete\", \"employment\", \"document\", \"verify\", \"identity\", \"looking\", \"equal\", \"apply\", \"status\",\n",
    "             \"color\", \"veteran\", \"religion\", \"race\", \"origin\", \"sexual\", \"orientation\", \"opportunity\", \"disability\", \"gender\", \"time\", \"recruitment\", \"hiring\", \n",
    "             \"people\", \"working\", \"employer\", \"qualified\", \"form\", \"hire\", \"pregnancy\", \"marital\", \"color\", \"compliance\", \"federal\", \"right\", \"resume\", \"protected\", \"applicable\", \"laws\",\n",
    "             \"statistical\", \"projects\", \"provide\", \"reports\", \"including\" , \"large\", \"engineering\", \"insights\" , \"computer\", \"problems\",\n",
    "             \"algorithms\", \"knowledge\", \"advanced\", \"statistics\", \"solutions\", \"using\", \"techniques\", \"statistical\", \"verification\", \n",
    "             'build', 'help', 'products', 'teams', 'company', 'building', 'make', 'full', 'please', 'paid', 'jefferson', 'frank', 'cybercoders',    \n",
    "             'python', 'spark', 'sets', 'mining', 'customers', 'services', 'related', 'degree', 'support', 'information', 'project', \n",
    "             'related', 'must','scientists', 'processing', 'language', 'engineers', 'applied',\n",
    "             'reporting', 'processes', 'analyst', 'customer', 'needs', 'booz', 'allen', 'robert', 'half', 'change', 'answers', 'certifications', 'turn', 'taboola', 'newsroom', \n",
    "             'paid', 'preferred', 'schedule', 'benefits', 'year', 'dental', 'vision', 'clearance', 'jobs', 'find', 'organizations', 'jeffersonfrank', 'north', 'america',\n",
    "             'forward', 'receiving', 'states', 'upon', 'characteristic', 'united', 'national', 'proud', 'receive', 'click', 'consideration', 'without', 'regard',\n",
    "             'capture', 'methods', 'structured', 'unstructured', 'outcomes', 'analyses', 'read', 'something'\n",
    "             'drive', 'complex', 'results', 'across', 'sources', 'identify', 'great', 'happy', 'qualifications', 'relevant', 'application', 'essential',\n",
    "             'field', 'best','perform', 'relevant', 'duties', 'drive', 'analytic', 'role', 'responsibilities', 'join', 'impact', 'science', 'analytical', 'develop', 'quantitative',\n",
    "             'scale', 'like','opportunities','understanding', 'training', 'access', 'intelligence', 'know', 'world', 'onsite', 'responsibilitie', 'cluster', \n",
    "             'four', 'greater', 'case', 'problem', 'interpreting', 'feature', 'carlo', 'bagging', 'professionals', 'deploy', 'nosql', 'interpreting'] \n",
    "my_stop_words = set(nltk.corpus.stopwords.words('english')).union(stopwords)"
   ]
  },
  {
   "cell_type": "code",
   "execution_count": 8,
   "metadata": {
    "executionInfo": {
     "elapsed": 367,
     "status": "ok",
     "timestamp": 1628218489647,
     "user": {
      "displayName": "Laiya Lubben",
      "photoUrl": "https://lh3.googleusercontent.com/a/default-user=s64",
      "userId": "11817724685368002439"
     },
     "user_tz": 420
    },
    "id": "5_KsfjfQyGYw"
   },
   "outputs": [],
   "source": [
    "# TF-IDF Vectorizer\n",
    "tfidf_vectorizer = TfidfVectorizer(max_features=10000,              # only top n by freq\n",
    "                                   lowercase=True,                  # keep caps\n",
    "                                   token_pattern=r\"[A-Za-z]{4,15}\", # words with 4 to 15 characters\n",
    "                                   ngram_range=(1,2),               # include 2-word phrases\n",
    "                                   min_df=25,                       # note: absolute count of doc\n",
    "                                   max_df=0.75,                     # note: % of docs\n",
    "                                   stop_words=my_stop_words)            # default English stopword\n",
    "                                   \n",
    "# Count Vectorizer\n",
    "tf_vectorizer = CountVectorizer(max_features=10000,              # only top n by freq\n",
    "                                lowercase=True,                  # keep caps\n",
    "                                token_pattern=r\"[A-Za-z]{4,15}\", # words with 4 to 15 characters\n",
    "                                ngram_range=(1,2),               # include 2-word phrases\n",
    "                                min_df=25,                       # note: absolute count of doc\n",
    "                                max_df=0.75,                     # note: % of docs\n",
    "                                stop_words=my_stop_words)            # default English stopword"
   ]
  },
  {
   "cell_type": "code",
   "execution_count": 9,
   "metadata": {
    "colab": {
     "base_uri": "https://localhost:8080/"
    },
    "executionInfo": {
     "elapsed": 34807,
     "status": "ok",
     "timestamp": 1628218527243,
     "user": {
      "displayName": "Laiya Lubben",
      "photoUrl": "https://lh3.googleusercontent.com/a/default-user=s64",
      "userId": "11817724685368002439"
     },
     "user_tz": 420
    },
    "id": "EfLQy_ify4sU",
    "outputId": "c2aae442-922e-4148-c9b9-5262beb93801"
   },
   "outputs": [
    {
     "name": "stdout",
     "output_type": "stream",
     "text": [
      "(18087, 10000)\n",
      "(18087, 10000)\n"
     ]
    }
   ],
   "source": [
    "# transforming the data\n",
    "tfidf_docs = tfidf_vectorizer.fit_transform(job_df[\"cleaned_jd\"])  \n",
    "print(tfidf_docs.shape)\n",
    "tfidf_terms = tfidf_vectorizer.get_feature_names()\n",
    "\n",
    "tf_docs = tf_vectorizer.fit_transform(job_df[\"cleaned_jd\"])  \n",
    "print(tf_docs.shape)\n",
    "tf_terms = tf_vectorizer.get_feature_names()"
   ]
  },
  {
   "cell_type": "code",
   "execution_count": 22,
   "metadata": {
    "executionInfo": {
     "elapsed": 140525,
     "status": "ok",
     "timestamp": 1628208011089,
     "user": {
      "displayName": "Laiya Lubben",
      "photoUrl": "https://lh3.googleusercontent.com/a/default-user=s64",
      "userId": "11817724685368002439"
     },
     "user_tz": 420
    },
    "id": "YFylaz5dEiKQ"
   },
   "outputs": [],
   "source": [
    "# BEFORE RUNNING THIS - please download the file from the link below \n",
    "# pretrained word vectors from https://nlp.stanford.edu/projects/glove/\n",
    "\n",
    "# Load the pretrained word embedding to embeddings_dict\n",
    "# Note: file path will different depend on where you saved the pretrained embeddings\n",
    "file_path = 'C:/Users/laiya/Desktop/MADS/capstones/glove.42B.300d/'\n",
    "embedding_filename = 'glove.42B.300d.txt'\n",
    "embeddings_dict = {}\n",
    "with open(file_path+embedding_filename, 'r', encoding=\"utf8\") as f:\n",
    "    for line in f:\n",
    "        values = line.split()\n",
    "        word = values[0]\n",
    "        vector = np.asarray(values[1:], \"float32\")\n",
    "        embeddings_dict[word] = vector"
   ]
  },
  {
   "cell_type": "markdown",
   "metadata": {
    "id": "y10lPr34wMXP"
   },
   "source": [
    "# **4. Model Training**\n",
    "\n",
    "In this section, we will be training two types of topic model - Non-Negative Matrix Factorization and Latent Dirichlet Allocation. We will be evaluating the model performance using two measures: \n",
    "* **Topic coherence**: Using a pretrained word vectors from [GloVe](https://nlp.stanford.edu/projects/glove/) to transform the top terms into word vectors and then compute their pairwise cosine similarity (this will create a terms x terms matrix) and finally take the mean over all pairwise distances as the topic coherence score for that specific topic (we will repeat this step for each topic and the final coherence score for the model will be based on the mean of all the topic coherence scores)\n"
   ]
  },
  {
   "cell_type": "markdown",
   "metadata": {
    "id": "5TLXBhDnVfRm"
   },
   "source": [
    "## 4.A. Non-Negative Matrix Factorization\n",
    "\n",
    "In this section, we will be generating a set of topics and a set of top terms for each topic using [NMF](https://scikit-learn.org/stable/modules/generated/sklearn.decomposition.NMF.html). Similar to principal component analysis (PCA), Non-negative Matrix Factorization factors high-dimensional vectors into a low-dimensionality representation, however, NMF only allow non-negative vectors. NMF can be used for very effective topic modeling, and it's also a reasonably efficient algorithm so the code below run relatively quick in comparison to LDA model. (note: In comparing to the LDA model, NMF model has a lower coherence score for first level of topics so we will not be training NMF model to get the second level of Topics.) "
   ]
  },
  {
   "cell_type": "markdown",
   "metadata": {
    "id": "O5zvRg6hXZVL"
   },
   "source": [
    "### 4.A.1. First Level of Topics"
   ]
  },
  {
   "cell_type": "code",
   "execution_count": 24,
   "metadata": {
    "colab": {
     "base_uri": "https://localhost:8080/",
     "height": 362,
     "referenced_widgets": [
      "7ac0bb3d339b48579c8520c5f776a762",
      "13538d007a614a92b76c77b65c834ccf",
      "02aec81bd7514c45b8ddf82eb11498c2",
      "d5cb17e473024b1a99190c0ea8ff710d",
      "1b8b50e1deab4427b87b5d93982e2552",
      "a9e3e2fe531942eab4ee725c13041ed6",
      "34105ab67f2c48718b46fe0ef1529991",
      "0e2b766c39ae48cbb96d4c4503591a8a"
     ]
    },
    "executionInfo": {
     "elapsed": 635256,
     "status": "ok",
     "timestamp": 1627342815194,
     "user": {
      "displayName": "Laiya Lubben",
      "photoUrl": "",
      "userId": "11817724685368002439"
     },
     "user_tz": 420
    },
    "id": "B6I-zfAKMjfg",
    "outputId": "31d1da84-b443-4ffc-e60e-6ff43d331f5f"
   },
   "outputs": [
    {
     "data": {
      "application/vnd.jupyter.widget-view+json": {
       "model_id": "19886d54db1b41e4add735674b8c3625",
       "version_major": 2,
       "version_minor": 0
      },
      "text/plain": [
       "  0%|          | 0/18 [00:00<?, ?it/s]"
      ]
     },
     "metadata": {},
     "output_type": "display_data"
    },
    {
     "data": {
      "text/plain": [
       "Text(0.5, 0, 'number of clusters')"
      ]
     },
     "execution_count": 24,
     "metadata": {},
     "output_type": "execute_result"
    },
    {
     "data": {
      "image/png": "[encoded data removed]",
      "text/plain": [
       "<Figure size 432x288 with 1 Axes>"
      ]
     },
     "metadata": {
      "needs_background": "light"
     },
     "output_type": "display_data"
    }
   ],
   "source": [
    "# first let's look at the coherence score based different number of topics \n",
    "topics = range(4,40,2)\n",
    "coh_scores = []\n",
    "for t in tqdm(topics): \n",
    "    model = tm.train_model(tfidf_docs, t, 'NMF', RANDOM_SEED)\n",
    "    top_terms = tm.get_top_terms(model, tfidf_terms, 10, display=False)\n",
    "    mean_coherence, _ = tm.eval_topic_model(top_terms, embeddings_dict, display=False)\n",
    "    coh_scores.append(mean_coherence)\n",
    "\n",
    "# let's create a simple line plot \n",
    "fig, ax = plt.subplots()\n",
    "ax.plot(topics, coh_scores, marker='o')\n",
    "ax.set_xticks(topics)\n",
    "ax.set_xticklabels(topics)\n",
    "plt.title('Average Coherence between the Top Terms')\n",
    "plt.ylabel('average coherence')\n",
    "plt.xlabel('number of clusters')"
   ]
  },
  {
   "cell_type": "code",
   "execution_count": null,
   "metadata": {
    "colab": {
     "base_uri": "https://localhost:8080/"
    },
    "executionInfo": {
     "elapsed": 4558,
     "status": "ok",
     "timestamp": 1628141960981,
     "user": {
      "displayName": "Laiya Lubben",
      "photoUrl": "https://lh3.googleusercontent.com/a/default-user=s64",
      "userId": "11817724685368002439"
     },
     "user_tz": 420
    },
    "id": "QhRfGKVhFekB",
    "outputId": "4bbc4ccf-26bd-4e44-9d46-44b88a5cdb0f"
   },
   "outputs": [
    {
     "name": "stdout",
     "output_type": "stream",
     "text": [
      "topic 0: ['business', 'management', 'predictive', 'marketing', 'tools', 'financial', 'product', 'clients', 'stakeholders', 'decision', 'model', 'visualization', 'operations', 'partners', 'technology']\n",
      "topic 1: ['software', 'development', 'cloud', 'design', 'systems', 'technologies', 'engineer', 'technology', 'code', 'applications', 'platform', 'java', 'azure', 'architecture', 'product']\n",
      "topic 2: ['insurance', 'health', 'clinical', 'care', 'education', 'management', 'healthcare', 'program', 'equipment', 'system', 'systems', 'medical', 'quality', 'life', 'service']\n",
      "topic 3: ['security', 'online', 'tools', 'public sectors', 'relationships network', 'network give', 'give helpful', 'university online', 'experts pursuing', 'advantage tuition', 'want chart', 'course success', 'helpful tips', 'certification academic', 'programs vendor']\n",
      "Overall Topics Coherence score: 0.3295\n",
      "Number of words not in pretrained word vector: 12\n"
     ]
    }
   ],
   "source": [
    "# let's look at the top terms from the cluster with the highest coherence score according to the plot above\n",
    "model = tm.train_model(tfidf_docs, 4, 'NMF', RANDOM_SEED)\n",
    "top_terms = tm.get_top_terms(model, tfidf_terms, 15, display=True)\n",
    "mean_coherence, _ = tm.eval_topic_model(model, tfidf_docs, top_terms, embeddings_dict, display=True)"
   ]
  },
  {
   "cell_type": "code",
   "execution_count": null,
   "metadata": {
    "id": "GdHByOvvhLwN"
   },
   "outputs": [],
   "source": [
    "# For a given document (row) in W which topics (column) the document belongs the most (if the value is high, the document is highly related to the topic).\n",
    "W = model.transform(tfidf_docs)\n",
    "job_df['NMF_cluster'] = [np.argmax(i) for i in W]"
   ]
  },
  {
   "cell_type": "markdown",
   "metadata": {
    "id": "q2cQbUBIy-jC"
   },
   "source": [
    "## 4.B. Latent Dirichlet Allocation\n",
    "\n",
    "In addition to NMF, we will also be generating a set of topics and top terms for each topic using [LDA](https://scikit-learn.org/stable/modules/generated/sklearn.decomposition.LatentDirichletAllocation.html). Latent Dirichlet Allocation is a probabilistic model, where each topic is modeled as a distribution over words and each document is modeled as a mixture of topics. These probabilities are calculated based on an initial random assignment, and then repeated until it convergences. In comparing to NMF, LDA takes much longer to run.  "
   ]
  },
  {
   "cell_type": "markdown",
   "metadata": {
    "id": "0g4j4yzyzbsg"
   },
   "source": [
    "### 4.B.1. First Level of Topics"
   ]
  },
  {
   "cell_type": "code",
   "execution_count": 25,
   "metadata": {
    "colab": {
     "base_uri": "https://localhost:8080/",
     "height": 362,
     "referenced_widgets": [
      "3eb310080b504badb792a9e772ba8562",
      "621a3660a9bf4c548b7e3f0adbe43e73",
      "66f30028f72d4228be90ce1ba21c05f2",
      "4eaff8741b9c44b98d2e9e418c2a838f",
      "87a34e1422194ad498fcca2d2ee151e5",
      "da33ce9878f94d85a41ff3c7a6c9c098",
      "afc216392c2b44388e1cdfcaf80bb9f5",
      "7adf2fe9876d46f1b65bafc771e76915"
     ]
    },
    "executionInfo": {
     "elapsed": 5360070,
     "status": "ok",
     "timestamp": 1628139492605,
     "user": {
      "displayName": "Laiya Lubben",
      "photoUrl": "https://lh3.googleusercontent.com/a/default-user=s64",
      "userId": "11817724685368002439"
     },
     "user_tz": 420
    },
    "id": "_Jphh6ktYJDF",
    "outputId": "eeb9446d-32ec-4d11-c7c6-e3503e265438"
   },
   "outputs": [
    {
     "data": {
      "application/vnd.jupyter.widget-view+json": {
       "model_id": "e1ebb26a8b4d40e0a7d16fea565849ec",
       "version_major": 2,
       "version_minor": 0
      },
      "text/plain": [
       "  0%|          | 0/8 [00:00<?, ?it/s]"
      ]
     },
     "metadata": {},
     "output_type": "display_data"
    },
    {
     "data": {
      "text/plain": [
       "Text(0.5, 0, 'number of clusters')"
      ]
     },
     "execution_count": 25,
     "metadata": {},
     "output_type": "execute_result"
    },
    {
     "data": {
      "image/png": "[encoded data removed]",
      "text/plain": [
       "<Figure size 432x288 with 1 Axes>"
      ]
     },
     "metadata": {
      "needs_background": "light"
     },
     "output_type": "display_data"
    }
   ],
   "source": [
    "# first let's look at the coherence score based different number of topics \n",
    "topics = range(4,20,2)\n",
    "coh_scores = []\n",
    "for t in tqdm(topics): \n",
    "  model = tm.train_model(tf_docs, t, 'LDA',RANDOM_SEED)\n",
    "  top_terms = tm.get_top_terms(model, tf_terms, 10, display=False)\n",
    "  mean_coherence, _ = tm.eval_topic_model(top_terms, embeddings_dict, display=False)\n",
    "  coh_scores.append(mean_coherence)\n",
    "\n",
    "# let's create a simple line plot \n",
    "fig, ax = plt.subplots()\n",
    "ax.plot(topics, coh_scores, marker='o')\n",
    "ax.set_xticks(topics)\n",
    "ax.set_xticklabels(topics)\n",
    "plt.title('Average Coherence between the Top Terms')\n",
    "plt.ylabel('average coherence')\n",
    "plt.xlabel('number of clusters')"
   ]
  },
  {
   "cell_type": "code",
   "execution_count": 26,
   "metadata": {
    "colab": {
     "base_uri": "https://localhost:8080/"
    },
    "executionInfo": {
     "elapsed": 265997,
     "status": "ok",
     "timestamp": 1628218793237,
     "user": {
      "displayName": "Laiya Lubben",
      "photoUrl": "https://lh3.googleusercontent.com/a/default-user=s64",
      "userId": "11817724685368002439"
     },
     "user_tz": 420
    },
    "id": "AIdJ2FwUMAv4",
    "outputId": "e20c1883-ced6-41d8-dea7-e595e9dae893"
   },
   "outputs": [
    {
     "name": "stdout",
     "output_type": "stream",
     "text": [
      "topic 0: ['software', 'development', 'systems', 'design', 'insurance', 'environment', 'engineer', 'management', 'system', 'health']\n",
      "topic 1: ['business', 'management', 'tools', 'development', 'product', 'design', 'systems', 'technology', 'performance', 'process']\n",
      "topic 2: ['security', 'education', 'employees', 'mission', 'program', 'technology', 'product', 'based', 'candidates', 'service']\n",
      "topic 3: ['business', 'clients', 'technology', 'tools', 'development', 'financial', 'global', 'management', 'client', 'environment']\n",
      "Overall Topics Coherence score: 0.4620\n",
      "Number of words not in pretrained word vector: 0\n"
     ]
    }
   ],
   "source": [
    "# let's look at the top terms from the cluster with the highest coherence score according to the plot above\n",
    "model = tm.train_model(tf_docs, 4, 'LDA', RANDOM_SEED)\n",
    "top_terms = tm.get_top_terms(model, tf_terms, 10, display=True)\n",
    "mean_coherence, _ = tm.eval_topic_model(top_terms, embeddings_dict, display=True)"
   ]
  },
  {
   "cell_type": "code",
   "execution_count": 28,
   "metadata": {
    "colab": {
     "base_uri": "https://localhost:8080/",
     "height": 861
    },
    "executionInfo": {
     "elapsed": 20197,
     "status": "ok",
     "timestamp": 1628218813405,
     "user": {
      "displayName": "Laiya Lubben",
      "photoUrl": "https://lh3.googleusercontent.com/a/default-user=s64",
      "userId": "11817724685368002439"
     },
     "user_tz": 420
    },
    "id": "CTZ3Zv8MrttD",
    "outputId": "bbf6c917-b90b-4c8e-f5c8-2a4d2985a8b0"
   },
   "outputs": [
    {
     "data": {
      "text/html": [
       "\n",
       "<link rel=\"stylesheet\" type=\"text/css\" href=\"https://cdn.rawgit.com/bmabey/pyLDAvis/files/ldavis.v1.0.0.css\">\n",
       "\n",
       "\n",
       "<div id=\"ldavis_el4720819247594299607239793407\"></div>\n",
       "<script type=\"text/javascript\">\n",
       "\n",
       "var ldavis_el4720819247594299607239793407_data = {\"mdsDat\": {\"x\": [269.5624084472656, 1.782994270324707, 220.81143188476562, 50.533992767333984], \"y\": [-124.80339813232422, -295.0796813964844, -343.8321228027344, -76.05093383789062], \"topics\": [1, 2, 3, 4], \"cluster\": [1, 1, 1, 1], \"Freq\": [26.833656118970524, 40.79055339904476, 15.233053472565633, 17.142737009419076]}, \"tinfo\": {\"Category\": [\"Default\", \"Default\", \"Default\", \"Default\", \"Default\", \"Default\", \"Default\", \"Default\", \"Default\", \"Default\", \"Default\", \"Default\", \"Default\", \"Default\", \"Default\", \"Default\", \"Default\", \"Default\", \"Default\", \"Default\", \"Default\", \"Default\", \"Default\", \"Default\", \"Default\", \"Default\", \"Default\", \"Default\", \"Default\", \"Default\", \"Topic1\", \"Topic1\", \"Topic1\", \"Topic1\", \"Topic1\", \"Topic1\", \"Topic1\", \"Topic1\", \"Topic1\", \"Topic1\", \"Topic1\", \"Topic1\", \"Topic1\", \"Topic1\", \"Topic1\", \"Topic1\", \"Topic1\", \"Topic1\", \"Topic1\", \"Topic1\", \"Topic1\", \"Topic1\", \"Topic1\", \"Topic1\", \"Topic1\", \"Topic1\", \"Topic1\", \"Topic1\", \"Topic1\", \"Topic1\", \"Topic1\", \"Topic1\", \"Topic1\", \"Topic1\", \"Topic1\", \"Topic1\", \"Topic1\", \"Topic1\", \"Topic1\", \"Topic1\", \"Topic1\", \"Topic1\", \"Topic1\", \"Topic1\", \"Topic1\", \"Topic1\", \"Topic1\", \"Topic1\", \"Topic1\", \"Topic1\", \"Topic1\", \"Topic1\", \"Topic1\", \"Topic1\", \"Topic1\", \"Topic1\", \"Topic1\", \"Topic1\", \"Topic1\", \"Topic1\", \"Topic1\", \"Topic1\", \"Topic1\", \"Topic1\", \"Topic1\", \"Topic1\", \"Topic1\", \"Topic1\", \"Topic1\", \"Topic1\", \"Topic1\", \"Topic1\", \"Topic1\", \"Topic1\", \"Topic1\", \"Topic1\", \"Topic1\", \"Topic1\", \"Topic1\", \"Topic1\", \"Topic1\", \"Topic1\", \"Topic1\", \"Topic1\", \"Topic1\", \"Topic1\", \"Topic1\", \"Topic1\", \"Topic1\", \"Topic2\", \"Topic2\", \"Topic2\", \"Topic2\", \"Topic2\", \"Topic2\", \"Topic2\", \"Topic2\", \"Topic2\", \"Topic2\", \"Topic2\", \"Topic2\", \"Topic2\", \"Topic2\", \"Topic2\", \"Topic2\", \"Topic2\", \"Topic2\", \"Topic2\", \"Topic2\", \"Topic2\", \"Topic2\", \"Topic2\", \"Topic2\", \"Topic2\", \"Topic2\", \"Topic2\", \"Topic2\", \"Topic2\", \"Topic2\", \"Topic2\", \"Topic2\", \"Topic2\", \"Topic2\", \"Topic2\", \"Topic2\", \"Topic2\", \"Topic2\", \"Topic2\", \"Topic2\", \"Topic2\", \"Topic2\", \"Topic2\", \"Topic2\", \"Topic2\", \"Topic2\", \"Topic2\", \"Topic2\", \"Topic2\", \"Topic2\", \"Topic2\", \"Topic2\", \"Topic2\", \"Topic2\", \"Topic2\", \"Topic2\", \"Topic2\", \"Topic2\", \"Topic2\", \"Topic2\", \"Topic2\", \"Topic2\", \"Topic2\", \"Topic2\", \"Topic2\", \"Topic2\", \"Topic2\", \"Topic2\", \"Topic2\", \"Topic2\", \"Topic2\", \"Topic2\", \"Topic2\", \"Topic2\", \"Topic2\", \"Topic2\", \"Topic2\", \"Topic2\", \"Topic2\", \"Topic2\", \"Topic2\", \"Topic2\", \"Topic2\", \"Topic2\", \"Topic2\", \"Topic2\", \"Topic2\", \"Topic2\", \"Topic2\", \"Topic2\", \"Topic2\", \"Topic2\", \"Topic2\", \"Topic2\", \"Topic2\", \"Topic2\", \"Topic2\", \"Topic2\", \"Topic3\", \"Topic3\", \"Topic3\", \"Topic3\", \"Topic3\", \"Topic3\", \"Topic3\", \"Topic3\", \"Topic3\", \"Topic3\", \"Topic3\", \"Topic3\", \"Topic3\", \"Topic3\", \"Topic3\", \"Topic3\", \"Topic3\", \"Topic3\", \"Topic3\", \"Topic3\", \"Topic3\", \"Topic3\", \"Topic3\", \"Topic3\", \"Topic3\", \"Topic3\", \"Topic3\", \"Topic3\", \"Topic3\", \"Topic3\", \"Topic3\", \"Topic3\", \"Topic3\", \"Topic3\", \"Topic3\", \"Topic3\", \"Topic3\", \"Topic3\", \"Topic3\", \"Topic3\", \"Topic3\", \"Topic3\", \"Topic3\", \"Topic3\", \"Topic3\", \"Topic3\", \"Topic3\", \"Topic3\", \"Topic3\", \"Topic3\", \"Topic3\", \"Topic3\", \"Topic3\", \"Topic3\", \"Topic3\", \"Topic3\", \"Topic3\", \"Topic3\", \"Topic3\", \"Topic3\", \"Topic3\", \"Topic3\", \"Topic3\", \"Topic3\", \"Topic3\", \"Topic3\", \"Topic3\", \"Topic3\", \"Topic3\", \"Topic3\", \"Topic3\", \"Topic3\", \"Topic3\", \"Topic3\", \"Topic3\", \"Topic3\", \"Topic3\", \"Topic3\", \"Topic3\", \"Topic3\", \"Topic3\", \"Topic3\", \"Topic3\", \"Topic3\", \"Topic3\", \"Topic3\", \"Topic3\", \"Topic3\", \"Topic3\", \"Topic3\", \"Topic3\", \"Topic3\", \"Topic3\", \"Topic3\", \"Topic3\", \"Topic3\", \"Topic3\", \"Topic3\", \"Topic3\", \"Topic3\", \"Topic3\", \"Topic4\", \"Topic4\", \"Topic4\", \"Topic4\", \"Topic4\", \"Topic4\", \"Topic4\", \"Topic4\", \"Topic4\", \"Topic4\", \"Topic4\", \"Topic4\", \"Topic4\", \"Topic4\", \"Topic4\", \"Topic4\", \"Topic4\", \"Topic4\", \"Topic4\", \"Topic4\", \"Topic4\", \"Topic4\", \"Topic4\", \"Topic4\", \"Topic4\", \"Topic4\", \"Topic4\", \"Topic4\", \"Topic4\", \"Topic4\", \"Topic4\", \"Topic4\", \"Topic4\", \"Topic4\", \"Topic4\", \"Topic4\", \"Topic4\", \"Topic4\", \"Topic4\", \"Topic4\", \"Topic4\", \"Topic4\", \"Topic4\", \"Topic4\", \"Topic4\", \"Topic4\", \"Topic4\", \"Topic4\", \"Topic4\", \"Topic4\", \"Topic4\", \"Topic4\", \"Topic4\", \"Topic4\", \"Topic4\", \"Topic4\", \"Topic4\", \"Topic4\", \"Topic4\", \"Topic4\", \"Topic4\", \"Topic4\", \"Topic4\", \"Topic4\", \"Topic4\", \"Topic4\", \"Topic4\", \"Topic4\", \"Topic4\", \"Topic4\", \"Topic4\", \"Topic4\", \"Topic4\", \"Topic4\", \"Topic4\", \"Topic4\", \"Topic4\", \"Topic4\", \"Topic4\", \"Topic4\", \"Topic4\", \"Topic4\", \"Topic4\", \"Topic4\", \"Topic4\", \"Topic4\", \"Topic4\", \"Topic4\", \"Topic4\"], \"Freq\": [56161.0, 9292.0, 8271.0, 20091.0, 8538.0, 7696.0, 8825.0, 6646.0, 6388.0, 2551.0, 28149.0, 2724.0, 4941.0, 8021.0, 17296.0, 6371.0, 2898.0, 19205.0, 5660.0, 1618.0, 7630.0, 4400.0, 1509.0, 6422.0, 3089.0, 1887.0, 19668.0, 3651.0, 2326.0, 3173.0, 1119.0409998437526, 916.3803726288717, 736.7866196625865, 527.204883176395, 518.2091265830184, 472.313397497651, 446.34743768006905, 435.37593710997186, 367.51735461693374, 398.3689289489415, 342.573401967138, 333.53316464804664, 341.4822846528069, 298.65981299371634, 346.4142834298615, 287.6764761083699, 331.4691114958796, 284.6815732419225, 282.684423164609, 278.6862395424303, 269.71120226794824, 355.29289614429285, 415.9522948368025, 254.73845533879978, 256.711709113209, 238.77178999166264, 249.70774508490453, 231.78583399562942, 224.80155018628653, 220.79468782836537, 2538.611716437638, 798.311099327932, 318.92013382758466, 318.9193217783939, 678.0051158721657, 531.5100653958843, 328.15019789685505, 1333.1162438897845, 1029.5251962730351, 1581.0394498446028, 1158.3247080228, 783.7217269536719, 1208.2069030137736, 836.5181323532383, 1525.5295945660152, 6926.474954779413, 1258.247338078131, 2070.3016833743045, 690.752815167885, 4982.356160273042, 799.8998447938413, 1430.7282877572995, 1326.2670192489065, 12881.036288125928, 1667.6389494763316, 747.1236942107406, 1830.071546975668, 1108.7881567002405, 1117.4124427741954, 2347.3259620550425, 9331.837041433426, 12332.098364540629, 4555.232579812745, 8900.085779012286, 2994.1170387843486, 6629.05591147976, 3551.4110579148028, 4359.812469868669, 3138.7534702995304, 2181.8893174705136, 4389.1814265868325, 3087.229771444044, 3590.410769388426, 2926.30305960815, 3931.2452595381897, 3227.8132062234695, 3735.5328580431124, 3689.1821208723027, 3237.7767642720387, 3529.1094583143463, 4566.6388055139305, 4089.4382976101724, 2859.3135937293932, 3140.3487537655997, 3588.820317697894, 3252.479416083307, 3017.440136739454, 3315.484743310685, 2941.3557089397636, 761.4606515860847, 742.4052481763508, 538.8116987999246, 425.4844743208538, 434.4882091819581, 420.4132770822642, 390.37861328258714, 358.28693920460216, 361.27485137348305, 303.12647426437405, 298.1074486513984, 297.0998523058682, 276.0474100439758, 358.03292595598595, 247.96737229896962, 234.9005717693554, 257.85754838145056, 210.83487530120038, 190.80261494011836, 177.75872118822167, 165.7264929147293, 165.72649291425955, 163.723912862327, 160.71506051442836, 159.71220464697444, 623.811950581722, 178.66117740379443, 155.70041307917603, 158.69419093207313, 154.68810699378625, 255.35271651456236, 590.4143792868036, 820.0242701152922, 621.9766979417557, 5256.679817511269, 206.85954944083545, 534.631244091687, 383.1076278311003, 429.984413286075, 322.20347244514863, 314.84314042185804, 43805.611666780336, 1401.3894696221366, 922.1340475695789, 5199.559921672044, 1975.2942302233205, 555.866041774304, 944.6897958795894, 445.42303583736634, 3336.8265443700852, 3327.9849029085776, 1752.798018217447, 3074.737406274484, 2311.7078253138175, 1957.901097773432, 3729.2187165729456, 3335.6000886043144, 2189.312418705568, 2178.021715934524, 4208.163969645977, 1961.1822674899772, 4533.29717375145, 4026.834808389771, 11960.666647298322, 4139.72246616137, 5223.4944094962375, 10508.435244706052, 6115.4857822685035, 2627.1063792776918, 8249.095241175031, 4942.6996086593745, 3392.914446566603, 3212.4144512429457, 4633.671491472011, 3124.188778790153, 3889.6230969879043, 3401.1492333262267, 3785.3999229359165, 3845.38299418541, 2492.3628976339746, 4287.396343217974, 8193.560847838402, 10243.626228472234, 5313.952915322048, 4964.95978756907, 5061.466924464298, 5418.138224772031, 6976.788036959745, 4448.845952803234, 6477.492650056959, 4180.55776979782, 5083.116841384723, 4248.350988541802, 4017.4215534791933, 5253.584531435538, 4462.614527968888, 4422.225840985903, 4390.51078938348, 413.1609829992372, 326.37409605289724, 295.4703354479489, 251.58839301978782, 260.52579620875196, 240.6170137013964, 241.6009916664809, 230.63613419604903, 231.6240689115023, 224.64812096826626, 222.65760269072337, 221.6602527322492, 221.6579854614823, 220.6568535632822, 208.69889803461146, 208.69788735604536, 204.7102323748129, 203.71405674432668, 195.73533559003383, 258.2548483672084, 191.67727288088372, 173.7902967829314, 176.7686734543641, 154.83607614398122, 177.66118108379317, 161.7796820945929, 182.6159335352392, 148.85318303997602, 147.8598660450519, 145.8571998159087, 391.46635625178146, 304.1457883671111, 319.650202864574, 223.8837951584701, 201.28778820088627, 252.64739247066146, 250.55576467305528, 218.26700069734918, 197.1359695116009, 460.64891604835503, 362.1475914985691, 1435.4502270397513, 333.11888081542054, 1026.216280917636, 752.13195015996, 346.19161772105474, 357.1872245323252, 408.4518078329275, 970.9643168855538, 430.8327283706086, 464.5613816825097, 374.50071169968277, 610.0857117833931, 587.8925316921194, 883.8344382086563, 832.4776564883136, 442.5635289084166, 1267.9882407561272, 754.3106376128123, 1517.4487176563955, 621.1906220636943, 3926.326302573195, 1390.6653626304496, 978.651039021359, 1363.7309343738384, 1649.5815075562862, 1376.1157862846658, 2231.6987512498135, 1986.5586093191084, 3012.979256287375, 2717.5904161502667, 1170.4993836281205, 1007.1713670291933, 1510.4888619993876, 916.293470917366, 1026.2722356585602, 1276.103267331765, 2032.0235899530317, 1432.2632045634102, 1332.235699214769, 1613.1464082571244, 1928.6730512422694, 1463.4254293316135, 1785.4284864504514, 1623.8416675955239, 2007.4813810144035, 1604.2482403023148, 1454.5325955012706, 2012.823986329911, 2025.5566245363134, 1718.8763625895983, 1441.0655753553865, 1519.2241581887124, 1467.819125162129, 1714.0572359009927, 1555.0822064155534, 1554.2637803262057, 1522.2363076056522, 1452.350715653785, 1478.712538271155, 1467.961239968236, 709.0697780425189, 686.3938573014692, 590.7717384829613, 474.43540000299953, 469.507693127528, 465.5654244127859, 343.3213489008537, 331.4910852870761, 291.06528642712794, 293.0238612394173, 270.36280630338405, 250.6454925718194, 255.55373378722592, 248.67053990220975, 229.94920462967508, 218.11857177267262, 217.1319538271761, 223.00577520260106, 211.21640333641497, 210.22815490476253, 207.2729718261508, 205.30171837528883, 205.30153403888258, 204.31630496527427, 204.31628067048868, 204.315939684725, 203.33052946078124, 203.33052946078124, 203.33052946078124, 203.33046747995303, 203.33046747995303, 319.15657372159114, 275.4885420222035, 371.83409155290866, 1418.3820267375565, 227.2168491708037, 250.14562760658043, 307.3523931380918, 1271.1649633972252, 1562.8719258534902, 389.10743896532654, 5971.614747329009, 488.14149436024763, 1963.6465516960932, 1096.1775492271017, 728.7601878938533, 317.01720923273473, 1371.277428945547, 810.0591210355732, 3599.2687611259025, 1902.540655400051, 1718.6745394247775, 1542.999249846963, 641.3530862186641, 699.5076391560817, 3632.6730319050057, 1704.1058245159295, 742.8791714525767, 1270.060384162214, 831.7162090036945, 2930.8007502034366, 980.2432908927999, 2089.87348712231, 4704.441438916901, 2031.720794459465, 9282.67748884274, 1660.4686397174544, 4198.595720873693, 1993.5119722200536, 2304.638096041143, 2136.030670595653, 2176.8253164196412, 1605.288659336956, 4095.3710826252964, 3516.639828476378, 1845.7549945777268, 2340.9280103142673, 2770.1446751607, 2326.984533116748, 1833.8310110739885, 2221.430377449998, 2114.8599518399255, 1815.8454699953038, 1760.4353458573494, 1778.3360921681735, 1772.7776479288982, 1851.309035481721, 1776.3804596734806, 1760.827277283468], \"Term\": [\"business\", \"clients\", \"insurance\", \"software\", \"security\", \"financial\", \"education\", \"global\", \"engineer\", \"equipment\", \"development\", \"consulting\", \"mission\", \"employees\", \"technology\", \"mathematics\", \"regression\", \"systems\", \"marketing\", \"agency\", \"client\", \"candidates\", \"banking\", \"program\", \"artificial\", \"neural\", \"design\", \"department\", \"university\", \"community\", \"middot\", \"insurance insurance\", \"mechanical\", \"matching insurance\", \"insurance hour\", \"donors\", \"spending account\", \"insurance monday\", \"account health\", \"shift monday\", \"plasma\", \"disabilities functions\", \"made enable\", \"biolife\", \"plant\", \"supplemental bonus\", \"imaging\", \"takeda\", \"donor\", \"molecular\", \"account life\", \"enable individuals\", \"insurance life\", \"technician\", \"repair\", \"reimbursement insurance\", \"grainger\", \"development assistance\", \"described representative\", \"google google\", \"equipment\", \"hour shift\", \"remotely temporarily\", \"temporarily covid\", \"lift\", \"pounds\", \"insurance flexible\", \"remotely\", \"covid\", \"health insurance\", \"monday friday\", \"occasionally\", \"monday\", \"insurance health\", \"hour\", \"insurance\", \"friday\", \"manufacturing\", \"flexible spending\", \"engineer\", \"spending\", \"life insurance\", \"hardware\", \"software\", \"shift\", \"laboratory\", \"safety\", \"electrical\", \"matching\", \"software development\", \"systems\", \"development\", \"system\", \"design\", \"medical\", \"environment\", \"life\", \"applications\", \"production\", \"flexible\", \"health\", \"test\", \"code\", \"maintain\", \"high\", \"testing\", \"quality\", \"technologies\", \"education\", \"based\", \"management\", \"technology\", \"able\", \"cloud\", \"product\", \"process\", \"well\", \"tools\", \"industry\", \"unitedhealth\", \"unitedhealth group\", \"davita\", \"optum\", \"walmart\", \"nurse\", \"usaa\", \"dialysis\", \"discrimination harassment\", \"teksystems\", \"verizon\", \"nurses\", \"lifes\", \"business objects\", \"dell technologies\", \"marketing business\", \"conduent\", \"aetna\", \"telecommuter\", \"workplace candidates\", \"creates healthier\", \"healthier atmosphere\", \"test beginning\", \"group unitedhealth\", \"atmosphere unitedhealth\", \"informatica\", \"population health\", \"group drug\", \"domestic partnership\", \"civil union\", \"retailer\", \"business tools\", \"dell\", \"nursing\", \"marketing\", \"master management\", \"business users\", \"business performance\", \"paypal\", \"performance indicators\", \"acute\", \"business\", \"business partners\", \"business decisions\", \"stakeholders\", \"dashboards\", \"snowflake\", \"warehousing\", \"sales marketing\", \"sales\", \"recommendations\", \"warehouse\", \"tableau\", \"actionable\", \"develops\", \"partners\", \"strategic\", \"findings\", \"define\", \"functional\", \"oracle\", \"internal\", \"database\", \"management\", \"analyze\", \"predictive\", \"tools\", \"performance\", \"trends\", \"product\", \"multiple\", \"care\", \"cross\", \"organization\", \"decisions\", \"leadership\", \"manage\", \"enterprise\", \"communicate\", \"initiatives\", \"responsible\", \"design\", \"development\", \"quality\", \"within\", \"communication\", \"process\", \"systems\", \"create\", \"technology\", \"understand\", \"based\", \"operations\", \"ensure\", \"environment\", \"health\", \"industry\", \"technologies\", \"announcement\", \"comcast\", \"vacancy\", \"ictap\", \"eacute\", \"veterans preference\", \"childbirth\", \"northrop\", \"questionnaire\", \"transcripts\", \"grumman\", \"northrop grumman\", \"saic\", \"website search\", \"closer together\", \"department education\", \"bring closer\", \"ctap\", \"eventbrite\", \"official\", \"conviction records\", \"semester\", \"offices europe\", \"whether youre\", \"arrest conviction\", \"consider arrest\", \"asia pacific\", \"equity firm\", \"recognized department\", \"furnish\", \"background investigation\", \"faculty\", \"appointment\", \"chance ordinance\", \"disclose\", \"closer\", \"discharge\", \"providing reasonable\", \"francisco fair\", \"student\", \"political\", \"agency\", \"evaluated\", \"cyber\", \"grade\", \"pacific\", \"threats\", \"unsolicited\", \"submit\", \"letter\", \"copy\", \"rating\", \"preference\", \"contractor\", \"investigation\", \"defense\", \"students\", \"veterans\", \"applicant\", \"contact\", \"facebook\", \"security\", \"university\", \"college\", \"considered\", \"community\", \"accommodation\", \"mission\", \"candidates\", \"education\", \"employees\", \"email\", \"active\", \"department\", \"positions\", \"visit\", \"government\", \"program\", \"individuals\", \"applying\", \"meet\", \"service\", \"background\", \"part\", \"mathematics\", \"based\", \"also\", \"office\", \"product\", \"technology\", \"well\", \"following\", \"include\", \"learn\", \"systems\", \"software\", \"management\", \"tools\", \"process\", \"development\", \"business\", \"deloitte\", \"chase\", \"kpmg\", \"wells\", \"fargo\", \"wells fargo\", \"jpmorgan\", \"jpmorgan chase\", \"investment banking\", \"iqvia\", \"capgemini\", \"global workforce\", \"government clients\", \"banking financial\", \"ibmers\", \"lighthouse\", \"commercial banking\", \"prominent\", \"business banking\", \"diverse talents\", \"employees religious\", \"bring global\", \"directly linked\", \"recognize strength\", \"strength diverse\", \"well mental\", \"beliefs well\", \"religious practices\", \"practices beliefs\", \"linked success\", \"talents bring\", \"financial institutions\", \"consulting firm\", \"small businesses\", \"banking\", \"citi\", \"gradient\", \"morgan\", \"neural networks\", \"neural\", \"trading\", \"clients\", \"random forest\", \"consulting\", \"investment\", \"random\", \"fraud detection\", \"firm\", \"supervised\", \"global\", \"artificial\", \"natural\", \"networks\", \"decision trees\", \"unsupervised\", \"financial\", \"regression\", \"trees\", \"tensorflow\", \"fraud\", \"client\", \"clustering\", \"diverse\", \"technology\", \"risk\", \"business\", \"challenges\", \"tools\", \"solve\", \"expertise\", \"leading\", \"model\", \"innovation\", \"development\", \"management\", \"innovative\", \"cloud\", \"environment\", \"technologies\", \"value\", \"industry\", \"programming\", \"deliver\", \"mathematics\", \"professional\", \"developing\", \"design\", \"well\", \"predictive\"], \"Total\": [56161.0, 9292.0, 8271.0, 20091.0, 8538.0, 7696.0, 8825.0, 6646.0, 6388.0, 2551.0, 28149.0, 2724.0, 4941.0, 8021.0, 17296.0, 6371.0, 2898.0, 19205.0, 5660.0, 1618.0, 7630.0, 4400.0, 1509.0, 6422.0, 3089.0, 1887.0, 19668.0, 3651.0, 2326.0, 3173.0, 1119.7911236221357, 917.1905881820952, 737.5444124412468, 527.9575090902397, 518.9752832367336, 473.06568923476055, 447.11680807364473, 436.13850612359965, 368.27222511060455, 399.21168235236945, 343.32138263380494, 334.3393246017009, 342.3237605317573, 299.4079416522308, 347.31324863198137, 288.42956718086896, 332.34254457572234, 285.43546851034415, 283.4394187717741, 279.447219065953, 270.4649751015677, 356.2969120065605, 417.17019629793725, 255.49448624859133, 257.49056844733485, 239.52596076432954, 250.5042187652048, 232.5397065560966, 225.55348910800032, 221.5613721892855, 2551.9752304389876, 802.4330051743883, 320.3700069262697, 320.3700108937004, 686.6818651792837, 539.9710919263274, 330.3459945350978, 1384.4534306642706, 1070.891759900397, 1673.0008314502193, 1218.646759056674, 811.4601608781445, 1278.5587644591026, 876.9735631259285, 1654.8753896522092, 8271.916892683765, 1360.4283182471659, 2339.211828327137, 733.7205696824336, 6388.410158959006, 873.5590985265926, 1669.598678527306, 1539.1458240898041, 20091.346124740787, 2056.7108517884176, 820.2816206877219, 2373.4719482629143, 1324.2849185403202, 1337.0286388710526, 3388.973432296811, 19205.405866349767, 28149.808213909317, 8139.446082884978, 19668.802172506137, 5183.478009063997, 15866.260288365676, 6724.532277407872, 9484.547460491603, 6056.826086584983, 3599.03892765659, 10411.128026535287, 6165.162154715508, 8046.749053158967, 5945.056877005941, 10216.705188980783, 7555.089346520651, 10512.73223037046, 11188.04159851791, 8825.888778077184, 11773.975145344228, 21598.209061614834, 17296.929011120345, 7539.776304064883, 9956.593324366559, 14816.746343106739, 11451.453538764077, 10210.78946238806, 19544.75201649608, 10167.644884524247, 762.2083417062896, 743.1529608206572, 539.5612549812073, 426.23188652239986, 435.25789548476735, 421.2170124084842, 391.1298371436506, 359.03659483326766, 362.0452151844666, 303.87626629846915, 298.86163978215836, 297.85873721952976, 276.79757272363105, 359.0323733112184, 248.71597263010193, 235.6777918405862, 258.74375516897936, 211.6079845336612, 191.54983904186363, 178.51190160411323, 166.4769521505096, 166.4769521505073, 164.47114023576643, 161.46239533793397, 160.45948083374185, 626.7880742629083, 179.51430104112782, 156.44782083555185, 159.45647834485064, 155.44485092285268, 256.7361301632942, 599.5941053601033, 836.3478377059853, 634.7749731167022, 5660.446244141434, 208.58263000748588, 552.3289180338072, 391.992578364915, 444.2094625177415, 329.9176888063163, 322.8958970691209, 56161.078590719844, 1556.857539615006, 1000.8161658990399, 6440.787456655256, 2304.90726965924, 590.5222975842398, 1049.8678194549066, 467.1214824605675, 4250.139121203039, 4276.127310080501, 2149.0768456326246, 4050.3351087870715, 2972.220019473008, 2477.431062011778, 5196.216344214515, 4579.70463660492, 2858.0949140729763, 2849.415813634873, 6127.51935563117, 2544.7027055001, 6855.473413324503, 5972.748631536593, 21598.209061614834, 6188.374725049764, 8208.140333700765, 19544.75201649608, 10201.289887520765, 3641.371475028971, 14816.746343106739, 7943.925285970945, 4995.004589083304, 4673.556966527371, 7523.510822206123, 4591.846146750843, 6150.498129783711, 5253.300397740999, 6114.4551246070205, 6272.489670660232, 3446.7355713587363, 7568.728941455951, 19668.802172506137, 28149.808213909317, 10512.73223037046, 9680.170841665182, 10172.397256423566, 11451.453538764077, 19205.405866349767, 8327.735168919935, 17296.929011120345, 7399.25497456036, 11773.975145344228, 8154.068960393754, 7063.458224420892, 15866.260288365676, 10411.128026535287, 10167.644884524247, 11188.04159851791, 413.91033899380176, 327.13848136900316, 296.21978436221116, 252.33517852554138, 261.31159087271584, 241.36402644597746, 242.36140477828894, 231.39021922622135, 232.38767066310774, 225.40597214656597, 223.41119915939862, 222.41382167437092, 222.41386510949698, 221.4164810929994, 209.44794986809657, 209.4479520910768, 205.45843786507095, 204.46105817973694, 196.482037487973, 259.31702370403605, 192.49252499443725, 174.5397257890194, 177.5318590842353, 155.58954049637063, 178.52927089010907, 162.57120855900314, 183.51665670727076, 149.60530022668482, 148.60792147549685, 146.6131718852218, 394.9619464613718, 306.19439873472237, 322.1527656624759, 225.4064384378413, 202.46150378906665, 255.33371884816097, 253.33392798110054, 220.41877989403716, 198.47713539643334, 477.6899096797237, 372.06888884497715, 1618.3110890309786, 344.1076325226782, 1247.602645667988, 884.5775634060576, 369.9827200137155, 384.7717310507315, 451.85955214183474, 1242.5627084431017, 485.7583917375483, 531.6834897194146, 412.8744849255592, 740.0608617563882, 718.2474212274051, 1180.1252176833314, 1108.454119771661, 512.7106078294054, 1936.71091313411, 1008.4234523904112, 2512.64932439936, 801.5544736147567, 8538.554785802356, 2326.4565617185385, 1476.5765338710416, 2324.482783561127, 3173.6709132271985, 2489.4828386603363, 4941.819705682858, 4400.093649047812, 8825.888778077184, 8021.240788143296, 2288.1023203216632, 1896.9600965977675, 3651.5602628224624, 1640.0479510682237, 1982.5002711700954, 2891.1062213673617, 6422.174284529759, 3733.9904194815867, 3552.7163012506194, 5276.778759575415, 7730.501521084803, 4534.635397488648, 7263.022977388439, 6371.033434578673, 11773.975145344228, 6825.344283575778, 5511.168976919636, 14816.746343106739, 17296.929011120345, 10210.78946238806, 5399.805254452831, 6821.454347626483, 6875.0925564542695, 19205.405866349767, 20091.346124740787, 21598.209061614834, 19544.75201649608, 11451.453538764077, 28149.808213909317, 56161.078590719844, 709.8240701156608, 687.1494815913808, 591.5217085349407, 475.19119036232314, 470.26190501600803, 466.3184809384299, 344.0727493624309, 332.2425196456116, 291.8226537472059, 293.7945712144822, 271.11973616432823, 251.40269080606853, 256.3322115777587, 249.43104120811535, 230.69969269557257, 218.86947055561248, 217.88363047426083, 223.7992738494738, 211.96852350191287, 210.9827008695557, 208.02511212635252, 206.05340189963624, 206.05340553707705, 205.06754232960566, 205.06754239300537, 205.0675465298626, 204.08168848092222, 204.08168848092222, 204.08168848092222, 204.0816892540832, 204.0816892540832, 322.42673173296816, 278.0448860868929, 379.6832412235784, 1509.8588827537285, 228.74107994827145, 253.4120426646044, 317.56404683588835, 1476.7640143437482, 1887.5117867785657, 413.3895840309358, 9292.445718984174, 548.1667304853403, 2724.96201620881, 1403.62245255058, 917.5103623590923, 340.44844042663124, 2000.226907390302, 1056.6225496195143, 6646.417602053298, 3089.455815657179, 2737.624957672283, 2462.3690686743525, 812.1359830273593, 911.1583120606323, 7696.366072133795, 2898.5008741718175, 1013.9836983309888, 2117.3558897299486, 1231.433945343032, 7630.129088147252, 1573.3378366172833, 5027.4475966436, 17296.929011120345, 5010.8467713406535, 56161.078590719844, 3970.011758558463, 19544.75201649608, 5518.676864914033, 7368.673225437164, 6486.477715936087, 6788.167657189202, 4077.714153921105, 28149.808213909317, 21598.209061614834, 5815.310299118139, 9956.593324366559, 15866.260288365676, 11188.04159851791, 5818.414485993278, 10167.644884524247, 9377.240689425395, 6841.535557241241, 6371.033434578673, 7317.766756615622, 8691.584496956657, 19668.802172506137, 10210.78946238806, 8208.140333700765], \"loglift\": [30.0, 29.0, 28.0, 27.0, 26.0, 25.0, 24.0, 23.0, 22.0, 21.0, 20.0, 19.0, 18.0, 17.0, 16.0, 15.0, 14.0, 13.0, 12.0, 11.0, 10.0, 9.0, 8.0, 7.0, 6.0, 5.0, 4.0, 3.0, 2.0, 1.0, 1.3148, 1.3146, 1.3145, 1.3141, 1.314, 1.3139, 1.3138, 1.3138, 1.3135, 1.3134, 1.3133, 1.3131, 1.3131, 1.313, 1.3129, 1.3129, 1.3129, 1.3129, 1.3128, 1.3128, 1.3127, 1.3127, 1.3126, 1.3125, 1.3125, 1.3124, 1.3123, 1.3123, 1.3122, 1.312, 1.3103, 1.3104, 1.311, 1.311, 1.3028, 1.2997, 1.3088, 1.2777, 1.2761, 1.259, 1.2647, 1.2807, 1.2589, 1.2683, 1.2341, 1.138, 1.2374, 1.1934, 1.2552, 1.0669, 1.2274, 1.1611, 1.1667, 0.871, 1.1058, 1.2221, 1.0555, 1.1379, 1.1361, 0.9483, 0.5938, 0.4902, 0.7351, 0.5225, 0.7667, 0.4428, 0.6771, 0.5383, 0.6582, 0.815, 0.4518, 0.6239, 0.5085, 0.6067, 0.3604, 0.4651, 0.2808, 0.2061, 0.3127, 0.1107, -0.2383, -0.1266, 0.3459, 0.1616, -0.1024, 0.0568, 0.0965, -0.4586, 0.0752, 0.8957, 0.8957, 0.8953, 0.895, 0.8949, 0.8948, 0.8948, 0.8946, 0.8946, 0.8942, 0.8942, 0.8942, 0.894, 0.8939, 0.8937, 0.8934, 0.8933, 0.8931, 0.8928, 0.8925, 0.8922, 0.8922, 0.8922, 0.8921, 0.8921, 0.892, 0.892, 0.8919, 0.8919, 0.8918, 0.8913, 0.8813, 0.877, 0.8764, 0.8227, 0.8884, 0.8642, 0.8738, 0.8642, 0.8731, 0.8715, 0.6483, 0.7915, 0.8148, 0.6826, 0.7424, 0.8362, 0.7912, 0.8492, 0.6548, 0.646, 0.6929, 0.6211, 0.6454, 0.6614, 0.565, 0.5797, 0.6302, 0.628, 0.521, 0.6363, 0.4831, 0.5025, 0.3057, 0.4947, 0.4448, 0.2762, 0.385, 0.5702, 0.3111, 0.4222, 0.51, 0.5218, 0.412, 0.5116, 0.4385, 0.462, 0.4172, 0.4074, 0.5725, 0.3284, 0.021, -0.1142, 0.2145, 0.229, 0.1987, 0.1484, -0.1159, 0.2698, -0.0855, 0.3258, 0.0568, 0.2447, 0.3324, -0.2086, 0.0496, 0.0642, -0.0387, 1.8799, 1.8794, 1.8792, 1.8787, 1.8787, 1.8786, 1.8786, 1.8784, 1.8784, 1.8783, 1.8783, 1.8783, 1.8783, 1.8783, 1.8781, 1.8781, 1.8781, 1.878, 1.8779, 1.8776, 1.8775, 1.8774, 1.8774, 1.8768, 1.8768, 1.8768, 1.8768, 1.8767, 1.8767, 1.8765, 1.8728, 1.875, 1.8739, 1.8749, 1.8759, 1.8711, 1.8707, 1.8719, 1.8749, 1.8454, 1.8547, 1.7618, 1.8492, 1.6864, 1.7195, 1.8152, 1.8073, 1.7807, 1.6351, 1.7617, 1.7467, 1.7842, 1.6886, 1.6814, 1.5926, 1.5954, 1.7346, 1.4581, 1.5914, 1.3774, 1.6268, 1.1048, 1.3671, 1.4704, 1.3484, 1.2273, 1.2889, 1.0867, 1.0865, 0.8069, 0.7994, 1.2114, 1.2486, 0.999, 1.2996, 1.2233, 1.0639, 0.731, 0.9235, 0.9008, 0.6966, 0.4934, 0.7507, 0.4786, 0.5147, 0.1127, 0.4337, 0.5496, -0.1145, -0.263, 0.0999, 0.5607, 0.3798, 0.3376, -0.5346, -0.6771, -0.7499, -0.6708, -0.1832, -1.0647, -1.7626, 1.7625, 1.7625, 1.7623, 1.762, 1.762, 1.762, 1.7614, 1.7613, 1.761, 1.761, 1.7608, 1.7606, 1.7606, 1.7605, 1.7603, 1.7602, 1.7601, 1.76, 1.76, 1.76, 1.76, 1.7599, 1.7599, 1.7599, 1.7599, 1.7599, 1.7599, 1.7599, 1.7599, 1.7599, 1.7599, 1.7534, 1.7544, 1.7427, 1.7011, 1.7569, 1.7506, 1.7309, 1.6137, 1.5749, 1.7031, 1.3214, 1.6476, 1.4359, 1.5164, 1.5333, 1.6923, 1.3861, 1.4979, 1.1502, 1.2788, 1.2981, 1.2962, 1.5275, 1.4993, 1.0128, 1.2324, 1.4525, 1.2525, 1.3712, 0.8068, 1.2904, 0.8858, 0.4616, 0.8609, -0.0365, 0.8919, 0.2256, 0.7454, 0.6013, 0.6528, 0.6263, 0.8314, -0.1641, -0.0515, 0.616, 0.3159, 0.0183, 0.1933, 0.609, 0.2425, 0.2743, 0.4371, 0.4774, 0.349, 0.1738, -0.5995, 0.0147, 0.2243], \"logprob\": [30.0, 29.0, 28.0, 27.0, 26.0, 25.0, 24.0, 23.0, 22.0, 21.0, 20.0, 19.0, 18.0, 17.0, 16.0, 15.0, 14.0, 13.0, 12.0, 11.0, 10.0, 9.0, 8.0, 7.0, 6.0, 5.0, 4.0, 3.0, 2.0, 1.0, -6.9921, -7.1919, -7.41, -7.7447, -7.762, -7.8547, -7.9112, -7.9361, -8.1056, -8.025, -8.1758, -8.2026, -8.179, -8.313, -8.1647, -8.3505, -8.2088, -8.361, -8.368, -8.3822, -8.415, -8.1394, -7.9818, -8.4721, -8.4644, -8.5368, -8.492, -8.5665, -8.5971, -8.6151, -6.173, -7.3298, -8.2474, -8.2474, -7.4932, -7.7366, -8.2189, -6.8171, -7.0755, -6.6465, -6.9576, -7.3483, -6.9154, -7.2831, -6.6822, -5.1692, -6.8749, -6.3769, -7.4746, -5.4987, -7.3278, -6.7464, -6.8222, -4.5488, -6.5932, -7.3961, -6.5002, -7.0013, -6.9936, -6.2513, -4.8711, -4.5924, -5.5883, -4.9185, -6.0079, -5.2131, -5.8372, -5.6321, -5.9608, -6.3244, -5.6254, -5.9773, -5.8263, -6.0308, -5.7356, -5.9328, -5.7867, -5.7992, -5.9297, -5.8435, -5.5858, -5.6962, -6.054, -5.9602, -5.8268, -5.9252, -6.0002, -5.906, -6.0257, -7.7959, -7.8212, -8.1418, -8.3779, -8.357, -8.3899, -8.464, -8.5498, -8.5415, -8.717, -8.7337, -8.7371, -8.8106, -8.5505, -8.9178, -8.972, -8.8787, -9.0801, -9.1799, -9.2507, -9.3208, -9.3208, -9.3329, -9.3515, -9.3578, -7.9953, -9.2456, -9.3832, -9.3641, -9.3897, -8.8885, -8.0503, -7.7218, -7.9982, -5.8639, -9.0991, -8.1495, -8.4828, -8.3674, -8.6559, -8.6791, -3.7436, -7.1859, -7.6044, -5.8748, -6.8427, -8.1106, -7.5803, -8.3321, -6.3184, -6.321, -6.9622, -6.4002, -6.6854, -6.8515, -6.2072, -6.3187, -6.7398, -6.745, -6.0863, -6.8498, -6.0119, -6.1304, -5.0417, -6.1027, -5.8702, -5.1712, -5.7125, -6.5575, -5.4133, -5.9255, -6.3017, -6.3563, -5.99, -6.3842, -6.1651, -6.2993, -6.1922, -6.1765, -6.6101, -6.0677, -5.42, -5.1967, -5.853, -5.921, -5.9017, -5.8336, -5.5808, -6.0307, -5.655, -6.0929, -5.8974, -6.0768, -6.1327, -5.8645, -6.0276, -6.0367, -6.0439, -7.4223, -7.6581, -7.7576, -7.9183, -7.8834, -7.9629, -7.9589, -8.0053, -8.001, -8.0316, -8.0405, -8.045, -8.045, -8.0495, -8.1053, -8.1053, -8.1245, -8.1294, -8.1694, -7.8922, -8.1903, -8.2883, -8.2713, -8.4038, -8.2663, -8.3599, -8.2388, -8.4432, -8.4499, -8.4635, -7.4762, -7.7286, -7.6789, -8.035, -8.1414, -7.9141, -7.9225, -8.0604, -8.1623, -7.3135, -7.5541, -6.1769, -7.6376, -6.5125, -6.8232, -7.5992, -7.5679, -7.4338, -6.5679, -7.3804, -7.3051, -7.5206, -7.0325, -7.0696, -6.6619, -6.7217, -7.3536, -6.301, -6.8203, -6.1214, -7.0145, -5.1707, -6.2086, -6.56, -6.2282, -6.0379, -6.2191, -5.7356, -5.852, -5.4355, -5.5386, -6.381, -6.5312, -6.126, -6.6258, -6.5125, -6.2946, -5.8294, -6.1791, -6.2515, -6.0602, -5.8816, -6.1576, -5.9587, -6.0536, -5.8415, -6.0657, -6.1637, -5.8388, -5.8325, -5.9967, -6.173, -6.1202, -6.1546, -5.9995, -6.0969, -6.0974, -6.1182, -6.1652, -6.1472, -6.1545, -7.0003, -7.0328, -7.1828, -7.4021, -7.4126, -7.421, -7.7256, -7.7606, -7.8907, -7.884, -7.9645, -8.0402, -8.0208, -8.0481, -8.1264, -8.1792, -8.1837, -8.1571, -8.2114, -8.2161, -8.2302, -8.2398, -8.2398, -8.2446, -8.2446, -8.2446, -8.2494, -8.2494, -8.2494, -8.2494, -8.2494, -7.7986, -7.9457, -7.6458, -6.307, -8.1383, -8.0422, -7.8363, -6.4166, -6.21, -7.6004, -4.8695, -7.3736, -5.9817, -6.5647, -6.9729, -7.8053, -6.3408, -6.8671, -5.3758, -6.0133, -6.1149, -6.2228, -7.1007, -7.0139, -5.3665, -6.1235, -6.9537, -6.4174, -6.8408, -5.5812, -6.6765, -5.9194, -5.108, -5.9476, -4.4283, -6.1494, -5.2217, -5.9666, -5.8216, -5.8975, -5.8786, -6.1832, -5.2466, -5.399, -6.0436, -5.8059, -5.6376, -5.8119, -6.0501, -5.8583, -5.9075, -6.0599, -6.0909, -6.0808, -6.0839, -6.0406, -6.0819, -6.0907]}, \"token.table\": {\"Topic\": [1, 2, 3, 4, 1, 2, 3, 4, 1, 1, 1, 2, 3, 4, 1, 2, 3, 4, 1, 2, 2, 1, 2, 3, 4, 1, 2, 3, 4, 1, 2, 3, 4, 3, 1, 2, 3, 4, 1, 2, 3, 4, 1, 2, 3, 4, 1, 3, 3, 1, 2, 3, 4, 3, 2, 1, 2, 3, 4, 1, 3, 1, 2, 3, 4, 4, 1, 2, 3, 4, 4, 1, 3, 4, 1, 2, 3, 4, 4, 1, 2, 3, 4, 2, 1, 2, 4, 2, 4, 2, 4, 1, 2, 4, 1, 2, 3, 4, 4, 1, 2, 3, 4, 1, 2, 3, 4, 1, 3, 4, 3, 2, 4, 2, 1, 2, 3, 4, 1, 2, 3, 4, 1, 2, 3, 3, 1, 2, 3, 4, 1, 2, 3, 4, 1, 2, 3, 4, 1, 2, 3, 4, 3, 4, 1, 2, 3, 4, 1, 2, 3, 4, 1, 2, 3, 4, 2, 3, 1, 2, 3, 4, 1, 2, 3, 4, 1, 2, 4, 1, 2, 3, 4, 1, 2, 3, 4, 3, 1, 2, 3, 4, 1, 2, 3, 4, 1, 2, 3, 4, 2, 1, 2, 3, 4, 3, 1, 3, 4, 1, 2, 3, 4, 1, 2, 3, 4, 2, 2, 3, 4, 1, 2, 3, 4, 1, 2, 3, 4, 1, 2, 3, 4, 1, 2, 3, 4, 1, 2, 2, 4, 1, 2, 3, 4, 3, 1, 1, 2, 3, 4, 1, 2, 3, 4, 1, 2, 3, 4, 1, 1, 2, 3, 4, 2, 4, 1, 1, 3, 3, 4, 2, 1, 2, 3, 4, 4, 2, 1, 1, 3, 1, 2, 3, 4, 1, 2, 3, 4, 1, 2, 3, 4, 1, 2, 3, 4, 4, 1, 1, 2, 3, 4, 1, 2, 3, 4, 1, 2, 3, 4, 1, 2, 3, 4, 1, 2, 3, 3, 1, 2, 3, 3, 1, 2, 3, 4, 1, 2, 3, 4, 1, 3, 4, 1, 2, 3, 4, 2, 4, 1, 2, 3, 4, 1, 2, 3, 4, 1, 2, 3, 4, 1, 2, 3, 1, 2, 3, 4, 1, 3, 2, 3, 4, 1, 2, 3, 4, 1, 2, 3, 1, 2, 3, 4, 3, 1, 2, 3, 4, 4, 1, 1, 2, 3, 4, 4, 1, 2, 3, 4, 1, 2, 4, 1, 2, 2, 3, 1, 2, 3, 4, 1, 2, 3, 4, 1, 2, 3, 4, 2, 1, 2, 3, 4, 1, 2, 3, 1, 2, 4, 3, 1, 1, 2, 3, 4, 1, 2, 3, 4, 1, 2, 3, 4, 2, 3, 4, 1, 2, 3, 4, 1, 2, 3, 4, 1, 2, 3, 4, 1, 2, 3, 4, 1, 3, 1, 2, 3, 4, 1, 1, 1, 4, 1, 1, 2, 3, 4, 1, 2, 3, 4, 1, 2, 3, 4, 4, 4, 4, 4, 4, 1, 3, 4, 1, 2, 3, 4, 1, 2, 3, 4, 1, 2, 3, 4, 1, 2, 3, 1, 2, 3, 4, 1, 2, 3, 4, 2, 1, 2, 4, 4, 1, 1, 2, 3, 4, 1, 2, 3, 4, 1, 2, 3, 4, 1, 2, 3, 4, 1, 2, 3, 4, 2, 2, 4, 1, 2, 3, 4, 1, 1, 2, 3, 4, 1, 1, 2, 3, 4, 1, 2, 3, 4, 1, 1, 2, 3, 4, 1, 2, 3, 4, 1, 1, 2, 3, 1, 2, 3, 3, 4, 1, 2, 3, 4, 1, 2, 3, 4, 1, 2, 3, 4, 1, 2, 3, 4, 1, 2, 3, 4, 3, 3, 2, 2, 1, 2, 3, 1, 2, 3, 4, 1, 2, 3, 4, 3, 1, 3, 1, 2, 3, 4, 2, 1, 2, 3, 4, 1, 2, 3, 4, 1, 2, 3, 4, 1, 2, 3, 4, 1, 2, 3, 4, 2, 3, 1, 2, 3, 4, 1, 2, 1, 1, 1, 2, 3, 2, 1, 2, 3, 4, 1, 2, 4, 1, 2, 3, 4, 1, 2, 3, 4, 1, 2, 3, 4, 1, 2, 3, 4, 1, 2, 3, 4, 1, 2, 3, 4, 1, 2, 3, 4, 1, 2, 3, 4, 4, 2, 3, 4, 1, 2, 3, 4, 3, 1, 2, 3, 4, 2, 4, 1, 2, 3, 4, 4, 3, 1, 2, 3, 4, 1, 2, 3, 4, 1, 4, 1, 2, 3, 1, 2, 1, 1, 2, 3, 4, 1, 2, 1, 2, 3, 4, 1, 2, 3, 4, 3, 1, 2, 3, 4, 1, 2, 3, 4, 1, 2, 3, 4, 3, 1, 2, 3, 4, 1, 2, 3, 4, 1, 2, 4, 1, 2, 3, 4, 1, 2, 3, 4, 1, 2, 3, 4, 1, 2, 3, 4, 1, 2, 3, 1, 1, 2, 3, 4, 1, 2, 3, 4, 4, 1, 2, 3, 4, 1, 2, 3, 1, 2, 3, 4, 1, 2, 3, 4, 1, 1, 2, 3, 4, 1, 2, 3, 4, 1, 2, 3, 4, 1, 4, 1, 1, 2, 3, 4, 1, 2, 3, 4, 2, 2, 1, 2, 1, 2, 3, 4, 1, 2, 3, 4, 2, 1, 2, 3, 4, 1, 2, 3, 4, 1, 2, 3, 4, 1, 2, 3, 4, 3, 1, 2, 3, 4, 1, 2, 3, 4, 1, 2, 3, 4, 2, 2, 1, 2, 3, 4, 1, 2, 3, 4, 1, 2, 3, 4, 2, 3, 1, 2, 3, 4, 2, 1, 2, 3, 4, 3, 1, 2, 3, 4, 2, 1, 2, 3, 4, 1, 2, 3, 4, 3, 1, 2, 3, 4, 4, 4, 4, 3, 1, 2, 3, 4, 2], \"Freq\": [0.3791889685717388, 0.432638830178738, 0.08249581617755213, 0.10570605384808529, 0.06145854778510294, 0.2835930374920437, 0.5527252402111219, 0.10202922312036698, 0.9992608046655629, 0.9982808306273554, 0.00942056772935826, 0.7778697353670107, 0.046766389799314224, 0.1658692818062008, 0.22667846349072543, 0.15445765070414547, 0.5308493319422337, 0.08803558930918871, 0.024775787096134812, 0.9755466169103082, 0.9971268355728585, 0.05190596577466326, 0.059939031906456386, 0.886726915317164, 0.0012358563279681728, 0.2520019399078426, 0.3412282081659101, 0.23500646023963925, 0.17171294975115786, 0.12264932776738023, 0.6689963332766194, 0.11505444185820123, 0.0934009373511802, 0.9978006372200927, 0.11503104149851782, 0.09321480949017824, 0.7477017697403658, 0.043632464016679175, 0.4596951007058393, 0.35331153267552007, 0.07970860003064553, 0.10733247993544597, 0.07515376330668769, 0.25726793881015936, 0.3749243922266217, 0.2924522849275225, 0.006208234766779649, 0.9933175626847439, 0.9970353831196966, 0.12850159500195069, 0.09451502705433149, 0.1608697549520642, 0.6159660838506603, 0.9971846876651917, 0.9971364681516206, 0.2937391616396949, 0.20530867829321017, 0.3226279230321874, 0.1781841160697248, 0.007595668460919455, 0.9899687894065023, 0.0046361948655977555, 0.053647397730488315, 0.0026492542089130034, 0.9391606170596597, 0.9982719023020247, 0.29972884743140205, 0.43171485732326914, 0.17046069617308698, 0.09801277697246755, 0.9946997278934051, 0.9986375055718975, 0.9977687075311454, 0.9948877238137066, 0.028578510959460332, 0.780006386972037, 0.026139099120553125, 0.1652924094932525, 0.9954308145100415, 0.0029975534990535247, 0.9212481087091167, 0.019983689993690164, 0.05595433198233246, 0.9971245676213061, 0.0006423195279943784, 0.8998896587201242, 0.09891720731113428, 0.9770593147390061, 0.020408549655122843, 0.9839989998661823, 0.013342359320219422, 0.003621030756672391, 0.9686257274098646, 0.027157730675042933, 0.21567722773477, 0.23976762408870636, 0.4515812976912413, 0.09317983495390485, 0.9958699570154143, 0.2168166176197157, 0.6792786552019349, 0.046646603790760625, 0.05725720465303665, 0.12241777343663832, 0.29999911144657665, 0.15919348315217163, 0.4181347816971597, 0.004436430507178094, 0.9937604336078929, 0.9983271738942178, 0.998508818767495, 0.004371755175004615, 0.9923884247260475, 0.9971382074078899, 0.16683859280670568, 0.34809371759199553, 0.10078466446846557, 0.3841350475384559, 0.09620718022313396, 0.2193179343341689, 0.04175434667402234, 0.6426725730341789, 0.003916443172923311, 0.003916443172923311, 0.9908601227495976, 0.9978612831093421, 0.31536891160509134, 0.3473075466020401, 0.10214337041477003, 0.2351205802762799, 0.005720322610018857, 0.3394058081944522, 0.03177957005566032, 0.6228795730909422, 0.4461429052010326, 0.26482744595637897, 0.13794390662204628, 0.15111692833550297, 0.11174496967484006, 0.04943868355311106, 0.6630201534040511, 0.1760829825179298, 0.9965198793971322, 0.9959444843454396, 0.15846977072747784, 0.6129942338502539, 0.05213240948479402, 0.17632551954184156, 0.2668987389659363, 0.4975228426911984, 0.07058316559025497, 0.16495620036274075, 0.10839183059789839, 0.266883373594244, 0.5199026758329429, 0.10492581275901211, 0.9971255145134087, 0.9964864100841335, 0.1970330790311728, 0.154442959327928, 0.5867972048002613, 0.06194926502290149, 0.05541361644742614, 0.20183767580188328, 0.02238563313439069, 0.7207439914089069, 0.007193083203749239, 0.0035965416018746196, 0.9890489405155204, 0.15561264208385592, 0.1862575869443595, 0.6037452123816098, 0.054126136376993365, 0.10024400766655032, 0.06265250479159395, 0.8186593959434944, 0.018099612495349367, 0.9974413292440759, 0.10156418441448581, 0.022569818758774625, 0.8745804769025167, 0.003761636459795771, 0.9618152259345051, 0.014007017853415122, 0.020543626185008847, 0.004669005951138374, 0.18972745505845834, 0.5342388908576463, 0.13232889586988678, 0.14373655930694598, 0.99713502593393, 0.12346056849901474, 0.6872709636374963, 0.09222097924276491, 0.0971422843995714, 0.9977450073679476, 0.03045841569184405, 0.8223772236797894, 0.14668131767388054, 0.0017354277339718595, 0.8568674436486056, 0.06811553855839549, 0.0728879648268181, 0.25314977965362856, 0.6742289435616152, 0.03214600376554013, 0.04051735891281621, 0.9989597937657202, 0.17484756613131902, 0.03447698487096432, 0.7892766893674331, 0.1025731230854231, 0.6803363832672223, 0.07426207000452076, 0.14286192939286105, 0.18855088025028363, 0.000902157321771692, 0.7505948917140477, 0.05954238323693167, 0.10774138282344049, 0.7643672045259068, 0.027724981247725728, 0.1003714510993615, 0.14470435645871355, 0.47942453452987926, 0.1103553425518472, 0.26543748619093316, 0.019130796157596733, 0.9804533030768326, 0.9971213242859688, 0.9988390501951752, 0.3425932779301973, 0.23442034045423568, 0.41352186224987836, 0.009311088289070108, 0.9978612725185205, 0.99754608492119, 0.4524932388836971, 0.4165988313947207, 0.03680956235413446, 0.09410842530041835, 0.29154638039672465, 0.4062550391400295, 0.09814090863394084, 0.20399042322154412, 0.43808468982415805, 0.36391011697686304, 0.05254032243350063, 0.14547168381689324, 0.9976790778482968, 0.1788142591706529, 0.7903348068987324, 0.024622279479480425, 0.006458302814289948, 0.9971128435146032, 0.99488770625105, 0.9989850891691991, 0.007894718310881777, 0.9907871480156631, 0.9927813250335762, 0.004939210572306349, 0.9971130258303951, 0.14878325146529148, 0.2396842486840591, 0.19592446884132633, 0.41571790850596146, 0.995342268036642, 0.997137285674506, 0.9984496906828336, 0.9977472700747239, 0.9988075887806002, 0.36687523278595335, 0.2766860155847122, 0.34138204953183365, 0.015069303879101851, 0.8374330814115019, 0.03700110098211325, 0.11100330294633974, 0.015102490196780916, 0.2093437849110969, 0.23512934505672262, 0.5113407689895269, 0.043704339229874094, 0.24609658931045858, 0.29658753088631257, 0.3388503190201755, 0.11843554196805252, 0.9950721712591608, 0.996360024566992, 0.7798497397687155, 0.15230706479224412, 0.04836884174799942, 0.01941015008657582, 0.28215640790646834, 0.568701600883233, 0.08239590035201434, 0.0666812183261147, 0.1326365119168527, 0.6190249045687884, 0.0673813106162063, 0.1807192918225921, 0.41780481849657264, 0.3311429350401256, 0.07645153791466927, 0.1745843033995333, 0.994915612704926, 0.0011755599992574943, 0.003918533330858314, 0.9959540188364473, 0.026154607307081048, 0.005812134957129122, 0.9677204703619988, 0.9975466587473549, 0.1921648520268033, 0.3954578946370797, 0.09961087668621019, 0.31281072310860286, 0.059883640575961364, 0.1571945565118986, 0.7747445999515001, 0.0074854550719951705, 0.006531798126499172, 0.9928333152278741, 0.9994430656338215, 0.029624370496813917, 0.42318673117597777, 0.07510037783841422, 0.4720409562058112, 0.009304439442336877, 0.9893720607018212, 0.012945686239395222, 0.7658947885955714, 0.08537155249763335, 0.1354048803958365, 0.06899217258308396, 0.04249517876494302, 0.20297697151255134, 0.6854222363145515, 0.6062729644940923, 0.24173120032532552, 0.11058507784997651, 0.04139994120514196, 0.9417754231683544, 0.049065000338727585, 0.009540416732530364, 0.29056603452618196, 0.21445217844570982, 0.2668614759415094, 0.22815637637747366, 0.005038363728913281, 0.9925576545959163, 0.061716668025445086, 0.26229583910814164, 0.6756351025943462, 0.0029373023379013134, 0.03231032571691445, 0.03524762805481576, 0.9311248411147164, 0.9247087723231615, 0.024257066364598037, 0.05071932058052317, 0.15210070273274537, 0.6867379368019233, 0.03198684306396791, 0.129252957687054, 0.9958177571814502, 0.11284274400216746, 0.23335879459648232, 0.1122409160341559, 0.5414947142184009, 0.9983982239618144, 0.9974662903387063, 0.18089961418043118, 0.02317452036345868, 0.441353551996616, 0.35453557272455444, 0.9987039803709651, 0.06556802071338046, 0.048610773977161376, 0.8501233030424501, 0.03617545970393404, 0.003946142375417883, 0.007892284750835766, 0.9865355938544709, 0.9979871845364912, 0.9971375706407405, 0.9971362041485499, 0.9981594514467234, 0.861516809678608, 0.038982661071430225, 0.0987560747142899, 0.0006497110178571704, 0.4215681517712171, 0.42867593104464385, 0.08346838092713321, 0.06627523917114145, 0.9450084962776322, 0.042438711724042934, 0.010759110014546096, 0.0017931850024243494, 0.9971350259339438, 0.3847620076421287, 0.3528534819511254, 0.1038495268655046, 0.15846596041022804, 0.922123810373847, 0.02477527930886483, 0.05317620924829525, 0.9944755448170718, 0.00498483982364447, 0.9969670844057176, 0.9986716932315981, 0.9959603589801111, 0.35461646105448, 0.3109307622557057, 0.22267978682999387, 0.11185298048142549, 0.2707559169743032, 0.2370118561051022, 0.3835039298785382, 0.10873086280075875, 0.2892508573422322, 0.4349089735353114, 0.057338745267093295, 0.21843799869333483, 0.9955518070981376, 0.0015954355882982975, 0.0015954355882982975, 0.12852741117745947, 0.7230029540727517, 0.04206879146892014, 0.10618743225948118, 0.16528868247223402, 0.3901695753906889, 0.050763734824558523, 0.3936028714657798, 0.19740993015868616, 0.35664476929365424, 0.12862598236820316, 0.31743791905307894, 0.837290810564818, 0.12403412816048272, 0.012089096311937886, 0.02659601188626335, 0.9928983714835127, 0.006054258362704346, 0.9544187364286733, 0.0034208556861242767, 0.01596399320191329, 0.027366845488994214, 0.9981207520507509, 0.9987019184481003, 0.9971949187446231, 0.00239710317005919, 0.997389576688106, 0.14265973201779616, 0.6612234818370859, 0.0561595059579259, 0.13988822393156086, 0.041521017656236885, 0.004236838536350702, 0.7490730532268043, 0.20506298515937402, 0.039896768463798866, 0.14462578568127088, 0.03490967240582401, 0.7808367542200635, 0.997180980514561, 0.997295487077254, 0.9968822019052113, 0.9962602027972309, 0.9991180230118133, 0.9106628518309569, 0.08289835866734278, 0.006095467549069322, 0.11072273913917084, 0.6324690972854252, 0.07235186331414248, 0.18470048702217046, 0.22492947079976924, 0.37894217904443644, 0.06675425692686777, 0.32930044525586505, 0.25497838546977825, 0.2936687736813932, 0.2135243981001908, 0.23781498017289643, 0.11116637595666243, 0.002058636591790045, 0.8872723710615094, 0.5280664667087918, 0.2725840139333189, 0.09428165020934215, 0.10498871458642833, 0.8570921973071005, 0.11799242688294814, 0.022759960515492537, 0.002395785317420267, 0.9971185703841869, 0.9873567868622583, 0.011650227573595968, 0.9960274470742526, 0.9946997241249974, 0.9961330159212408, 0.4921735923700022, 0.3888945131782109, 0.07535672227674674, 0.04356560506624421, 0.2040621930664724, 0.6474025360252543, 0.027982408937286794, 0.12049567930137783, 0.21145271753650388, 0.5537959173317545, 0.07195041012737619, 0.162837575558547, 0.8849134460303832, 0.02222970975535262, 0.045314408347449577, 0.04702438602093824, 0.01360316778552487, 0.9287253642662888, 0.030209632354866917, 0.027383000087744868, 0.9971240742061744, 0.9924124554023072, 0.004794263069576363, 0.8354346103933583, 0.04263184672553395, 0.08900332912874631, 0.03216086682803438, 0.9981863898632872, 0.035786972763717416, 0.43289680211549403, 0.2549037007380574, 0.2762503160708011, 0.9992618580900846, 0.5776044568462709, 0.257163240138971, 0.1610887513248618, 0.004051333865655207, 0.2492050661805288, 0.2999936271967887, 0.3056789138777133, 0.1451643199196084, 0.9992935078645947, 0.16410958883574578, 0.2877482556404815, 0.45165548986607224, 0.09652314904395899, 0.06732302781531938, 0.5649536360432161, 0.04699353582732359, 0.3207051018686002, 0.9983996295706652, 0.9448138275529693, 0.017989004994799912, 0.036760140641547645, 0.9502343409967141, 0.013129317319471007, 0.03610562262854527, 0.0314897108146749, 0.9667341220105194, 0.20380352806932497, 0.6222364664896068, 0.0814458818164628, 0.09252352880231864, 0.12492580440630988, 0.11506324090054858, 0.1322314070031701, 0.6279165432001366, 0.18721807622777895, 0.11939721130361608, 0.0670086389969274, 0.6266323028621755, 0.078410106382749, 0.06675455002855658, 0.02701969882108243, 0.8280742991637615, 0.04807809461117681, 0.06094406359163258, 0.02979487553368704, 0.8606656091662779, 0.9983135880698577, 0.9981394066643179, 0.9971107235163047, 0.9971169648151136, 0.009452168491363806, 0.9798748002713813, 0.011027529906591107, 0.9661595698691754, 0.027111620583063597, 0.0024646927802785086, 0.004929385560557017, 0.41134648737754664, 0.2748963071799661, 0.2640093247173932, 0.04989866962012587, 0.9970041485118288, 0.00385628365510365, 0.9949211830167417, 0.18162711245067562, 0.520966896482424, 0.14066596757658673, 0.15673156631462756, 0.9971098208244091, 0.08606113379242894, 0.7706204719952199, 0.022399473178851367, 0.1210357498085302, 0.13849916942027524, 0.6159358455792279, 0.13172041928550168, 0.11390958559805746, 0.03513677611624154, 0.013514144660092901, 0.9351788104784288, 0.01891980252413006, 0.23089559336668902, 0.3396657297767572, 0.24576543479996416, 0.18367007844434297, 0.04714969196245723, 0.7176375564408286, 0.08871839997833789, 0.14664516438935676, 0.9680117968734762, 0.03151666315402015, 0.24202821674740632, 0.5994339997611947, 0.0969485242459234, 0.06156084249387249, 0.021217413426139354, 0.9760010176024102, 0.9962188351951615, 0.999063901492708, 0.00268767432586026, 0.02418906893274234, 0.9729381059614142, 0.9971350413970083, 0.30669834968689635, 0.0926802170027997, 0.5585202550958193, 0.04207194061311302, 0.9852379283900351, 0.014815607945714813, 0.9946997278934051, 0.08247909666217466, 0.6363195300835129, 0.06664116081862562, 0.21454311554222982, 0.13242154134109504, 0.02432232391979297, 0.8242565328374284, 0.018917363048727865, 0.28398141676877287, 0.4731277109634721, 0.12679613073439672, 0.11596781102980637, 0.242225919030444, 0.5567349139264788, 0.13585978685101247, 0.06519649980033683, 0.5182582354399184, 0.3136956506326362, 0.07181979369747198, 0.09625503385201416, 0.3395844774300079, 0.22752843256376787, 0.189948661419602, 0.24297030216118876, 0.38273642089113413, 0.24446549259523215, 0.31640374583026226, 0.056367202751257346, 0.2803596587815745, 0.3458373424985341, 0.14823123838204205, 0.22554609293382658, 0.9964286128559497, 0.0045368185073918574, 0.9890264346114249, 0.0045368185073918574, 0.35537859408299094, 0.5054822936180444, 0.062115155764505645, 0.07714455026801544, 0.9983317933262056, 0.0032697178397924943, 0.09155209951418984, 0.11117040655294481, 0.7945414350695762, 0.10945574888661469, 0.8902400909444661, 0.016954305135281227, 0.04601882822433476, 0.9082663465329228, 0.031486566679807995, 0.9947941916235101, 0.9959092256357472, 0.0767049192447512, 0.7782743025808903, 0.0797450532392078, 0.06524595265026092, 0.013800237342149885, 0.3781265031749068, 0.020010344146117333, 0.5878901107755851, 0.9978041596716648, 0.9946997278934051, 0.9628348418772144, 0.02889226832339728, 0.008667680497019185, 0.9957236729511169, 0.0031213908242981717, 0.9980948100340413, 0.28366718065966234, 0.5664095032547612, 0.053906012905981474, 0.09605311613394248, 0.0038950497515248864, 0.993237686638846, 0.058074016883606056, 0.4558111840623925, 0.08062509560473143, 0.40552028284359964, 0.7710223840392687, 0.11923460911645521, 0.10743754531694727, 0.002106618535626417, 0.9981392117380217, 0.14328942715353213, 0.7851507691483361, 0.02023463174910306, 0.051292438619819386, 0.0149853951548694, 0.9526429777024119, 0.008563082945639658, 0.021407707364099145, 0.2342316762229526, 0.17169181867142427, 0.45979678042565597, 0.13421475047575185, 0.9969077195086704, 0.35780343519185465, 0.34926582610918566, 0.24953102909800706, 0.04346419169358755, 0.8110036462099603, 0.14537775192852406, 0.01750367581748116, 0.026255513726221737, 0.9969648123891827, 0.01843642078444546, 0.9797640759733872, 0.0524959008776087, 0.9415393834822722, 0.003386832314684432, 0.003386832314684432, 0.6411218004023206, 0.19894137382253516, 0.07739650645335056, 0.08252309176826703, 0.6925401000884702, 0.12422640909128503, 0.03216313204501204, 0.15078312362386379, 0.16851865451891918, 0.35823804299344436, 0.11216456682495804, 0.3613184915169084, 0.9157937927145826, 0.0686845344535937, 0.014881649131611968, 0.9975022006476196, 0.025462725032253476, 0.8073546961446224, 0.04580185295435839, 0.12141372545867206, 0.018123439519787576, 0.7284312558796548, 0.0528418357082963, 0.20066796287572025, 0.9947941913159546, 0.020934082544688228, 0.002093408254468823, 0.9650612053101273, 0.012560449526812937, 0.13067800622196793, 0.005851254009938863, 0.8640351754676387, 0.18993005213853698, 0.004023941782596122, 0.781449494180167, 0.024143650695576734, 0.006624882274678572, 0.15237229231760716, 0.07476652852851531, 0.7665935203556633, 0.9985106687047809, 0.5596203910703353, 0.34523233785019586, 0.07727798594582676, 0.01781448006700299, 0.4859048574625966, 0.36328313228852727, 0.08924570571055407, 0.06159724028913971, 0.0019751452127119698, 0.7591964411361635, 0.027405139826378582, 0.21158743091176976, 0.9984743714135569, 0.9946997241249974, 0.9980645913113357, 0.32972705432992716, 0.3924726201037436, 0.06980667645206645, 0.20798993099098415, 0.23640034582850786, 0.37445953532189913, 0.11713061889179675, 0.27195579035884104, 0.9971163713798943, 0.9971295249079094, 0.9957236606201728, 0.003121390785643175, 0.20544491462674264, 0.04439499304577887, 0.14971502973948833, 0.5998046932780763, 0.5007167569207999, 0.38490471790510467, 0.08953535789448705, 0.02481686550336326, 0.9971354230590787, 0.4272616579295111, 0.4292470745555776, 0.06313624870891475, 0.08047555390989553, 0.015593661165323265, 0.005197887055107755, 0.9278228393367344, 0.051978870551077555, 0.16961074753990674, 0.5376379291551554, 0.07787256644215326, 0.2148402802172152, 0.04596148701844927, 0.009676102530199846, 0.0024190256325499616, 0.9410009710619351, 0.9981989290580908, 0.0009862091487723068, 0.24162124144921518, 0.02465522871930767, 0.732753397537824, 0.020871257030812912, 0.7214314765782306, 0.05519898241043942, 0.20267089064131488, 0.17299038949202497, 0.5650568894266846, 0.0974422428310547, 0.16461116750100502, 0.9984146831775882, 0.9984485551677221, 0.08467813379437326, 0.027509647527106034, 0.5979049954719452, 0.29014081376244644, 0.08188385046773566, 0.011065385198342657, 0.9029354321847608, 0.0022130770396685314, 0.008780032947191778, 0.14816305598386126, 0.07572778416952909, 0.7682528828792806, 0.9971113501544613, 0.9958821644380119, 0.08765274478601132, 0.5238540511916912, 0.07338769024240556, 0.315206144975578, 0.9971169274759168, 0.03975812780204437, 0.020653572884178895, 0.654718260428471, 0.28501930580166873, 0.9984917949400428, 0.14728875665053912, 0.1841109458131739, 0.5175283024775792, 0.15081965150175067, 0.9971099996167413, 0.08003436468525549, 0.8156990772863539, 0.10050827193032086, 0.0037225285900118837, 0.023812521478160983, 0.9001133118744852, 0.026670024055540302, 0.05048254553370128, 0.998119014939884, 0.29547176651847207, 0.36216592395933367, 0.1683513313375053, 0.17393366169599153, 0.9947941712478277, 0.997493239802247, 0.9993170312748725, 0.9962109246258467, 0.21755814380211147, 0.5129041709294793, 0.14390241895362835, 0.12561761769390672, 0.9971323950979555], \"Term\": [\"able\", \"able\", \"able\", \"able\", \"accommodation\", \"accommodation\", \"accommodation\", \"accommodation\", \"account health\", \"account life\", \"actionable\", \"actionable\", \"actionable\", \"actionable\", \"active\", \"active\", \"active\", \"active\", \"acute\", \"acute\", \"aetna\", \"agency\", \"agency\", \"agency\", \"agency\", \"also\", \"also\", \"also\", \"also\", \"analyze\", \"analyze\", \"analyze\", \"analyze\", \"announcement\", \"applicant\", \"applicant\", \"applicant\", \"applicant\", \"applications\", \"applications\", \"applications\", \"applications\", \"applying\", \"applying\", \"applying\", \"applying\", \"appointment\", \"appointment\", \"arrest conviction\", \"artificial\", \"artificial\", \"artificial\", \"artificial\", \"asia pacific\", \"atmosphere unitedhealth\", \"background\", \"background\", \"background\", \"background\", \"background investigation\", \"background investigation\", \"banking\", \"banking\", \"banking\", \"banking\", \"banking financial\", \"based\", \"based\", \"based\", \"based\", \"beliefs well\", \"biolife\", \"bring closer\", \"bring global\", \"business\", \"business\", \"business\", \"business\", \"business banking\", \"business decisions\", \"business decisions\", \"business decisions\", \"business decisions\", \"business objects\", \"business partners\", \"business partners\", \"business partners\", \"business performance\", \"business performance\", \"business tools\", \"business tools\", \"business users\", \"business users\", \"business users\", \"candidates\", \"candidates\", \"candidates\", \"candidates\", \"capgemini\", \"care\", \"care\", \"care\", \"care\", \"challenges\", \"challenges\", \"challenges\", \"challenges\", \"chance ordinance\", \"chance ordinance\", \"chase\", \"childbirth\", \"citi\", \"citi\", \"civil union\", \"client\", \"client\", \"client\", \"client\", \"clients\", \"clients\", \"clients\", \"clients\", \"closer\", \"closer\", \"closer\", \"closer together\", \"cloud\", \"cloud\", \"cloud\", \"cloud\", \"clustering\", \"clustering\", \"clustering\", \"clustering\", \"code\", \"code\", \"code\", \"code\", \"college\", \"college\", \"college\", \"college\", \"comcast\", \"commercial banking\", \"communicate\", \"communicate\", \"communicate\", \"communicate\", \"communication\", \"communication\", \"communication\", \"communication\", \"community\", \"community\", \"community\", \"community\", \"conduent\", \"consider arrest\", \"considered\", \"considered\", \"considered\", \"considered\", \"consulting\", \"consulting\", \"consulting\", \"consulting\", \"consulting firm\", \"consulting firm\", \"consulting firm\", \"contact\", \"contact\", \"contact\", \"contact\", \"contractor\", \"contractor\", \"contractor\", \"contractor\", \"conviction records\", \"copy\", \"copy\", \"copy\", \"copy\", \"covid\", \"covid\", \"covid\", \"covid\", \"create\", \"create\", \"create\", \"create\", \"creates healthier\", \"cross\", \"cross\", \"cross\", \"cross\", \"ctap\", \"cyber\", \"cyber\", \"cyber\", \"dashboards\", \"dashboards\", \"dashboards\", \"dashboards\", \"database\", \"database\", \"database\", \"database\", \"davita\", \"decision trees\", \"decision trees\", \"decision trees\", \"decisions\", \"decisions\", \"decisions\", \"decisions\", \"defense\", \"defense\", \"defense\", \"defense\", \"define\", \"define\", \"define\", \"define\", \"deliver\", \"deliver\", \"deliver\", \"deliver\", \"dell\", \"dell\", \"dell technologies\", \"deloitte\", \"department\", \"department\", \"department\", \"department\", \"department education\", \"described representative\", \"design\", \"design\", \"design\", \"design\", \"developing\", \"developing\", \"developing\", \"developing\", \"development\", \"development\", \"development\", \"development\", \"development assistance\", \"develops\", \"develops\", \"develops\", \"develops\", \"dialysis\", \"directly linked\", \"disabilities functions\", \"discharge\", \"discharge\", \"disclose\", \"disclose\", \"discrimination harassment\", \"diverse\", \"diverse\", \"diverse\", \"diverse\", \"diverse talents\", \"domestic partnership\", \"donor\", \"donors\", \"eacute\", \"education\", \"education\", \"education\", \"education\", \"electrical\", \"electrical\", \"electrical\", \"electrical\", \"email\", \"email\", \"email\", \"email\", \"employees\", \"employees\", \"employees\", \"employees\", \"employees religious\", \"enable individuals\", \"engineer\", \"engineer\", \"engineer\", \"engineer\", \"ensure\", \"ensure\", \"ensure\", \"ensure\", \"enterprise\", \"enterprise\", \"enterprise\", \"enterprise\", \"environment\", \"environment\", \"environment\", \"environment\", \"equipment\", \"equipment\", \"equipment\", \"equity firm\", \"evaluated\", \"evaluated\", \"evaluated\", \"eventbrite\", \"expertise\", \"expertise\", \"expertise\", \"expertise\", \"facebook\", \"facebook\", \"facebook\", \"facebook\", \"faculty\", \"faculty\", \"fargo\", \"financial\", \"financial\", \"financial\", \"financial\", \"financial institutions\", \"financial institutions\", \"findings\", \"findings\", \"findings\", \"findings\", \"firm\", \"firm\", \"firm\", \"firm\", \"flexible\", \"flexible\", \"flexible\", \"flexible\", \"flexible spending\", \"flexible spending\", \"flexible spending\", \"following\", \"following\", \"following\", \"following\", \"francisco fair\", \"francisco fair\", \"fraud\", \"fraud\", \"fraud\", \"fraud detection\", \"fraud detection\", \"fraud detection\", \"fraud detection\", \"friday\", \"friday\", \"friday\", \"functional\", \"functional\", \"functional\", \"functional\", \"furnish\", \"global\", \"global\", \"global\", \"global\", \"global workforce\", \"google google\", \"government\", \"government\", \"government\", \"government\", \"government clients\", \"grade\", \"grade\", \"grade\", \"grade\", \"gradient\", \"gradient\", \"gradient\", \"grainger\", \"group drug\", \"group unitedhealth\", \"grumman\", \"hardware\", \"hardware\", \"hardware\", \"hardware\", \"health\", \"health\", \"health\", \"health\", \"health insurance\", \"health insurance\", \"health insurance\", \"health insurance\", \"healthier atmosphere\", \"high\", \"high\", \"high\", \"high\", \"hour\", \"hour\", \"hour\", \"hour shift\", \"hour shift\", \"ibmers\", \"ictap\", \"imaging\", \"include\", \"include\", \"include\", \"include\", \"individuals\", \"individuals\", \"individuals\", \"individuals\", \"industry\", \"industry\", \"industry\", \"industry\", \"informatica\", \"informatica\", \"informatica\", \"initiatives\", \"initiatives\", \"initiatives\", \"initiatives\", \"innovation\", \"innovation\", \"innovation\", \"innovation\", \"innovative\", \"innovative\", \"innovative\", \"innovative\", \"insurance\", \"insurance\", \"insurance\", \"insurance\", \"insurance flexible\", \"insurance flexible\", \"insurance health\", \"insurance health\", \"insurance health\", \"insurance health\", \"insurance hour\", \"insurance insurance\", \"insurance life\", \"insurance life\", \"insurance monday\", \"internal\", \"internal\", \"internal\", \"internal\", \"investigation\", \"investigation\", \"investigation\", \"investigation\", \"investment\", \"investment\", \"investment\", \"investment\", \"investment banking\", \"iqvia\", \"jpmorgan\", \"jpmorgan chase\", \"kpmg\", \"laboratory\", \"laboratory\", \"laboratory\", \"leadership\", \"leadership\", \"leadership\", \"leadership\", \"leading\", \"leading\", \"leading\", \"leading\", \"learn\", \"learn\", \"learn\", \"learn\", \"letter\", \"letter\", \"letter\", \"life\", \"life\", \"life\", \"life\", \"life insurance\", \"life insurance\", \"life insurance\", \"life insurance\", \"lifes\", \"lift\", \"lift\", \"lighthouse\", \"linked success\", \"made enable\", \"maintain\", \"maintain\", \"maintain\", \"maintain\", \"manage\", \"manage\", \"manage\", \"manage\", \"management\", \"management\", \"management\", \"management\", \"manufacturing\", \"manufacturing\", \"manufacturing\", \"manufacturing\", \"marketing\", \"marketing\", \"marketing\", \"marketing\", \"marketing business\", \"master management\", \"master management\", \"matching\", \"matching\", \"matching\", \"matching\", \"matching insurance\", \"mathematics\", \"mathematics\", \"mathematics\", \"mathematics\", \"mechanical\", \"medical\", \"medical\", \"medical\", \"medical\", \"meet\", \"meet\", \"meet\", \"meet\", \"middot\", \"mission\", \"mission\", \"mission\", \"mission\", \"model\", \"model\", \"model\", \"model\", \"molecular\", \"monday\", \"monday\", \"monday\", \"monday friday\", \"monday friday\", \"monday friday\", \"morgan\", \"morgan\", \"multiple\", \"multiple\", \"multiple\", \"multiple\", \"natural\", \"natural\", \"natural\", \"natural\", \"networks\", \"networks\", \"networks\", \"networks\", \"neural\", \"neural\", \"neural\", \"neural\", \"neural networks\", \"neural networks\", \"neural networks\", \"neural networks\", \"northrop\", \"northrop grumman\", \"nurse\", \"nurses\", \"nursing\", \"nursing\", \"nursing\", \"occasionally\", \"occasionally\", \"occasionally\", \"occasionally\", \"office\", \"office\", \"office\", \"office\", \"offices europe\", \"official\", \"official\", \"operations\", \"operations\", \"operations\", \"operations\", \"optum\", \"oracle\", \"oracle\", \"oracle\", \"oracle\", \"organization\", \"organization\", \"organization\", \"organization\", \"pacific\", \"pacific\", \"pacific\", \"pacific\", \"part\", \"part\", \"part\", \"part\", \"partners\", \"partners\", \"partners\", \"partners\", \"paypal\", \"paypal\", \"performance\", \"performance\", \"performance\", \"performance\", \"performance indicators\", \"performance indicators\", \"plant\", \"plasma\", \"political\", \"political\", \"political\", \"population health\", \"positions\", \"positions\", \"positions\", \"positions\", \"pounds\", \"pounds\", \"practices beliefs\", \"predictive\", \"predictive\", \"predictive\", \"predictive\", \"preference\", \"preference\", \"preference\", \"preference\", \"process\", \"process\", \"process\", \"process\", \"product\", \"product\", \"product\", \"product\", \"production\", \"production\", \"production\", \"production\", \"professional\", \"professional\", \"professional\", \"professional\", \"program\", \"program\", \"program\", \"program\", \"programming\", \"programming\", \"programming\", \"programming\", \"prominent\", \"providing reasonable\", \"providing reasonable\", \"providing reasonable\", \"quality\", \"quality\", \"quality\", \"quality\", \"questionnaire\", \"random\", \"random\", \"random\", \"random\", \"random forest\", \"random forest\", \"rating\", \"rating\", \"rating\", \"rating\", \"recognize strength\", \"recognized department\", \"recommendations\", \"recommendations\", \"recommendations\", \"recommendations\", \"regression\", \"regression\", \"regression\", \"regression\", \"reimbursement insurance\", \"religious practices\", \"remotely\", \"remotely\", \"remotely\", \"remotely temporarily\", \"remotely temporarily\", \"repair\", \"responsible\", \"responsible\", \"responsible\", \"responsible\", \"retailer\", \"retailer\", \"risk\", \"risk\", \"risk\", \"risk\", \"safety\", \"safety\", \"safety\", \"safety\", \"saic\", \"sales\", \"sales\", \"sales\", \"sales\", \"sales marketing\", \"sales marketing\", \"sales marketing\", \"sales marketing\", \"security\", \"security\", \"security\", \"security\", \"semester\", \"service\", \"service\", \"service\", \"service\", \"shift\", \"shift\", \"shift\", \"shift\", \"shift monday\", \"small businesses\", \"small businesses\", \"snowflake\", \"snowflake\", \"snowflake\", \"snowflake\", \"software\", \"software\", \"software\", \"software\", \"software development\", \"software development\", \"software development\", \"software development\", \"solve\", \"solve\", \"solve\", \"solve\", \"spending\", \"spending\", \"spending\", \"spending account\", \"stakeholders\", \"stakeholders\", \"stakeholders\", \"stakeholders\", \"strategic\", \"strategic\", \"strategic\", \"strategic\", \"strength diverse\", \"student\", \"student\", \"student\", \"student\", \"students\", \"students\", \"students\", \"submit\", \"submit\", \"submit\", \"submit\", \"supervised\", \"supervised\", \"supervised\", \"supervised\", \"supplemental bonus\", \"system\", \"system\", \"system\", \"system\", \"systems\", \"systems\", \"systems\", \"systems\", \"tableau\", \"tableau\", \"tableau\", \"tableau\", \"takeda\", \"talents bring\", \"technician\", \"technologies\", \"technologies\", \"technologies\", \"technologies\", \"technology\", \"technology\", \"technology\", \"technology\", \"teksystems\", \"telecommuter\", \"temporarily covid\", \"temporarily covid\", \"tensorflow\", \"tensorflow\", \"tensorflow\", \"tensorflow\", \"test\", \"test\", \"test\", \"test\", \"test beginning\", \"testing\", \"testing\", \"testing\", \"testing\", \"threats\", \"threats\", \"threats\", \"threats\", \"tools\", \"tools\", \"tools\", \"tools\", \"trading\", \"trading\", \"trading\", \"trading\", \"transcripts\", \"trees\", \"trees\", \"trees\", \"trees\", \"trends\", \"trends\", \"trends\", \"trends\", \"understand\", \"understand\", \"understand\", \"understand\", \"unitedhealth\", \"unitedhealth group\", \"university\", \"university\", \"university\", \"university\", \"unsolicited\", \"unsolicited\", \"unsolicited\", \"unsolicited\", \"unsupervised\", \"unsupervised\", \"unsupervised\", \"unsupervised\", \"usaa\", \"vacancy\", \"value\", \"value\", \"value\", \"value\", \"verizon\", \"veterans\", \"veterans\", \"veterans\", \"veterans\", \"veterans preference\", \"visit\", \"visit\", \"visit\", \"visit\", \"walmart\", \"warehouse\", \"warehouse\", \"warehouse\", \"warehouse\", \"warehousing\", \"warehousing\", \"warehousing\", \"warehousing\", \"website search\", \"well\", \"well\", \"well\", \"well\", \"well mental\", \"wells\", \"wells fargo\", \"whether youre\", \"within\", \"within\", \"within\", \"within\", \"workplace candidates\"]}, \"R\": 30, \"lambda.step\": 0.01, \"plot.opts\": {\"xlab\": \"PC1\", \"ylab\": \"PC2\"}, \"topic.order\": [1, 2, 3, 4]};\n",
       "\n",
       "function LDAvis_load_lib(url, callback){\n",
       "  var s = document.createElement('script');\n",
       "  s.src = url;\n",
       "  s.async = true;\n",
       "  s.onreadystatechange = s.onload = callback;\n",
       "  s.onerror = function(){console.warn(\"failed to load library \" + url);};\n",
       "  document.getElementsByTagName(\"head\")[0].appendChild(s);\n",
       "}\n",
       "\n",
       "if(typeof(LDAvis) !== \"undefined\"){\n",
       "   // already loaded: just create the visualization\n",
       "   !function(LDAvis){\n",
       "       new LDAvis(\"#\" + \"ldavis_el4720819247594299607239793407\", ldavis_el4720819247594299607239793407_data);\n",
       "   }(LDAvis);\n",
       "}else if(typeof define === \"function\" && define.amd){\n",
       "   // require.js is available: use it to load d3/LDAvis\n",
       "   require.config({paths: {d3: \"https://cdnjs.cloudflare.com/ajax/libs/d3/3.5.5/d3.min\"}});\n",
       "   require([\"d3\"], function(d3){\n",
       "      window.d3 = d3;\n",
       "      LDAvis_load_lib(\"https://cdn.rawgit.com/bmabey/pyLDAvis/files/ldavis.v1.0.0.js\", function(){\n",
       "        new LDAvis(\"#\" + \"ldavis_el4720819247594299607239793407\", ldavis_el4720819247594299607239793407_data);\n",
       "      });\n",
       "    });\n",
       "}else{\n",
       "    // require.js not available: dynamically load d3 & LDAvis\n",
       "    LDAvis_load_lib(\"https://cdnjs.cloudflare.com/ajax/libs/d3/3.5.5/d3.min.js\", function(){\n",
       "         LDAvis_load_lib(\"https://cdn.rawgit.com/bmabey/pyLDAvis/files/ldavis.v1.0.0.js\", function(){\n",
       "                 new LDAvis(\"#\" + \"ldavis_el4720819247594299607239793407\", ldavis_el4720819247594299607239793407_data);\n",
       "            })\n",
       "         });\n",
       "}\n",
       "</script>"
      ],
      "text/plain": [
       "PreparedData(topic_coordinates=                x           y  topics  cluster       Freq\n",
       "topic                                                    \n",
       "0      269.562408 -124.803398       1        1  26.833656\n",
       "1        1.782994 -295.079681       2        1  40.790553\n",
       "2      220.811432 -343.832123       3        1  15.233053\n",
       "3       50.533993  -76.050934       4        1  17.142737, topic_info=     Category          Freq          Term         Total  loglift  logprob\n",
       "989   Default  56161.000000      business  56161.000000  30.0000  30.0000\n",
       "1443  Default   9292.000000       clients   9292.000000  29.0000  29.0000\n",
       "4783  Default   8271.000000     insurance   8271.000000  28.0000  28.0000\n",
       "8347  Default  20091.000000      software  20091.000000  27.0000  27.0000\n",
       "8054  Default   8538.000000      security   8538.000000  26.0000  26.0000\n",
       "...       ...           ...           ...           ...      ...      ...\n",
       "7103   Topic4   1778.336092  professional   7317.766757   0.3490  -6.0808\n",
       "2567   Topic4   1772.777648    developing   8691.584497   0.1738  -6.0839\n",
       "2481   Topic4   1851.309035        design  19668.802173  -0.5995  -6.0406\n",
       "9818   Topic4   1776.380460          well  10210.789462   0.0147  -6.0819\n",
       "6896   Topic4   1760.827277    predictive   8208.140334   0.2243  -6.0907\n",
       "\n",
       "[407 rows x 6 columns], token_table=      Topic      Freq                  Term\n",
       "term                                       \n",
       "2         1  0.379189                  able\n",
       "2         2  0.432639                  able\n",
       "2         3  0.082496                  able\n",
       "2         4  0.105706                  able\n",
       "50        1  0.061459         accommodation\n",
       "...     ...       ...                   ...\n",
       "9885      1  0.217558                within\n",
       "9885      2  0.512904                within\n",
       "9885      3  0.143902                within\n",
       "9885      4  0.125618                within\n",
       "9930      2  0.997132  workplace candidates\n",
       "\n",
       "[918 rows x 3 columns], R=30, lambda_step=0.01, plot_opts={'xlab': 'PC1', 'ylab': 'PC2'}, topic_order=[1, 2, 3, 4])"
      ]
     },
     "execution_count": 28,
     "metadata": {},
     "output_type": "execute_result"
    }
   ],
   "source": [
    "# This is a interactive visualization\n",
    "warnings.filterwarnings(\"ignore\", category=DeprecationWarning) \n",
    "pyLDAvis.enable_notebook()\n",
    "panel = pyLDAvis.sklearn.prepare(model, tf_docs, tf_vectorizer, mds='tsne', sort_topics=False)\n",
    "panel"
   ]
  },
  {
   "cell_type": "code",
   "execution_count": 29,
   "metadata": {
    "executionInfo": {
     "elapsed": 19221,
     "status": "ok",
     "timestamp": 1628218832622,
     "user": {
      "displayName": "Laiya Lubben",
      "photoUrl": "https://lh3.googleusercontent.com/a/default-user=s64",
      "userId": "11817724685368002439"
     },
     "user_tz": 420
    },
    "id": "is6xtcplOTEs"
   },
   "outputs": [],
   "source": [
    "# For a given document (row) in W which topics (column) the document belongs the most (if the value is high, the document is highly related to the topic).\n",
    "W = model.transform(tf_docs)\n",
    "job_df['LDA_cluster'] = [np.argmax(i) for i in W]"
   ]
  },
  {
   "cell_type": "markdown",
   "metadata": {
    "id": "33YXp7GOzXE-"
   },
   "source": [
    "### Second Level of Topics"
   ]
  },
  {
   "cell_type": "code",
   "execution_count": 30,
   "metadata": {
    "colab": {
     "base_uri": "https://localhost:8080/",
     "height": 1000,
     "referenced_widgets": [
      "df2c53b7b9174ea5922458509dfbd94c",
      "795f2d579d7b4751b118f3b7d234405a",
      "9e471b17680e451fab3e3b5acbc42984",
      "b7cf691abb1a497aba60c3da1251dea5",
      "9ca370f0d86e4bdc9463d0ced5b26006",
      "92f01228e0da47f39bfb5f1449e71872",
      "0abb3b35b613433da87d0e4009ed113a",
      "08e6be4189f74db3bfa8c5067871fb99",
      "478c4fdb6a3a456a8753e30c1a3c2f99",
      "65ffbbfa40fc4cdcae781cedc8fdf8f0",
      "c4e46aed6fa44ac0800d6d8d8c2fca5d",
      "195f982053aa4ff4adc6fb4b9c90d43d",
      "59a03ea303fd4b0f8396f11c0cdf0255",
      "2cf7c40fc83b463ab98d94ec56ab10ac",
      "7b4cb2c3e3c84e04a80630d2182da274",
      "5c57c165da3641e29c70b4fc85c16de7",
      "ed252c3d23d74e23ba9c5ac61e8f645f",
      "d6446dc370064921b6d0740b0b4890b9",
      "72111d506669478b9a6914c584d95a49",
      "866dcf05f7054f2bae1c314cf1ae6982",
      "288dd7c22fd44f3baf74f4d31e68e330",
      "278b2129bafd4db9a389835c9b6d31f2",
      "dcdd0622f5374e568fea0549a7b6c86b",
      "5e5f4a076f6a44b8b79cef08c4c9acbd",
      "676a1ed11ba74c51850532bc36d54d10",
      "dced374aa09f4da9ab8d546aaafce8ba",
      "13f63adbdbee47cdbe34e043a3ab30ac",
      "d8bddc8b9af948778a6b4a5e6a3fc3a5",
      "d431ce9223d54b18b37420e1671b0493",
      "1639f54b9c5149afbc4a4c7329f8d300",
      "7fbed378ab214052a2d62e75178f554b",
      "adefc2893936400b9623b214907b2043"
     ]
    },
    "executionInfo": {
     "elapsed": 1815228,
     "status": "ok",
     "timestamp": 1628220647820,
     "user": {
      "displayName": "Laiya Lubben",
      "photoUrl": "https://lh3.googleusercontent.com/a/default-user=s64",
      "userId": "11817724685368002439"
     },
     "user_tz": 420
    },
    "id": "jvubCX86A9x-",
    "outputId": "928e2d10-418f-40a3-ffc6-ba4a4e99a978"
   },
   "outputs": [
    {
     "data": {
      "application/vnd.jupyter.widget-view+json": {
       "model_id": "41525bc2aa5540b9a1b4fa67da650929",
       "version_major": 2,
       "version_minor": 0
      },
      "text/plain": [
       "  0%|          | 0/8 [00:00<?, ?it/s]"
      ]
     },
     "metadata": {},
     "output_type": "display_data"
    },
    {
     "data": {
      "application/vnd.jupyter.widget-view+json": {
       "model_id": "f60279aa91744c8683774d4ec9782e2d",
       "version_major": 2,
       "version_minor": 0
      },
      "text/plain": [
       "  0%|          | 0/8 [00:00<?, ?it/s]"
      ]
     },
     "metadata": {},
     "output_type": "display_data"
    },
    {
     "data": {
      "application/vnd.jupyter.widget-view+json": {
       "model_id": "a0e077685a944b25b6b3f8acceb3057d",
       "version_major": 2,
       "version_minor": 0
      },
      "text/plain": [
       "  0%|          | 0/8 [00:00<?, ?it/s]"
      ]
     },
     "metadata": {},
     "output_type": "display_data"
    },
    {
     "data": {
      "application/vnd.jupyter.widget-view+json": {
       "model_id": "e73b8b4b37fc4390bfa9255b169ec916",
       "version_major": 2,
       "version_minor": 0
      },
      "text/plain": [
       "  0%|          | 0/8 [00:00<?, ?it/s]"
      ]
     },
     "metadata": {},
     "output_type": "display_data"
    },
    {
     "data": {
      "image/png": "[encoded data removed]",
      "text/plain": [
       "<Figure size 1440x2160 with 4 Axes>"
      ]
     },
     "metadata": {
      "needs_background": "light"
     },
     "output_type": "display_data"
    }
   ],
   "source": [
    "# number from the first level\n",
    "n_topics = 4\n",
    "\n",
    "# extract the top terms with the best number of topics in each second level\n",
    "all_top_terms = []\n",
    "\n",
    "# record the models use to create interactive visualization \n",
    "best_models = []\n",
    "\n",
    "# creating the plot\n",
    "fig, axs = plt.subplots(n_topics,1, figsize=(20,30))\n",
    "\n",
    "# for each topic in the first level, transform and train a LDA model to get the top terms for the second level\n",
    "for n in range(n_topics):\n",
    "  df = job_df[job_df['LDA_cluster']==n]\n",
    "  tf_docs= tf_vectorizer.fit_transform(df.cleaned_jd)\n",
    "  tf_terms = tf_vectorizer.get_feature_names()  \n",
    "\n",
    "# plot the average coherence score for different number of topics\n",
    "  topics = range(2,10,1)\n",
    "  topic_terms = []\n",
    "  models = []\n",
    "  coh_scores = []\n",
    "  for t in tqdm(topics): \n",
    "    model = tm.train_model(tf_docs, t, 'LDA',RANDOM_SEED)\n",
    "    top_terms = tm.get_top_terms(model, tf_terms, 10, display=False)\n",
    "    mean_coherence, _ = tm.eval_topic_model(top_terms, embeddings_dict, display=False)\n",
    "    coh_scores.append(mean_coherence)\n",
    "    topic_terms.append(top_terms)\n",
    "    models.append(model)\n",
    "  \n",
    "  best_n = np.argmax(coh_scores)\n",
    "  all_top_terms.append(topic_terms[best_n])\n",
    "  best_models.append(models[best_n])\n",
    "\n",
    "  # let's create a simple line plot \n",
    "  axs[n].plot(topics, coh_scores, marker='o')\n",
    "  axs[n].set_xticks(topics)\n",
    "  axs[n].set_xticklabels(topics)\n",
    "  axs[n].set_title('Average Coherence between the Top Terms for Topic {}'.format(n))\n",
    "  axs[n].set_ylabel('average coherence')\n",
    "  axs[n].set_xlabel('number of clusters')\n"
   ]
  },
  {
   "cell_type": "code",
   "execution_count": 31,
   "metadata": {
    "colab": {
     "base_uri": "https://localhost:8080/"
    },
    "executionInfo": {
     "elapsed": 151,
     "status": "ok",
     "timestamp": 1628221135959,
     "user": {
      "displayName": "Laiya Lubben",
      "photoUrl": "https://lh3.googleusercontent.com/a/default-user=s64",
      "userId": "11817724685368002439"
     },
     "user_tz": 420
    },
    "id": "W3nnswQ37bGB",
    "outputId": "4ec6525b-ecde-47c7-de58-b0ac13080131"
   },
   "outputs": [
    {
     "name": "stdout",
     "output_type": "stream",
     "text": [
      "Second Level Topics for First Level Topic 0:\n",
      "topic 0: ['hadoop', 'environment', 'google', 'predictive', 'senior', 'whats', 'code', 'optimization', 'production', 'platform']\n",
      "topic 1: ['software', 'development', 'design', 'systems', 'technologies', 'cloud', 'technology', 'applications', 'engineer', 'business']\n",
      "topic 2: ['insurance', 'health', 'business', 'development', 'management', 'life', 'design', 'program', 'education', 'medical']\n",
      "topic 3: ['equipment', 'environment', 'service', 'safety', 'functions', 'management', 'able', 'procedures', 'maintain', 'physical']\n",
      "\n",
      "Second Level Topics for First Level Topic 1:\n",
      "topic 0: ['management', 'health', 'development', 'tools', 'systems', 'care', 'process', 'quality', 'healthcare', 'performance']\n",
      "topic 1: ['development', 'product', 'tools', 'design', 'management', 'technology', 'systems', 'environment', 'software', 'technologies']\n",
      "\n",
      "Second Level Topics for First Level Topic 2:\n",
      "topic 0: ['business', 'technology', 'tools', 'development', 'product', 'software', 'cloud', 'environment', 'employees', 'code']\n",
      "topic 1: ['education', 'security', 'management', 'service', 'systems', 'program', 'based', 'development', 'meet', 'department']\n",
      "\n",
      "Second Level Topics for First Level Topic 3:\n",
      "topic 0: ['business', 'development', 'technology', 'clients', 'tools', 'management', 'software', 'design', 'client', 'environment']\n",
      "topic 1: ['tools', 'clients', 'business', 'public', 'hands', 'environment', 'progressive', 'security', 'professional', 'good']\n",
      "topic 2: ['business', 'financial', 'management', 'clients', 'banking', 'development', 'technology', 'chase', 'deloitte', 'global']\n",
      "\n"
     ]
    }
   ],
   "source": [
    "# let's look at the top terms for each second level\n",
    "L1_topics = 4\n",
    "for T in range(L1_topics):\n",
    "  print(\"Second Level Topics for First Level Topic {}:\".format(T))\n",
    "  for topic_idx, terms in enumerate(all_top_terms[T]):\n",
    "    print(\"topic %d:\" %(topic_idx), terms)\n",
    "  print()"
   ]
  },
  {
   "cell_type": "code",
   "execution_count": 32,
   "metadata": {
    "colab": {
     "base_uri": "https://localhost:8080/",
     "height": 861
    },
    "executionInfo": {
     "elapsed": 13659,
     "status": "ok",
     "timestamp": 1628214641840,
     "user": {
      "displayName": "Laiya Lubben",
      "photoUrl": "https://lh3.googleusercontent.com/a/default-user=s64",
      "userId": "11817724685368002439"
     },
     "user_tz": 420
    },
    "id": "igfj_t4d5RXS",
    "outputId": "2c26796e-9ac3-4861-94ea-3632581c6e69"
   },
   "outputs": [
    {
     "data": {
      "text/html": [
       "\n",
       "<link rel=\"stylesheet\" type=\"text/css\" href=\"https://cdn.rawgit.com/bmabey/pyLDAvis/files/ldavis.v1.0.0.css\">\n",
       "\n",
       "\n",
       "<div id=\"ldavis_el4720819203766962645316931245\"></div>\n",
       "<script type=\"text/javascript\">\n",
       "\n",
       "var ldavis_el4720819203766962645316931245_data = {\"mdsDat\": {\"x\": [269.5624084472656, 1.782994270324707, 220.81143188476562, 50.533992767333984], \"y\": [-124.80339813232422, -295.0796813964844, -343.8321228027344, -76.05093383789062], \"topics\": [1, 2, 3, 4], \"cluster\": [1, 1, 1, 1], \"Freq\": [5.768000974860532, 45.82451297450821, 30.109115491840395, 18.29837055879087]}, \"tinfo\": {\"Category\": [\"Default\", \"Default\", \"Default\", \"Default\", \"Default\", \"Default\", \"Default\", \"Default\", \"Default\", \"Default\", \"Default\", \"Default\", \"Default\", \"Default\", \"Default\", \"Default\", \"Default\", \"Default\", \"Default\", \"Default\", \"Default\", \"Default\", \"Default\", \"Default\", \"Default\", \"Default\", \"Default\", \"Default\", \"Default\", \"Default\", \"Topic1\", \"Topic1\", \"Topic1\", \"Topic1\", \"Topic1\", \"Topic1\", \"Topic1\", \"Topic1\", \"Topic1\", \"Topic1\", \"Topic1\", \"Topic1\", \"Topic1\", \"Topic1\", \"Topic1\", \"Topic1\", \"Topic1\", \"Topic1\", \"Topic1\", \"Topic1\", \"Topic1\", \"Topic1\", \"Topic1\", \"Topic1\", \"Topic1\", \"Topic1\", \"Topic1\", \"Topic1\", \"Topic1\", \"Topic1\", \"Topic1\", \"Topic1\", \"Topic1\", \"Topic1\", \"Topic1\", \"Topic1\", \"Topic1\", \"Topic1\", \"Topic1\", \"Topic1\", \"Topic1\", \"Topic1\", \"Topic1\", \"Topic1\", \"Topic1\", \"Topic1\", \"Topic1\", \"Topic1\", \"Topic1\", \"Topic1\", \"Topic1\", \"Topic1\", \"Topic1\", \"Topic1\", \"Topic1\", \"Topic1\", \"Topic1\", \"Topic1\", \"Topic1\", \"Topic1\", \"Topic1\", \"Topic1\", \"Topic1\", \"Topic1\", \"Topic1\", \"Topic1\", \"Topic1\", \"Topic1\", \"Topic1\", \"Topic1\", \"Topic1\", \"Topic1\", \"Topic2\", \"Topic2\", \"Topic2\", \"Topic2\", \"Topic2\", \"Topic2\", \"Topic2\", \"Topic2\", \"Topic2\", \"Topic2\", \"Topic2\", \"Topic2\", \"Topic2\", \"Topic2\", \"Topic2\", \"Topic2\", \"Topic2\", \"Topic2\", \"Topic2\", \"Topic2\", \"Topic2\", \"Topic2\", \"Topic2\", \"Topic2\", \"Topic2\", \"Topic2\", \"Topic2\", \"Topic2\", \"Topic2\", \"Topic2\", \"Topic2\", \"Topic2\", \"Topic2\", \"Topic2\", \"Topic2\", \"Topic2\", \"Topic2\", \"Topic2\", \"Topic2\", \"Topic2\", \"Topic2\", \"Topic2\", \"Topic2\", \"Topic2\", \"Topic2\", \"Topic2\", \"Topic2\", \"Topic2\", \"Topic2\", \"Topic2\", \"Topic2\", \"Topic2\", \"Topic2\", \"Topic2\", \"Topic2\", \"Topic2\", \"Topic2\", \"Topic2\", \"Topic2\", \"Topic2\", \"Topic2\", \"Topic2\", \"Topic2\", \"Topic2\", \"Topic2\", \"Topic2\", \"Topic2\", \"Topic2\", \"Topic2\", \"Topic2\", \"Topic2\", \"Topic2\", \"Topic2\", \"Topic2\", \"Topic2\", \"Topic2\", \"Topic2\", \"Topic2\", \"Topic2\", \"Topic2\", \"Topic3\", \"Topic3\", \"Topic3\", \"Topic3\", \"Topic3\", \"Topic3\", \"Topic3\", \"Topic3\", \"Topic3\", \"Topic3\", \"Topic3\", \"Topic3\", \"Topic3\", \"Topic3\", \"Topic3\", \"Topic3\", \"Topic3\", \"Topic3\", \"Topic3\", \"Topic3\", \"Topic3\", \"Topic3\", \"Topic3\", \"Topic3\", \"Topic3\", \"Topic3\", \"Topic3\", \"Topic3\", \"Topic3\", \"Topic3\", \"Topic3\", \"Topic3\", \"Topic3\", \"Topic3\", \"Topic3\", \"Topic3\", \"Topic3\", \"Topic3\", \"Topic3\", \"Topic3\", \"Topic3\", \"Topic3\", \"Topic3\", \"Topic3\", \"Topic3\", \"Topic3\", \"Topic3\", \"Topic3\", \"Topic3\", \"Topic3\", \"Topic3\", \"Topic3\", \"Topic3\", \"Topic3\", \"Topic3\", \"Topic3\", \"Topic3\", \"Topic3\", \"Topic3\", \"Topic3\", \"Topic3\", \"Topic3\", \"Topic3\", \"Topic3\", \"Topic3\", \"Topic3\", \"Topic3\", \"Topic3\", \"Topic3\", \"Topic3\", \"Topic3\", \"Topic3\", \"Topic3\", \"Topic3\", \"Topic3\", \"Topic3\", \"Topic3\", \"Topic3\", \"Topic3\", \"Topic3\", \"Topic3\", \"Topic3\", \"Topic4\", \"Topic4\", \"Topic4\", \"Topic4\", \"Topic4\", \"Topic4\", \"Topic4\", \"Topic4\", \"Topic4\", \"Topic4\", \"Topic4\", \"Topic4\", \"Topic4\", \"Topic4\", \"Topic4\", \"Topic4\", \"Topic4\", \"Topic4\", \"Topic4\", \"Topic4\", \"Topic4\", \"Topic4\", \"Topic4\", \"Topic4\", \"Topic4\", \"Topic4\", \"Topic4\", \"Topic4\", \"Topic4\", \"Topic4\", \"Topic4\", \"Topic4\", \"Topic4\", \"Topic4\", \"Topic4\", \"Topic4\", \"Topic4\", \"Topic4\", \"Topic4\", \"Topic4\", \"Topic4\", \"Topic4\", \"Topic4\", \"Topic4\", \"Topic4\", \"Topic4\", \"Topic4\", \"Topic4\", \"Topic4\", \"Topic4\", \"Topic4\", \"Topic4\", \"Topic4\", \"Topic4\", \"Topic4\", \"Topic4\", \"Topic4\", \"Topic4\", \"Topic4\", \"Topic4\", \"Topic4\", \"Topic4\", \"Topic4\", \"Topic4\", \"Topic4\", \"Topic4\", \"Topic4\", \"Topic4\", \"Topic4\", \"Topic4\", \"Topic4\", \"Topic4\", \"Topic4\", \"Topic4\", \"Topic4\", \"Topic4\", \"Topic4\"], \"Freq\": [5115.0, 5704.0, 2142.0, 3178.0, 1099.0, 2032.0, 2303.0, 3418.0, 3765.0, 924.0, 10028.0, 1007.0, 2472.0, 1002.0, 2128.0, 2814.0, 1471.0, 3532.0, 1498.0, 10633.0, 1344.0, 1172.0, 2572.0, 743.0, 3597.0, 1505.0, 2369.0, 498.0, 2337.0, 1466.0, 208.94968575534963, 161.47298824625872, 150.58238186649277, 146.63122117661482, 146.63047096806312, 144.65560422100367, 143.66662904225367, 143.66662904208542, 143.66662904157317, 143.66662904151943, 143.6666290410855, 143.66662904034453, 186.9280299990518, 145.59265744247105, 134.76450331049648, 133.77553880418114, 126.84771704735184, 122.89583623507953, 123.87699310147788, 123.8746540083136, 122.88830937387692, 121.90259436309752, 121.90243118003447, 119.9257937254407, 118.941223247896, 118.9395588758193, 117.95105135797891, 119.91613116743878, 118.93055604928266, 116.96269812546478, 143.31263194113058, 118.92552796762355, 152.16959995541484, 210.5576290666977, 150.83941342478366, 393.87904823023325, 150.862013151898, 312.97163496902965, 619.333245336073, 213.41875106788962, 530.1711916287284, 278.72938120866826, 471.3519376126631, 168.12879676100457, 202.74860521906953, 371.75298189239794, 304.24579814764076, 417.97353361200146, 607.2164415561713, 176.4843968718796, 374.1836448105651, 345.43435558189975, 173.17998403819905, 329.4732035871302, 252.055352885879, 315.444698180596, 246.83925750242162, 277.7733836758324, 191.3753794614026, 167.23674002550473, 214.44487804957765, 186.77310391505253, 186.58085809009734, 260.14909696481965, 221.65840428218954, 246.8421981808227, 227.02778458656798, 227.32534540810784, 195.55883470228832, 202.18757393913063, 200.6923199082051, 195.97214069841127, 952.5808635248034, 647.7499354479363, 643.7527622357869, 522.184957485275, 460.4651742755998, 445.52955919001846, 377.6169237595213, 302.0879644325864, 300.08749065032674, 288.13814547413773, 259.2472609532967, 256.25346108514725, 248.28187183212845, 227.37394354729716, 202.4632591240543, 213.3245841711155, 184.53217584899284, 174.57187392016712, 171.58865939724345, 172.57638273898039, 515.7278067224056, 168.59674519557691, 168.59294088581655, 189.39227049132438, 182.44713555685215, 150.66432353570428, 149.66766227903764, 148.67040124879895, 148.66843799068184, 222.98165746083868, 1420.3058531979198, 757.8324688652983, 1556.4588831297758, 477.36325932323473, 330.61760834573994, 320.64443226634506, 330.0263200064502, 461.30669572735354, 242.55593119726817, 227.81528918297494, 1716.4258760834775, 1707.3262194094343, 605.9818258783234, 1099.370670194983, 932.2021823190241, 1034.3193266388816, 3142.5275791022063, 888.5069408324557, 755.2911522793844, 1418.226327843927, 8596.172113052377, 1939.0338052063425, 3188.4423782598456, 607.2688834125129, 1622.116857043471, 610.4774597772551, 695.7671322535456, 8176.424723924976, 2184.202659970917, 2976.5292244045704, 2553.789291231089, 5480.68046778539, 5249.649921743379, 2947.6009295291665, 3048.6903380294666, 2830.7918214385973, 1923.6952453035722, 1851.4099159100697, 1978.5761403276347, 1707.3825780068946, 1087.1622357704377, 1787.1965002563193, 2230.8252943593898, 2920.9626795967124, 2079.0745409581414, 2145.6056009261274, 2272.3337660409716, 2419.88303658975, 1723.3529074646517, 1512.7760792324223, 296.3119627004083, 250.30229589632833, 358.99111546932187, 247.28086725433178, 239.29472209501787, 380.86519288876036, 216.296076482912, 332.91262646054633, 236.2061377190328, 395.66228937288474, 215.25254555455857, 185.27835149534337, 172.28915085641847, 258.9052628120989, 258.89235967922315, 168.27355965200135, 147.27394128761833, 145.25970632137975, 560.1146707137483, 138.27276812954986, 135.26363356774363, 120.2581998059548, 118.25411962283019, 114.27188098809705, 113.2708245625091, 118.1838112421363, 97.26561509590984, 279.89634689985775, 468.4169677739568, 103.2137507597998, 4913.071197903519, 618.4840974931471, 997.221118647215, 726.1664252751248, 559.8450951211355, 442.5748419676066, 525.6142863698628, 1120.9290605113156, 649.7988589438206, 267.6143785670803, 352.4176616495327, 904.7944067502168, 1210.5351665009734, 822.6520378273434, 551.7132642051082, 3235.2651537404336, 872.9250996507911, 929.8836500521986, 828.1927320536107, 749.9561077945048, 582.1558242887784, 357.01837447240956, 410.3683302353907, 705.1001617386366, 468.5208802143525, 935.6926317527841, 502.4797811985894, 1272.4187794419643, 1155.5216934580335, 751.0096167109638, 1403.861613923216, 1068.5431563097698, 1516.6204674571584, 1369.8805778239107, 2380.6129969044764, 884.9291089161366, 1385.6097569323958, 1366.3526098584412, 1577.2247856619417, 2240.12167820228, 1124.90421065535, 1172.9449342433334, 992.1862064191722, 977.1472422259235, 1432.467283607694, 1074.4456971883578, 1177.742809580402, 1146.9301377777706, 967.6032747485455, 979.3171573119249, 952.9563173722323, 922.718794993961, 518.4694302243399, 450.79460192953445, 413.4863713579869, 363.41934290867545, 314.35364170934986, 268.2189474552219, 267.2305167261216, 265.2669994621314, 264.2856277308493, 262.3226770862498, 260.3617454838124, 231.89720671318523, 229.91907377950622, 224.04644488438984, 222.07813842269783, 199.50341432215717, 265.92159100316246, 176.92937323440643, 174.9639297500503, 173.00193176339812, 172.0198874275167, 169.06844689615292, 163.1870182613459, 156.31280117785963, 155.33325579418255, 142.56468881884987, 132.75709780633395, 132.75463530505996, 130.79661576263746, 128.83350188105314, 181.9618801208886, 134.6636074992206, 286.66417116960014, 1961.3954280689852, 340.506543525112, 356.23952198428026, 581.5806455242991, 276.8764536294437, 353.0393152812166, 224.390625590823, 1098.8775855849879, 289.1588914946605, 846.9370872734011, 353.6793861930255, 1081.7286216561495, 523.6121165298727, 455.1980681585147, 972.8336027979933, 752.5208184245004, 417.65720951045915, 315.9153454773213, 1208.4790177679133, 730.0384246387816, 1050.2657962690093, 429.9597038999092, 1499.3547918971835, 600.441246101912, 865.7512788593945, 396.49317298784763, 360.69207843990046, 544.3183563523688, 745.2885089826362, 721.9253884067432, 1075.7288692622808, 595.3597503684069, 824.2778564759511, 485.90142647956, 687.1041489606082, 766.7041837659361, 566.5883225147951, 548.4122852631335, 746.2975211835467, 727.1164466085035, 820.1815411461032, 654.2885468487748, 508.21284623897975, 534.2289311058169], \"Term\": [\"insurance\", \"environment\", \"equipment\", \"code\", \"hadoop\", \"senior\", \"platform\", \"cloud\", \"health\", \"google\", \"software\", \"predictive\", \"production\", \"optimization\", \"java\", \"industry\", \"safety\", \"based\", \"functions\", \"development\", \"growing\", \"salary\", \"service\", \"content\", \"technologies\", \"procedures\", \"plus\", \"whats\", \"medical\", \"least\", \"google google\", \"optimization stochastic\", \"rights reserved\", \"copyright\", \"link bottom\", \"going detail\", \"search open\", \"email search\", \"detail link\", \"directly clicking\", \"copyright rights\", \"bottom email\", \"stochastic\", \"industries software\", \"word going\", \"clicking word\", \"editorial\", \"content discovery\", \"merit business\", \"decided\", \"discovery platform\", \"basis merit\", \"hadoop stack\", \"decided basis\", \"stochastic reinforcement\", \"visitors month\", \"believe environment\", \"writers\", \"environment critical\", \"unique visitors\", \"software education\", \"tribune\", \"reserved\", \"education professional\", \"vacation medical\", \"whats\", \"open positions\", \"going\", \"hadoop\", \"angeles\", \"google\", \"chance\", \"predictive\", \"reinforcement\", \"reasons\", \"optimization\", \"content\", \"senior\", \"environment\", \"clicking\", \"code\", \"production\", \"recommendation\", \"platform\", \"salary\", \"industry\", \"growing\", \"based\", \"industries\", \"powered\", \"least\", \"scala\", \"base\", \"systems\", \"plus\", \"design\", \"product\", \"business\", \"critical\", \"medical\", \"software\", \"technology\", \"javascript\", \"object\", \"devops\", \"docker\", \"kubernetes\", \"object oriented\", \"scrum\", \"continuous integration\", \"node\", \"jenkins\", \"restful\", \"json\", \"agile development\", \"software developer\", \"android\", \"architecture design\", \"senior software\", \"ruby\", \"oriented design\", \"development life\", \"html\", \"jquery\", \"agile software\", \"debug\", \"agile environment\", \"html javascript\", \"unit testing\", \"cassandra\", \"terraform\", \"postgresql\", \"developer\", \"software engineer\", \"agile\", \"architectures\", \"debugging\", \"backend\", \"angular\", \"react\", \"jira\", \"scalability\", \"software development\", \"architecture\", \"apis\", \"azure\", \"linux\", \"frameworks\", \"cloud\", \"deployment\", \"features\", \"infrastructure\", \"software\", \"java\", \"technologies\", \"framework\", \"integration\", \"design development\", \"modern\", \"development\", \"security\", \"applications\", \"code\", \"design\", \"systems\", \"engineer\", \"technology\", \"tools\", \"test\", \"developing\", \"testing\", \"platform\", \"enterprise\", \"programming\", \"system\", \"business\", \"based\", \"product\", \"management\", \"environment\", \"high\", \"well\", \"cancer\", \"molecular\", \"savings account\", \"supplemental bonus\", \"biological\", \"health savings\", \"genomic\", \"account health\", \"account life\", \"spending account\", \"development assistance\", \"friday supplemental\", \"uline\", \"temporarily covid\", \"remotely temporarily\", \"insurance parental\", \"flexible flexible\", \"computational biology\", \"flexible spending\", \"genomics\", \"genetics\", \"assistance referral\", \"bonus education\", \"therapeutic\", \"biostatistics\", \"plan tuition\", \"molecular biology\", \"insurance flexible\", \"matching insurance\", \"companys website\", \"insurance\", \"spending\", \"life insurance\", \"insurance insurance\", \"savings\", \"tuition reimbursement\", \"tuition\", \"health insurance\", \"insurance health\", \"temporarily\", \"insurance monday\", \"account\", \"clinical\", \"monday friday\", \"reimbursement\", \"health\", \"friday\", \"remotely\", \"monday\", \"matching\", \"hour shift\", \"assistance program\", \"insurance hour\", \"covid\", \"biology\", \"hour\", \"computational\", \"flexible\", \"manufacturing\", \"scientific\", \"program\", \"plan\", \"life\", \"medical\", \"business\", \"assistance\", \"education\", \"process\", \"management\", \"development\", \"communication\", \"quality\", \"employees\", \"excellent\", \"design\", \"based\", \"environment\", \"systems\", \"well\", \"high\", \"tools\", \"product\", \"lift\", \"donors\", \"pounds\", \"physical demands\", \"plasma\", \"biolife\", \"enable individuals\", \"accommodations made\", \"made enable\", \"disabilities functions\", \"donor\", \"technician\", \"school diploma\", \"takeda\", \"lifting\", \"described representative\", \"diploma\", \"crouch\", \"lift move\", \"stoop\", \"finger\", \"bend\", \"depth perception\", \"successfully functions\", \"occasionally lift\", \"diploma equivalent\", \"ensuring safety\", \"representative successfully\", \"biolife plasma\", \"biolife feel\", \"repair\", \"arms\", \"periods\", \"equipment\", \"reasonable accommodations\", \"representative\", \"occasionally\", \"walk\", \"high school\", \"worker\", \"safety\", \"instructions\", \"physical\", \"accommodations\", \"functions\", \"mechanical\", \"demands\", \"procedures\", \"assigned\", \"school\", \"assists\", \"service\", \"maintenance\", \"able\", \"reasonable\", \"environment\", \"department\", \"maintain\", \"disabilities\", \"performs\", \"individuals\", \"ensure\", \"office\", \"management\", \"needed\", \"quality\", \"appropriate\", \"include\", \"process\", \"standards\", \"tasks\", \"high\", \"system\", \"systems\", \"education\", \"middot\", \"responsible\"], \"Total\": [5115.0, 5704.0, 2142.0, 3178.0, 1099.0, 2032.0, 2303.0, 3418.0, 3765.0, 924.0, 10028.0, 1007.0, 2472.0, 1002.0, 2128.0, 2814.0, 1471.0, 3532.0, 1498.0, 10633.0, 1344.0, 1172.0, 2572.0, 743.0, 3597.0, 1505.0, 2369.0, 498.0, 2337.0, 1466.0, 209.69531734193802, 162.21773122604313, 151.33748328404468, 147.38101288308036, 147.38104374037977, 145.40277451121162, 144.41365702164626, 144.41365702164745, 144.41365702165106, 144.4136570216515, 144.4136570216545, 144.41365702165993, 187.93705752566038, 146.39220130308937, 135.51161171941803, 134.52249413787058, 127.59871802042261, 123.64220880501512, 124.63133121242386, 124.63138601293639, 123.64226556906672, 122.65308194509814, 122.6531213022447, 120.67484338004876, 119.6857301212224, 119.68574231395452, 118.69662160106806, 120.67486672807172, 119.68577889401232, 117.70749909667362, 144.41609836364276, 119.68571819769151, 157.30281859242774, 225.65934899949463, 157.31283903184777, 498.2765096268502, 161.29732514322293, 422.23024274295375, 1099.3524383359763, 263.55059720815353, 924.8512040537603, 407.6416853592954, 1007.43684603735, 207.0311843594665, 286.27453919336676, 1002.5276288061552, 743.172685858012, 2032.0822093490115, 5704.197079623507, 263.500809917868, 3178.6981865509993, 2472.875848515445, 264.77809364109606, 2303.89201990246, 1172.7829356340183, 2814.932683404791, 1344.6342155782465, 3532.3312493471203, 596.2091698167774, 288.6206916310877, 1466.4354179005252, 588.4360648476783, 599.8615233842456, 7476.910697632073, 2369.772406926736, 7581.711188885246, 3798.066186433922, 6030.447986605648, 1116.148645528395, 2337.2689508290528, 10028.980200785194, 4351.551156335494, 953.344521065221, 648.5118208338072, 644.5273036934634, 522.9928775272502, 461.22915049170814, 446.2863413392283, 378.5464584354547, 302.835799905107, 300.8433791944334, 288.8892281739403, 259.99985465157874, 257.0112731908568, 249.04172989223323, 228.1219148375771, 203.217234892228, 214.17575426641645, 185.28598170150335, 175.3241183739678, 172.33557557708014, 173.33173773806223, 518.0178718962973, 169.34697841961022, 169.34697172839483, 190.26521764680496, 183.29400552618853, 151.41566499835065, 150.41949462800216, 149.42327964171156, 149.4233551087599, 224.13869297717503, 1432.5558985331047, 762.0523204243724, 1577.0055219096464, 480.1648294503299, 332.7061799244709, 322.7610661793987, 332.72922305182567, 467.1310098258787, 244.06385907556387, 229.1203083447652, 1778.8590473014428, 1772.4686607275396, 616.6741850079856, 1132.789819139584, 962.429275660336, 1083.5207943654489, 3418.9081832431552, 931.5994794362311, 789.0988124653268, 1522.575088646992, 10028.980200785194, 2128.9719038470794, 3597.843478471734, 635.6253559709166, 1824.823621364987, 640.6608717863888, 738.3375640396789, 10633.871431650567, 2592.5544612130484, 3652.2690604463887, 3178.6981865509993, 7581.711188885246, 7476.910697632073, 3894.588139867163, 4351.551156335494, 4196.5890026393245, 2631.018759444703, 2530.03924742198, 2796.9722802594924, 2303.89201990246, 1298.0659763624003, 2602.7599730738984, 3580.9577588806, 6030.447986605648, 3532.3312493471203, 3798.066186433922, 4930.424003209968, 5704.197079623507, 3475.3354006882555, 2932.6415612405294, 297.0592577353169, 251.04876261966248, 360.069095302632, 248.0477784519554, 240.04620408917324, 382.0744382154285, 217.04104148553876, 334.0601186448867, 237.04387261664937, 397.0719389075316, 216.04007393573067, 186.03384371265685, 173.03102551037904, 260.0491811897156, 260.0491290140083, 169.02994863988025, 148.02520847066359, 146.02461626282798, 563.0920704568003, 139.02318452177437, 136.02246662941909, 121.01888330906257, 119.01840287224199, 115.01773983808786, 114.01749126956818, 119.01704732964383, 98.0138324515145, 282.0498740386064, 472.0445290914071, 104.0142191405201, 5115.369782741945, 633.0543252606661, 1026.862413972307, 744.8240926382473, 573.9879267242669, 452.952302583972, 539.9565887396568, 1171.6142666397295, 671.7491610485001, 272.03858968701826, 360.9276257159789, 957.8047157317824, 1311.395506935789, 882.1261243123009, 580.9152944132336, 3765.710153448774, 950.9183214902197, 1022.3118788660342, 908.7912768143664, 833.6813786067612, 632.2052199811134, 369.8501267545334, 435.62563235949307, 806.3982877879346, 511.632379724152, 1170.118185481783, 557.8862368786455, 1778.5419597023345, 1591.7365955600121, 940.9025957440882, 2257.0982783090076, 1619.6946035603435, 2689.1359609159267, 2337.2689508290528, 6030.447986605648, 1333.400544297993, 2922.840040844134, 3083.936519255868, 4930.424003209968, 10633.871431650567, 2674.7330785964987, 3355.519061845036, 2199.533623081055, 2141.3562613582653, 7581.711188885246, 3532.3312493471203, 5704.197079623507, 7476.910697632073, 2932.6415612405294, 3475.3354006882555, 4196.5890026393245, 3798.066186433922, 519.2717048799889, 451.54106309462003, 414.2408216496835, 364.17988466884134, 315.1002148867149, 268.96553945262735, 267.98406976109766, 266.02089793860563, 265.03930521511717, 263.0761232418152, 261.1129053346007, 232.64680662289803, 230.68388653291646, 224.7940602752517, 222.8309687066482, 200.2543933917578, 267.00792705763354, 177.67780620956978, 175.7146657619099, 173.75147029849342, 172.76988836356134, 169.8252241081062, 163.93556417131853, 157.0644947477069, 156.08287128133048, 143.3223588470005, 133.5063194994483, 133.5063633599014, 131.54309843071007, 129.57991951921898, 183.58359803483984, 135.47036401777072, 291.6035385602691, 2142.198660530484, 358.54353894347423, 376.3112105018405, 634.8154214983628, 288.76179407896996, 377.3799630654083, 232.78901790483638, 1471.2045301885069, 314.53089595781086, 1112.594606617071, 401.1841932641011, 1498.587266876088, 653.1069773173281, 552.3581023682177, 1505.8823533044329, 1099.334089383987, 516.173923894194, 354.003509154459, 2572.8268848892685, 1250.964674949759, 2496.0990906395396, 599.4587599522567, 5704.197079623507, 1184.059126714868, 2370.072948569463, 559.9991218982045, 469.87678252166893, 1052.5093047532805, 1953.0847798595446, 1940.0368100730468, 4930.424003209968, 1377.0860644769016, 3355.519061845036, 898.0053063823998, 2254.2524724485093, 3083.936519255868, 1435.9054346791534, 1305.9711391002381, 3475.3354006882555, 3580.9577588806, 7476.910697632073, 2922.840040844134, 1048.5871390826876, 2061.4602614465707], \"loglift\": [30.0, 29.0, 28.0, 27.0, 26.0, 25.0, 24.0, 23.0, 22.0, 21.0, 20.0, 19.0, 18.0, 17.0, 16.0, 15.0, 14.0, 13.0, 12.0, 11.0, 10.0, 9.0, 8.0, 7.0, 6.0, 5.0, 4.0, 3.0, 2.0, 1.0, 2.8493, 2.8482, 2.8478, 2.8477, 2.8477, 2.8477, 2.8477, 2.8477, 2.8477, 2.8477, 2.8477, 2.8477, 2.8475, 2.8474, 2.8473, 2.8473, 2.8469, 2.8468, 2.8468, 2.8468, 2.8467, 2.8467, 2.8467, 2.8466, 2.8466, 2.8466, 2.8465, 2.8465, 2.8465, 2.8465, 2.8452, 2.8465, 2.8197, 2.7836, 2.8108, 2.6177, 2.786, 2.5534, 2.279, 2.6419, 2.2964, 2.4727, 2.0933, 2.6447, 2.5079, 1.8608, 1.9598, 1.2714, 0.6128, 2.452, 0.7134, 0.8845, 2.4283, 0.908, 1.3154, 0.6641, 1.1577, 0.3099, 1.7165, 2.3071, 0.9303, 1.7053, 1.685, -0.5055, 0.4834, -0.5719, 0.0357, -0.4253, 1.1111, 0.4053, -1.0586, -0.2475, 0.7795, 0.7792, 0.7791, 0.7788, 0.7787, 0.7787, 0.7779, 0.7779, 0.7778, 0.7777, 0.7775, 0.7774, 0.7773, 0.7771, 0.7766, 0.7764, 0.7763, 0.7761, 0.776, 0.776, 0.7759, 0.7759, 0.7759, 0.7758, 0.7757, 0.7754, 0.7753, 0.7753, 0.7753, 0.7752, 0.7718, 0.7748, 0.7672, 0.7745, 0.7741, 0.7738, 0.7722, 0.7678, 0.7742, 0.7746, 0.7446, 0.7429, 0.7629, 0.7504, 0.7484, 0.7339, 0.6961, 0.733, 0.7366, 0.7094, 0.6262, 0.6869, 0.6595, 0.7347, 0.6626, 0.7321, 0.721, 0.5176, 0.609, 0.5758, 0.5615, 0.4558, 0.4267, 0.5018, 0.4245, 0.3866, 0.4672, 0.4681, 0.4342, 0.4807, 0.603, 0.4044, 0.3071, 0.0554, 0.2503, 0.2093, 0.0057, -0.0771, 0.0789, 0.1184, 1.1978, 1.1974, 1.1973, 1.1972, 1.1972, 1.1972, 1.1969, 1.1969, 1.1968, 1.1968, 1.1967, 1.1963, 1.196, 1.1959, 1.1959, 1.1959, 1.1953, 1.1951, 1.195, 1.1949, 1.1947, 1.194, 1.1939, 1.1938, 1.1938, 1.1933, 1.1927, 1.1927, 1.1926, 1.1926, 1.16, 1.1771, 1.1711, 1.175, 1.1754, 1.1772, 1.1734, 1.1561, 1.1671, 1.1839, 1.1765, 1.1434, 1.1203, 1.1305, 1.1488, 1.0485, 1.1148, 1.1056, 1.1075, 1.0945, 1.1179, 1.165, 1.1406, 1.0661, 1.1123, 0.9768, 1.0957, 0.8655, 0.8801, 0.9749, 0.7255, 0.7844, 0.6276, 0.6661, 0.2709, 0.7904, 0.4539, 0.3863, 0.0606, -0.3572, 0.3342, 0.1493, 0.4043, 0.4158, -0.466, 0.0102, -0.3773, -0.6744, 0.0915, -0.0662, -0.2821, -0.2146, 1.6968, 1.6967, 1.6965, 1.6963, 1.696, 1.6956, 1.6955, 1.6955, 1.6955, 1.6955, 1.6955, 1.6951, 1.695, 1.695, 1.695, 1.6946, 1.6943, 1.6941, 1.6941, 1.694, 1.694, 1.6939, 1.6938, 1.6936, 1.6935, 1.6931, 1.6927, 1.6927, 1.6927, 1.6926, 1.6895, 1.6924, 1.6813, 1.6102, 1.6467, 1.6435, 1.6108, 1.6563, 1.6317, 1.6616, 1.4066, 1.6143, 1.4255, 1.5723, 1.3724, 1.4774, 1.5049, 1.2614, 1.3193, 1.4866, 1.5845, 0.9427, 1.1598, 0.8327, 1.366, 0.3622, 1.0193, 0.6913, 1.3531, 1.4339, 1.039, 0.735, 0.7098, 0.1759, 0.8598, 0.2945, 1.0842, 0.5103, 0.3065, 0.7684, 0.8307, 0.16, 0.1041, -0.5117, 0.2016, 0.9741, 0.348], \"logprob\": [30.0, 29.0, 28.0, 27.0, 26.0, 25.0, 24.0, 23.0, 22.0, 21.0, 20.0, 19.0, 18.0, 17.0, 16.0, 15.0, 14.0, 13.0, 12.0, 11.0, 10.0, 9.0, 8.0, 7.0, 6.0, 5.0, 4.0, 3.0, 2.0, 1.0, -5.8322, -6.09, -6.1598, -6.1864, -6.1864, -6.1999, -6.2068, -6.2068, -6.2068, -6.2068, -6.2068, -6.2068, -5.9436, -6.1935, -6.2708, -6.2781, -6.3313, -6.363, -6.355, -6.355, -6.363, -6.3711, -6.3711, -6.3874, -6.3957, -6.3957, -6.404, -6.3875, -6.3958, -6.4124, -6.2093, -6.3958, -6.1493, -5.8245, -6.1581, -5.1982, -6.1579, -5.4282, -4.7456, -5.811, -4.9011, -5.5441, -5.0187, -6.0496, -5.8623, -5.2561, -5.4565, -5.1389, -4.7654, -6.0011, -5.2495, -5.3295, -6.02, -5.3768, -5.6446, -5.4203, -5.6656, -5.5475, -5.9201, -6.0549, -5.8062, -5.9444, -5.9454, -5.613, -5.7732, -5.6655, -5.7492, -5.7479, -5.8984, -5.8651, -5.8725, -5.8963, -6.3876, -6.7733, -6.7795, -6.9888, -7.1145, -7.1475, -7.3129, -7.5361, -7.5427, -7.5833, -7.689, -7.7006, -7.7322, -7.8202, -7.9362, -7.884, -8.029, -8.0845, -8.1017, -8.0959, -7.0012, -8.1193, -8.1193, -8.003, -8.0403, -8.2317, -8.2384, -8.2451, -8.2451, -7.8397, -5.9882, -6.6163, -5.8966, -7.0785, -7.4458, -7.4765, -7.4476, -7.1127, -7.7556, -7.8183, -5.7988, -5.8041, -6.8399, -6.2443, -6.4092, -6.3053, -5.194, -6.4572, -6.6197, -5.9896, -4.1877, -5.6768, -5.1795, -6.8378, -5.8553, -6.8325, -6.7018, -4.2378, -5.5578, -5.2483, -5.4015, -4.6378, -4.6809, -5.258, -5.2243, -5.2985, -5.6848, -5.7231, -5.6567, -5.8041, -6.2555, -5.7584, -5.5367, -5.2671, -5.6071, -5.5756, -5.5182, -5.4553, -5.7948, -5.9251, -7.1354, -7.3041, -6.9435, -7.3163, -7.3491, -6.8843, -7.4501, -7.0189, -7.3621, -6.8462, -7.455, -7.6049, -7.6776, -7.2703, -7.2704, -7.7012, -7.8345, -7.8483, -6.4987, -7.8976, -7.9196, -8.0372, -8.054, -8.0882, -8.097, -8.0546, -8.2493, -7.1924, -6.6774, -8.19, -4.3271, -6.3995, -5.9218, -6.239, -6.4991, -6.7342, -6.5622, -5.8049, -6.3501, -7.2372, -6.962, -6.0191, -5.728, -6.1143, -6.5138, -4.7449, -6.0549, -5.9917, -6.1075, -6.2068, -6.4601, -6.949, -6.8097, -6.2685, -6.6772, -5.9855, -6.6072, -5.6781, -5.7745, -6.2054, -5.5798, -5.8527, -5.5026, -5.6043, -5.0517, -6.0413, -5.5929, -5.6069, -5.4634, -5.1125, -5.8013, -5.7595, -5.9269, -5.9422, -5.5596, -5.8472, -5.7554, -5.782, -5.952, -5.9399, -5.9672, -5.9995, -6.0779, -6.2178, -6.3042, -6.4332, -6.5783, -6.737, -6.7407, -6.748, -6.7517, -6.7592, -6.7667, -6.8825, -6.8911, -6.9169, -6.9258, -7.0329, -6.7456, -7.153, -7.1642, -7.1755, -7.1812, -7.1985, -7.2339, -7.2769, -7.2832, -7.369, -7.4403, -7.4403, -7.4551, -7.4703, -7.125, -7.426, -6.6705, -4.7474, -6.4983, -6.4532, -5.963, -6.7052, -6.4622, -6.9154, -5.3267, -6.6618, -5.5872, -6.4604, -5.3425, -6.068, -6.208, -5.4486, -5.7054, -6.2941, -6.5733, -5.2317, -5.7357, -5.372, -6.2651, -5.016, -5.9311, -5.5652, -6.3461, -6.4408, -6.0292, -5.715, -5.7469, -5.348, -5.9396, -5.6143, -6.1428, -5.7963, -5.6867, -5.9891, -6.0218, -5.7137, -5.7397, -5.6193, -5.8452, -6.0979, -6.048]}, \"token.table\": {\"Topic\": [1, 2, 3, 4, 2, 4, 4, 2, 3, 4, 3, 4, 3, 2, 3, 4, 2, 2, 2, 2, 1, 2, 3, 2, 3, 2, 3, 1, 2, 3, 4, 1, 2, 3, 4, 2, 3, 2, 2, 3, 4, 2, 3, 4, 2, 3, 4, 3, 4, 3, 2, 3, 4, 2, 3, 1, 2, 3, 1, 2, 3, 4, 1, 2, 3, 4, 1, 1, 4, 4, 4, 4, 3, 1, 3, 3, 3, 1, 1, 2, 3, 4, 3, 2, 1, 2, 3, 1, 2, 4, 1, 2, 3, 4, 1, 2, 3, 1, 2, 3, 4, 1, 2, 3, 4, 3, 1, 2, 3, 3, 1, 2, 3, 4, 1, 2, 1, 1, 2, 3, 4, 1, 2, 3, 4, 4, 2, 2, 3, 4, 1, 1, 2, 3, 4, 1, 2, 3, 4, 2, 3, 4, 4, 1, 2, 3, 4, 2, 3, 1, 2, 3, 1, 2, 3, 4, 1, 2, 3, 4, 3, 2, 2, 4, 4, 1, 2, 3, 4, 4, 1, 2, 4, 4, 1, 1, 2, 3, 4, 1, 2, 3, 1, 1, 2, 3, 4, 4, 1, 2, 3, 4, 1, 2, 3, 4, 4, 2, 3, 4, 1, 2, 3, 4, 1, 2, 3, 4, 1, 2, 3, 4, 1, 2, 3, 4, 1, 2, 3, 4, 3, 2, 3, 4, 2, 3, 4, 1, 2, 3, 2, 3, 4, 3, 2, 3, 4, 3, 3, 3, 1, 2, 3, 4, 1, 1, 2, 3, 1, 1, 2, 3, 4, 1, 2, 3, 1, 1, 2, 3, 4, 2, 3, 4, 2, 3, 1, 2, 3, 4, 3, 4, 2, 3, 4, 2, 3, 4, 2, 3, 2, 2, 3, 4, 2, 3, 4, 1, 2, 3, 4, 1, 1, 2, 3, 4, 2, 3, 4, 2, 3, 4, 1, 2, 3, 4, 2, 3, 1, 3, 4, 3, 4, 3, 4, 3, 4, 3, 2, 3, 4, 1, 2, 3, 2, 2, 2, 3, 2, 2, 2, 1, 2, 3, 4, 1, 2, 3, 4, 2, 3, 4, 4, 4, 4, 1, 2, 3, 4, 1, 2, 3, 4, 2, 3, 4, 1, 2, 3, 4, 2, 3, 4, 2, 3, 4, 3, 4, 2, 3, 4, 1, 2, 3, 4, 1, 3, 4, 2, 3, 3, 3, 2, 3, 4, 2, 3, 4, 1, 2, 3, 4, 2, 2, 2, 1, 2, 3, 4, 4, 1, 2, 3, 4, 1, 2, 1, 2, 3, 4, 1, 2, 2, 3, 4, 2, 4, 2, 3, 4, 4, 2, 3, 4, 3, 4, 1, 2, 3, 1, 2, 3, 4, 2, 3, 4, 1, 2, 3, 4, 1, 2, 3, 4, 2, 3, 4, 1, 2, 3, 4, 1, 2, 3, 4, 1, 2, 3, 4, 2, 3, 4, 1, 2, 3, 4, 1, 2, 3, 4, 2, 4, 2, 3, 4, 2, 4, 1, 2, 3, 4, 1, 2, 3, 2, 3, 4, 1, 2, 3, 2, 3, 4, 2, 3, 3, 4, 2, 3, 4, 4, 1, 2, 2, 3, 4, 2, 1, 2, 2, 3, 4, 1, 2, 3, 4, 2, 3, 4, 3, 1, 2, 3, 2, 3, 2, 3, 4, 4, 1, 2, 3, 4, 2, 1, 1, 2, 3, 4, 1, 2, 3, 4, 2, 2, 3, 4, 1, 2, 3, 4, 2, 1, 2, 3, 1, 2, 1, 2, 2, 3, 4, 3, 4, 2, 3, 4, 1, 1, 4, 4, 3, 2, 3, 4, 1, 2, 3, 4, 4, 2, 3, 4, 4, 2, 3, 4, 1, 2, 3, 4, 2, 3, 2, 3, 2, 2, 3, 4, 2, 3, 4, 3, 1, 2, 3, 4, 1, 2, 3, 4, 2, 3, 4, 3, 1, 2, 1, 2, 1, 2, 3, 4, 1, 2, 3, 4, 1, 2, 3, 1, 3, 4, 1], \"Freq\": [0.008413127539187345, 0.3257082233028244, 0.24518257399917406, 0.42065637695936725, 0.11715317001300626, 0.8823877060554088, 0.9961623393255321, 0.0417621664865569, 0.9448690167583499, 0.013572704108130992, 0.9968265632869105, 0.0029934731630237555, 0.9955962893909621, 0.9866801215228402, 0.011414037395508435, 0.001268226377278715, 0.9958170468351468, 0.9929402736195666, 0.9979511193802076, 0.9940101788469196, 0.8081939568961461, 0.10244712129669457, 0.08726976999348056, 0.9917974651375886, 0.006010893728106597, 0.9826907218309335, 0.01621601851206161, 0.01341631714121607, 0.8151097169265356, 0.12923472838069358, 0.04243937054874471, 0.026725899980127758, 0.19376277485592625, 0.2383059414894725, 0.5411994745975871, 0.9630635721927705, 0.03667201651583484, 0.9945103297502391, 0.9934088686713002, 0.004165236346630189, 0.9965279194369846, 0.1409944451798583, 0.1746511837066632, 0.6849601110995697, 0.18149085136860196, 0.6637165432281518, 0.15449221232203306, 0.9652558541285511, 0.03244557492869079, 0.9915807906898255, 0.05367178434299054, 0.05367178434299054, 0.8926465185465795, 0.9701711486379271, 0.02913161774799963, 0.0030982671232228946, 0.9945437465545492, 0.0030982671232228946, 0.3117386141804861, 0.41176169894427844, 0.26172707179858995, 0.01500346271456885, 0.07870156572982295, 0.588563148029863, 0.304048494941834, 0.02859301488745366, 0.994675372728176, 0.9941310747376673, 0.9951407447719257, 0.9964101741264241, 0.9955246189272948, 0.9958713270617071, 0.9956416553507149, 0.08404471981070387, 0.9166738044469794, 0.9910760072139935, 0.9914433159270741, 0.9971356100926252, 0.03764231123528374, 0.4843752912698846, 0.3948297050714123, 0.0832442301326539, 0.9964341870932003, 0.9971672443361804, 0.6844246062668723, 0.1913445135799858, 0.12510987426383688, 0.66792963579451, 0.018975273744162215, 0.31119448940426037, 0.9961159348016914, 0.0007625464588761657, 0.9234437616990366, 0.07625464588761656, 0.05498831496014741, 0.9192993293603368, 0.02573921125794134, 0.11765822926579994, 0.8034735763231365, 0.07109828827291655, 0.00755026070154866, 0.006729643471357173, 0.435931349311248, 0.4206027169598233, 0.13683608391759586, 0.9902492260298573, 0.0035849602800562567, 0.09679392756151893, 0.8998250302941204, 0.9929832634452277, 0.4090570143183131, 0.44673331826868407, 0.12783031697447284, 0.016146987407301833, 0.9948059096386098, 0.9972400888357027, 0.9974147763295491, 0.9971356100926627, 0.09424623185706263, 0.8742578086740679, 0.03100204995298113, 0.17560385060290226, 0.46230401485253864, 0.2768448461035551, 0.0860100492748909, 0.9961851948533723, 0.9933502420334461, 0.9948718117443498, 0.0030056550203756793, 0.0030056550203756793, 0.9949339726281239, 0.9944077542497948, 0.05431259154410148, 0.12129812111515997, 0.8237409717522057, 0.06418598386286624, 0.1984698185233364, 0.22971825803552126, 0.506731451548944, 0.9542727530697949, 0.04615717478290346, 0.9942930981691024, 0.9987296488858544, 0.032578397388982695, 0.7229238708057254, 0.188875567048677, 0.05566025788724979, 0.9521418067863338, 0.04682664623539346, 0.9971356100926865, 0.9912353168585173, 0.008376636480494512, 0.025296050274798594, 0.7316092040414406, 0.2367552205406931, 0.0063240125686996485, 0.00912179544613357, 0.7688639130679182, 0.210647647415868, 0.011378734525589298, 0.9951857360683922, 0.9980861108162226, 0.9991818753209651, 0.9962251043677217, 0.9977508125766712, 0.9971356100926835, 0.26428612869665025, 0.028571473372610835, 0.7071439659721181, 0.9959094606209243, 0.994805452924122, 0.9981015467515645, 0.9957378386442653, 0.99880174110653, 0.9953078053626935, 0.0393452937529853, 0.26275813567211054, 0.474196322970762, 0.2237549749082816, 0.9350377058850442, 0.026588749930380403, 0.0398831248955706, 0.9971356100927113, 0.05773951289823949, 0.27323974214048763, 0.45100469917365016, 0.2177734384114702, 0.9963278796311478, 0.00308119872218614, 0.7569478194170618, 0.1697226962804199, 0.07035403748991687, 0.00972820033002683, 0.37888780232736075, 0.22989273411484457, 0.3814478550457889, 0.9962075240981354, 0.8373996544044122, 0.12942331365219986, 0.03312620528002735, 0.10641287310501966, 0.4242490163330273, 0.20651460381830833, 0.2627889568112429, 0.9942701722765275, 0.0060685314763387725, 0.07842409907883952, 0.9154146327000257, 0.00046699375440016627, 0.4679277419089666, 0.45625289804896246, 0.07518599445842677, 0.0012672684132875188, 0.9567876520320767, 0.04181985763848812, 0.99554385100984, 0.0286751739096083, 0.20185073399116432, 0.7151925728043482, 0.05453905625945108, 0.9930740954108045, 0.0017759085102881389, 0.9945087657613577, 0.0035518170205762777, 0.9549650502422272, 0.03933134473814775, 0.004719761368577729, 0.04337710936828397, 0.9542964061022473, 0.0018458344412035732, 0.012619380370329126, 0.9180599219414439, 0.0694065920368102, 0.9944427116484584, 0.20018854198953084, 0.07807353137591702, 0.7220133414422412, 0.9924831047785312, 0.9952034809710949, 0.9926401878557594, 0.7413017077285694, 0.13026068346668151, 0.11131367496243694, 0.016578632441214013, 0.9972299393009136, 0.573065156510508, 0.37303297923797224, 0.052981495601914896, 0.9966841541778245, 0.1836930796036453, 0.501251561347599, 0.3086341216012664, 0.006693270107015416, 0.5630587411412332, 0.4338917924464753, 0.0018192527985177163, 0.9946750535550151, 0.015402141332327847, 0.07966624827066128, 0.8590677105186308, 0.04594086983608134, 0.01792398795230571, 0.9567995473587952, 0.02560569707472244, 0.002617291030173971, 0.997187882496283, 0.007481292307744156, 0.4957794863939685, 0.2816994295877511, 0.21465554082989002, 0.06359638123087173, 0.9353967739374052, 0.017092290546501698, 0.7999191975762795, 0.18288750884756816, 0.0015817648579837323, 0.9205871473465321, 0.07750647804120288, 0.9961046288057389, 0.0038608706542858097, 0.9972548084879119, 0.35133597930126725, 0.3437946767152552, 0.3047573456817811, 0.32683796565640555, 0.1558180999059608, 0.5168600387124553, 0.32035736729560316, 0.29855293915506476, 0.37570706949850846, 0.005031791109355024, 0.9973208866346824, 0.11190320886075078, 0.5175967470162346, 0.29059309475585443, 0.07957561518986722, 0.9313169580753349, 0.06764855196174858, 0.0006567820578810542, 0.03815205486716193, 0.041331392772758754, 0.9188286547174831, 0.0033233179070170068, 0.011924846607531613, 0.9604388751279149, 0.024240671792359343, 0.0070909444892226555, 0.9927322284911717, 0.0014886509101688335, 0.9676230916097417, 0.031261669113545505, 0.9411751043649655, 0.05738872587591253, 0.9747267941191721, 0.024166780019483605, 0.975264775872257, 0.022165108542551295, 0.993906709147297, 0.8888530272239281, 0.08165172691514506, 0.029043902862434152, 0.0685777016296815, 0.9107682428763866, 0.020667252545931415, 0.999638618508201, 0.9969219060898841, 0.9956410626317497, 0.004097288323587447, 0.9979510799492951, 0.9960652574562135, 0.9973350546243711, 0.14593209996685758, 0.5980488395838042, 0.2223077784541849, 0.033414359338205704, 0.008924799767961728, 0.3138554585066541, 0.5641217186665809, 0.11341933038451361, 0.01265992388377611, 0.9709187778557524, 0.016555285078784145, 0.9975509836795695, 0.9959328052737597, 0.9962708562841543, 0.9974145674999357, 0.9683828449218173, 0.031171121617655062, 0.9960786751449049, 0.05400677649068089, 0.3734062280800983, 0.20716661919472124, 0.3653895971947629, 0.28697852720295086, 0.12870067654505596, 0.5835496514154711, 0.0010141115645925655, 0.4608122949508617, 0.3198507874724951, 0.21823680870032006, 0.027642764589777945, 0.7262508151314387, 0.2462719027089308, 0.08636392973095498, 0.8996242680307811, 0.013194489264451456, 0.991431890759984, 0.00635533263307682, 0.036747425511485556, 0.1607699866127493, 0.8023187903341013, 0.08642565500574872, 0.15873226736204346, 0.5861541948409691, 0.16857281223893564, 0.9949344101015193, 0.514978660211679, 0.48446140627320916, 0.942658255381134, 0.05688454989368912, 0.9958224744519002, 0.9896562308996945, 0.008802901396724249, 0.9111002945609599, 0.08032647524510877, 0.0034008742257109524, 0.9329731625867047, 0.06348298554660445, 0.045022603597075286, 0.22075599183082076, 0.30208714671586, 0.4320717603267709, 0.9971966170680182, 0.9992107764001138, 0.9993583909864483, 0.03308048180435415, 0.018903132459630944, 0.03150522076605157, 0.9168019242921007, 0.993062202966662, 0.039174514424362095, 0.23453163240900993, 0.35411699223074683, 0.3721578870314399, 0.9361593558102747, 0.06199730833180627, 0.37106209276545377, 0.3690671352774675, 0.2583469946942272, 0.0009974787439931553, 0.9924932298285798, 0.998052778273108, 0.20005244671918873, 0.03192326277433863, 0.7682865241024163, 0.013717254666212746, 0.9842130223007646, 0.12762959586130107, 0.11055239641507064, 0.7612835753135352, 0.9967601596943932, 0.23955133217528476, 0.660000964163349, 0.10063625552724592, 0.9914546079535406, 0.9965083651653158, 0.14280183149118633, 0.7409201408980397, 0.11589084804907826, 0.09367988223303815, 0.5380263506627191, 0.34391488297264006, 0.02447492418700997, 0.9949196947566256, 0.004461523294872761, 0.9970045886720145, 0.5786140940077084, 0.3845878109871595, 0.01732377526969187, 0.02078853032363024, 0.46752310266656455, 0.14690747175085256, 0.3384827558583833, 0.04665304846141939, 0.16203124996091403, 0.19191406245370554, 0.6461328123441367, 0.01588878360305009, 0.2924833226520649, 0.4429403755462535, 0.24870810252121262, 0.059767257561441994, 0.5650243820566279, 0.2430184084987267, 0.13243581741588248, 0.1395136760331562, 0.5269168691918914, 0.15204968750280212, 0.18156997257648444, 0.17145908253934605, 0.6220376017706508, 0.20645977380706787, 0.06070479092753207, 0.686578869541138, 0.19594584413317312, 0.05686271555237181, 0.0035761978337270376, 0.4011301903497161, 0.34957333824681797, 0.24556558458258992, 0.9868751812726712, 0.010703635371720945, 0.21018960505312348, 0.07173137315305007, 0.7173137315305008, 0.05020310797690255, 0.951069990006876, 0.7091095162426645, 0.21657532023174975, 0.027945202610548354, 0.048904104568459617, 0.6533773154001921, 0.3096932940047153, 0.033990727390761435, 0.037871270065666957, 0.9502245943749164, 0.010328528199727351, 0.8114719553953912, 0.14490570632060557, 0.03864152168549482, 0.05477780426665506, 0.9097028208569501, 0.03521430274284968, 0.0038454272228926867, 0.9959656507292058, 0.005447109712983312, 0.9913739677629626, 0.005314749984016802, 0.04783274985615121, 0.9460254971549906, 0.9962071968170059, 0.9662891063244876, 0.031785825865937097, 0.46180856250508623, 0.27844339798100787, 0.2590396768673488, 0.9961544030364223, 0.9977699953988843, 0.99815131895729, 0.044861199544799765, 0.20799283425316256, 0.7470069439353779, 0.21487352206720697, 0.30014079272879707, 0.4749386975850567, 0.010232072479390808, 0.01393757538709181, 0.9756302770964267, 0.010453181540318858, 0.9970308606970743, 0.317791534494757, 0.6678720484301577, 0.013595359764481582, 0.9951103926454244, 0.004364519265988703, 0.005811994486987963, 0.18404649208795218, 0.8098045651869895, 0.9970353953056931, 0.035072705877597046, 0.14454206058646055, 0.7981697610325873, 0.021256185380361847, 0.9985564296712397, 0.9971356100927196, 0.011185878805581962, 0.8424123900479656, 0.10877302838531425, 0.0374148360048776, 0.2057003393253015, 0.5870825474045088, 0.18552399025272406, 0.02214477337234107, 0.9984565389195819, 0.3653568786616813, 0.16479927292824775, 0.4695224568333096, 0.020041918118879447, 0.8571160604472026, 0.08515322424638332, 0.03769077138774343, 0.9950819506386491, 0.028670062463559326, 0.9646632781856432, 0.006183738962728482, 0.9901943178102139, 0.006924435788882615, 0.005248983426456174, 0.9946823593134448, 0.01895571915579107, 0.9762195365232401, 0.0031592865259651784, 0.9973003911823111, 0.002518435331268462, 0.4568545979119999, 0.14833845938301216, 0.39487280032942673, 0.9950139821385017, 0.9942705774487245, 0.9956750276863704, 0.9932225628114311, 0.9957759006813345, 0.6230176813639393, 0.17397580255030667, 0.20301831212531776, 0.03477372012512355, 0.7021616563726871, 0.1534056037827566, 0.10967096347154352, 0.9964676100681691, 0.3606511552196323, 0.21899411972996782, 0.4196111105315467, 0.9972197915273926, 0.8860863511922913, 0.11312332024318147, 0.0005558885515635453, 0.04504141005320377, 0.7006696900623383, 0.20751221060226022, 0.04687983495333453, 0.014703796268764736, 0.9851543500072373, 0.0038454264513544554, 0.995965450900804, 0.9971667407116395, 0.7312756676832192, 0.17331689421182325, 0.09540030799817463, 0.7075508091257865, 0.20522191229823217, 0.08723718919994539, 0.9911514533364979, 0.029309517782809484, 0.6745954865295419, 0.22708919062615804, 0.06910374111394106, 0.9942706765016117, 0.012964005155190523, 0.974152387375745, 0.012964005155190523, 0.006623213929779804, 0.9780279236308177, 0.015454165836152875, 0.9940413835765124, 0.9939893456058179, 0.9972111684789289, 0.9598707958568483, 0.038140561424775433, 0.9942704761595103, 0.03809368214754803, 0.0034630620134134577, 0.9592681777155279, 0.03068905562462578, 0.5159171240006534, 0.3300778427181973, 0.12343820151238369, 0.7907256159738678, 0.20269869851106764, 0.008027671228161094, 0.9962245912883293, 0.03436588234274171, 0.9622447055967678, 0.9944075618530206], \"Term\": [\"able\", \"able\", \"able\", \"able\", \"accommodations\", \"accommodations\", \"accommodations made\", \"account\", \"account\", \"account\", \"account health\", \"account health\", \"account life\", \"agile\", \"agile\", \"agile\", \"agile development\", \"agile environment\", \"agile software\", \"android\", \"angeles\", \"angeles\", \"angeles\", \"angular\", \"angular\", \"apis\", \"apis\", \"applications\", \"applications\", \"applications\", \"applications\", \"appropriate\", \"appropriate\", \"appropriate\", \"appropriate\", \"architecture\", \"architecture\", \"architecture design\", \"architectures\", \"architectures\", \"arms\", \"assigned\", \"assigned\", \"assigned\", \"assistance\", \"assistance\", \"assistance\", \"assistance program\", \"assistance program\", \"assistance referral\", \"assists\", \"assists\", \"assists\", \"azure\", \"azure\", \"backend\", \"backend\", \"backend\", \"base\", \"base\", \"base\", \"base\", \"based\", \"based\", \"based\", \"based\", \"basis merit\", \"believe environment\", \"bend\", \"biolife\", \"biolife feel\", \"biolife plasma\", \"biological\", \"biology\", \"biology\", \"biostatistics\", \"bonus education\", \"bottom email\", \"business\", \"business\", \"business\", \"business\", \"cancer\", \"cassandra\", \"chance\", \"chance\", \"chance\", \"clicking\", \"clicking\", \"clicking\", \"clicking word\", \"clinical\", \"clinical\", \"clinical\", \"cloud\", \"cloud\", \"cloud\", \"code\", \"code\", \"code\", \"code\", \"communication\", \"communication\", \"communication\", \"communication\", \"companys website\", \"computational\", \"computational\", \"computational\", \"computational biology\", \"content\", \"content\", \"content\", \"content\", \"content discovery\", \"continuous integration\", \"copyright\", \"copyright rights\", \"covid\", \"covid\", \"covid\", \"critical\", \"critical\", \"critical\", \"critical\", \"crouch\", \"debug\", \"debugging\", \"debugging\", \"debugging\", \"decided\", \"decided basis\", \"demands\", \"demands\", \"demands\", \"department\", \"department\", \"department\", \"department\", \"deployment\", \"deployment\", \"depth perception\", \"described representative\", \"design\", \"design\", \"design\", \"design\", \"design development\", \"design development\", \"detail link\", \"developer\", \"developer\", \"developing\", \"developing\", \"developing\", \"developing\", \"development\", \"development\", \"development\", \"development\", \"development assistance\", \"development life\", \"devops\", \"diploma\", \"diploma equivalent\", \"directly clicking\", \"disabilities\", \"disabilities\", \"disabilities\", \"disabilities functions\", \"discovery platform\", \"docker\", \"donor\", \"donors\", \"editorial\", \"education\", \"education\", \"education\", \"education\", \"education professional\", \"education professional\", \"education professional\", \"email search\", \"employees\", \"employees\", \"employees\", \"employees\", \"enable individuals\", \"engineer\", \"engineer\", \"engineer\", \"engineer\", \"ensure\", \"ensure\", \"ensure\", \"ensure\", \"ensuring safety\", \"enterprise\", \"enterprise\", \"enterprise\", \"environment\", \"environment\", \"environment\", \"environment\", \"environment critical\", \"equipment\", \"equipment\", \"equipment\", \"excellent\", \"excellent\", \"excellent\", \"excellent\", \"features\", \"features\", \"features\", \"finger\", \"flexible\", \"flexible\", \"flexible\", \"flexible\", \"flexible flexible\", \"flexible spending\", \"flexible spending\", \"flexible spending\", \"framework\", \"framework\", \"framework\", \"frameworks\", \"frameworks\", \"frameworks\", \"friday\", \"friday\", \"friday\", \"friday supplemental\", \"functions\", \"functions\", \"functions\", \"genetics\", \"genomic\", \"genomics\", \"going\", \"going\", \"going\", \"going\", \"going detail\", \"google\", \"google\", \"google\", \"google google\", \"growing\", \"growing\", \"growing\", \"growing\", \"hadoop\", \"hadoop\", \"hadoop\", \"hadoop stack\", \"health\", \"health\", \"health\", \"health\", \"health insurance\", \"health insurance\", \"health insurance\", \"health savings\", \"health savings\", \"high\", \"high\", \"high\", \"high\", \"high school\", \"high school\", \"hour\", \"hour\", \"hour\", \"hour shift\", \"hour shift\", \"hour shift\", \"html\", \"html\", \"html javascript\", \"include\", \"include\", \"include\", \"individuals\", \"individuals\", \"individuals\", \"industries\", \"industries\", \"industries\", \"industries\", \"industries software\", \"industry\", \"industry\", \"industry\", \"industry\", \"infrastructure\", \"infrastructure\", \"infrastructure\", \"instructions\", \"instructions\", \"instructions\", \"insurance\", \"insurance\", \"insurance\", \"insurance\", \"insurance flexible\", \"insurance flexible\", \"insurance health\", \"insurance health\", \"insurance health\", \"insurance hour\", \"insurance hour\", \"insurance insurance\", \"insurance insurance\", \"insurance monday\", \"insurance monday\", \"insurance parental\", \"integration\", \"integration\", \"integration\", \"java\", \"java\", \"java\", \"javascript\", \"jenkins\", \"jira\", \"jira\", \"jquery\", \"json\", \"kubernetes\", \"least\", \"least\", \"least\", \"least\", \"life\", \"life\", \"life\", \"life\", \"life insurance\", \"life insurance\", \"life insurance\", \"lift\", \"lift move\", \"lifting\", \"link bottom\", \"linux\", \"linux\", \"made enable\", \"maintain\", \"maintain\", \"maintain\", \"maintain\", \"maintenance\", \"maintenance\", \"maintenance\", \"management\", \"management\", \"management\", \"management\", \"manufacturing\", \"manufacturing\", \"manufacturing\", \"matching\", \"matching\", \"matching\", \"matching insurance\", \"matching insurance\", \"mechanical\", \"mechanical\", \"mechanical\", \"medical\", \"medical\", \"medical\", \"medical\", \"merit business\", \"middot\", \"middot\", \"modern\", \"modern\", \"molecular\", \"molecular biology\", \"monday\", \"monday\", \"monday\", \"monday friday\", \"monday friday\", \"monday friday\", \"needed\", \"needed\", \"needed\", \"needed\", \"node\", \"object\", \"object oriented\", \"occasionally\", \"occasionally\", \"occasionally\", \"occasionally\", \"occasionally lift\", \"office\", \"office\", \"office\", \"office\", \"open positions\", \"open positions\", \"optimization\", \"optimization\", \"optimization\", \"optimization\", \"optimization stochastic\", \"oriented design\", \"performs\", \"performs\", \"performs\", \"periods\", \"periods\", \"physical\", \"physical\", \"physical\", \"physical demands\", \"plan\", \"plan\", \"plan\", \"plan tuition\", \"plasma\", \"platform\", \"platform\", \"platform\", \"plus\", \"plus\", \"plus\", \"plus\", \"postgresql\", \"postgresql\", \"pounds\", \"powered\", \"powered\", \"powered\", \"powered\", \"predictive\", \"predictive\", \"predictive\", \"predictive\", \"procedures\", \"procedures\", \"procedures\", \"process\", \"process\", \"process\", \"process\", \"product\", \"product\", \"product\", \"product\", \"production\", \"production\", \"production\", \"production\", \"program\", \"program\", \"program\", \"programming\", \"programming\", \"programming\", \"programming\", \"quality\", \"quality\", \"quality\", \"quality\", \"react\", \"react\", \"reasonable\", \"reasonable\", \"reasonable\", \"reasonable accommodations\", \"reasonable accommodations\", \"reasons\", \"reasons\", \"reasons\", \"reasons\", \"recommendation\", \"recommendation\", \"recommendation\", \"reimbursement\", \"reimbursement\", \"reimbursement\", \"reinforcement\", \"reinforcement\", \"reinforcement\", \"remotely\", \"remotely\", \"remotely\", \"remotely temporarily\", \"remotely temporarily\", \"repair\", \"repair\", \"representative\", \"representative\", \"representative\", \"representative successfully\", \"reserved\", \"reserved\", \"responsible\", \"responsible\", \"responsible\", \"restful\", \"rights reserved\", \"ruby\", \"safety\", \"safety\", \"safety\", \"salary\", \"salary\", \"salary\", \"salary\", \"savings\", \"savings\", \"savings\", \"savings account\", \"scala\", \"scala\", \"scala\", \"scalability\", \"scalability\", \"school\", \"school\", \"school\", \"school diploma\", \"scientific\", \"scientific\", \"scientific\", \"scientific\", \"scrum\", \"search open\", \"security\", \"security\", \"security\", \"security\", \"senior\", \"senior\", \"senior\", \"senior\", \"senior software\", \"service\", \"service\", \"service\", \"software\", \"software\", \"software\", \"software\", \"software developer\", \"software development\", \"software development\", \"software development\", \"software education\", \"software education\", \"software engineer\", \"software engineer\", \"spending\", \"spending\", \"spending\", \"spending account\", \"spending account\", \"standards\", \"standards\", \"standards\", \"stochastic\", \"stochastic reinforcement\", \"stoop\", \"successfully functions\", \"supplemental bonus\", \"system\", \"system\", \"system\", \"systems\", \"systems\", \"systems\", \"systems\", \"takeda\", \"tasks\", \"tasks\", \"tasks\", \"technician\", \"technologies\", \"technologies\", \"technologies\", \"technology\", \"technology\", \"technology\", \"technology\", \"temporarily\", \"temporarily\", \"temporarily covid\", \"temporarily covid\", \"terraform\", \"test\", \"test\", \"test\", \"testing\", \"testing\", \"testing\", \"therapeutic\", \"tools\", \"tools\", \"tools\", \"tools\", \"tribune\", \"tuition\", \"tuition\", \"tuition\", \"tuition reimbursement\", \"tuition reimbursement\", \"tuition reimbursement\", \"uline\", \"unique visitors\", \"unit testing\", \"vacation medical\", \"vacation medical\", \"visitors month\", \"walk\", \"walk\", \"walk\", \"well\", \"well\", \"well\", \"well\", \"whats\", \"whats\", \"whats\", \"word going\", \"worker\", \"worker\", \"writers\"]}, \"R\": 30, \"lambda.step\": 0.01, \"plot.opts\": {\"xlab\": \"PC1\", \"ylab\": \"PC2\"}, \"topic.order\": [1, 2, 3, 4]};\n",
       "\n",
       "function LDAvis_load_lib(url, callback){\n",
       "  var s = document.createElement('script');\n",
       "  s.src = url;\n",
       "  s.async = true;\n",
       "  s.onreadystatechange = s.onload = callback;\n",
       "  s.onerror = function(){console.warn(\"failed to load library \" + url);};\n",
       "  document.getElementsByTagName(\"head\")[0].appendChild(s);\n",
       "}\n",
       "\n",
       "if(typeof(LDAvis) !== \"undefined\"){\n",
       "   // already loaded: just create the visualization\n",
       "   !function(LDAvis){\n",
       "       new LDAvis(\"#\" + \"ldavis_el4720819203766962645316931245\", ldavis_el4720819203766962645316931245_data);\n",
       "   }(LDAvis);\n",
       "}else if(typeof define === \"function\" && define.amd){\n",
       "   // require.js is available: use it to load d3/LDAvis\n",
       "   require.config({paths: {d3: \"https://cdnjs.cloudflare.com/ajax/libs/d3/3.5.5/d3.min\"}});\n",
       "   require([\"d3\"], function(d3){\n",
       "      window.d3 = d3;\n",
       "      LDAvis_load_lib(\"https://cdn.rawgit.com/bmabey/pyLDAvis/files/ldavis.v1.0.0.js\", function(){\n",
       "        new LDAvis(\"#\" + \"ldavis_el4720819203766962645316931245\", ldavis_el4720819203766962645316931245_data);\n",
       "      });\n",
       "    });\n",
       "}else{\n",
       "    // require.js not available: dynamically load d3 & LDAvis\n",
       "    LDAvis_load_lib(\"https://cdnjs.cloudflare.com/ajax/libs/d3/3.5.5/d3.min.js\", function(){\n",
       "         LDAvis_load_lib(\"https://cdn.rawgit.com/bmabey/pyLDAvis/files/ldavis.v1.0.0.js\", function(){\n",
       "                 new LDAvis(\"#\" + \"ldavis_el4720819203766962645316931245\", ldavis_el4720819203766962645316931245_data);\n",
       "            })\n",
       "         });\n",
       "}\n",
       "</script>"
      ],
      "text/plain": [
       "PreparedData(topic_coordinates=                x           y  topics  cluster       Freq\n",
       "topic                                                    \n",
       "0      269.562408 -124.803398       1        1   5.768001\n",
       "1        1.782994 -295.079681       2        1  45.824513\n",
       "2      220.811432 -343.832123       3        1  30.109115\n",
       "3       50.533993  -76.050934       4        1  18.298371, topic_info=     Category         Freq         Term        Total  loglift  logprob\n",
       "3331  Default  5115.000000    insurance  5115.000000  30.0000  30.0000\n",
       "2237  Default  5704.000000  environment  5704.000000  29.0000  29.0000\n",
       "2263  Default  2142.000000    equipment  2142.000000  28.0000  28.0000\n",
       "1011  Default  3178.000000         code  3178.000000  27.0000  27.0000\n",
       "2894  Default  1099.000000       hadoop  1099.000000  26.0000  26.0000\n",
       "...       ...          ...          ...          ...      ...      ...\n",
       "6304   Topic4   727.116447       system  3580.957759   0.1041  -5.7397\n",
       "6317   Topic4   820.181541      systems  7476.910698  -0.5117  -5.6193\n",
       "2043   Topic4   654.288547    education  2922.840041   0.2016  -5.8452\n",
       "4039   Topic4   508.212846       middot  1048.587139   0.9741  -6.0979\n",
       "5445   Topic4   534.228931  responsible  2061.460261   0.3480  -6.0480\n",
       "\n",
       "[341 rows x 6 columns], token_table=      Topic      Freq            Term\n",
       "term                                 \n",
       "4         1  0.008413            able\n",
       "4         2  0.325708            able\n",
       "4         3  0.245183            able\n",
       "4         4  0.420656            able\n",
       "44        2  0.117153  accommodations\n",
       "...     ...       ...             ...\n",
       "6994      3  0.008028           whats\n",
       "7042      1  0.996225      word going\n",
       "7047      3  0.034366          worker\n",
       "7047      4  0.962245          worker\n",
       "7079      1  0.994408         writers\n",
       "\n",
       "[634 rows x 3 columns], R=30, lambda_step=0.01, plot_opts={'xlab': 'PC1', 'ylab': 'PC2'}, topic_order=[1, 2, 3, 4])"
      ]
     },
     "execution_count": 32,
     "metadata": {},
     "output_type": "execute_result"
    }
   ],
   "source": [
    "# This is a interactive visualization \n",
    "warnings.filterwarnings(\"ignore\", category=DeprecationWarning) \n",
    "pyLDAvis.enable_notebook()\n",
    "df = job_df[job_df['LDA_cluster']==0]\n",
    "tf_docs= tf_vectorizer.fit_transform(df.cleaned_jd)\n",
    "panel = pyLDAvis.sklearn.prepare(best_models[0], tf_docs, tf_vectorizer, mds='tsne', sort_topics=False)\n",
    "panel"
   ]
  },
  {
   "cell_type": "code",
   "execution_count": 33,
   "metadata": {
    "colab": {
     "base_uri": "https://localhost:8080/",
     "height": 861
    },
    "executionInfo": {
     "elapsed": 13094,
     "status": "ok",
     "timestamp": 1628214663007,
     "user": {
      "displayName": "Laiya Lubben",
      "photoUrl": "https://lh3.googleusercontent.com/a/default-user=s64",
      "userId": "11817724685368002439"
     },
     "user_tz": 420
    },
    "id": "yauwtSYHB3hG",
    "outputId": "9a919d08-e878-42d0-8810-0935392bd000"
   },
   "outputs": [
    {
     "data": {
      "text/html": [
       "\n",
       "<link rel=\"stylesheet\" type=\"text/css\" href=\"https://cdn.rawgit.com/bmabey/pyLDAvis/files/ldavis.v1.0.0.css\">\n",
       "\n",
       "\n",
       "<div id=\"ldavis_el4720819203766952405993261505\"></div>\n",
       "<script type=\"text/javascript\">\n",
       "\n",
       "var ldavis_el4720819203766952405993261505_data = {\"mdsDat\": {\"x\": [-60.31231689453125, 60.31256103515625], \"y\": [141.36962890625, -141.369140625], \"topics\": [1, 2], \"cluster\": [1, 1], \"Freq\": [36.027416221894235, 63.972583778105765]}, \"tinfo\": {\"Category\": [\"Default\", \"Default\", \"Default\", \"Default\", \"Default\", \"Default\", \"Default\", \"Default\", \"Default\", \"Default\", \"Default\", \"Default\", \"Default\", \"Default\", \"Default\", \"Default\", \"Default\", \"Default\", \"Default\", \"Default\", \"Default\", \"Default\", \"Default\", \"Default\", \"Default\", \"Default\", \"Default\", \"Default\", \"Default\", \"Default\", \"Topic1\", \"Topic1\", \"Topic1\", \"Topic1\", \"Topic1\", \"Topic1\", \"Topic1\", \"Topic1\", \"Topic1\", \"Topic1\", \"Topic1\", \"Topic1\", \"Topic1\", \"Topic1\", \"Topic1\", \"Topic1\", \"Topic1\", \"Topic1\", \"Topic1\", \"Topic1\", \"Topic1\", \"Topic1\", \"Topic1\", \"Topic1\", \"Topic1\", \"Topic1\", \"Topic1\", \"Topic1\", \"Topic1\", \"Topic1\", \"Topic1\", \"Topic1\", \"Topic1\", \"Topic1\", \"Topic1\", \"Topic1\", \"Topic1\", \"Topic1\", \"Topic1\", \"Topic1\", \"Topic1\", \"Topic1\", \"Topic1\", \"Topic1\", \"Topic1\", \"Topic1\", \"Topic1\", \"Topic1\", \"Topic1\", \"Topic1\", \"Topic1\", \"Topic1\", \"Topic1\", \"Topic1\", \"Topic1\", \"Topic1\", \"Topic1\", \"Topic1\", \"Topic1\", \"Topic1\", \"Topic1\", \"Topic1\", \"Topic1\", \"Topic1\", \"Topic1\", \"Topic1\", \"Topic1\", \"Topic1\", \"Topic1\", \"Topic1\", \"Topic1\", \"Topic1\", \"Topic1\", \"Topic1\", \"Topic1\", \"Topic1\", \"Topic1\", \"Topic1\", \"Topic1\", \"Topic1\", \"Topic1\", \"Topic1\", \"Topic1\", \"Topic1\", \"Topic2\", \"Topic2\", \"Topic2\", \"Topic2\", \"Topic2\", \"Topic2\", \"Topic2\", \"Topic2\", \"Topic2\", \"Topic2\", \"Topic2\", \"Topic2\", \"Topic2\", \"Topic2\", \"Topic2\", \"Topic2\", \"Topic2\", \"Topic2\", \"Topic2\", \"Topic2\", \"Topic2\", \"Topic2\", \"Topic2\", \"Topic2\", \"Topic2\", \"Topic2\", \"Topic2\", \"Topic2\", \"Topic2\", \"Topic2\", \"Topic2\", \"Topic2\", \"Topic2\", \"Topic2\", \"Topic2\", \"Topic2\", \"Topic2\", \"Topic2\", \"Topic2\", \"Topic2\", \"Topic2\", \"Topic2\", \"Topic2\", \"Topic2\", \"Topic2\", \"Topic2\", \"Topic2\", \"Topic2\", \"Topic2\", \"Topic2\", \"Topic2\", \"Topic2\", \"Topic2\", \"Topic2\", \"Topic2\", \"Topic2\", \"Topic2\", \"Topic2\", \"Topic2\", \"Topic2\", \"Topic2\", \"Topic2\", \"Topic2\", \"Topic2\", \"Topic2\", \"Topic2\", \"Topic2\", \"Topic2\", \"Topic2\", \"Topic2\", \"Topic2\", \"Topic2\", \"Topic2\", \"Topic2\", \"Topic2\", \"Topic2\", \"Topic2\", \"Topic2\", \"Topic2\", \"Topic2\", \"Topic2\", \"Topic2\", \"Topic2\", \"Topic2\", \"Topic2\", \"Topic2\", \"Topic2\", \"Topic2\", \"Topic2\", \"Topic2\", \"Topic2\", \"Topic2\", \"Topic2\", \"Topic2\", \"Topic2\", \"Topic2\", \"Topic2\", \"Topic2\", \"Topic2\", \"Topic2\"], \"Freq\": [4758.0, 2989.0, 2291.0, 2889.0, 8028.0, 11991.0, 3770.0, 1733.0, 1414.0, 1054.0, 2833.0, 3347.0, 1678.0, 871.0, 3296.0, 803.0, 752.0, 4492.0, 3004.0, 734.0, 2873.0, 797.0, 2049.0, 1744.0, 1352.0, 5388.0, 5792.0, 710.0, 2186.0, 2829.0, 2290.3188576622792, 1053.373489915242, 752.3958089494697, 733.5733985152762, 870.9673183843413, 532.47444203748, 493.83176035231565, 419.53464036601446, 414.5579945293615, 350.1943373200577, 366.98520792928986, 277.86969420657505, 277.8540421085317, 303.4994707481151, 254.0317473031901, 217.43606962486353, 217.42349450626728, 205.5354889023982, 197.61824000168983, 188.71551878190022, 222.30438937604893, 198.59163910940148, 257.8270907000796, 245.9546580614744, 165.92537248715067, 162.95836672515534, 162.95836672515534, 161.96858303606214, 162.95554379214107, 173.81094372070137, 793.1213714415583, 270.4877230376912, 266.94415717365723, 206.36963912222265, 693.6615759674037, 772.4748128672672, 2765.112703631738, 4220.683606649717, 1301.6338944754991, 576.3657877239251, 261.95994878654443, 2451.2438104896987, 1491.6294872692754, 378.8684375819652, 536.7881448987345, 461.12106771089987, 1299.4058355068742, 586.8901537417065, 1030.7457568907091, 1209.5092958356968, 2035.5421031652825, 5447.092960504059, 1340.142150783675, 1902.7218903478529, 1742.7487789911884, 1682.419746660206, 1355.9153951864203, 2526.118530908899, 2641.1877183062365, 1590.0396480133716, 1210.2139951279055, 2150.39248786243, 1233.1810015738245, 1553.2044960980181, 3739.338353341543, 2394.1619673580026, 2897.372776078577, 2234.2795074958126, 1897.8232057909956, 3166.4229432884954, 2008.5569812607848, 1780.5424930439633, 1790.52113222825, 1750.1284037932116, 1661.6229868366647, 1587.2139255203, 1575.5799072705381, 1596.2976797664655, 1690.346288469305, 1674.673434612306, 1803.6689844914317, 1716.9588058400361, 1728.4487565701602, 1598.8121353173976, 780.8767796434449, 845.6857372886226, 549.335611367152, 598.0642818805388, 425.61734858875246, 359.74942053561205, 404.5442279614701, 360.68683461840857, 328.7654359951146, 297.867790209069, 244.99123607782533, 254.94436512622033, 229.02230558686057, 222.99752803545613, 218.99559739726018, 304.54331443075364, 186.1057782715478, 233.8721040015999, 194.06110635652718, 204.01049347166426, 196.04858056392942, 200.02890646054576, 244.80247137681994, 215.93436516713254, 175.1249760047632, 391.0143713813122, 164.13753357742632, 182.0336007252838, 159.15129374932587, 161.12018257442062, 2797.2087581593387, 987.0383185303258, 3701.7720289874883, 772.4805848612189, 539.4709565416632, 510.89275417682524, 789.4209772512144, 546.7393374776149, 326.8750570292556, 865.4305673398359, 402.0842902101683, 580.8492230469506, 1095.9489630426008, 1355.7230554152798, 1503.3495714920728, 7554.916565262793, 784.4091171552674, 452.3912326740571, 4211.882311161457, 1567.3892492742903, 2438.9428399909943, 2615.75566909364, 700.8302401268353, 2774.9914333129173, 4387.940879451294, 625.7289700917861, 986.7427654950466, 2971.3455766510533, 1584.9947814764173, 1953.7841172459518, 1760.2534371576749, 1446.5364172219479, 6955.886446154519, 1868.3864249119727, 2385.410228708342, 5921.960214559556, 1724.7228174772122, 1889.6744977669152, 2799.8691798579734, 2031.117578266507, 1888.0491396655516, 3518.9394904287365, 7322.510615078423, 8120.53347565858, 4774.936696287058, 2813.3869461652434, 4507.752387778648, 2226.750122298193, 2029.1205745485763, 3293.974595224032, 2673.899312566807, 5192.516146622998, 2772.642881661614, 2620.551304989508, 2745.1312090129113, 3707.014474187306, 6543.929691227555, 3612.0321733154706, 3416.8772775829484, 3166.1325796813585, 3100.4019553234903, 3465.057777731032, 2996.5752099783945, 2995.42717945029, 2855.335209934076, 3071.1188703919524, 3151.350979957091, 3015.381518566365, 2835.581758293913, 2862.1058807836753], \"Term\": [\"health\", \"care\", \"clinical\", \"healthcare\", \"product\", \"management\", \"cloud\", \"develops\", \"assigned\", \"health care\", \"sales\", \"system\", \"review\", \"patient\", \"education\", \"patients\", \"unitedhealth\", \"marketing\", \"group\", \"unitedhealth group\", \"issues\", \"performs\", \"plans\", \"procedures\", \"staff\", \"quality\", \"process\", \"drug\", \"appropriate\", \"risk\", \"clinical\", \"health care\", \"unitedhealth\", \"unitedhealth group\", \"patient\", \"davita\", \"nursing\", \"optum\", \"hospital\", \"dialysis\", \"nurse\", \"nurses\", \"acute\", \"healthier\", \"pharmacy\", \"telecommute\", \"clinic\", \"medicare\", \"aetna\", \"telecommuter\", \"drug test\", \"citi\", \"free workplace\", \"drug free\", \"workplace candidates\", \"creates healthier\", \"healthier atmosphere\", \"test beginning\", \"diversity creates\", \"pass drug\", \"patients\", \"lifes\", \"interprets\", \"hospitals\", \"drug\", \"performs\", \"care\", \"health\", \"assigned\", \"claims\", \"administrative\", \"healthcare\", \"develops\", \"walmart\", \"audit\", \"assists\", \"review\", \"word\", \"staff\", \"procedures\", \"system\", \"management\", \"plans\", \"education\", \"group\", \"issues\", \"appropriate\", \"quality\", \"process\", \"risk\", \"medical\", \"multiple\", \"improvement\", \"minimum\", \"development\", \"performance\", \"systems\", \"predictive\", \"responsible\", \"tools\", \"within\", \"ensure\", \"internal\", \"operations\", \"analyze\", \"leadership\", \"financial\", \"programming\", \"based\", \"communication\", \"design\", \"environment\", \"technology\", \"software\", \"dell\", \"amazon\", \"advertising\", \"redshift\", \"paypal\", \"vmware\", \"streaming\", \"harassment\", \"discrimination harassment\", \"teksystems\", \"dell technologies\", \"conduent\", \"grainger\", \"nielsen\", \"databricks\", \"parental\", \"music\", \"distributed systems\", \"looker\", \"saas\", \"startup\", \"airflow\", \"perks\", \"cybersecurity\", \"endless\", \"jobdescriptiont\", \"environment free\", \"fast growing\", \"sensory\", \"free discrimination\", \"sales\", \"media\", \"cloud\", \"brands\", \"cloud based\", \"product managers\", \"love\", \"salesforce\", \"campaigns\", \"architect\", \"discrimination\", \"architectures\", \"passionate\", \"pipelines\", \"azure\", \"product\", \"google\", \"experimentation\", \"marketing\", \"engineer\", \"architecture\", \"digital\", \"stack\", \"platform\", \"technologies\", \"tech\", \"ideal\", \"plus\", \"every\", \"platforms\", \"solution\", \"infrastructure\", \"design\", \"success\", \"global\", \"technology\", \"fast\", \"partner\", \"driven\", \"production\", \"real\", \"create\", \"tools\", \"development\", \"environment\", \"enterprise\", \"software\", \"security\", \"growth\", \"understand\", \"value\", \"systems\", \"clients\", \"client\", \"deliver\", \"based\", \"management\", \"communication\", \"industry\", \"stakeholders\", \"well\", \"performance\", \"high\", \"organization\", \"lead\", \"within\", \"process\", \"predictive\", \"developing\", \"quality\"], \"Total\": [4758.0, 2989.0, 2291.0, 2889.0, 8028.0, 11991.0, 3770.0, 1733.0, 1414.0, 1054.0, 2833.0, 3347.0, 1678.0, 871.0, 3296.0, 803.0, 752.0, 4492.0, 3004.0, 734.0, 2873.0, 797.0, 2049.0, 1744.0, 1352.0, 5388.0, 5792.0, 710.0, 2186.0, 2829.0, 2291.381616042653, 1054.0567748304722, 752.8977979276958, 734.0754449607838, 871.778072041882, 532.9734365150615, 494.3381333980197, 420.03935795336463, 415.0862790047656, 350.69380719092817, 367.5352290392807, 278.37639695141456, 278.37651198741315, 304.1342359205264, 254.6012508648841, 217.94676521148108, 217.9468576330421, 206.059056989775, 198.13379711646843, 189.2178490099687, 222.900640308948, 199.1245740824302, 258.5650808453341, 246.67716574763767, 166.43293307123815, 163.4609461946853, 163.4609461946853, 162.47028964815317, 163.46096694199392, 174.35842576140507, 803.4929650367665, 271.4451340430348, 268.4773846293638, 207.05085737366116, 710.4184347810234, 797.6571220249532, 2989.437597958085, 4758.050802845915, 1414.4811307214356, 615.4791291755256, 266.51815432437843, 2889.955431976967, 1733.420604447661, 398.3837541775611, 584.8341457770605, 504.5578527900951, 1678.9492264699347, 681.2652270892222, 1352.6044539041504, 1744.4754427935895, 3347.06927088491, 11991.022651731615, 2049.880172208837, 3296.153027875607, 3004.9349707136726, 2873.651467794162, 2186.480795650634, 5388.224411692574, 5792.538698263328, 2829.423524901019, 1914.118537090099, 4670.47963566155, 1987.7966352423866, 2861.628039708833, 11859.871829000123, 5859.219745089034, 8089.888922701575, 5249.661026062177, 4113.494537036516, 10488.933558366918, 5079.675851652737, 3997.5985691972455, 4364.76384622657, 4340.112439472797, 3814.8532673785276, 3743.5491077155675, 3752.615991812668, 3991.967170286903, 5397.360762656611, 5286.705607927776, 8759.55543064595, 6491.895502127094, 7650.4089711297165, 6106.564523096045, 781.376317854005, 846.2414215533578, 549.8561665763992, 598.7535466517003, 426.11290374393724, 360.249423684237, 405.15550182676645, 361.24691317711745, 329.313210939562, 298.3776281171364, 245.4873846286297, 255.46650381990688, 229.520473455674, 223.53261598485778, 219.54081743549912, 305.36088357318306, 186.60939948413207, 234.50910817364303, 194.59264248767428, 204.57173437804775, 196.58844333203592, 200.58008425453988, 245.48600741306382, 216.54653234126422, 175.632132274862, 392.1783365196352, 164.65481661938765, 182.6170884176645, 159.6651864333244, 161.66085167987706, 2833.854766878917, 990.9169970166818, 3770.6749214651986, 776.3618088490514, 541.8589932438847, 512.9216332924876, 798.2797088167544, 551.8185246802609, 328.30876867420073, 878.0862843055608, 405.13755427419335, 587.7307946950649, 1116.5335247457517, 1388.8763189846613, 1545.4854708241153, 8028.863484814314, 799.2337927761206, 457.0183998579814, 4492.618033495619, 1638.0831668957658, 2585.5596368740617, 2783.9890377192937, 717.3906918852069, 2992.19669917702, 4832.704906786511, 639.5720437993474, 1032.5221481653632, 3357.1979021738366, 1724.39818126643, 2158.021672797321, 1944.6105468801154, 1583.706322542663, 8759.55543064595, 2107.8661076463673, 2762.495448180609, 7650.4089711297165, 1943.3606675155288, 2155.572632653487, 3381.7037257056927, 2353.7439780177215, 2166.457926102526, 4437.039206781485, 10488.933558366918, 11859.871829000123, 6491.895502127094, 3466.0076156347677, 6106.564523096045, 2636.5159514786633, 2361.654609428841, 4274.912548057727, 3318.3736961784825, 8089.888922701575, 3544.9623637376058, 3302.134069589166, 3567.5465943879967, 5397.360762656611, 11991.022651731615, 5286.705607927776, 4982.1428154381865, 4578.109425395159, 4499.368494777799, 5859.219745089034, 4346.050853869934, 4487.705453396296, 3991.3582620092097, 5079.675851652737, 5792.538698263328, 5249.661026062177, 3951.588134928572, 5388.224411692574], \"loglift\": [30.0, 29.0, 28.0, 27.0, 26.0, 25.0, 24.0, 23.0, 22.0, 21.0, 20.0, 19.0, 18.0, 17.0, 16.0, 15.0, 14.0, 13.0, 12.0, 11.0, 10.0, 9.0, 8.0, 7.0, 6.0, 5.0, 4.0, 3.0, 2.0, 1.0, 1.0204, 1.0202, 1.0202, 1.0202, 1.02, 1.02, 1.0199, 1.0197, 1.0196, 1.0195, 1.0194, 1.0191, 1.019, 1.0188, 1.0187, 1.0185, 1.0185, 1.0183, 1.0183, 1.0182, 1.0182, 1.0182, 1.018, 1.018, 1.0178, 1.0178, 1.0178, 1.0178, 1.0178, 1.0177, 1.0079, 1.0174, 1.0152, 1.0176, 0.997, 0.9888, 0.9429, 0.901, 0.9377, 0.9552, 1.0036, 0.8562, 0.8707, 0.9707, 0.9352, 0.9309, 0.7646, 0.8718, 0.7491, 0.6547, 0.5236, 0.2318, 0.5959, 0.4714, 0.4761, 0.4855, 0.5431, 0.2634, 0.2355, 0.4446, 0.5624, 0.2453, 0.5435, 0.4098, -0.1334, 0.1259, -0.0059, 0.1666, 0.2473, -0.1768, 0.0931, 0.2121, 0.1298, 0.1127, 0.1898, 0.1628, 0.1531, 0.1043, -0.1401, -0.1287, -0.5594, -0.3091, -0.4666, -0.3192, 0.4461, 0.4461, 0.4458, 0.4456, 0.4456, 0.4453, 0.4452, 0.4452, 0.4451, 0.445, 0.4447, 0.4447, 0.4445, 0.4443, 0.4442, 0.444, 0.444, 0.444, 0.444, 0.444, 0.444, 0.444, 0.4439, 0.4439, 0.4438, 0.4437, 0.4436, 0.4435, 0.4435, 0.4434, 0.4337, 0.4428, 0.4283, 0.4417, 0.4423, 0.4428, 0.4356, 0.4375, 0.4423, 0.4322, 0.4392, 0.4349, 0.4281, 0.4226, 0.4191, 0.3859, 0.428, 0.4365, 0.3822, 0.4026, 0.3883, 0.3844, 0.4234, 0.3714, 0.3502, 0.4248, 0.4014, 0.3246, 0.3624, 0.3473, 0.3471, 0.3561, 0.2162, 0.3261, 0.3, 0.1906, 0.3274, 0.3151, 0.2579, 0.2993, 0.3092, 0.2149, 0.0873, 0.068, 0.1395, 0.2381, 0.1431, 0.2778, 0.295, 0.186, 0.2308, 0.0033, 0.201, 0.2155, 0.1847, 0.071, -0.1589, 0.0658, 0.0696, 0.0779, 0.0743, -0.0786, 0.0749, 0.0425, 0.1118, -0.0565, -0.162, -0.1077, 0.1148, -0.1859], \"logprob\": [30.0, 29.0, 28.0, 27.0, 26.0, 25.0, 24.0, 23.0, 22.0, 21.0, 20.0, 19.0, 18.0, 17.0, 16.0, 15.0, 14.0, 13.0, 12.0, 11.0, 10.0, 9.0, 8.0, 7.0, 6.0, 5.0, 4.0, 3.0, 2.0, 1.0, -5.8076, -6.5842, -6.9207, -6.9461, -6.7744, -7.2665, -7.3418, -7.5049, -7.5168, -7.6855, -7.6387, -7.9168, -7.9169, -7.8286, -8.0065, -8.1621, -8.1621, -8.2184, -8.2577, -8.3038, -8.1399, -8.2527, -7.9917, -8.0388, -8.4325, -8.4505, -8.4505, -8.4566, -8.4505, -8.386, -6.868, -7.9438, -7.957, -8.2143, -7.002, -6.8944, -5.6192, -5.1962, -6.3726, -7.1873, -7.9758, -5.7396, -6.2364, -7.6068, -7.2584, -7.4103, -6.3743, -7.1692, -6.606, -6.446, -5.9255, -4.9412, -6.3435, -5.993, -6.0808, -6.116, -6.3318, -5.7096, -5.665, -6.1725, -6.4454, -5.8706, -6.4266, -6.1959, -5.3173, -5.7632, -5.5724, -5.8323, -5.9955, -5.4836, -5.9388, -6.0593, -6.0537, -6.0766, -6.1284, -6.1743, -6.1816, -6.1686, -6.1113, -6.1206, -6.0464, -6.0957, -6.089, -6.167, -7.4578, -7.378, -7.8095, -7.7245, -8.0646, -8.2328, -8.1154, -8.2302, -8.3228, -8.4215, -8.6169, -8.5771, -8.6844, -8.711, -8.7291, -8.3994, -8.8919, -8.6634, -8.85, -8.8, -8.8398, -8.8197, -8.6177, -8.7432, -8.9527, -8.1494, -9.0175, -8.914, -9.0483, -9.036, -6.1818, -7.2235, -5.9016, -7.4686, -7.8276, -7.882, -7.4469, -7.8142, -8.3286, -7.3549, -8.1215, -7.7537, -7.1188, -6.9061, -6.8027, -5.1882, -7.4532, -8.0036, -5.7725, -6.761, -6.3189, -6.2489, -7.5659, -6.1898, -5.7316, -7.6793, -7.2238, -6.1214, -6.7498, -6.5406, -6.645, -6.8412, -5.2708, -6.5853, -6.341, -5.4317, -6.6653, -6.574, -6.1808, -6.5018, -6.5749, -5.9523, -5.2195, -5.116, -5.647, -6.176, -5.7046, -6.4099, -6.5028, -6.0183, -6.2269, -5.5632, -6.1906, -6.247, -6.2006, -5.9002, -5.3319, -5.9261, -5.9817, -6.0579, -6.0789, -5.9677, -6.1129, -6.1133, -6.1612, -6.0884, -6.0626, -6.1067, -6.1682, -6.1589]}, \"token.table\": {\"Topic\": [1, 2, 1, 2, 1, 2, 1, 2, 1, 2, 1, 2, 1, 2, 1, 2, 1, 2, 1, 2, 1, 2, 1, 2, 1, 2, 1, 2, 1, 2, 1, 2, 1, 2, 1, 2, 1, 2, 1, 2, 1, 2, 1, 2, 1, 2, 1, 2, 1, 2, 1, 2, 1, 2, 1, 2, 1, 2, 1, 2, 1, 2, 1, 2, 1, 2, 1, 1, 2, 2, 2, 1, 2, 1, 2, 1, 2, 1, 2, 1, 1, 2, 1, 2, 1, 2, 1, 2, 1, 2, 1, 2, 1, 2, 1, 2, 1, 2, 1, 2, 1, 2, 1, 2, 1, 2, 1, 2, 1, 2, 1, 2, 1, 2, 1, 2, 1, 2, 1, 2, 1, 2, 1, 2, 1, 2, 1, 2, 1, 2, 2, 1, 2, 1, 2, 1, 2, 1, 2, 1, 2, 1, 2, 1, 2, 1, 2, 1, 2, 1, 2, 1, 2, 1, 2, 1, 2, 1, 2, 1, 2, 1, 2, 1, 2, 1, 2, 1, 2, 1, 2, 1, 2, 1, 2, 1, 2, 1, 2, 1, 2, 1, 2, 1, 2, 1, 2, 1, 2, 1, 2, 1, 2, 1, 2, 1, 2, 1, 2, 1, 2, 1, 2, 1, 2, 1, 2, 1, 2, 1, 2, 1, 2, 1, 2, 1, 2, 1, 2, 1, 2, 2, 1, 2, 1, 2, 1, 2, 1, 2, 1, 2, 1, 2, 1, 2, 1, 2, 1, 2, 1, 2, 1, 2, 1, 2, 1, 2, 1, 2, 1, 2, 1, 2, 1, 2, 1, 2, 1, 2, 1, 2, 1, 2, 1, 2, 1, 2, 1, 2, 1, 2, 1, 2, 1, 2, 1, 2, 1, 2, 1, 2, 1, 2, 1, 2, 1, 2, 1, 2, 1, 2, 1, 2, 1, 2, 1, 2, 1, 2, 1, 2, 1, 2, 1, 2, 1, 2, 1, 2, 1, 2, 1, 2, 1, 2, 1, 2, 1, 2, 1, 2, 1, 2, 1, 2, 1, 2, 1, 2, 1, 2], \"Freq\": [0.9986474721422253, 0.003592257094036781, 0.9830474800644184, 0.018760448092832414, 0.0018186574249523415, 0.9984429262988355, 0.9993247133077968, 0.005047094511655539, 0.00498553983420897, 0.997107966841794, 0.0011816958784224996, 0.9997147131454347, 0.43566551149215893, 0.5643729520112023, 0.6201746672997845, 0.38006279389831926, 0.014804923197588856, 0.9850968127626432, 0.056854229120672235, 0.9433160872470719, 0.011910214784018323, 0.9885478270735208, 0.9204788750599548, 0.07988795152210053, 0.913671241961195, 0.0852231310289184, 0.9182090407640204, 0.08207455112974485, 0.027175926783448764, 0.9725099513219879, 0.3131159976729391, 0.6868171617595178, 0.005152236952420367, 0.9943817318171309, 0.0030459131628992712, 0.9960136042680617, 0.924923136675813, 0.07493048195854687, 0.9993743912171351, 0.005021981865412739, 0.935856266599307, 0.06336526805099474, 0.20653310423730034, 0.7937291293342584, 0.2177738212109105, 0.7822367956189828, 0.995655557307294, 0.004588274457637299, 0.9993970379997029, 0.0004364179205238877, 0.018299111283024146, 0.9817871010109477, 0.003690997150433604, 0.9947237320418564, 0.31683247077125365, 0.6832232145825482, 0.003914407505670324, 0.9981739139459327, 0.20689472353477215, 0.7930964402166266, 0.9971800836504623, 0.006117669224849461, 0.0046179451094791055, 0.9974761436474867, 0.004554961631651021, 0.9975365973315736, 0.9981735740500943, 0.23041044545656789, 0.7694363415794147, 0.9995183910167145, 0.9980146245422468, 0.20594652483030965, 0.7941042276716375, 0.28241809669776546, 0.7176861310348233, 0.3152647898653746, 0.6847460172497211, 0.8607258943223491, 0.13960835551341053, 0.9980216155041756, 0.06034506520098562, 0.9396588724153475, 0.007404892408393293, 0.9922555827247013, 0.003036622785787745, 0.9990488965241681, 0.0042642266980075965, 0.9978290473337775, 0.9971799570832253, 0.006117668448363345, 0.1721025989284583, 0.8279850120269472, 0.9768890642793016, 0.023929559211452633, 0.9972548502996404, 0.004053881505283091, 0.9959594539176753, 0.004486303846476015, 0.5773396999187553, 0.42261387387641947, 0.005693718951353463, 0.9964008164868561, 0.04334334265490798, 0.956605886482265, 0.445517469843812, 0.5545829481435885, 0.1884012017326191, 0.8115966010319411, 0.2644836164472177, 0.7355324802186747, 0.006073311552807941, 0.9960230946605023, 0.08060783263985806, 0.9191612570803959, 0.01094047854868371, 0.9890192608010073, 0.11269138233613553, 0.8876376005928482, 0.005475938799948966, 0.996620861590712, 0.4199736939347015, 0.580128636862846, 0.006185789506912985, 0.9959121106129907, 0.9978145508144927, 0.0038674982589709016, 0.13647081310063108, 0.8633498388461674, 0.018767975197717602, 0.9809395036673733, 0.9977323441005601, 0.5800458302716738, 0.4199758105581482, 0.1410028370238843, 0.8591434123767605, 0.002768189743699499, 0.9993164974755192, 0.8871279805325553, 0.11286134222837768, 0.9989974213384832, 0.0009487154998466127, 0.8481099649081144, 0.15190545679096787, 0.9962706075588846, 0.0032880218071250317, 0.9971800836504623, 0.006117669224849461, 0.31039673610785873, 0.6895915627244275, 0.9997921419976289, 0.0024091376915605514, 0.9949246412838335, 0.004829731268368124, 0.0445511024453423, 0.9559116981207142, 0.6202847807163389, 0.37981752590497636, 0.3141218664287439, 0.6858494681067206, 0.08650593740135137, 0.9136794994142733, 0.41033147796721164, 0.5897226266262439, 0.9944971728944567, 0.007449417025426642, 0.5853180244196826, 0.4144552717502033, 0.002549860374426707, 0.9969954064008424, 0.28461489183086985, 0.7152953487474767, 0.42392925919661245, 0.5759240597529278, 0.9946761468090798, 0.0036839857289225177, 0.005138940440995045, 0.9969544455530387, 0.011274243727602948, 0.988375366786525, 0.4542565015681463, 0.5457416093743251, 0.06254704893782376, 0.9375379719790522, 0.004036665040606485, 0.9960470987696503, 0.6321447583071207, 0.36779331392414294, 0.9997133977480158, 0.00485297765897095, 0.5426980650350406, 0.45708246559293825, 0.4603381596150485, 0.5395591452232196, 0.005358786871210273, 0.9967343580451108, 0.004473620082662749, 0.997617278433793, 0.9985437340505297, 0.002720827613216702, 0.9986478848223607, 0.0035922585784977003, 0.9993159876303788, 0.002022906857551374, 0.403215360063938, 0.5967587328946282, 0.9999062993678582, 0.0023807292842091864, 0.332463887279156, 0.667378915818413, 0.003274813683725601, 0.9988181735363083, 0.12340108422723703, 0.8767971774040526, 0.9979443163710623, 0.0057353121630520825, 0.018808212681998917, 0.9816095761652769, 0.9991074884000472, 0.0011470809281286418, 0.9869408128093737, 0.012445659682337625, 0.9997350379607254, 0.4085868262590008, 0.5913756695853958, 0.9678343973663529, 0.03134178747948034, 0.004073551932910632, 0.998020223563105, 0.9976384606798213, 0.003927710475117407, 0.023760215037811765, 0.9763288360991743, 0.6536967468474465, 0.3463617091505127, 0.07252197025004543, 0.9274122923680925, 0.09453102467482005, 0.9054589324245018, 0.11497683819892153, 0.8849642131839272, 0.42555128586573626, 0.5743227962780639, 0.6936182478225749, 0.3066824484174195, 0.45593135196348417, 0.5439756493892233, 0.05903699831196748, 0.9409800047403256, 0.0038992311304201187, 0.9962535538223403, 0.13722817902736578, 0.8628805932030338, 0.39980288712777545, 0.6002053368158835, 0.4688000734562058, 0.5311582780014493, 0.12832005489260717, 0.8714685742346846, 0.0016701362448575323, 0.9987414744248043, 0.46140817324808603, 0.5387147059629919, 0.77369820332876, 0.22633203792527237, 0.5619519262516991, 0.4378983878150033, 0.004888260849135707, 0.9972052132236843, 0.013056420686212574, 0.986994828630718, 0.009060949889091056, 0.9912679178665614, 0.15550825693660442, 0.8446753370678488, 0.006263106080533068, 0.9958338668047578, 0.2618493580068327, 0.7382219549060675, 0.09462048855757005, 0.9050655427245831, 0.02369698992793769, 0.9771523493814307, 0.7622331843016833, 0.23805924863738315, 0.3084242574385656, 0.691551840687322, 0.005086769003562483, 0.9970067246982467, 0.002468188128980593, 0.9996161922371403, 0.11338481089145942, 0.8862042960052142, 0.6082933561341307, 0.3919847167229762, 0.3581013321296088, 0.6419123982564924, 0.021889637196825653, 0.9787794918009185, 0.09208093781498881, 0.9079801238925188, 0.22587027785324143, 0.7740762647262128, 0.003351457702477018, 0.9987343953381513, 0.9956559795206761, 0.004588276403321088, 0.9988486867855833, 0.005284913686696207, 0.9971053806257647, 0.006154971485344226, 0.30184193487187394, 0.6981643995788795, 0.22947837855670514, 0.7705420784564595, 0.9988075434273191, 0.001328201520515052, 0.9998972245137722, 0.0013622577990650847, 0.19407096938528823, 0.8058164163606533, 0.0027758545448125743, 0.9993076361325268, 0.9513440144727345, 0.05020285036795433, 0.31093252344717975, 0.6889855773311346, 0.39549767714929024, 0.6045661356522998, 0.8616321172122928, 0.1379785673219004, 0.9973987535805018, 0.006008426226388565], \"Term\": [\"acute\", \"acute\", \"administrative\", \"administrative\", \"advertising\", \"advertising\", \"aetna\", \"aetna\", \"airflow\", \"airflow\", \"amazon\", \"amazon\", \"analyze\", \"analyze\", \"appropriate\", \"appropriate\", \"architect\", \"architect\", \"architecture\", \"architecture\", \"architectures\", \"architectures\", \"assigned\", \"assigned\", \"assists\", \"assists\", \"audit\", \"audit\", \"azure\", \"azure\", \"based\", \"based\", \"brands\", \"brands\", \"campaigns\", \"campaigns\", \"care\", \"care\", \"citi\", \"citi\", \"claims\", \"claims\", \"client\", \"client\", \"clients\", \"clients\", \"clinic\", \"clinic\", \"clinical\", \"clinical\", \"cloud\", \"cloud\", \"cloud based\", \"cloud based\", \"communication\", \"communication\", \"conduent\", \"conduent\", \"create\", \"create\", \"creates healthier\", \"creates healthier\", \"cybersecurity\", \"cybersecurity\", \"databricks\", \"databricks\", \"davita\", \"deliver\", \"deliver\", \"dell\", \"dell technologies\", \"design\", \"design\", \"developing\", \"developing\", \"development\", \"development\", \"develops\", \"develops\", \"dialysis\", \"digital\", \"digital\", \"discrimination\", \"discrimination\", \"discrimination harassment\", \"discrimination harassment\", \"distributed systems\", \"distributed systems\", \"diversity creates\", \"diversity creates\", \"driven\", \"driven\", \"drug\", \"drug\", \"drug free\", \"drug free\", \"drug test\", \"drug test\", \"education\", \"education\", \"endless\", \"endless\", \"engineer\", \"engineer\", \"ensure\", \"ensure\", \"enterprise\", \"enterprise\", \"environment\", \"environment\", \"environment free\", \"environment free\", \"every\", \"every\", \"experimentation\", \"experimentation\", \"fast\", \"fast\", \"fast growing\", \"fast growing\", \"financial\", \"financial\", \"free discrimination\", \"free discrimination\", \"free workplace\", \"free workplace\", \"global\", \"global\", \"google\", \"google\", \"grainger\", \"group\", \"group\", \"growth\", \"growth\", \"harassment\", \"harassment\", \"health\", \"health\", \"health care\", \"health care\", \"healthcare\", \"healthcare\", \"healthier\", \"healthier\", \"healthier atmosphere\", \"healthier atmosphere\", \"high\", \"high\", \"hospital\", \"hospital\", \"hospitals\", \"hospitals\", \"ideal\", \"ideal\", \"improvement\", \"improvement\", \"industry\", \"industry\", \"infrastructure\", \"infrastructure\", \"internal\", \"internal\", \"interprets\", \"interprets\", \"issues\", \"issues\", \"jobdescriptiont\", \"jobdescriptiont\", \"lead\", \"lead\", \"leadership\", \"leadership\", \"lifes\", \"lifes\", \"looker\", \"looker\", \"love\", \"love\", \"management\", \"management\", \"marketing\", \"marketing\", \"media\", \"media\", \"medical\", \"medical\", \"medicare\", \"medicare\", \"minimum\", \"minimum\", \"multiple\", \"multiple\", \"music\", \"music\", \"nielsen\", \"nielsen\", \"nurse\", \"nurse\", \"nurses\", \"nurses\", \"nursing\", \"nursing\", \"operations\", \"operations\", \"optum\", \"optum\", \"organization\", \"organization\", \"parental\", \"parental\", \"partner\", \"partner\", \"pass drug\", \"pass drug\", \"passionate\", \"passionate\", \"patient\", \"patient\", \"patients\", \"patients\", \"paypal\", \"performance\", \"performance\", \"performs\", \"performs\", \"perks\", \"perks\", \"pharmacy\", \"pharmacy\", \"pipelines\", \"pipelines\", \"plans\", \"plans\", \"platform\", \"platform\", \"platforms\", \"platforms\", \"plus\", \"plus\", \"predictive\", \"predictive\", \"procedures\", \"procedures\", \"process\", \"process\", \"product\", \"product\", \"product managers\", \"product managers\", \"production\", \"production\", \"programming\", \"programming\", \"quality\", \"quality\", \"real\", \"real\", \"redshift\", \"redshift\", \"responsible\", \"responsible\", \"review\", \"review\", \"risk\", \"risk\", \"saas\", \"saas\", \"sales\", \"sales\", \"salesforce\", \"salesforce\", \"security\", \"security\", \"sensory\", \"sensory\", \"software\", \"software\", \"solution\", \"solution\", \"stack\", \"stack\", \"staff\", \"staff\", \"stakeholders\", \"stakeholders\", \"startup\", \"startup\", \"streaming\", \"streaming\", \"success\", \"success\", \"system\", \"system\", \"systems\", \"systems\", \"tech\", \"tech\", \"technologies\", \"technologies\", \"technology\", \"technology\", \"teksystems\", \"teksystems\", \"telecommute\", \"telecommute\", \"telecommuter\", \"telecommuter\", \"test beginning\", \"test beginning\", \"tools\", \"tools\", \"understand\", \"understand\", \"unitedhealth\", \"unitedhealth\", \"unitedhealth group\", \"unitedhealth group\", \"value\", \"value\", \"vmware\", \"vmware\", \"walmart\", \"walmart\", \"well\", \"well\", \"within\", \"within\", \"word\", \"word\", \"workplace candidates\", \"workplace candidates\"]}, \"R\": 30, \"lambda.step\": 0.01, \"plot.opts\": {\"xlab\": \"PC1\", \"ylab\": \"PC2\"}, \"topic.order\": [1, 2]};\n",
       "\n",
       "function LDAvis_load_lib(url, callback){\n",
       "  var s = document.createElement('script');\n",
       "  s.src = url;\n",
       "  s.async = true;\n",
       "  s.onreadystatechange = s.onload = callback;\n",
       "  s.onerror = function(){console.warn(\"failed to load library \" + url);};\n",
       "  document.getElementsByTagName(\"head\")[0].appendChild(s);\n",
       "}\n",
       "\n",
       "if(typeof(LDAvis) !== \"undefined\"){\n",
       "   // already loaded: just create the visualization\n",
       "   !function(LDAvis){\n",
       "       new LDAvis(\"#\" + \"ldavis_el4720819203766952405993261505\", ldavis_el4720819203766952405993261505_data);\n",
       "   }(LDAvis);\n",
       "}else if(typeof define === \"function\" && define.amd){\n",
       "   // require.js is available: use it to load d3/LDAvis\n",
       "   require.config({paths: {d3: \"https://cdnjs.cloudflare.com/ajax/libs/d3/3.5.5/d3.min\"}});\n",
       "   require([\"d3\"], function(d3){\n",
       "      window.d3 = d3;\n",
       "      LDAvis_load_lib(\"https://cdn.rawgit.com/bmabey/pyLDAvis/files/ldavis.v1.0.0.js\", function(){\n",
       "        new LDAvis(\"#\" + \"ldavis_el4720819203766952405993261505\", ldavis_el4720819203766952405993261505_data);\n",
       "      });\n",
       "    });\n",
       "}else{\n",
       "    // require.js not available: dynamically load d3 & LDAvis\n",
       "    LDAvis_load_lib(\"https://cdnjs.cloudflare.com/ajax/libs/d3/3.5.5/d3.min.js\", function(){\n",
       "         LDAvis_load_lib(\"https://cdn.rawgit.com/bmabey/pyLDAvis/files/ldavis.v1.0.0.js\", function(){\n",
       "                 new LDAvis(\"#\" + \"ldavis_el4720819203766952405993261505\", ldavis_el4720819203766952405993261505_data);\n",
       "            })\n",
       "         });\n",
       "}\n",
       "</script>"
      ],
      "text/plain": [
       "PreparedData(topic_coordinates=               x           y  topics  cluster       Freq\n",
       "topic                                                   \n",
       "0     -60.312317  141.369629       1        1  36.027416\n",
       "1      60.312561 -141.369141       2        1  63.972584, topic_info=     Category         Freq        Term        Total  loglift  logprob\n",
       "4280  Default  4758.000000      health  4758.000000  30.0000  30.0000\n",
       "1254  Default  2989.000000        care  2989.000000  29.0000  29.0000\n",
       "1489  Default  2291.000000    clinical  2291.000000  28.0000  28.0000\n",
       "4301  Default  2889.000000  healthcare  2889.000000  27.0000  27.0000\n",
       "7116  Default  8028.000000     product  8028.000000  26.0000  26.0000\n",
       "...       ...          ...         ...          ...      ...      ...\n",
       "9896   Topic2  3071.118870      within  5079.675852  -0.0565  -6.0884\n",
       "7079   Topic2  3151.350980     process  5792.538698  -0.1620  -6.0626\n",
       "6935   Topic2  3015.381519  predictive  5249.661026  -0.1077  -6.1067\n",
       "2648   Topic2  2835.581758  developing  3951.588135   0.1148  -6.1682\n",
       "7392   Topic2  2862.105881     quality  5388.224412  -0.1859  -6.1589\n",
       "\n",
       "[214 rows x 6 columns], token_table=      Topic      Freq                  Term\n",
       "term                                       \n",
       "154       1  0.998647                 acute\n",
       "154       2  0.003592                 acute\n",
       "205       1  0.983047        administrative\n",
       "205       2  0.018760        administrative\n",
       "227       1  0.001819           advertising\n",
       "...     ...       ...                   ...\n",
       "9896      2  0.604566                within\n",
       "9922      1  0.861632                  word\n",
       "9922      2  0.137979                  word\n",
       "9940      1  0.997399  workplace candidates\n",
       "9940      2  0.006008  workplace candidates\n",
       "\n",
       "[332 rows x 3 columns], R=30, lambda_step=0.01, plot_opts={'xlab': 'PC1', 'ylab': 'PC2'}, topic_order=[1, 2])"
      ]
     },
     "execution_count": 33,
     "metadata": {},
     "output_type": "execute_result"
    }
   ],
   "source": [
    "# This is a interactive visualization \n",
    "warnings.filterwarnings(\"ignore\", category=DeprecationWarning) \n",
    "pyLDAvis.enable_notebook()\n",
    "df = job_df[job_df['LDA_cluster']==1]\n",
    "tf_docs= tf_vectorizer.fit_transform(df.cleaned_jd)\n",
    "panel = pyLDAvis.sklearn.prepare(best_models[1], tf_docs, tf_vectorizer, mds='tsne', sort_topics=False)\n",
    "panel"
   ]
  },
  {
   "cell_type": "code",
   "execution_count": 34,
   "metadata": {
    "colab": {
     "base_uri": "https://localhost:8080/",
     "height": 861
    },
    "executionInfo": {
     "elapsed": 3913,
     "status": "ok",
     "timestamp": 1628214668343,
     "user": {
      "displayName": "Laiya Lubben",
      "photoUrl": "https://lh3.googleusercontent.com/a/default-user=s64",
      "userId": "11817724685368002439"
     },
     "user_tz": 420
    },
    "id": "n9U43MNqB6cY",
    "outputId": "24c4f73f-6b84-4e09-d5c7-d8537100e5bf"
   },
   "outputs": [
    {
     "data": {
      "text/html": [
       "\n",
       "<link rel=\"stylesheet\" type=\"text/css\" href=\"https://cdn.rawgit.com/bmabey/pyLDAvis/files/ldavis.v1.0.0.css\">\n",
       "\n",
       "\n",
       "<div id=\"ldavis_el4720819203766949844405381080\"></div>\n",
       "<script type=\"text/javascript\">\n",
       "\n",
       "var ldavis_el4720819203766949844405381080_data = {\"mdsDat\": {\"x\": [-60.31231689453125, 60.31256103515625], \"y\": [141.36962890625, -141.369140625], \"topics\": [1, 2], \"cluster\": [1, 1], \"Freq\": [47.80940699180507, 52.19059300819493]}, \"tinfo\": {\"Category\": [\"Default\", \"Default\", \"Default\", \"Default\", \"Default\", \"Default\", \"Default\", \"Default\", \"Default\", \"Default\", \"Default\", \"Default\", \"Default\", \"Default\", \"Default\", \"Default\", \"Default\", \"Default\", \"Default\", \"Default\", \"Default\", \"Default\", \"Default\", \"Default\", \"Default\", \"Default\", \"Default\", \"Default\", \"Default\", \"Default\", \"Topic1\", \"Topic1\", \"Topic1\", \"Topic1\", \"Topic1\", \"Topic1\", \"Topic1\", \"Topic1\", \"Topic1\", \"Topic1\", \"Topic1\", \"Topic1\", \"Topic1\", \"Topic1\", \"Topic1\", \"Topic1\", \"Topic1\", \"Topic1\", \"Topic1\", \"Topic1\", \"Topic1\", \"Topic1\", \"Topic1\", \"Topic1\", \"Topic1\", \"Topic1\", \"Topic1\", \"Topic1\", \"Topic1\", \"Topic1\", \"Topic1\", \"Topic1\", \"Topic1\", \"Topic1\", \"Topic1\", \"Topic1\", \"Topic1\", \"Topic1\", \"Topic1\", \"Topic1\", \"Topic1\", \"Topic1\", \"Topic1\", \"Topic1\", \"Topic1\", \"Topic1\", \"Topic1\", \"Topic1\", \"Topic1\", \"Topic1\", \"Topic1\", \"Topic1\", \"Topic1\", \"Topic1\", \"Topic1\", \"Topic1\", \"Topic1\", \"Topic1\", \"Topic1\", \"Topic1\", \"Topic1\", \"Topic1\", \"Topic1\", \"Topic1\", \"Topic1\", \"Topic1\", \"Topic1\", \"Topic1\", \"Topic1\", \"Topic1\", \"Topic1\", \"Topic1\", \"Topic1\", \"Topic1\", \"Topic1\", \"Topic1\", \"Topic1\", \"Topic1\", \"Topic1\", \"Topic1\", \"Topic1\", \"Topic1\", \"Topic1\", \"Topic1\", \"Topic1\", \"Topic2\", \"Topic2\", \"Topic2\", \"Topic2\", \"Topic2\", \"Topic2\", \"Topic2\", \"Topic2\", \"Topic2\", \"Topic2\", \"Topic2\", \"Topic2\", \"Topic2\", \"Topic2\", \"Topic2\", \"Topic2\", \"Topic2\", \"Topic2\", \"Topic2\", \"Topic2\", \"Topic2\", \"Topic2\", \"Topic2\", \"Topic2\", \"Topic2\", \"Topic2\", \"Topic2\", \"Topic2\", \"Topic2\", \"Topic2\", \"Topic2\", \"Topic2\", \"Topic2\", \"Topic2\", \"Topic2\", \"Topic2\", \"Topic2\", \"Topic2\", \"Topic2\", \"Topic2\", \"Topic2\", \"Topic2\", \"Topic2\", \"Topic2\", \"Topic2\", \"Topic2\", \"Topic2\", \"Topic2\", \"Topic2\", \"Topic2\", \"Topic2\", \"Topic2\", \"Topic2\", \"Topic2\", \"Topic2\", \"Topic2\", \"Topic2\", \"Topic2\", \"Topic2\", \"Topic2\", \"Topic2\", \"Topic2\", \"Topic2\", \"Topic2\", \"Topic2\", \"Topic2\", \"Topic2\", \"Topic2\", \"Topic2\", \"Topic2\", \"Topic2\", \"Topic2\", \"Topic2\", \"Topic2\", \"Topic2\"], \"Freq\": [2157.0, 985.0, 1013.0, 1368.0, 1904.0, 712.0, 696.0, 649.0, 556.0, 734.0, 834.0, 654.0, 516.0, 579.0, 554.0, 2895.0, 600.0, 1329.0, 500.0, 496.0, 663.0, 590.0, 893.0, 513.0, 458.0, 422.0, 435.0, 804.0, 622.0, 635.0, 556.0535721458305, 516.3496666854267, 313.9434072916478, 225.6407641132566, 194.95187663995162, 194.94299703293342, 196.9102834047013, 195.87618207278337, 175.08789104045692, 189.92437253731745, 189.92437054326427, 180.0175259576189, 172.09282315603548, 146.33456236839248, 143.36137627072083, 143.36137627072083, 208.6132923330325, 164.1174211637573, 142.3607716738039, 140.37725377721213, 137.40564917584584, 149.26586110465328, 136.41392611668874, 145.30462338347272, 143.32519913414913, 132.44773981055974, 340.9968724774531, 142.32610792813463, 130.4638397621752, 130.4638397621752, 418.9719007071679, 307.5602617489057, 187.63670318859764, 429.5754590902371, 286.8494475944332, 183.52293120245548, 225.46453450724644, 683.2666490661911, 152.16452038834413, 348.9806118341206, 217.33735642436608, 539.0425968036355, 210.31395531078667, 966.97021455443, 628.7374557596344, 225.19085135721542, 572.3881923273747, 692.4988614013043, 321.11922835537416, 264.12469592991886, 392.6445672479994, 357.8737312143544, 408.8788039960688, 573.7922683104138, 1526.1632907997541, 404.96641006039687, 434.56870048799317, 656.2553814973584, 2021.284334375011, 441.3710481680467, 514.9707102005352, 766.6105748412848, 418.60176377171365, 515.3458167896649, 1032.6335960101776, 1049.2585832775976, 533.7746347657682, 897.2665761328034, 530.9825945778165, 650.6963547092008, 1026.1720962793993, 687.5200638500128, 1048.4585034579961, 559.7292120453128, 613.0233899514722, 734.6909913293161, 787.0675138744697, 605.0153275079637, 506.56907946338623, 627.8930448385029, 731.8801848612852, 603.968339291755, 680.9416251074138, 594.5319184984453, 560.790367846473, 711.9254337304371, 578.9933297636452, 499.60676420410795, 402.3963086361837, 495.5380593792428, 457.8465865407677, 379.5286068552855, 649.0110145808226, 293.2383069361733, 318.9715174090859, 279.34463319019585, 350.6634121426829, 261.47363846326385, 250.56806888352696, 256.49463104465667, 238.6597106312342, 285.16159260247576, 218.81014002050247, 225.72871933964345, 211.856738035109, 213.8310789359543, 216.80024674085053, 207.88261307413927, 201.94296520196207, 202.92208459826404, 202.9220845982201, 194.00044650013598, 243.4827503028965, 197.95230533429762, 193.99116943377163, 972.6806585644799, 321.1461702341779, 323.5577213623254, 225.57014466567855, 224.54634903026854, 506.07266095436034, 255.69239011800585, 2041.6765488049639, 486.9470858051271, 573.096738673493, 796.7499263134995, 634.4054826526566, 1259.102547712355, 591.865139451142, 454.93941481683055, 407.350070841937, 457.4578549839088, 738.0639420876561, 810.5210186901683, 1148.4497689590066, 728.6472663752229, 793.0100221175462, 970.8864957961669, 985.5280229242709, 524.9561503402996, 835.8803946123886, 1270.3668027317835, 715.1679601426565, 1542.7563931311524, 846.5422946625046, 1124.5824996394015, 582.0783512465949, 1236.7724970110946, 844.4818796936736, 651.5963441626365, 682.2235008563306, 1053.096446771449, 677.3547145885133, 702.5822050090121, 901.7301357405714, 751.5243599048617, 725.7426731213675, 822.3389818035085, 873.9270047028261, 709.2878475795985], \"Term\": [\"education\", \"department\", \"cloud\", \"service\", \"technology\", \"documents\", \"client\", \"submit\", \"azure\", \"every\", \"university\", \"market\", \"youll\", \"grade\", \"compensation\", \"business\", \"clients\", \"program\", \"courses\", \"preference\", \"college\", \"scientific\", \"community\", \"staff\", \"facebook\", \"companies\", \"growing\", \"programs\", \"public\", \"deliver\", \"azure\", \"youll\", \"firm\", \"firms\", \"eventbrite\", \"matches\", \"backed\", \"northrop\", \"incredible\", \"northrop grumman\", \"grumman\", \"personalized\", \"planet\", \"private equity\", \"firm growth\", \"equity firm\", \"chance\", \"europe\", \"dream\", \"offices europe\", \"asia pacific\", \"saic\", \"europe asia\", \"named\", \"migration\", \"permanent contract\", \"amazon\", \"asia\", \"contract market\", \"worldwide deliver\", \"companies\", \"francisco\", \"globally\", \"growing\", \"youre\", \"markets\", \"built\", \"client\", \"fair chance\", \"exciting\", \"love\", \"compensation\", \"fortune\", \"cloud\", \"market\", \"worldwide\", \"clients\", \"every\", \"salesforce\", \"agile\", \"call\", \"staffing\", \"digital\", \"deliver\", \"technology\", \"proven\", \"culture\", \"platform\", \"business\", \"want\", \"future\", \"code\", \"interested\", \"users\", \"product\", \"tools\", \"growth\", \"environment\", \"understand\", \"create\", \"software\", \"learn\", \"development\", \"industry\", \"technologies\", \"well\", \"employees\", \"high\", \"innovative\", \"part\", \"systems\", \"design\", \"security\", \"mission\", \"candidates\", \"documents\", \"grade\", \"courses\", \"announcement\", \"preference\", \"facebook\", \"quot\", \"submit\", \"rating\", \"personnel\", \"evaluated\", \"qualification\", \"appointment\", \"ictap\", \"foreign\", \"veterans preference\", \"drug\", \"official\", \"responses\", \"questionnaire\", \"failure\", \"section\", \"closer\", \"ctap\", \"bring closer\", \"closer together\", \"department education\", \"student\", \"transcripts\", \"certificate\", \"department\", \"criminal\", \"selection\", \"letter\", \"result\", \"staff\", \"completion\", \"education\", \"eligible\", \"scientific\", \"university\", \"college\", \"service\", \"public\", \"accredited\", \"specialized\", \"family\", \"programs\", \"community\", \"program\", \"additional\", \"considered\", \"mathematics\", \"meet\", \"subject\", \"following\", \"management\", \"state\", \"security\", \"health\", \"based\", \"basic\", \"systems\", \"process\", \"veterans\", \"minimum\", \"development\", \"performance\", \"include\", \"employees\", \"programming\", \"within\", \"software\", \"business\", \"candidates\"], \"Total\": [2157.0, 985.0, 1013.0, 1368.0, 1904.0, 712.0, 696.0, 649.0, 556.0, 734.0, 834.0, 654.0, 516.0, 579.0, 554.0, 2895.0, 600.0, 1329.0, 500.0, 496.0, 663.0, 590.0, 893.0, 513.0, 458.0, 422.0, 435.0, 804.0, 622.0, 635.0, 556.5804251747908, 516.8955593323376, 314.5027243805125, 226.2038890550502, 195.44809933417255, 195.44810136733898, 197.43234876006971, 196.4402366171284, 175.60566916811524, 190.48750587610294, 190.4875058765596, 180.5662850353345, 172.6293081853896, 146.83413410464559, 143.8577681116382, 143.8577681116382, 209.33785617596163, 164.69234294406442, 142.86564829893317, 140.88140462274094, 137.9050382676178, 149.81050968861902, 136.9129164213042, 145.84202100864746, 143.85777639513103, 132.9444288744124, 342.2822997410894, 142.8656562359053, 130.96018528572162, 130.96018528572162, 422.64470841321014, 309.54244132469836, 188.50333184168608, 435.5428164930337, 289.70020505759203, 184.5348780875958, 227.19627832834593, 696.4724950871577, 152.7868927460848, 354.18865876095964, 219.25934783931666, 554.5996223468111, 212.31451353951581, 1013.9591902727896, 654.8063259582543, 228.18868991565407, 600.2400375876173, 734.1796402123584, 331.3710129994676, 269.8584299233037, 409.75020061801547, 374.03360093450135, 435.5475554217351, 635.9642772833246, 1904.9604832699945, 446.4642893863146, 484.1667703593892, 774.8742447067673, 2895.2113390778372, 512.9433315555262, 618.1154651057946, 1015.9897646142746, 484.1704263209222, 631.0159152019304, 1637.1392782258445, 1708.5845939660694, 675.667397026643, 1417.86116157669, 670.7062917127375, 918.7661112353878, 1848.5110780829077, 1009.0614315749544, 2101.5549502294452, 779.8580909859853, 959.4610430400176, 1370.2656383801484, 1688.797649615041, 1041.8278371689928, 677.6583241469243, 1240.2923832188412, 1968.6526818723798, 1265.1065843239555, 2223.698018238566, 1263.1240471445567, 1270.0782154260714, 712.5063928943816, 579.5316471248358, 500.14373368225046, 402.89354843396444, 496.1743152609919, 458.46506030075454, 380.06951323210757, 649.9883200635676, 293.735167112971, 319.5362235473558, 279.842282025929, 351.2913745639952, 261.97999943707816, 251.06416364695255, 257.0182508758482, 239.15597654508232, 285.796344164728, 219.30899751388253, 226.2554335887216, 212.36255346748436, 214.3472489403668, 217.32429390239614, 208.3931566973046, 202.43906647284555, 203.4314123662496, 203.43141236624953, 194.5002742444695, 244.11768940240344, 198.4696659175165, 194.50027212077543, 985.3995671787105, 322.51308663031625, 325.49000394366135, 226.2553972880523, 225.26304116743452, 513.042796659876, 257.01806722816366, 2157.340072624826, 499.1487138946512, 590.4436365922377, 834.5567866441912, 663.8746811597981, 1368.424131840875, 622.1958291841154, 472.35409936615105, 420.7528740313596, 478.3074064134304, 804.7796996954875, 893.0951226461935, 1329.7060529447178, 813.706639840944, 899.0438445881038, 1161.0047071012152, 1186.8032244459, 577.5350335134406, 1005.2106861901106, 1659.1183846574854, 845.4514503413361, 2223.698018238566, 1061.7640669309262, 1554.9122276795667, 666.8390677849096, 1968.6526818723798, 1261.1800680240062, 825.5944625321754, 895.0499965016759, 2101.5549502294452, 901.9937342323838, 972.4401538742784, 1688.797649615041, 1194.6866307564458, 1122.2558407387924, 1848.5110780829077, 2895.2113390778372, 1270.0782154260714], \"loglift\": [30.0, 29.0, 28.0, 27.0, 26.0, 25.0, 24.0, 23.0, 22.0, 21.0, 20.0, 19.0, 18.0, 17.0, 16.0, 15.0, 14.0, 13.0, 12.0, 11.0, 10.0, 9.0, 8.0, 7.0, 6.0, 5.0, 4.0, 3.0, 2.0, 1.0, 0.737, 0.7369, 0.7362, 0.7355, 0.7354, 0.7354, 0.7353, 0.7351, 0.735, 0.735, 0.735, 0.7349, 0.7348, 0.7345, 0.7345, 0.7345, 0.7345, 0.7345, 0.7344, 0.7344, 0.7343, 0.7343, 0.7343, 0.7343, 0.7342, 0.7342, 0.7342, 0.7342, 0.7342, 0.7342, 0.7292, 0.7315, 0.7333, 0.7242, 0.7281, 0.7324, 0.7303, 0.7188, 0.7339, 0.7231, 0.7291, 0.7095, 0.7285, 0.6905, 0.6973, 0.7247, 0.6904, 0.6795, 0.7065, 0.7165, 0.6953, 0.6938, 0.6748, 0.6351, 0.5162, 0.6404, 0.6299, 0.5718, 0.3786, 0.5877, 0.5554, 0.4563, 0.5924, 0.5355, 0.2771, 0.2504, 0.5022, 0.2804, 0.5043, 0.393, 0.1494, 0.3543, 0.0426, 0.4063, 0.29, 0.1146, -0.0255, 0.1945, 0.447, 0.0572, -0.2515, -0.0014, -0.4455, -0.0156, -0.0795, 0.6495, 0.6493, 0.6492, 0.649, 0.649, 0.6489, 0.6488, 0.6488, 0.6486, 0.6485, 0.6485, 0.6485, 0.6483, 0.6483, 0.6482, 0.6482, 0.648, 0.648, 0.6479, 0.6479, 0.6479, 0.6479, 0.6478, 0.6478, 0.6478, 0.6478, 0.6477, 0.6477, 0.6477, 0.6476, 0.6373, 0.646, 0.6443, 0.6472, 0.6471, 0.6366, 0.6451, 0.5952, 0.6255, 0.6204, 0.6039, 0.6049, 0.567, 0.6003, 0.6127, 0.6179, 0.6057, 0.5637, 0.5533, 0.5037, 0.5399, 0.5248, 0.4714, 0.4644, 0.5548, 0.4658, 0.3833, 0.4829, 0.2847, 0.4237, 0.3263, 0.5143, 0.1854, 0.2492, 0.4136, 0.3787, -0.0407, 0.3639, 0.3252, 0.0228, 0.1867, 0.2144, -0.1597, -0.5475, 0.0677], \"logprob\": [30.0, 29.0, 28.0, 27.0, 26.0, 25.0, 24.0, 23.0, 22.0, 21.0, 20.0, 19.0, 18.0, 17.0, 16.0, 15.0, 14.0, 13.0, 12.0, 11.0, 10.0, 9.0, 8.0, 7.0, 6.0, 5.0, 4.0, 3.0, 2.0, 1.0, -6.1223, -6.1964, -6.694, -7.0243, -7.1705, -7.1705, -7.1605, -7.1657, -7.2779, -7.1966, -7.1966, -7.2502, -7.2952, -7.4573, -7.4778, -7.4778, -7.1027, -7.3426, -7.4849, -7.4989, -7.5203, -7.4375, -7.5275, -7.4644, -7.4781, -7.557, -6.6113, -7.4851, -7.5721, -7.5721, -6.4054, -6.7145, -7.2087, -6.3804, -6.7843, -7.2309, -7.0251, -5.9163, -7.4183, -6.5882, -7.0618, -6.1534, -7.0946, -5.569, -5.9995, -7.0263, -6.0934, -5.9029, -6.6714, -6.8668, -6.4703, -6.563, -6.4298, -6.0909, -5.1127, -6.4394, -6.3689, -5.9567, -4.8317, -6.3533, -6.1991, -5.8012, -6.4063, -6.1984, -5.5033, -5.4874, -6.1632, -5.6439, -6.1685, -5.9652, -5.5096, -5.9101, -5.4881, -6.1158, -6.0248, -5.8438, -5.7749, -6.038, -6.2156, -6.0008, -5.8476, -6.0397, -5.9197, -6.0554, -6.1139, -5.9629, -6.1696, -6.3171, -6.5335, -6.3253, -6.4044, -6.592, -6.0554, -6.8499, -6.7658, -6.8984, -6.6711, -6.9646, -7.0072, -6.9838, -7.0559, -6.8778, -7.1427, -7.1116, -7.175, -7.1657, -7.1519, -7.1939, -7.2229, -7.2181, -7.2181, -7.263, -7.0358, -7.2429, -7.2631, -5.6508, -6.759, -6.7515, -7.1123, -7.1168, -6.3042, -6.9869, -4.9094, -6.3427, -6.1798, -5.8504, -6.0782, -5.3927, -6.1476, -6.4107, -6.5212, -6.4052, -5.9269, -5.8332, -5.4847, -5.9397, -5.8551, -5.6527, -5.6377, -6.2676, -5.8024, -5.3838, -5.9584, -5.1896, -5.7897, -5.5057, -6.1643, -5.4106, -5.7922, -6.0515, -6.0055, -5.5714, -6.0127, -5.9761, -5.7266, -5.9088, -5.9437, -5.8187, -5.7579, -5.9666]}, \"token.table\": {\"Topic\": [1, 2, 1, 2, 1, 2, 1, 2, 2, 1, 2, 1, 2, 1, 1, 2, 1, 2, 1, 2, 1, 2, 1, 2, 1, 2, 1, 2, 1, 2, 1, 2, 1, 2, 1, 2, 1, 2, 1, 2, 1, 2, 1, 2, 1, 2, 1, 2, 1, 2, 1, 2, 1, 2, 1, 2, 1, 2, 1, 2, 1, 1, 2, 1, 2, 1, 2, 2, 1, 2, 1, 2, 1, 2, 2, 1, 2, 1, 2, 1, 2, 1, 2, 1, 2, 1, 2, 1, 2, 1, 2, 1, 2, 1, 2, 1, 1, 2, 1, 2, 1, 1, 2, 1, 2, 1, 2, 1, 2, 1, 2, 1, 2, 1, 2, 1, 1, 2, 1, 2, 1, 2, 1, 2, 1, 2, 1, 2, 1, 2, 1, 2, 1, 2, 1, 2, 1, 2, 1, 2, 1, 2, 2, 1, 2, 1, 2, 1, 2, 1, 2, 1, 2, 1, 2, 1, 2, 1, 2, 1, 2, 1, 2, 1, 2, 1, 2, 1, 2, 1, 2, 1, 2, 1, 2, 1, 2, 1, 2, 1, 2, 1, 2, 1, 2, 2, 1, 2, 1, 2, 1, 1, 2, 1, 2, 1, 2, 1, 2, 1, 2, 1, 1, 2, 1, 2, 1, 2, 1, 2, 1, 2, 1, 2, 1, 2, 1, 2, 1, 2, 1, 2, 2, 1, 2, 1, 2, 1, 2, 1, 2, 1, 2, 1, 2, 1, 2, 1, 2, 1, 2, 1, 2, 1, 2, 1, 2, 1, 2, 1, 2, 1, 2, 1, 2, 1, 2, 1, 2, 1, 2, 1, 2, 1, 2, 1, 2, 1, 2, 1, 2, 1, 2, 1, 2, 2, 1, 2, 1, 2, 1, 2, 1, 2, 1, 1, 2, 1, 2], \"Freq\": [0.035989949114048535, 0.9632604027583578, 0.10446025119890262, 0.895900272047059, 0.978290728494312, 0.022233880193052547, 0.9962536779083834, 0.0029215650378544965, 0.9977821723940787, 0.003817085281886864, 0.9962592585724716, 0.9939407674404553, 0.006999582869298982, 0.9934372356587763, 0.9989571584832354, 0.0017966855368403514, 0.9978101422447487, 0.005065026102765222, 0.27654294071743163, 0.7235135076909549, 0.12746703681047214, 0.8727742991022915, 0.004915661688469433, 0.9978793227592949, 0.9903331236563134, 0.00880296109916723, 0.6980492141356821, 0.3018777897845552, 0.9591209459013038, 0.041488692316341384, 0.4417050801960272, 0.558233336647029, 0.005141380981611416, 0.9974279104326148, 0.9983860722463994, 0.004776966852853586, 0.980656098866515, 0.018665489436697942, 0.9529520927975501, 0.04664800454253742, 0.00479862206537099, 0.9981133895971658, 0.004915661688469434, 0.9978793227592953, 0.9536872975527191, 0.04635295034640931, 0.7549288651457973, 0.24508120915424186, 0.0436829432165369, 0.9549995172167033, 0.09293522928898704, 0.9080779632935962, 0.9913764248299856, 0.009464214079522535, 0.971872280978482, 0.028849640993795386, 0.0038907770600899666, 0.9960389273830315, 0.1179030373636158, 0.8820481946164843, 0.9926681129564169, 0.001999425230498472, 0.9997126152492359, 0.7085590032534557, 0.29169556508744415, 0.0031006493734818882, 0.9953084488876861, 0.9978311178741557, 0.8984507542248439, 0.10327020163503953, 0.9025664184346643, 0.09748975251384875, 0.013192617931850928, 0.9874167113608425, 0.9974278995419785, 0.4774301291956077, 0.5224856215203587, 0.4986783714056968, 0.5010575621089682, 0.939047860351255, 0.06199093454641536, 0.0014034961790837363, 0.9992892795076203, 0.993940822659329, 0.006999583258164289, 0.00349899507260183, 0.9972135956915216, 0.05376991855477997, 0.9465359800763853, 0.02404093142175797, 0.975661133533011, 0.46601201759097394, 0.5341078016099854, 0.632643043133023, 0.36745487789554626, 0.9940373876023675, 0.995796143696252, 0.006071927705464952, 0.993332138083342, 0.9969901545262164, 0.9977073231425678, 0.942548610854752, 0.05720670759523061, 0.9853505790413762, 0.014116770473372153, 0.0021811912980762302, 0.9989856145189134, 0.004665326963343525, 0.9983799701555143, 0.994849736571366, 0.006545064056390566, 0.04390481878059905, 0.955452484892084, 0.9984015261505198, 0.0031796226947468785, 0.9940373876023675, 0.999098649205803, 0.004420790483211518, 0.16812395880960407, 0.8316664471291657, 0.0038907742800064677, 0.9960382156816557, 0.9890986560413119, 0.009419987200393446, 0.9950170279781427, 0.006461149532325602, 0.8331776651338991, 0.16663553302677983, 0.9973298517497357, 0.005304946019945403, 0.0017255313061179417, 0.9990826262422883, 0.9872737735920796, 0.013775913119889483, 0.7903296834358625, 0.21016257499605331, 0.9974407461827155, 0.0052496881378037655, 0.20249319664910734, 0.7977290119153205, 0.580710150387222, 0.4194551003623405, 0.9997444332714772, 0.2776520477114182, 0.722923664967137, 0.9965509703019018, 0.005694576973153724, 0.7180793614540618, 0.2821026062855243, 0.7481646457132229, 0.2523395550630397, 0.8653977550505628, 0.1363156368337402, 0.6818217191456439, 0.31910842087921126, 0.004419784066971322, 0.9988711991355187, 0.9896955461120298, 0.009121617936516403, 0.23446187059177614, 0.7654667754538707, 0.9605893759189194, 0.039706397096807476, 0.9971014797140847, 0.005419029781054808, 0.9977073127638278, 0.00511644775776322, 0.1636513606171245, 0.8363445850485679, 0.1693625327769427, 0.8308032702391317, 0.9940373303645749, 0.006951310002549475, 0.23797553302331215, 0.7619686080840323, 0.47105428904236984, 0.5296391922173873, 0.9942264855984303, 0.00685673438343745, 0.9977589284929114, 0.005090606778025058, 0.9974407461851066, 0.005249688137816351, 0.9937436411490841, 0.007098168865350601, 0.9985910404161007, 0.5063322233505917, 0.49343203931618174, 0.24944740906817925, 0.750559537507366, 0.9928960627954965, 0.9968638384777996, 0.005538132435987776, 0.003129535640430445, 0.9983218692973119, 0.9963545692674979, 0.005792759123648244, 0.8465889845754876, 0.15357330665317534, 0.0020154207286485425, 0.9996486814096772, 0.9943192084747058, 0.3306427135764585, 0.6692145090132638, 0.6309786917576459, 0.3695470556760656, 0.1361203098979388, 0.8633487058720096, 0.37080853555672877, 0.6294537669044244, 0.08325259698443122, 0.9170211429031379, 0.9071274223447767, 0.09183265263243419, 0.04821633092484558, 0.9514689302502861, 0.002846639776570514, 0.9991705615762504, 0.004708928121610262, 0.9982927617813756, 0.002631097641839277, 0.9998171038989252, 0.9974971770653248, 0.004419783357856331, 0.9988710388755309, 0.0044392546367902205, 0.9988322932777995, 0.9945897674982639, 0.0066750991107266035, 0.9687027151059702, 0.030177654676198446, 0.028791909924063178, 0.970456728616953, 0.004601418378237622, 0.998507788077564, 0.3062466191067766, 0.6938891824989079, 0.006144581940360225, 0.9954222743383565, 0.0796536669178492, 0.9200363912804783, 0.5550413044124493, 0.4446822146462313, 0.030896996318630212, 0.9673136539755767, 0.01364408592338288, 0.9862724967473911, 0.9571332605026865, 0.042776905497326774, 0.15376400377279476, 0.8457020207503712, 0.004096384831627669, 0.9954215140855236, 0.09176932467208773, 0.9090357632612465, 0.0015384891837782592, 0.9984794802720902, 0.37182790379448594, 0.6283485204833048, 0.6389003539505176, 0.3606191231107326, 0.8010664858414894, 0.19895425827911173, 0.6139584798461738, 0.38569936913119973, 0.005038553349586417, 0.9976335632181107, 0.7917027267539433, 0.20873518219501327, 0.045533150779110604, 0.9549979255513461, 0.8161442328046443, 0.18383054564143445, 0.2107572275452596, 0.7897339790776394, 0.9993478041095372, 0.8597440942699177, 0.14036638273794574, 0.5363923456979305, 0.46414358076718887, 0.3537517788623411, 0.6469113134862964, 0.9860260825510997, 0.013147014434014663, 0.9926681129564169, 0.998267426917936, 0.0019346267963525892, 0.9906793125774446, 0.010355532884084787], \"Term\": [\"accredited\", \"accredited\", \"additional\", \"additional\", \"agile\", \"agile\", \"amazon\", \"amazon\", \"announcement\", \"appointment\", \"appointment\", \"asia\", \"asia\", \"asia pacific\", \"azure\", \"azure\", \"backed\", \"backed\", \"based\", \"based\", \"basic\", \"basic\", \"bring closer\", \"bring closer\", \"built\", \"built\", \"business\", \"business\", \"call\", \"call\", \"candidates\", \"candidates\", \"certificate\", \"certificate\", \"chance\", \"chance\", \"client\", \"client\", \"clients\", \"clients\", \"closer\", \"closer\", \"closer together\", \"closer together\", \"cloud\", \"cloud\", \"code\", \"code\", \"college\", \"college\", \"community\", \"community\", \"companies\", \"companies\", \"compensation\", \"compensation\", \"completion\", \"completion\", \"considered\", \"considered\", \"contract market\", \"courses\", \"courses\", \"create\", \"create\", \"criminal\", \"criminal\", \"ctap\", \"culture\", \"culture\", \"deliver\", \"deliver\", \"department\", \"department\", \"department education\", \"design\", \"design\", \"development\", \"development\", \"digital\", \"digital\", \"documents\", \"documents\", \"dream\", \"dream\", \"drug\", \"drug\", \"education\", \"education\", \"eligible\", \"eligible\", \"employees\", \"employees\", \"environment\", \"environment\", \"equity firm\", \"europe\", \"europe\", \"europe asia\", \"evaluated\", \"eventbrite\", \"every\", \"every\", \"exciting\", \"exciting\", \"facebook\", \"facebook\", \"failure\", \"failure\", \"fair chance\", \"fair chance\", \"family\", \"family\", \"firm\", \"firm\", \"firm growth\", \"firms\", \"firms\", \"following\", \"following\", \"foreign\", \"foreign\", \"fortune\", \"fortune\", \"francisco\", \"francisco\", \"future\", \"future\", \"globally\", \"globally\", \"grade\", \"grade\", \"growing\", \"growing\", \"growth\", \"growth\", \"grumman\", \"grumman\", \"health\", \"health\", \"high\", \"high\", \"ictap\", \"include\", \"include\", \"incredible\", \"incredible\", \"industry\", \"industry\", \"innovative\", \"innovative\", \"interested\", \"interested\", \"learn\", \"learn\", \"letter\", \"letter\", \"love\", \"love\", \"management\", \"management\", \"market\", \"market\", \"markets\", \"markets\", \"matches\", \"matches\", \"mathematics\", \"mathematics\", \"meet\", \"meet\", \"migration\", \"migration\", \"minimum\", \"minimum\", \"mission\", \"mission\", \"named\", \"named\", \"northrop\", \"northrop\", \"northrop grumman\", \"northrop grumman\", \"offices europe\", \"offices europe\", \"official\", \"part\", \"part\", \"performance\", \"performance\", \"permanent contract\", \"personalized\", \"personalized\", \"personnel\", \"personnel\", \"planet\", \"planet\", \"platform\", \"platform\", \"preference\", \"preference\", \"private equity\", \"process\", \"process\", \"product\", \"product\", \"program\", \"program\", \"programming\", \"programming\", \"programs\", \"programs\", \"proven\", \"proven\", \"public\", \"public\", \"qualification\", \"qualification\", \"questionnaire\", \"questionnaire\", \"quot\", \"quot\", \"rating\", \"responses\", \"responses\", \"result\", \"result\", \"saic\", \"saic\", \"salesforce\", \"salesforce\", \"scientific\", \"scientific\", \"section\", \"section\", \"security\", \"security\", \"selection\", \"selection\", \"service\", \"service\", \"software\", \"software\", \"specialized\", \"specialized\", \"staff\", \"staff\", \"staffing\", \"staffing\", \"state\", \"state\", \"student\", \"student\", \"subject\", \"subject\", \"submit\", \"submit\", \"systems\", \"systems\", \"technologies\", \"technologies\", \"technology\", \"technology\", \"tools\", \"tools\", \"transcripts\", \"transcripts\", \"understand\", \"understand\", \"university\", \"university\", \"users\", \"users\", \"veterans\", \"veterans\", \"veterans preference\", \"want\", \"want\", \"well\", \"well\", \"within\", \"within\", \"worldwide\", \"worldwide\", \"worldwide deliver\", \"youll\", \"youll\", \"youre\", \"youre\"]}, \"R\": 30, \"lambda.step\": 0.01, \"plot.opts\": {\"xlab\": \"PC1\", \"ylab\": \"PC2\"}, \"topic.order\": [1, 2]};\n",
       "\n",
       "function LDAvis_load_lib(url, callback){\n",
       "  var s = document.createElement('script');\n",
       "  s.src = url;\n",
       "  s.async = true;\n",
       "  s.onreadystatechange = s.onload = callback;\n",
       "  s.onerror = function(){console.warn(\"failed to load library \" + url);};\n",
       "  document.getElementsByTagName(\"head\")[0].appendChild(s);\n",
       "}\n",
       "\n",
       "if(typeof(LDAvis) !== \"undefined\"){\n",
       "   // already loaded: just create the visualization\n",
       "   !function(LDAvis){\n",
       "       new LDAvis(\"#\" + \"ldavis_el4720819203766949844405381080\", ldavis_el4720819203766949844405381080_data);\n",
       "   }(LDAvis);\n",
       "}else if(typeof define === \"function\" && define.amd){\n",
       "   // require.js is available: use it to load d3/LDAvis\n",
       "   require.config({paths: {d3: \"https://cdnjs.cloudflare.com/ajax/libs/d3/3.5.5/d3.min\"}});\n",
       "   require([\"d3\"], function(d3){\n",
       "      window.d3 = d3;\n",
       "      LDAvis_load_lib(\"https://cdn.rawgit.com/bmabey/pyLDAvis/files/ldavis.v1.0.0.js\", function(){\n",
       "        new LDAvis(\"#\" + \"ldavis_el4720819203766949844405381080\", ldavis_el4720819203766949844405381080_data);\n",
       "      });\n",
       "    });\n",
       "}else{\n",
       "    // require.js not available: dynamically load d3 & LDAvis\n",
       "    LDAvis_load_lib(\"https://cdnjs.cloudflare.com/ajax/libs/d3/3.5.5/d3.min.js\", function(){\n",
       "         LDAvis_load_lib(\"https://cdn.rawgit.com/bmabey/pyLDAvis/files/ldavis.v1.0.0.js\", function(){\n",
       "                 new LDAvis(\"#\" + \"ldavis_el4720819203766949844405381080\", ldavis_el4720819203766949844405381080_data);\n",
       "            })\n",
       "         });\n",
       "}\n",
       "</script>"
      ],
      "text/plain": [
       "PreparedData(topic_coordinates=               x           y  topics  cluster       Freq\n",
       "topic                                                   \n",
       "0     -60.312317  141.369629       1        1  47.809407\n",
       "1      60.312561 -141.369141       2        1  52.190593, topic_info=     Category         Freq         Term        Total  loglift  logprob\n",
       "1229  Default  2157.000000    education  2157.000000  30.0000  30.0000\n",
       "1004  Default   985.000000   department   985.000000  29.0000  29.0000\n",
       "605   Default  1013.000000        cloud  1013.000000  28.0000  28.0000\n",
       "3402  Default  1368.000000      service  1368.000000  27.0000  27.0000\n",
       "3751  Default  1904.000000   technology  1904.000000  26.0000  26.0000\n",
       "...       ...          ...          ...          ...      ...      ...\n",
       "2937   Topic2   751.524360  programming  1194.686631   0.1867  -5.9088\n",
       "4098   Topic2   725.742673       within  1122.255841   0.2144  -5.9437\n",
       "3479   Topic2   822.338982     software  1848.511078  -0.1597  -5.8187\n",
       "437    Topic2   873.927005     business  2895.211339  -0.5475  -5.7579\n",
       "471    Topic2   709.287848   candidates  1270.078215   0.0677  -5.9666\n",
       "\n",
       "[190 rows x 6 columns], token_table=      Topic      Freq               Term\n",
       "term                                    \n",
       "37        1  0.035990         accredited\n",
       "37        2  0.963260         accredited\n",
       "70        1  0.104460         additional\n",
       "70        2  0.895900         additional\n",
       "118       1  0.978291              agile\n",
       "...     ...       ...                ...\n",
       "4124      1  0.992668  worldwide deliver\n",
       "4140      1  0.998267              youll\n",
       "4140      2  0.001935              youll\n",
       "4143      1  0.990679              youre\n",
       "4143      2  0.010356              youre\n",
       "\n",
       "[289 rows x 3 columns], R=30, lambda_step=0.01, plot_opts={'xlab': 'PC1', 'ylab': 'PC2'}, topic_order=[1, 2])"
      ]
     },
     "execution_count": 34,
     "metadata": {},
     "output_type": "execute_result"
    }
   ],
   "source": [
    "# This is a interactive visualization \n",
    "warnings.filterwarnings(\"ignore\", category=DeprecationWarning) \n",
    "pyLDAvis.enable_notebook()\n",
    "df = job_df[job_df['LDA_cluster']==2]\n",
    "tf_docs= tf_vectorizer.fit_transform(df.cleaned_jd)\n",
    "panel = pyLDAvis.sklearn.prepare(best_models[2], tf_docs, tf_vectorizer, mds='tsne', sort_topics=False)\n",
    "panel"
   ]
  },
  {
   "cell_type": "code",
   "execution_count": 35,
   "metadata": {
    "colab": {
     "base_uri": "https://localhost:8080/",
     "height": 861
    },
    "executionInfo": {
     "elapsed": 3905,
     "status": "ok",
     "timestamp": 1628214680647,
     "user": {
      "displayName": "Laiya Lubben",
      "photoUrl": "https://lh3.googleusercontent.com/a/default-user=s64",
      "userId": "11817724685368002439"
     },
     "user_tz": 420
    },
    "id": "0nGtJgjCB9kM",
    "outputId": "9ed945ba-e4f0-45b4-a388-4c979c7c98df"
   },
   "outputs": [
    {
     "data": {
      "text/html": [
       "\n",
       "<link rel=\"stylesheet\" type=\"text/css\" href=\"https://cdn.rawgit.com/bmabey/pyLDAvis/files/ldavis.v1.0.0.css\">\n",
       "\n",
       "\n",
       "<div id=\"ldavis_el4720819203766954964747507014\"></div>\n",
       "<script type=\"text/javascript\">\n",
       "\n",
       "var ldavis_el4720819203766954964747507014_data = {\"mdsDat\": {\"x\": [-1015.7005615234375, -387.9960021972656, -2184.74560546875], \"y\": [1338.981201171875, -373.316162109375, -60.565799713134766], \"topics\": [1, 2, 3], \"cluster\": [1, 1, 1], \"Freq\": [62.942628388123545, 14.740571345499939, 22.31680026637651]}, \"tinfo\": {\"Category\": [\"Default\", \"Default\", \"Default\", \"Default\", \"Default\", \"Default\", \"Default\", \"Default\", \"Default\", \"Default\", \"Default\", \"Default\", \"Default\", \"Default\", \"Default\", \"Default\", \"Default\", \"Default\", \"Default\", \"Default\", \"Default\", \"Default\", \"Default\", \"Default\", \"Default\", \"Default\", \"Default\", \"Default\", \"Default\", \"Default\", \"Topic1\", \"Topic1\", \"Topic1\", \"Topic1\", \"Topic1\", \"Topic1\", \"Topic1\", \"Topic1\", \"Topic1\", \"Topic1\", \"Topic1\", \"Topic1\", \"Topic1\", \"Topic1\", \"Topic1\", \"Topic1\", \"Topic1\", \"Topic1\", \"Topic1\", \"Topic1\", \"Topic1\", \"Topic1\", \"Topic1\", \"Topic1\", \"Topic1\", \"Topic1\", \"Topic1\", \"Topic1\", \"Topic1\", \"Topic1\", \"Topic1\", \"Topic1\", \"Topic1\", \"Topic1\", \"Topic1\", \"Topic1\", \"Topic1\", \"Topic1\", \"Topic1\", \"Topic1\", \"Topic1\", \"Topic1\", \"Topic1\", \"Topic1\", \"Topic1\", \"Topic1\", \"Topic1\", \"Topic1\", \"Topic1\", \"Topic1\", \"Topic1\", \"Topic1\", \"Topic1\", \"Topic1\", \"Topic1\", \"Topic1\", \"Topic1\", \"Topic1\", \"Topic1\", \"Topic1\", \"Topic1\", \"Topic1\", \"Topic1\", \"Topic1\", \"Topic1\", \"Topic1\", \"Topic1\", \"Topic1\", \"Topic1\", \"Topic1\", \"Topic1\", \"Topic1\", \"Topic1\", \"Topic1\", \"Topic1\", \"Topic1\", \"Topic1\", \"Topic1\", \"Topic1\", \"Topic1\", \"Topic1\", \"Topic1\", \"Topic1\", \"Topic1\", \"Topic1\", \"Topic1\", \"Topic1\", \"Topic2\", \"Topic2\", \"Topic2\", \"Topic2\", \"Topic2\", \"Topic2\", \"Topic2\", \"Topic2\", \"Topic2\", \"Topic2\", \"Topic2\", \"Topic2\", \"Topic2\", \"Topic2\", \"Topic2\", \"Topic2\", \"Topic2\", \"Topic2\", \"Topic2\", \"Topic2\", \"Topic2\", \"Topic2\", \"Topic2\", \"Topic2\", \"Topic2\", \"Topic2\", \"Topic2\", \"Topic2\", \"Topic2\", \"Topic2\", \"Topic2\", \"Topic2\", \"Topic2\", \"Topic2\", \"Topic2\", \"Topic2\", \"Topic2\", \"Topic2\", \"Topic2\", \"Topic2\", \"Topic2\", \"Topic2\", \"Topic2\", \"Topic2\", \"Topic2\", \"Topic2\", \"Topic2\", \"Topic2\", \"Topic2\", \"Topic2\", \"Topic2\", \"Topic2\", \"Topic2\", \"Topic2\", \"Topic2\", \"Topic2\", \"Topic2\", \"Topic2\", \"Topic2\", \"Topic2\", \"Topic2\", \"Topic2\", \"Topic2\", \"Topic2\", \"Topic2\", \"Topic2\", \"Topic2\", \"Topic2\", \"Topic2\", \"Topic2\", \"Topic2\", \"Topic2\", \"Topic2\", \"Topic2\", \"Topic2\", \"Topic2\", \"Topic2\", \"Topic2\", \"Topic2\", \"Topic2\", \"Topic3\", \"Topic3\", \"Topic3\", \"Topic3\", \"Topic3\", \"Topic3\", \"Topic3\", \"Topic3\", \"Topic3\", \"Topic3\", \"Topic3\", \"Topic3\", \"Topic3\", \"Topic3\", \"Topic3\", \"Topic3\", \"Topic3\", \"Topic3\", \"Topic3\", \"Topic3\", \"Topic3\", \"Topic3\", \"Topic3\", \"Topic3\", \"Topic3\", \"Topic3\", \"Topic3\", \"Topic3\", \"Topic3\", \"Topic3\", \"Topic3\", \"Topic3\", \"Topic3\", \"Topic3\", \"Topic3\", \"Topic3\", \"Topic3\", \"Topic3\", \"Topic3\", \"Topic3\", \"Topic3\", \"Topic3\", \"Topic3\", \"Topic3\", \"Topic3\", \"Topic3\", \"Topic3\", \"Topic3\", \"Topic3\", \"Topic3\", \"Topic3\", \"Topic3\", \"Topic3\", \"Topic3\", \"Topic3\", \"Topic3\", \"Topic3\", \"Topic3\", \"Topic3\", \"Topic3\", \"Topic3\", \"Topic3\", \"Topic3\", \"Topic3\", \"Topic3\", \"Topic3\"], \"Freq\": [2470.0, 3102.0, 7585.0, 996.0, 2911.0, 650.0, 650.0, 576.0, 686.0, 904.0, 3561.0, 896.0, 685.0, 507.0, 458.0, 362.0, 712.0, 1017.0, 1072.0, 1242.0, 691.0, 825.0, 876.0, 679.0, 332.0, 1324.0, 321.0, 664.0, 1320.0, 1358.0, 462.0183509750861, 459.0138793131366, 459.0138793131366, 420.93818119804104, 331.81584044984635, 304.6446291016099, 243.67329812595372, 233.67987881776028, 220.661095022543, 240.60185088675695, 202.61709176060526, 197.62465825018705, 183.59721958825128, 171.58171445635614, 165.57735163738508, 180.53219265553844, 173.5331702758676, 157.56549345664533, 157.5654934566444, 175.49829335104013, 162.53245056137777, 154.55190467221672, 147.53397806540107, 155.49713468754572, 138.53598250752486, 179.38968855353, 137.53260721132037, 136.53339105263515, 144.484237929618, 290.92173847040425, 563.5426462235256, 565.257297465289, 620.2819889840811, 501.114182316683, 527.4489867174409, 717.4134029955077, 421.86298173682053, 354.24708527667525, 411.30816290496364, 236.5006789404512, 604.6694455821829, 323.2747488639003, 824.4923339655803, 511.6938027285514, 451.20399813656337, 353.10796655208503, 389.8701593426114, 1119.0580115907117, 540.6350343011599, 452.0848132805957, 900.4969063408251, 546.0758163873254, 487.383543116636, 1353.7136237880295, 1098.1891234879986, 1174.1287028959816, 848.7720728278741, 661.064214731544, 1319.6665527960918, 833.2031960422355, 1658.8722051858217, 1308.0352152830953, 2550.808350467632, 4953.9095830459955, 2459.774713678519, 1115.4166071812074, 1419.878228027471, 1497.3369881930757, 1526.2778999861798, 1082.1222086289058, 1019.8975577486267, 811.6404623108776, 912.1646639595233, 2002.4920490223992, 1032.0809766246637, 927.8411325947093, 2160.3791695781483, 881.9812061773837, 1447.051485233504, 1025.1913811690413, 1224.4393429774143, 1084.3834426939427, 1658.923282759512, 980.0578503341424, 1193.1256173437841, 936.6474426116843, 995.5716384178763, 230.39444953227266, 161.26926396121837, 156.328170942017, 154.3451024724462, 149.42752418308024, 148.44391499349808, 148.44391499349808, 148.44391499349808, 148.44391499349808, 148.44391499349808, 148.44391499349808, 148.44391499349808, 148.44391499349808, 148.44391499349808, 148.44391499349808, 148.44391499349808, 149.42445824888907, 148.44119213658445, 151.38996279099746, 147.4565297619291, 147.4565297619291, 147.4565297619291, 149.4211570177003, 145.48180177284394, 145.48180177284394, 145.48180177284394, 145.48180177284394, 145.48180177284394, 145.48180177284394, 145.48180177284394, 154.302142291421, 153.31682883239932, 148.4244133414336, 148.4244133388585, 148.4195003889599, 147.44405976259534, 146.460100245873, 176.5406662574507, 159.04584511929409, 178.98936609240715, 324.52196337295663, 166.9575768463043, 178.3281203703993, 174.7711071950796, 173.30432156076543, 174.23365571416036, 154.02680999524222, 299.4558688926502, 421.9427791921184, 298.04194038740957, 785.5906082543361, 302.6192206337325, 165.29647443533014, 339.44442962329646, 274.72527817372156, 519.7598105446197, 173.14272089975088, 321.1270315916848, 264.3193359939248, 288.4816887474516, 232.098006215303, 238.27687067987273, 302.76099870714825, 333.76305338063025, 232.62429471836438, 284.09778605418603, 454.2988786355318, 205.4889728406127, 254.23714787614028, 213.98201202654658, 185.7591742700305, 230.56735329482862, 204.22264221449748, 219.24865796293466, 206.50115660532822, 198.0138621754698, 200.5820847789071, 202.15023137206973, 213.97592404693722, 204.27551048534974, 650.1896396072304, 650.1877363835907, 576.256817161186, 332.0650590435686, 320.39072438480565, 278.5267513488506, 265.90107531426685, 252.26884146041937, 209.489320640529, 205.5837293939389, 207.5231443973293, 202.6681687882551, 203.63529384001708, 198.78034049931722, 195.86663602444287, 195.86662988616095, 195.86662988616078, 195.8666298861609, 195.86662988616075, 195.86662988616092, 195.86662988616084, 194.89377752567526, 194.89377752567518, 194.8937775256752, 194.89377752567523, 194.89377752567523, 194.89377752567523, 194.89377752567523, 194.89377752567518, 194.89377752567535, 245.26409501285963, 243.0198143513205, 194.89377752567535, 855.8809558014385, 208.91702836566174, 220.15792770739768, 289.5628283262878, 561.6890773625396, 1472.0730006117114, 221.57398741610672, 494.45586632510157, 1181.1447470237988, 2177.6236178756976, 495.56818349847464, 247.8606191225926, 411.06617230845825, 315.94643391408175, 534.2615591088262, 880.8834156227891, 623.5040019806395, 312.71305824908933, 727.9749554964236, 711.1661005765234, 478.27275352337404, 429.9644602301962, 375.37512682025084, 344.7398242862017, 443.06558394492333, 303.34034338953296, 353.55169113186435, 420.3616331955369, 331.3847320646071, 359.9243322667986, 343.2089797710963, 320.0784305129513, 319.8307688046548], \"Term\": [\"financial\", \"tools\", \"business\", \"banking\", \"management\", \"chase\", \"deloitte\", \"kpmg\", \"investment\", \"public\", \"clients\", \"open\", \"small\", \"online\", \"challenge\", \"progressive\", \"good\", \"hands\", \"security\", \"predictive\", \"tableau\", \"firm\", \"regression\", \"meet\", \"jpmorgan\", \"diverse\", \"jpmorgan chase\", \"corporate\", \"solve\", \"professional\", \"wells\", \"fargo\", \"wells fargo\", \"libraries\", \"accommodation\", \"pandas\", \"numpy\", \"capgemini\", \"iqvia\", \"talented\", \"disabilities\", \"disabled\", \"prototype\", \"involving\", \"lockheed\", \"distributed computing\", \"java scala\", \"martin\", \"lockheed martin\", \"tackle\", \"graduate\", \"inference\", \"boosting\", \"commitment\", \"reasonable accommodation\", \"difference\", \"women\", \"minority\", \"valued\", \"math\", \"datasets\", \"text\", \"healthcare\", \"clustering\", \"familiarity\", \"production\", \"classification\", \"linear\", \"desired\", \"recognition\", \"computing\", \"computational\", \"highly\", \"masters\", \"candidates\", \"keras\", \"record\", \"mathematics\", \"ideas\", \"domain\", \"candidate\", \"proven\", \"scala\", \"industry\", \"based\", \"developing\", \"plus\", \"tensorflow\", \"programming\", \"following\", \"software\", \"systems\", \"development\", \"business\", \"technology\", \"communication\", \"technologies\", \"client\", \"design\", \"high\", \"predictive\", \"java\", \"value\", \"tools\", \"product\", \"within\", \"clients\", \"visualization\", \"environment\", \"model\", \"cloud\", \"expertise\", \"management\", \"learn\", \"global\", \"solve\", \"financial\", \"ibmers\", \"subject security\", \"latest tools\", \"tuition assistance\", \"online portal\", \"wealth resources\", \"network give\", \"give helpful\", \"advantage tuition\", \"experts pursuing\", \"university online\", \"relationships network\", \"course success\", \"chart course\", \"helpful tips\", \"want chart\", \"bowl\", \"public sectors\", \"social good\", \"programs vendor\", \"academic programs\", \"certification academic\", \"state tech\", \"presentation methodologies\", \"deliver institute\", \"partnerships leaders\", \"leaders partnership\", \"institute government\", \"portal specifically\", \"good competition\", \"take advantage\", \"chart\", \"geared towards\", \"geared\", \"dedicated helping\", \"next challenge\", \"global challenges\", \"selected subject\", \"institute\", \"professional expertise\", \"progressive\", \"portal\", \"meet classified\", \"security investigation\", \"ssrs\", \"investigation meet\", \"books\", \"challenge\", \"public\", \"online\", \"tools\", \"good\", \"splunk\", \"hands\", \"meet\", \"clients\", \"expect\", \"security\", \"tableau\", \"open\", \"leaders\", \"trends\", \"professional\", \"environment\", \"want\", \"solve\", \"business\", \"visualizations\", \"artificial\", \"programs\", \"private\", \"process\", \"methodologies\", \"predictive\", \"government\", \"tech\", \"leadership\", \"challenges\", \"development\", \"technology\", \"chase\", \"deloitte\", \"kpmg\", \"jpmorgan\", \"jpmorgan chase\", \"morgan\", \"small businesses\", \"investment banking\", \"lighthouse\", \"commercial banking\", \"banking financial\", \"global workforce\", \"religious\", \"mental health\", \"strength diverse\", \"beliefs well\", \"well mental\", \"accommodations employees\", \"practices beliefs\", \"religious practices\", \"employees religious\", \"recognize strength\", \"accordance reasonable\", \"directly linked\", \"diverse talents\", \"linked success\", \"bring global\", \"success accordance\", \"workforce directly\", \"talents bring\", \"asset management\", \"transaction\", \"health physical\", \"banking\", \"beliefs\", \"institutional\", \"institutions\", \"investment\", \"financial\", \"financial institutions\", \"small\", \"management\", \"business\", \"firm\", \"accenture\", \"corporate\", \"asset\", \"diverse\", \"clients\", \"global\", \"goals\", \"development\", \"technology\", \"well\", \"risk\", \"practices\", \"businesses\", \"cloud\", \"consumer\", \"employees\", \"environment\", \"architecture\", \"innovative\", \"leading\", \"culture\", \"quality\"], \"Total\": [2470.0, 3102.0, 7585.0, 996.0, 2911.0, 650.0, 650.0, 576.0, 686.0, 904.0, 3561.0, 896.0, 685.0, 507.0, 458.0, 362.0, 712.0, 1017.0, 1072.0, 1242.0, 691.0, 825.0, 876.0, 679.0, 332.0, 1324.0, 321.0, 664.0, 1320.0, 1358.0, 462.6731309910445, 459.66866713233145, 459.6686671323315, 421.6117188780143, 332.47955523177626, 305.4356692354931, 244.34835834116566, 234.33392125560482, 221.31459171686504, 241.34194908159526, 203.2873301206789, 198.28031033266612, 184.25933657553097, 172.24153069588093, 166.23272938314432, 181.25310300738718, 174.24360092880625, 158.2208269075869, 158.22082690758688, 176.2462084612904, 163.22758050154775, 155.21608695409157, 148.2056282191147, 156.21598108290598, 139.19249963089305, 180.2476669685358, 138.1909729633068, 137.18953459194987, 145.1996984402001, 292.3961770464217, 568.7547914778129, 570.7588317386204, 628.8080605007563, 507.65543736832626, 536.5351771750474, 737.5117118967066, 429.51877929382675, 360.43761999882605, 420.36348188654534, 239.3105114184515, 625.6118272986389, 330.384750516811, 875.0566608179927, 534.4242729141653, 469.1741386237187, 364.3761353123176, 405.1577897530338, 1239.93941125085, 573.8924042507518, 476.00932069259727, 993.7417547234909, 583.7649270346022, 518.3190508573457, 1575.531845692532, 1255.8079979423985, 1368.0928064233744, 956.9791962794116, 727.5003848699727, 1576.7562771807009, 943.3165421178899, 2063.8275762904154, 1596.0627719916147, 3492.7592300109927, 7585.832079557225, 3375.2163247403923, 1347.3241745468313, 1790.6638964535841, 1916.087849951467, 2006.3677690586392, 1326.9105803629009, 1242.628021860364, 937.7861876854674, 1102.0361208452036, 3102.2149381390614, 1299.7767898676464, 1131.9972500208273, 3561.022395745557, 1070.7194341255722, 2201.1761718096714, 1336.8054030477708, 1746.4547549357944, 1463.9165197542218, 2911.6052819537636, 1270.8217595201681, 1984.2464203411464, 1320.0072316504359, 2470.379644035528, 231.05953612294326, 161.93921586119026, 157.00208895910518, 155.0273410599679, 150.089899005626, 149.10241033193728, 149.10241033193728, 149.10241033193728, 149.10241033193728, 149.10241033193728, 149.10241033193728, 149.10241033193728, 149.10241033193728, 149.10241033193728, 149.10241033193728, 149.10241033193728, 150.08989294315845, 149.10244900198697, 152.06494436225253, 148.11497533923148, 148.11497533923148, 148.11497533923148, 150.08998815339191, 146.1401047503912, 146.1401047503912, 146.1401047503912, 146.1401047503912, 146.1401047503912, 146.1401047503912, 146.1401047503912, 155.02780085795646, 154.04038414145657, 149.1022426195308, 149.10224261949267, 149.10266645521568, 148.11511590345015, 147.12766871389434, 177.74567158362294, 160.96862914336023, 183.60566062679246, 362.91728650882567, 170.78050318043117, 184.73064686362508, 185.78271734133753, 183.80059492309852, 187.79335101077274, 157.94125985554754, 458.39022603381324, 904.5233442713993, 507.46863031603516, 3102.2149381390614, 712.9711485937154, 188.9132431513508, 1017.315118718462, 679.1518978428998, 3561.022395745557, 219.83507587622847, 1072.4866451799999, 691.0691600635585, 896.1629016231168, 531.8294034543857, 576.2073939928584, 1358.4867965153117, 2201.1761718096714, 642.4212800952411, 1320.0072316504359, 7585.832079557225, 454.5548492697279, 1161.9731179664295, 563.737781227008, 310.5959142928142, 1262.7629649240896, 625.0914158306513, 1242.628021860364, 754.2010106600687, 546.1541612082211, 877.269680926528, 1038.313365587745, 3492.7592300109927, 3375.2163247403923, 650.8587634011939, 650.8588052914787, 576.9211722473144, 332.73309664515597, 321.0587613165301, 279.226637893206, 266.57880729886966, 252.95910870264285, 210.15243818311978, 206.2614042650047, 208.20731027001898, 203.3427356002742, 204.31576560608167, 199.4511841631801, 196.53245680326322, 196.53245698453213, 196.532456984532, 196.53245698453208, 196.53245698453196, 196.5324569845321, 196.53245698453205, 195.55959544853886, 195.55959544853877, 195.5595954485388, 195.55959544853883, 195.55959544853886, 195.55959544853886, 195.55959544853886, 195.55959544853883, 195.55959544853897, 246.15473393395848, 244.2178696782557, 195.55959544853897, 996.0364616478544, 211.17076440849888, 223.85933240359557, 306.83841082423316, 686.5120044854104, 2470.379644035528, 230.7118312587413, 685.4502475231335, 2911.6052819537636, 7585.832079557225, 825.3908097891131, 286.1379044477284, 664.6264830507713, 461.3978071959117, 1324.6794718002802, 3561.022395745557, 1984.2464203411464, 505.54739358687584, 3492.7592300109927, 3375.2163247403923, 1380.6988948623575, 1220.9726714283647, 881.1024696194048, 719.8832868008999, 1746.4547549357944, 510.84160615020073, 919.9571991526356, 2201.1761718096714, 769.6382910589784, 1267.2280190521815, 1377.2191791333294, 755.7554328053229, 905.6312504315969], \"loglift\": [30.0, 29.0, 28.0, 27.0, 26.0, 25.0, 24.0, 23.0, 22.0, 21.0, 20.0, 19.0, 18.0, 17.0, 16.0, 15.0, 14.0, 13.0, 12.0, 11.0, 10.0, 9.0, 8.0, 7.0, 6.0, 5.0, 4.0, 3.0, 2.0, 1.0, 0.4615, 0.4615, 0.4615, 0.4613, 0.4609, 0.4604, 0.4602, 0.4602, 0.46, 0.4599, 0.4596, 0.4596, 0.4593, 0.4591, 0.459, 0.459, 0.4589, 0.4588, 0.4588, 0.4587, 0.4587, 0.4587, 0.4584, 0.4583, 0.4582, 0.4582, 0.4582, 0.4582, 0.458, 0.4579, 0.4537, 0.4533, 0.4493, 0.45, 0.4459, 0.4353, 0.445, 0.4456, 0.4412, 0.4511, 0.4289, 0.4412, 0.4034, 0.4195, 0.4239, 0.4315, 0.4245, 0.3604, 0.4032, 0.4114, 0.3644, 0.3962, 0.4014, 0.3112, 0.3288, 0.3101, 0.343, 0.3672, 0.285, 0.3388, 0.2445, 0.2639, 0.1487, 0.0368, 0.1466, 0.2741, 0.2309, 0.2163, 0.1895, 0.259, 0.2654, 0.3185, 0.2739, 0.0252, 0.2323, 0.2641, -0.0368, 0.269, 0.0435, 0.1975, 0.1078, 0.1628, -0.0996, 0.2031, -0.0457, 0.1199, -0.4459, 1.9117, 1.9104, 1.9103, 1.9102, 1.9101, 1.9101, 1.9101, 1.9101, 1.9101, 1.9101, 1.9101, 1.9101, 1.9101, 1.9101, 1.9101, 1.9101, 1.9101, 1.9101, 1.9101, 1.9101, 1.9101, 1.9101, 1.9101, 1.9101, 1.9101, 1.9101, 1.9101, 1.9101, 1.9101, 1.9101, 1.9099, 1.9099, 1.91, 1.91, 1.91, 1.91, 1.91, 1.9078, 1.9025, 1.8891, 1.8027, 1.8919, 1.8793, 1.8535, 1.8558, 1.8396, 1.8895, 1.4888, 1.152, 1.3824, 0.5411, 1.0576, 1.781, 0.817, 1.0095, -0.0099, 1.6758, 0.7087, 0.9535, 0.7811, 1.0854, 1.0315, 0.4134, 0.0283, 0.8987, 0.3785, -0.9007, 1.1206, 0.395, 0.9459, 1.4005, 0.2141, 0.7959, 0.1798, 0.6192, 0.9, 0.439, 0.2782, -0.878, -0.8902, 1.4988, 1.4988, 1.4987, 1.4978, 1.4977, 1.4973, 1.4973, 1.4971, 1.4967, 1.4965, 1.4965, 1.4965, 1.4965, 1.4965, 1.4964, 1.4964, 1.4964, 1.4964, 1.4964, 1.4964, 1.4964, 1.4964, 1.4964, 1.4964, 1.4964, 1.4964, 1.4964, 1.4964, 1.4964, 1.4964, 1.4962, 1.4949, 1.4964, 1.3482, 1.4891, 1.4832, 1.4419, 1.2992, 0.9821, 1.4594, 1.1732, 0.5976, 0.2518, 0.9897, 1.3562, 1.0194, 1.1211, 0.5918, 0.103, 0.3422, 1.0195, -0.0684, -0.0575, 0.4397, 0.4561, 0.6466, 0.7635, 0.1282, 0.9786, 0.5435, -0.1558, 0.6572, 0.2411, 0.1103, 0.6407, 0.459], \"logprob\": [30.0, 29.0, 28.0, 27.0, 26.0, 25.0, 24.0, 23.0, 22.0, 21.0, 20.0, 19.0, 18.0, 17.0, 16.0, 15.0, 14.0, 13.0, 12.0, 11.0, 10.0, 9.0, 8.0, 7.0, 6.0, 5.0, 4.0, 3.0, 2.0, 1.0, -6.7196, -6.7261, -6.7261, -6.8127, -7.0506, -7.1361, -7.3594, -7.4013, -7.4586, -7.3721, -7.5439, -7.5688, -7.6425, -7.7101, -7.7458, -7.6593, -7.6988, -7.7954, -7.7954, -7.6876, -7.7643, -7.8147, -7.8611, -7.8086, -7.9241, -7.6656, -7.9313, -7.9386, -7.882, -7.1822, -6.521, -6.5179, -6.425, -6.6384, -6.5872, -6.2796, -6.8105, -6.9852, -6.8359, -7.3893, -6.4505, -7.0767, -6.1404, -6.6175, -6.7433, -6.9884, -6.8894, -5.835, -6.5625, -6.7413, -6.0523, -6.5524, -6.6662, -5.6446, -5.8538, -5.7869, -6.1114, -6.3614, -5.6701, -6.1299, -5.4413, -5.6789, -5.011, -4.3473, -5.0474, -5.8382, -5.5969, -5.5438, -5.5246, -5.8685, -5.9277, -6.1561, -6.0394, -5.2531, -5.9159, -6.0223, -5.1772, -6.073, -5.5779, -5.9226, -5.745, -5.8664, -5.4413, -5.9676, -5.7709, -6.0129, -5.9519, -5.9638, -6.3205, -6.3516, -6.3644, -6.3968, -6.4034, -6.4034, -6.4034, -6.4034, -6.4034, -6.4034, -6.4034, -6.4034, -6.4034, -6.4034, -6.4034, -6.3968, -6.4034, -6.3837, -6.4101, -6.4101, -6.4101, -6.3968, -6.4235, -6.4235, -6.4235, -6.4235, -6.4235, -6.4235, -6.4235, -6.3647, -6.3711, -6.4035, -6.4035, -6.4035, -6.4101, -6.4168, -6.23, -6.3344, -6.2163, -5.6212, -6.2858, -6.22, -6.2401, -6.2485, -6.2432, -6.3665, -5.7016, -5.3587, -5.7064, -4.7372, -5.6911, -6.2958, -5.5763, -5.7878, -5.1502, -6.2495, -5.6318, -5.8264, -5.739, -5.9564, -5.9302, -5.6906, -5.5932, -5.9542, -5.7543, -5.2848, -6.0782, -5.8653, -6.0377, -6.1791, -5.963, -6.0844, -6.0134, -6.0733, -6.1153, -6.1024, -6.0946, -6.0377, -6.0841, -5.3411, -5.3411, -5.4618, -6.013, -6.0488, -6.1888, -6.2352, -6.2878, -6.4737, -6.4925, -6.4831, -6.5068, -6.502, -6.5261, -6.5409, -6.5409, -6.5409, -6.5409, -6.5409, -6.5409, -6.5409, -6.5459, -6.5459, -6.5459, -6.5459, -6.5459, -6.5459, -6.5459, -6.5459, -6.5459, -6.316, -6.3252, -6.5459, -5.0662, -6.4764, -6.424, -6.15, -5.4874, -4.5239, -6.4176, -5.6149, -4.7441, -4.1323, -5.6126, -6.3055, -5.7996, -6.0628, -5.5374, -5.0374, -5.383, -6.073, -5.2281, -5.2514, -5.6481, -5.7546, -5.8904, -5.9755, -5.7246, -6.1035, -5.9503, -5.7772, -6.015, -5.9324, -5.98, -6.0498, -6.0505]}, \"token.table\": {\"Topic\": [2, 1, 3, 1, 3, 3, 2, 1, 2, 3, 1, 2, 3, 1, 3, 1, 3, 1, 2, 3, 3, 1, 2, 3, 1, 3, 3, 2, 3, 1, 2, 3, 1, 2, 3, 1, 2, 3, 1, 3, 1, 3, 1, 2, 1, 2, 3, 1, 2, 3, 2, 2, 3, 1, 2, 3, 1, 2, 3, 1, 2, 3, 1, 2, 3, 1, 2, 3, 1, 1, 2, 3, 1, 2, 1, 2, 3, 1, 3, 1, 2, 3, 2, 1, 2, 3, 1, 2, 3, 2, 2, 3, 1, 2, 3, 1, 3, 1, 2, 3, 1, 2, 3, 1, 3, 3, 1, 1, 1, 1, 2, 3, 3, 1, 3, 1, 2, 3, 3, 1, 2, 3, 1, 2, 3, 1, 2, 3, 2, 1, 3, 1, 1, 2, 3, 1, 2, 3, 1, 2, 3, 1, 2, 3, 2, 2, 2, 1, 2, 3, 2, 3, 1, 2, 3, 1, 2, 3, 2, 1, 2, 3, 1, 1, 2, 3, 3, 1, 2, 2, 1, 2, 3, 1, 2, 3, 2, 1, 2, 3, 1, 2, 3, 1, 1, 2, 3, 1, 2, 2, 1, 3, 1, 2, 3, 1, 2, 1, 3, 3, 1, 1, 1, 2, 3, 1, 3, 3, 1, 2, 3, 2, 1, 2, 3, 2, 1, 2, 3, 1, 2, 3, 1, 2, 3, 1, 3, 1, 2, 3, 3, 1, 1, 1, 2, 3, 1, 1, 2, 3, 1, 3, 1, 2, 3, 1, 2, 3, 1, 2, 3, 1, 2, 3, 1, 1, 2, 3, 3, 2, 2, 1, 1, 2, 3, 2, 1, 2, 3, 1, 2, 1, 2, 3, 2, 3, 2, 1, 2, 3, 3, 1, 2, 3, 2, 1, 2, 3, 1, 2, 3, 1, 2, 3, 1, 3, 1, 2, 3, 2, 3, 1, 2, 3, 1, 2, 3, 2, 1, 2, 1, 1, 3, 1, 2, 3, 2, 1, 2, 3, 1, 1, 2, 3, 1, 3, 1, 2, 3, 2, 3, 3, 1, 2, 3, 1, 2, 3, 1, 2, 3, 1, 2, 1, 2, 1, 2, 3, 3, 2, 1, 2, 3, 1, 2, 3, 1, 2, 3, 1, 2, 2, 3, 2, 3, 1, 2, 3, 1, 2, 3, 1, 2, 1, 3, 1, 2, 3, 1, 2, 3, 1, 2, 3, 1, 2, 3, 1, 2, 3, 1, 2, 3, 1, 3, 1, 2, 3, 2, 2, 1, 2, 3, 1, 1, 2, 3, 1, 2, 3, 1, 2, 3, 2, 2, 1, 2, 3, 3, 1, 1, 1, 2, 3, 1, 3], \"Freq\": [0.9924722308687706, 0.13280309742025748, 0.8667149515848384, 0.9985576399383657, 0.9972907427470161, 0.9971384914800254, 0.9926063547230185, 0.49893567466821054, 0.0701628292502171, 0.43007215707077523, 0.5723023964304934, 0.21859369728322603, 0.20912704110166902, 0.3142624384827913, 0.68487538317629, 0.004062485348213098, 0.9953089103122091, 0.11947353794973029, 0.021083565520540637, 0.8594062897896565, 0.9990043083994019, 0.8743374797732122, 0.030259402760821553, 0.09555600871838385, 0.00947100800436136, 0.9897203364557622, 0.9972907427470159, 0.9750460401597898, 0.025325871172981552, 0.9986125478392044, 0.9927383988236222, 0.997138491480025, 0.6530595388936105, 0.05984841151750084, 0.28711418565003705, 0.5153613187058314, 0.0055564562663701494, 0.4792443529744254, 0.9056678918059807, 0.09358568215328468, 0.9612635541314555, 0.03836528597420443, 0.9985750195540808, 0.9924722308687706, 0.3446844872044569, 0.6522826688236241, 0.0021815473873699805, 0.7608493025155413, 0.1945462773520751, 0.04430261761482898, 0.9932460299469185, 0.9926063547230185, 0.9986805687355176, 0.9824948764610749, 0.016297308377316407, 0.002328186911045201, 0.7812794178711158, 0.08767865210577652, 0.13099608141993993, 0.6065673730613451, 0.14602547869995344, 0.24740085910511342, 0.700848388165085, 0.04523449564137395, 0.2536567287231476, 0.9868898530806094, 0.011819040156654005, 0.9987326554575918, 0.992216026334331, 0.8275662391161557, 0.055665890523508225, 0.11652726416254389, 0.9776480285326147, 0.021187418575010226, 0.9670533285989177, 0.03196870507765017, 0.0015984352538825086, 0.4052136660519711, 0.5931388445108563, 0.3520774539797033, 0.030092090083735326, 0.6183924512207609, 0.9926063547230185, 0.486930009400004, 0.08997619738913118, 0.42341739947826434, 0.9916399975014569, 0.007032907783698276, 0.001758226945924569, 0.992604649658986, 0.992198549793443, 0.9986805044588832, 0.7605784061792314, 0.08173975007430796, 0.1574985428261056, 0.9777252727936236, 0.021410042469933364, 0.8581289182195219, 0.08478956943225259, 0.057013675997549154, 0.7303681221656871, 0.061269611189124676, 0.20843120068076057, 0.9930780409559831, 0.005547922016513872, 0.9971384914800253, 0.9985865812664847, 0.9985862926470317, 0.9986035935209514, 0.4589789552439499, 0.13739172673420869, 0.4031163850333376, 0.9971384914800252, 0.9495612383016713, 0.050419180794779, 0.6141590070933914, 0.0021740141844013854, 0.38480051063904525, 0.9972907427470163, 0.65737582413059, 0.15173705961272776, 0.1908070809501367, 0.20924777275260167, 0.7869535801347846, 0.004548864625056558, 0.7404793821043796, 0.1304719206475429, 0.12910572252557911, 0.9926063547230185, 0.9822282348284194, 0.016774296230466366, 0.998545328015279, 0.4031768972857015, 0.0012143882448364504, 0.595859832133085, 0.004334411436743826, 0.03467529149395061, 0.9622393389571293, 0.29077134995157006, 0.10903925623183877, 0.6009274565665781, 0.8830545875192516, 0.010600895408394378, 0.10600895408394377, 0.9926074712215726, 0.9926074712213186, 0.9926063547230185, 0.601235808098316, 0.08466690340361868, 0.3144770697848694, 0.9923354408878237, 0.998314493019569, 0.3797863512612606, 0.0019780539128190656, 0.6191308747123676, 0.538591218953828, 0.4249821337057549, 0.03786969508269103, 0.992198549793443, 0.41103100581725727, 0.27446263936829757, 0.3155657399500233, 0.9986057472588367, 0.5534175101115429, 0.3332300815769326, 0.11304265304232228, 0.9971384914800244, 0.9859924497568592, 0.012722483222669152, 0.9926063547230185, 0.81542796930904, 0.006782672572810869, 0.17785674746481833, 0.9416533087465839, 0.01828453026692396, 0.03999740995889616, 0.9954144453818193, 0.9426854162781704, 0.0017424869062443074, 0.055759580999817836, 0.8593923402448544, 0.02983119644867663, 0.11107360379826406, 0.9986078314539943, 0.7117898171748503, 0.004734743794954658, 0.2840846276972795, 0.012424781217579858, 0.9877701067975987, 0.992198549793443, 0.013401272878770609, 0.9827600111098447, 0.032590443853290324, 0.026072355082632257, 0.9451228717454193, 0.06922502809619845, 0.92655037605681, 0.18062320715418054, 0.8186309872633021, 0.9962084436984229, 0.9985977209160584, 0.9985785315173998, 0.865869012214908, 0.07677656265944997, 0.05758242199458748, 0.9986019519367844, 0.9977967426368235, 0.9967022818122497, 0.968779142732367, 0.030188585184294722, 0.9984032961665696, 0.9936173527005351, 0.3929831608453474, 0.43623011156038566, 0.17110750065515126, 0.992198549793443, 0.5311935544242613, 0.22911996660788952, 0.23937906959033234, 0.6106508047101357, 0.14013746172301567, 0.2490525874144786, 0.7711545640908954, 0.0243936647824671, 0.20380513479545093, 0.9985490942243205, 0.9945161798117441, 0.9821394337282356, 0.016646431080139586, 0.0027744051800232647, 0.997138491480025, 0.9985999785721625, 0.9986043120118702, 0.5697887726343069, 0.02472862666044008, 0.40561816786082966, 0.99860431201187, 0.958040317308404, 0.03742344989485953, 0.00561351748422893, 0.9952250502707495, 0.0034200173548823007, 0.9024634509126164, 0.08790752113447291, 0.009677892234987844, 0.44761709562404955, 0.40491678058096586, 0.14871489032246382, 0.032479721702211216, 0.9635650771655995, 0.9977378717249883, 0.6223089777726003, 0.32635226597843303, 0.05119251231034244, 0.9986184471540515, 0.7667533342273389, 0.09724676434102836, 0.13539741804404717, 0.9991883371338924, 0.9926063547230185, 0.9924712889926978, 0.9985743372964295, 0.4098775521759134, 0.5872284160981835, 0.003941130309383783, 0.9927383587246924, 0.6751004743716048, 0.3213701431719375, 0.0022317371053606773, 0.9985736137610136, 0.992198549793443, 0.887166621072623, 0.05120278496178861, 0.06269728770831258, 0.9778633795425873, 0.017566408015735103, 0.992198549793443, 0.48008037042810275, 0.09420016724712181, 0.42560316527314074, 0.9972907427470168, 0.8208409773931679, 0.17623938632265077, 0.002414238168803435, 0.992198549793443, 0.2672282415207554, 0.5988488303959097, 0.13522392944423767, 0.6335314086821445, 0.18293219425696924, 0.1845160227786746, 0.7939824807189291, 0.036160054838943474, 0.1700291940299257, 0.9721879509629002, 0.027118213415980478, 0.6463073489210052, 0.22304228556157693, 0.13102814135300558, 0.9749154758569553, 0.0217858206895409, 0.8371617218865361, 0.08244774533731038, 0.08054510506029552, 0.31574963738029527, 0.37960911460327634, 0.3051063911764651, 0.9924722308687706, 0.10470705423142165, 0.8955208585582115, 0.9985925458088, 0.9353079890797144, 0.0633816769156583, 0.31397752396182127, 0.46654406729538234, 0.21889982304380498, 0.9926060972883666, 0.6216658267166587, 0.02429244793564208, 0.35334469724570294, 0.9986170258354184, 0.9903451319177058, 0.008357342885381484, 0.997138491480025, 0.9625879345371261, 0.03702261286681254, 0.7712958377188024, 0.22705306465390782, 0.0011409701741402403, 0.9926063547230185, 0.9984545215825857, 0.997290742747016, 0.6355588607009444, 0.012285287255817224, 0.3521782346667604, 0.939575728876758, 0.05787940834969762, 0.0019293136116565873, 0.588352314535438, 0.2993044262533686, 0.1128219176842916, 0.05920895203502575, 0.9419606005572277, 0.0056260160435441945, 0.9958048397073224, 0.2742722767689352, 0.004376685267589392, 0.7206941740630531, 0.9978287572641859, 0.9929967793253152, 0.8038462219707014, 0.052814489568900815, 0.14342283405866643, 0.7098445959484987, 0.2151503364454361, 0.07499958911302174, 0.12174900825546249, 0.8734167983544048, 0.005293435141541847, 0.05440678798773183, 0.9412374321877607, 0.9927377690757231, 0.9972907436668528, 0.9942001950781624, 0.997138491480025, 0.8195166399175131, 0.04761717479643043, 0.1328268560110954, 0.5585548050856431, 0.38201675788240874, 0.05932836012567712, 0.9929291615849761, 0.9933702158434268, 0.9985831344990106, 0.9971384914800244, 0.33507022924655755, 0.3625350021356196, 0.302112501779683, 0.7930019713986052, 0.03294867345951951, 0.17423705287067945, 0.7288421728610871, 0.06044057043238283, 0.21065316459521663, 0.9085905846196104, 0.032989673269093266, 0.05773192822091321, 0.989910218785265, 0.008760267422878451, 0.0017520534845756903, 0.6453453548260418, 0.2533673570895449, 0.10121800270498359, 0.004094704459249635, 0.9950131835976614, 0.45296190698176786, 0.4130457236078956, 0.13363243999078975, 0.9933731620955137, 0.9926063547230185, 0.827559081548565, 0.05807432151217999, 0.11342640920347655, 0.9917375968883696, 0.8237452052229777, 0.16437546045265766, 0.011207417758135751, 0.38279208830252803, 0.45099067874723126, 0.1649965897855724, 0.46698328541595635, 0.36269035167305946, 0.17122720465251734, 0.9926063547230185, 0.9926063547230185, 0.638082642984825, 0.015209688425290946, 0.34620147939471774, 0.9972907427470166, 0.9985451262544625, 0.9985453280152788, 0.8197899773898973, 0.018551281815935176, 0.16166117011029227, 0.9986180503746978, 0.9971384914800252], \"Term\": [\"academic programs\", \"accenture\", \"accenture\", \"accommodation\", \"accommodations employees\", \"accordance reasonable\", \"advantage tuition\", \"architecture\", \"architecture\", \"architecture\", \"artificial\", \"artificial\", \"artificial\", \"asset\", \"asset\", \"asset management\", \"asset management\", \"banking\", \"banking\", \"banking\", \"banking financial\", \"based\", \"based\", \"based\", \"beliefs\", \"beliefs\", \"beliefs well\", \"books\", \"books\", \"boosting\", \"bowl\", \"bring global\", \"business\", \"business\", \"business\", \"businesses\", \"businesses\", \"businesses\", \"candidate\", \"candidate\", \"candidates\", \"candidates\", \"capgemini\", \"certification academic\", \"challenge\", \"challenge\", \"challenge\", \"challenges\", \"challenges\", \"challenges\", \"chart\", \"chart course\", \"chase\", \"classification\", \"classification\", \"classification\", \"client\", \"client\", \"client\", \"clients\", \"clients\", \"clients\", \"cloud\", \"cloud\", \"cloud\", \"clustering\", \"clustering\", \"commercial banking\", \"commitment\", \"communication\", \"communication\", \"communication\", \"computational\", \"computational\", \"computing\", \"computing\", \"computing\", \"consumer\", \"consumer\", \"corporate\", \"corporate\", \"corporate\", \"course success\", \"culture\", \"culture\", \"culture\", \"datasets\", \"datasets\", \"datasets\", \"dedicated helping\", \"deliver institute\", \"deloitte\", \"design\", \"design\", \"design\", \"desired\", \"desired\", \"developing\", \"developing\", \"developing\", \"development\", \"development\", \"development\", \"difference\", \"difference\", \"directly linked\", \"disabilities\", \"disabled\", \"distributed computing\", \"diverse\", \"diverse\", \"diverse\", \"diverse talents\", \"domain\", \"domain\", \"employees\", \"employees\", \"employees\", \"employees religious\", \"environment\", \"environment\", \"environment\", \"expect\", \"expect\", \"expect\", \"expertise\", \"expertise\", \"expertise\", \"experts pursuing\", \"familiarity\", \"familiarity\", \"fargo\", \"financial\", \"financial\", \"financial\", \"financial institutions\", \"financial institutions\", \"financial institutions\", \"firm\", \"firm\", \"firm\", \"following\", \"following\", \"following\", \"geared\", \"geared towards\", \"give helpful\", \"global\", \"global\", \"global\", \"global challenges\", \"global workforce\", \"goals\", \"goals\", \"goals\", \"good\", \"good\", \"good\", \"good competition\", \"government\", \"government\", \"government\", \"graduate\", \"hands\", \"hands\", \"hands\", \"health physical\", \"healthcare\", \"healthcare\", \"helpful tips\", \"high\", \"high\", \"high\", \"highly\", \"highly\", \"highly\", \"ibmers\", \"ideas\", \"ideas\", \"ideas\", \"industry\", \"industry\", \"industry\", \"inference\", \"innovative\", \"innovative\", \"innovative\", \"institute\", \"institute\", \"institute government\", \"institutional\", \"institutional\", \"institutions\", \"institutions\", \"institutions\", \"investigation meet\", \"investigation meet\", \"investment\", \"investment\", \"investment banking\", \"involving\", \"iqvia\", \"java\", \"java\", \"java\", \"java scala\", \"jpmorgan\", \"jpmorgan chase\", \"keras\", \"keras\", \"kpmg\", \"latest tools\", \"leaders\", \"leaders\", \"leaders\", \"leaders partnership\", \"leadership\", \"leadership\", \"leadership\", \"leading\", \"leading\", \"leading\", \"learn\", \"learn\", \"learn\", \"libraries\", \"lighthouse\", \"linear\", \"linear\", \"linear\", \"linked success\", \"lockheed\", \"lockheed martin\", \"management\", \"management\", \"management\", \"martin\", \"masters\", \"masters\", \"masters\", \"math\", \"math\", \"mathematics\", \"mathematics\", \"mathematics\", \"meet\", \"meet\", \"meet\", \"meet classified\", \"meet classified\", \"mental health\", \"methodologies\", \"methodologies\", \"methodologies\", \"minority\", \"model\", \"model\", \"model\", \"morgan\", \"network give\", \"next challenge\", \"numpy\", \"online\", \"online\", \"online\", \"online portal\", \"open\", \"open\", \"open\", \"pandas\", \"partnerships leaders\", \"plus\", \"plus\", \"plus\", \"portal\", \"portal\", \"portal specifically\", \"practices\", \"practices\", \"practices\", \"practices beliefs\", \"predictive\", \"predictive\", \"predictive\", \"presentation methodologies\", \"private\", \"private\", \"private\", \"process\", \"process\", \"process\", \"product\", \"product\", \"product\", \"production\", \"production\", \"professional\", \"professional\", \"professional\", \"professional expertise\", \"professional expertise\", \"programming\", \"programming\", \"programming\", \"programs\", \"programs\", \"programs\", \"programs vendor\", \"progressive\", \"progressive\", \"prototype\", \"proven\", \"proven\", \"public\", \"public\", \"public\", \"public sectors\", \"quality\", \"quality\", \"quality\", \"reasonable accommodation\", \"recognition\", \"recognition\", \"recognize strength\", \"record\", \"record\", \"regression\", \"regression\", \"regression\", \"relationships network\", \"religious\", \"religious practices\", \"risk\", \"risk\", \"risk\", \"scala\", \"scala\", \"scala\", \"security\", \"security\", \"security\", \"security investigation\", \"security investigation\", \"selected subject\", \"selected subject\", \"small\", \"small\", \"small\", \"small businesses\", \"social good\", \"software\", \"software\", \"software\", \"solve\", \"solve\", \"solve\", \"splunk\", \"splunk\", \"splunk\", \"ssrs\", \"ssrs\", \"state tech\", \"strength diverse\", \"subject security\", \"success accordance\", \"systems\", \"systems\", \"systems\", \"tableau\", \"tableau\", \"tableau\", \"tackle\", \"take advantage\", \"talented\", \"talents bring\", \"tech\", \"tech\", \"tech\", \"technologies\", \"technologies\", \"technologies\", \"technology\", \"technology\", \"technology\", \"tensorflow\", \"tensorflow\", \"tensorflow\", \"text\", \"text\", \"text\", \"tools\", \"tools\", \"tools\", \"transaction\", \"transaction\", \"trends\", \"trends\", \"trends\", \"tuition assistance\", \"university online\", \"value\", \"value\", \"value\", \"valued\", \"visualization\", \"visualization\", \"visualization\", \"visualizations\", \"visualizations\", \"visualizations\", \"want\", \"want\", \"want\", \"want chart\", \"wealth resources\", \"well\", \"well\", \"well\", \"well mental\", \"wells\", \"wells fargo\", \"within\", \"within\", \"within\", \"women\", \"workforce directly\"]}, \"R\": 30, \"lambda.step\": 0.01, \"plot.opts\": {\"xlab\": \"PC1\", \"ylab\": \"PC2\"}, \"topic.order\": [1, 2, 3]};\n",
       "\n",
       "function LDAvis_load_lib(url, callback){\n",
       "  var s = document.createElement('script');\n",
       "  s.src = url;\n",
       "  s.async = true;\n",
       "  s.onreadystatechange = s.onload = callback;\n",
       "  s.onerror = function(){console.warn(\"failed to load library \" + url);};\n",
       "  document.getElementsByTagName(\"head\")[0].appendChild(s);\n",
       "}\n",
       "\n",
       "if(typeof(LDAvis) !== \"undefined\"){\n",
       "   // already loaded: just create the visualization\n",
       "   !function(LDAvis){\n",
       "       new LDAvis(\"#\" + \"ldavis_el4720819203766954964747507014\", ldavis_el4720819203766954964747507014_data);\n",
       "   }(LDAvis);\n",
       "}else if(typeof define === \"function\" && define.amd){\n",
       "   // require.js is available: use it to load d3/LDAvis\n",
       "   require.config({paths: {d3: \"https://cdnjs.cloudflare.com/ajax/libs/d3/3.5.5/d3.min\"}});\n",
       "   require([\"d3\"], function(d3){\n",
       "      window.d3 = d3;\n",
       "      LDAvis_load_lib(\"https://cdn.rawgit.com/bmabey/pyLDAvis/files/ldavis.v1.0.0.js\", function(){\n",
       "        new LDAvis(\"#\" + \"ldavis_el4720819203766954964747507014\", ldavis_el4720819203766954964747507014_data);\n",
       "      });\n",
       "    });\n",
       "}else{\n",
       "    // require.js not available: dynamically load d3 & LDAvis\n",
       "    LDAvis_load_lib(\"https://cdnjs.cloudflare.com/ajax/libs/d3/3.5.5/d3.min.js\", function(){\n",
       "         LDAvis_load_lib(\"https://cdn.rawgit.com/bmabey/pyLDAvis/files/ldavis.v1.0.0.js\", function(){\n",
       "                 new LDAvis(\"#\" + \"ldavis_el4720819203766954964747507014\", ldavis_el4720819203766954964747507014_data);\n",
       "            })\n",
       "         });\n",
       "}\n",
       "</script>"
      ],
      "text/plain": [
       "PreparedData(topic_coordinates=                 x            y  topics  cluster       Freq\n",
       "topic                                                      \n",
       "0     -1015.700562  1338.981201       1        1  62.942628\n",
       "1      -387.996002  -373.316162       2        1  14.740571\n",
       "2     -2184.745605   -60.565800       3        1  22.316800, topic_info=     Category         Freq          Term        Total  loglift  logprob\n",
       "1619  Default  2470.000000     financial  2470.000000  30.0000  30.0000\n",
       "4016  Default  3102.000000         tools  3102.000000  29.0000  29.0000\n",
       "419   Default  7585.000000      business  7585.000000  28.0000  28.0000\n",
       "317   Default   996.000000       banking   996.000000  27.0000  27.0000\n",
       "2419  Default  2911.000000    management  2911.000000  26.0000  26.0000\n",
       "...       ...          ...           ...          ...      ...      ...\n",
       "200    Topic3   331.384732  architecture   769.638291   0.6572  -6.0150\n",
       "2076   Topic3   359.924332    innovative  1267.228019   0.2411  -5.9324\n",
       "2281   Topic3   343.208980       leading  1377.219179   0.1103  -5.9800\n",
       "986    Topic3   320.078431       culture   755.755433   0.6407  -6.0498\n",
       "3226   Topic3   319.830769       quality   905.631250   0.4590  -6.0505\n",
       "\n",
       "[263 rows x 6 columns], token_table=      Topic      Freq                      Term\n",
       "term                                           \n",
       "7         2  0.992472         academic programs\n",
       "11        1  0.132803                 accenture\n",
       "11        3  0.866715                 accenture\n",
       "14        1  0.998558             accommodation\n",
       "24        3  0.997291  accommodations employees\n",
       "...     ...       ...                       ...\n",
       "4312      1  0.819790                    within\n",
       "4312      2  0.018551                    within\n",
       "4312      3  0.161661                    within\n",
       "4316      1  0.998618                     women\n",
       "4324      3  0.997138        workforce directly\n",
       "\n",
       "[426 rows x 3 columns], R=30, lambda_step=0.01, plot_opts={'xlab': 'PC1', 'ylab': 'PC2'}, topic_order=[1, 2, 3])"
      ]
     },
     "execution_count": 35,
     "metadata": {},
     "output_type": "execute_result"
    }
   ],
   "source": [
    "# This is a interactive visualization \n",
    "warnings.filterwarnings(\"ignore\", category=DeprecationWarning) \n",
    "pyLDAvis.enable_notebook()\n",
    "df = job_df[job_df['LDA_cluster']==3]\n",
    "tf_docs= tf_vectorizer.fit_transform(df.cleaned_jd)\n",
    "panel = pyLDAvis.sklearn.prepare(best_models[3], tf_docs, tf_vectorizer, mds='tsne', sort_topics=False)\n",
    "panel"
   ]
  },
  {
   "cell_type": "code",
   "execution_count": null,
   "metadata": {},
   "outputs": [],
   "source": []
  }
 ],
 "metadata": {
  "colab": {
   "collapsed_sections": [
    "63BLhBE85NdP",
    "_BzgnzWM547h",
    "5TLXBhDnVfRm"
   ],
   "name": "model_training_LDA_NMF.ipynb",
   "provenance": []
  },
  "kernelspec": {
   "display_name": "Python 3",
   "language": "python",
   "name": "python3"
  },
  "language_info": {
   "codemirror_mode": {
    "name": "ipython",
    "version": 3
   },
   "file_extension": ".py",
   "mimetype": "text/x-python",
   "name": "python",
   "nbconvert_exporter": "python",
   "pygments_lexer": "ipython3",
   "version": "3.7.4"
  },
  "widgets": {
   "application/vnd.jupyter.widget-state+json": {
    "02aec81bd7514c45b8ddf82eb11498c2": {
     "model_module": "@jupyter-widgets/controls",
     "model_name": "FloatProgressModel",
     "state": {
      "_dom_classes": [],
      "_model_module": "@jupyter-widgets/controls",
      "_model_module_version": "1.5.0",
      "_model_name": "FloatProgressModel",
      "_view_count": null,
      "_view_module": "@jupyter-widgets/controls",
      "_view_module_version": "1.5.0",
      "_view_name": "ProgressView",
      "bar_style": "success",
      "description": "100%",
      "description_tooltip": null,
      "layout": "IPY_MODEL_a9e3e2fe531942eab4ee725c13041ed6",
      "max": 18,
      "min": 0,
      "orientation": "horizontal",
      "style": "IPY_MODEL_1b8b50e1deab4427b87b5d93982e2552",
      "value": 18
     }
    },
    "08e6be4189f74db3bfa8c5067871fb99": {
     "model_module": "@jupyter-widgets/base",
     "model_name": "LayoutModel",
     "state": {
      "_model_module": "@jupyter-widgets/base",
      "_model_module_version": "1.2.0",
      "_model_name": "LayoutModel",
      "_view_count": null,
      "_view_module": "@jupyter-widgets/base",
      "_view_module_version": "1.2.0",
      "_view_name": "LayoutView",
      "align_content": null,
      "align_items": null,
      "align_self": null,
      "border": null,
      "bottom": null,
      "display": null,
      "flex": null,
      "flex_flow": null,
      "grid_area": null,
      "grid_auto_columns": null,
      "grid_auto_flow": null,
      "grid_auto_rows": null,
      "grid_column": null,
      "grid_gap": null,
      "grid_row": null,
      "grid_template_areas": null,
      "grid_template_columns": null,
      "grid_template_rows": null,
      "height": null,
      "justify_content": null,
      "justify_items": null,
      "left": null,
      "margin": null,
      "max_height": null,
      "max_width": null,
      "min_height": null,
      "min_width": null,
      "object_fit": null,
      "object_position": null,
      "order": null,
      "overflow": null,
      "overflow_x": null,
      "overflow_y": null,
      "padding": null,
      "right": null,
      "top": null,
      "visibility": null,
      "width": null
     }
    },
    "0abb3b35b613433da87d0e4009ed113a": {
     "model_module": "@jupyter-widgets/controls",
     "model_name": "DescriptionStyleModel",
     "state": {
      "_model_module": "@jupyter-widgets/controls",
      "_model_module_version": "1.5.0",
      "_model_name": "DescriptionStyleModel",
      "_view_count": null,
      "_view_module": "@jupyter-widgets/base",
      "_view_module_version": "1.2.0",
      "_view_name": "StyleView",
      "description_width": ""
     }
    },
    "0e2b766c39ae48cbb96d4c4503591a8a": {
     "model_module": "@jupyter-widgets/base",
     "model_name": "LayoutModel",
     "state": {
      "_model_module": "@jupyter-widgets/base",
      "_model_module_version": "1.2.0",
      "_model_name": "LayoutModel",
      "_view_count": null,
      "_view_module": "@jupyter-widgets/base",
      "_view_module_version": "1.2.0",
      "_view_name": "LayoutView",
      "align_content": null,
      "align_items": null,
      "align_self": null,
      "border": null,
      "bottom": null,
      "display": null,
      "flex": null,
      "flex_flow": null,
      "grid_area": null,
      "grid_auto_columns": null,
      "grid_auto_flow": null,
      "grid_auto_rows": null,
      "grid_column": null,
      "grid_gap": null,
      "grid_row": null,
      "grid_template_areas": null,
      "grid_template_columns": null,
      "grid_template_rows": null,
      "height": null,
      "justify_content": null,
      "justify_items": null,
      "left": null,
      "margin": null,
      "max_height": null,
      "max_width": null,
      "min_height": null,
      "min_width": null,
      "object_fit": null,
      "object_position": null,
      "order": null,
      "overflow": null,
      "overflow_x": null,
      "overflow_y": null,
      "padding": null,
      "right": null,
      "top": null,
      "visibility": null,
      "width": null
     }
    },
    "13538d007a614a92b76c77b65c834ccf": {
     "model_module": "@jupyter-widgets/base",
     "model_name": "LayoutModel",
     "state": {
      "_model_module": "@jupyter-widgets/base",
      "_model_module_version": "1.2.0",
      "_model_name": "LayoutModel",
      "_view_count": null,
      "_view_module": "@jupyter-widgets/base",
      "_view_module_version": "1.2.0",
      "_view_name": "LayoutView",
      "align_content": null,
      "align_items": null,
      "align_self": null,
      "border": null,
      "bottom": null,
      "display": null,
      "flex": null,
      "flex_flow": null,
      "grid_area": null,
      "grid_auto_columns": null,
      "grid_auto_flow": null,
      "grid_auto_rows": null,
      "grid_column": null,
      "grid_gap": null,
      "grid_row": null,
      "grid_template_areas": null,
      "grid_template_columns": null,
      "grid_template_rows": null,
      "height": null,
      "justify_content": null,
      "justify_items": null,
      "left": null,
      "margin": null,
      "max_height": null,
      "max_width": null,
      "min_height": null,
      "min_width": null,
      "object_fit": null,
      "object_position": null,
      "order": null,
      "overflow": null,
      "overflow_x": null,
      "overflow_y": null,
      "padding": null,
      "right": null,
      "top": null,
      "visibility": null,
      "width": null
     }
    },
    "13f63adbdbee47cdbe34e043a3ab30ac": {
     "model_module": "@jupyter-widgets/controls",
     "model_name": "FloatProgressModel",
     "state": {
      "_dom_classes": [],
      "_model_module": "@jupyter-widgets/controls",
      "_model_module_version": "1.5.0",
      "_model_name": "FloatProgressModel",
      "_view_count": null,
      "_view_module": "@jupyter-widgets/controls",
      "_view_module_version": "1.5.0",
      "_view_name": "ProgressView",
      "bar_style": "success",
      "description": "100%",
      "description_tooltip": null,
      "layout": "IPY_MODEL_1639f54b9c5149afbc4a4c7329f8d300",
      "max": 8,
      "min": 0,
      "orientation": "horizontal",
      "style": "IPY_MODEL_d431ce9223d54b18b37420e1671b0493",
      "value": 8
     }
    },
    "1639f54b9c5149afbc4a4c7329f8d300": {
     "model_module": "@jupyter-widgets/base",
     "model_name": "LayoutModel",
     "state": {
      "_model_module": "@jupyter-widgets/base",
      "_model_module_version": "1.2.0",
      "_model_name": "LayoutModel",
      "_view_count": null,
      "_view_module": "@jupyter-widgets/base",
      "_view_module_version": "1.2.0",
      "_view_name": "LayoutView",
      "align_content": null,
      "align_items": null,
      "align_self": null,
      "border": null,
      "bottom": null,
      "display": null,
      "flex": null,
      "flex_flow": null,
      "grid_area": null,
      "grid_auto_columns": null,
      "grid_auto_flow": null,
      "grid_auto_rows": null,
      "grid_column": null,
      "grid_gap": null,
      "grid_row": null,
      "grid_template_areas": null,
      "grid_template_columns": null,
      "grid_template_rows": null,
      "height": null,
      "justify_content": null,
      "justify_items": null,
      "left": null,
      "margin": null,
      "max_height": null,
      "max_width": null,
      "min_height": null,
      "min_width": null,
      "object_fit": null,
      "object_position": null,
      "order": null,
      "overflow": null,
      "overflow_x": null,
      "overflow_y": null,
      "padding": null,
      "right": null,
      "top": null,
      "visibility": null,
      "width": null
     }
    },
    "195f982053aa4ff4adc6fb4b9c90d43d": {
     "model_module": "@jupyter-widgets/controls",
     "model_name": "HTMLModel",
     "state": {
      "_dom_classes": [],
      "_model_module": "@jupyter-widgets/controls",
      "_model_module_version": "1.5.0",
      "_model_name": "HTMLModel",
      "_view_count": null,
      "_view_module": "@jupyter-widgets/controls",
      "_view_module_version": "1.5.0",
      "_view_name": "HTMLView",
      "description": "",
      "description_tooltip": null,
      "layout": "IPY_MODEL_5c57c165da3641e29c70b4fc85c16de7",
      "placeholder": "​",
      "style": "IPY_MODEL_7b4cb2c3e3c84e04a80630d2182da274",
      "value": " 8/8 [14:14&lt;00:00, 106.76s/it]"
     }
    },
    "1b8b50e1deab4427b87b5d93982e2552": {
     "model_module": "@jupyter-widgets/controls",
     "model_name": "ProgressStyleModel",
     "state": {
      "_model_module": "@jupyter-widgets/controls",
      "_model_module_version": "1.5.0",
      "_model_name": "ProgressStyleModel",
      "_view_count": null,
      "_view_module": "@jupyter-widgets/base",
      "_view_module_version": "1.2.0",
      "_view_name": "StyleView",
      "bar_color": null,
      "description_width": "initial"
     }
    },
    "278b2129bafd4db9a389835c9b6d31f2": {
     "model_module": "@jupyter-widgets/base",
     "model_name": "LayoutModel",
     "state": {
      "_model_module": "@jupyter-widgets/base",
      "_model_module_version": "1.2.0",
      "_model_name": "LayoutModel",
      "_view_count": null,
      "_view_module": "@jupyter-widgets/base",
      "_view_module_version": "1.2.0",
      "_view_name": "LayoutView",
      "align_content": null,
      "align_items": null,
      "align_self": null,
      "border": null,
      "bottom": null,
      "display": null,
      "flex": null,
      "flex_flow": null,
      "grid_area": null,
      "grid_auto_columns": null,
      "grid_auto_flow": null,
      "grid_auto_rows": null,
      "grid_column": null,
      "grid_gap": null,
      "grid_row": null,
      "grid_template_areas": null,
      "grid_template_columns": null,
      "grid_template_rows": null,
      "height": null,
      "justify_content": null,
      "justify_items": null,
      "left": null,
      "margin": null,
      "max_height": null,
      "max_width": null,
      "min_height": null,
      "min_width": null,
      "object_fit": null,
      "object_position": null,
      "order": null,
      "overflow": null,
      "overflow_x": null,
      "overflow_y": null,
      "padding": null,
      "right": null,
      "top": null,
      "visibility": null,
      "width": null
     }
    },
    "288dd7c22fd44f3baf74f4d31e68e330": {
     "model_module": "@jupyter-widgets/controls",
     "model_name": "ProgressStyleModel",
     "state": {
      "_model_module": "@jupyter-widgets/controls",
      "_model_module_version": "1.5.0",
      "_model_name": "ProgressStyleModel",
      "_view_count": null,
      "_view_module": "@jupyter-widgets/base",
      "_view_module_version": "1.2.0",
      "_view_name": "StyleView",
      "bar_color": null,
      "description_width": "initial"
     }
    },
    "2cf7c40fc83b463ab98d94ec56ab10ac": {
     "model_module": "@jupyter-widgets/base",
     "model_name": "LayoutModel",
     "state": {
      "_model_module": "@jupyter-widgets/base",
      "_model_module_version": "1.2.0",
      "_model_name": "LayoutModel",
      "_view_count": null,
      "_view_module": "@jupyter-widgets/base",
      "_view_module_version": "1.2.0",
      "_view_name": "LayoutView",
      "align_content": null,
      "align_items": null,
      "align_self": null,
      "border": null,
      "bottom": null,
      "display": null,
      "flex": null,
      "flex_flow": null,
      "grid_area": null,
      "grid_auto_columns": null,
      "grid_auto_flow": null,
      "grid_auto_rows": null,
      "grid_column": null,
      "grid_gap": null,
      "grid_row": null,
      "grid_template_areas": null,
      "grid_template_columns": null,
      "grid_template_rows": null,
      "height": null,
      "justify_content": null,
      "justify_items": null,
      "left": null,
      "margin": null,
      "max_height": null,
      "max_width": null,
      "min_height": null,
      "min_width": null,
      "object_fit": null,
      "object_position": null,
      "order": null,
      "overflow": null,
      "overflow_x": null,
      "overflow_y": null,
      "padding": null,
      "right": null,
      "top": null,
      "visibility": null,
      "width": null
     }
    },
    "34105ab67f2c48718b46fe0ef1529991": {
     "model_module": "@jupyter-widgets/controls",
     "model_name": "DescriptionStyleModel",
     "state": {
      "_model_module": "@jupyter-widgets/controls",
      "_model_module_version": "1.5.0",
      "_model_name": "DescriptionStyleModel",
      "_view_count": null,
      "_view_module": "@jupyter-widgets/base",
      "_view_module_version": "1.2.0",
      "_view_name": "StyleView",
      "description_width": ""
     }
    },
    "3eb310080b504badb792a9e772ba8562": {
     "model_module": "@jupyter-widgets/controls",
     "model_name": "HBoxModel",
     "state": {
      "_dom_classes": [],
      "_model_module": "@jupyter-widgets/controls",
      "_model_module_version": "1.5.0",
      "_model_name": "HBoxModel",
      "_view_count": null,
      "_view_module": "@jupyter-widgets/controls",
      "_view_module_version": "1.5.0",
      "_view_name": "HBoxView",
      "box_style": "",
      "children": [
       "IPY_MODEL_66f30028f72d4228be90ce1ba21c05f2",
       "IPY_MODEL_4eaff8741b9c44b98d2e9e418c2a838f"
      ],
      "layout": "IPY_MODEL_621a3660a9bf4c548b7e3f0adbe43e73"
     }
    },
    "478c4fdb6a3a456a8753e30c1a3c2f99": {
     "model_module": "@jupyter-widgets/controls",
     "model_name": "HBoxModel",
     "state": {
      "_dom_classes": [],
      "_model_module": "@jupyter-widgets/controls",
      "_model_module_version": "1.5.0",
      "_model_name": "HBoxModel",
      "_view_count": null,
      "_view_module": "@jupyter-widgets/controls",
      "_view_module_version": "1.5.0",
      "_view_name": "HBoxView",
      "box_style": "",
      "children": [
       "IPY_MODEL_c4e46aed6fa44ac0800d6d8d8c2fca5d",
       "IPY_MODEL_195f982053aa4ff4adc6fb4b9c90d43d"
      ],
      "layout": "IPY_MODEL_65ffbbfa40fc4cdcae781cedc8fdf8f0"
     }
    },
    "4eaff8741b9c44b98d2e9e418c2a838f": {
     "model_module": "@jupyter-widgets/controls",
     "model_name": "HTMLModel",
     "state": {
      "_dom_classes": [],
      "_model_module": "@jupyter-widgets/controls",
      "_model_module_version": "1.5.0",
      "_model_name": "HTMLModel",
      "_view_count": null,
      "_view_module": "@jupyter-widgets/controls",
      "_view_module_version": "1.5.0",
      "_view_name": "HTMLView",
      "description": "",
      "description_tooltip": null,
      "layout": "IPY_MODEL_7adf2fe9876d46f1b65bafc771e76915",
      "placeholder": "​",
      "style": "IPY_MODEL_afc216392c2b44388e1cdfcaf80bb9f5",
      "value": " 18/18 [3:08:04&lt;00:00, 626.94s/it]"
     }
    },
    "59a03ea303fd4b0f8396f11c0cdf0255": {
     "model_module": "@jupyter-widgets/controls",
     "model_name": "ProgressStyleModel",
     "state": {
      "_model_module": "@jupyter-widgets/controls",
      "_model_module_version": "1.5.0",
      "_model_name": "ProgressStyleModel",
      "_view_count": null,
      "_view_module": "@jupyter-widgets/base",
      "_view_module_version": "1.2.0",
      "_view_name": "StyleView",
      "bar_color": null,
      "description_width": "initial"
     }
    },
    "5c57c165da3641e29c70b4fc85c16de7": {
     "model_module": "@jupyter-widgets/base",
     "model_name": "LayoutModel",
     "state": {
      "_model_module": "@jupyter-widgets/base",
      "_model_module_version": "1.2.0",
      "_model_name": "LayoutModel",
      "_view_count": null,
      "_view_module": "@jupyter-widgets/base",
      "_view_module_version": "1.2.0",
      "_view_name": "LayoutView",
      "align_content": null,
      "align_items": null,
      "align_self": null,
      "border": null,
      "bottom": null,
      "display": null,
      "flex": null,
      "flex_flow": null,
      "grid_area": null,
      "grid_auto_columns": null,
      "grid_auto_flow": null,
      "grid_auto_rows": null,
      "grid_column": null,
      "grid_gap": null,
      "grid_row": null,
      "grid_template_areas": null,
      "grid_template_columns": null,
      "grid_template_rows": null,
      "height": null,
      "justify_content": null,
      "justify_items": null,
      "left": null,
      "margin": null,
      "max_height": null,
      "max_width": null,
      "min_height": null,
      "min_width": null,
      "object_fit": null,
      "object_position": null,
      "order": null,
      "overflow": null,
      "overflow_x": null,
      "overflow_y": null,
      "padding": null,
      "right": null,
      "top": null,
      "visibility": null,
      "width": null
     }
    },
    "5e5f4a076f6a44b8b79cef08c4c9acbd": {
     "model_module": "@jupyter-widgets/base",
     "model_name": "LayoutModel",
     "state": {
      "_model_module": "@jupyter-widgets/base",
      "_model_module_version": "1.2.0",
      "_model_name": "LayoutModel",
      "_view_count": null,
      "_view_module": "@jupyter-widgets/base",
      "_view_module_version": "1.2.0",
      "_view_name": "LayoutView",
      "align_content": null,
      "align_items": null,
      "align_self": null,
      "border": null,
      "bottom": null,
      "display": null,
      "flex": null,
      "flex_flow": null,
      "grid_area": null,
      "grid_auto_columns": null,
      "grid_auto_flow": null,
      "grid_auto_rows": null,
      "grid_column": null,
      "grid_gap": null,
      "grid_row": null,
      "grid_template_areas": null,
      "grid_template_columns": null,
      "grid_template_rows": null,
      "height": null,
      "justify_content": null,
      "justify_items": null,
      "left": null,
      "margin": null,
      "max_height": null,
      "max_width": null,
      "min_height": null,
      "min_width": null,
      "object_fit": null,
      "object_position": null,
      "order": null,
      "overflow": null,
      "overflow_x": null,
      "overflow_y": null,
      "padding": null,
      "right": null,
      "top": null,
      "visibility": null,
      "width": null
     }
    },
    "621a3660a9bf4c548b7e3f0adbe43e73": {
     "model_module": "@jupyter-widgets/base",
     "model_name": "LayoutModel",
     "state": {
      "_model_module": "@jupyter-widgets/base",
      "_model_module_version": "1.2.0",
      "_model_name": "LayoutModel",
      "_view_count": null,
      "_view_module": "@jupyter-widgets/base",
      "_view_module_version": "1.2.0",
      "_view_name": "LayoutView",
      "align_content": null,
      "align_items": null,
      "align_self": null,
      "border": null,
      "bottom": null,
      "display": null,
      "flex": null,
      "flex_flow": null,
      "grid_area": null,
      "grid_auto_columns": null,
      "grid_auto_flow": null,
      "grid_auto_rows": null,
      "grid_column": null,
      "grid_gap": null,
      "grid_row": null,
      "grid_template_areas": null,
      "grid_template_columns": null,
      "grid_template_rows": null,
      "height": null,
      "justify_content": null,
      "justify_items": null,
      "left": null,
      "margin": null,
      "max_height": null,
      "max_width": null,
      "min_height": null,
      "min_width": null,
      "object_fit": null,
      "object_position": null,
      "order": null,
      "overflow": null,
      "overflow_x": null,
      "overflow_y": null,
      "padding": null,
      "right": null,
      "top": null,
      "visibility": null,
      "width": null
     }
    },
    "65ffbbfa40fc4cdcae781cedc8fdf8f0": {
     "model_module": "@jupyter-widgets/base",
     "model_name": "LayoutModel",
     "state": {
      "_model_module": "@jupyter-widgets/base",
      "_model_module_version": "1.2.0",
      "_model_name": "LayoutModel",
      "_view_count": null,
      "_view_module": "@jupyter-widgets/base",
      "_view_module_version": "1.2.0",
      "_view_name": "LayoutView",
      "align_content": null,
      "align_items": null,
      "align_self": null,
      "border": null,
      "bottom": null,
      "display": null,
      "flex": null,
      "flex_flow": null,
      "grid_area": null,
      "grid_auto_columns": null,
      "grid_auto_flow": null,
      "grid_auto_rows": null,
      "grid_column": null,
      "grid_gap": null,
      "grid_row": null,
      "grid_template_areas": null,
      "grid_template_columns": null,
      "grid_template_rows": null,
      "height": null,
      "justify_content": null,
      "justify_items": null,
      "left": null,
      "margin": null,
      "max_height": null,
      "max_width": null,
      "min_height": null,
      "min_width": null,
      "object_fit": null,
      "object_position": null,
      "order": null,
      "overflow": null,
      "overflow_x": null,
      "overflow_y": null,
      "padding": null,
      "right": null,
      "top": null,
      "visibility": null,
      "width": null
     }
    },
    "66f30028f72d4228be90ce1ba21c05f2": {
     "model_module": "@jupyter-widgets/controls",
     "model_name": "FloatProgressModel",
     "state": {
      "_dom_classes": [],
      "_model_module": "@jupyter-widgets/controls",
      "_model_module_version": "1.5.0",
      "_model_name": "FloatProgressModel",
      "_view_count": null,
      "_view_module": "@jupyter-widgets/controls",
      "_view_module_version": "1.5.0",
      "_view_name": "ProgressView",
      "bar_style": "success",
      "description": "100%",
      "description_tooltip": null,
      "layout": "IPY_MODEL_da33ce9878f94d85a41ff3c7a6c9c098",
      "max": 18,
      "min": 0,
      "orientation": "horizontal",
      "style": "IPY_MODEL_87a34e1422194ad498fcca2d2ee151e5",
      "value": 18
     }
    },
    "676a1ed11ba74c51850532bc36d54d10": {
     "model_module": "@jupyter-widgets/controls",
     "model_name": "HBoxModel",
     "state": {
      "_dom_classes": [],
      "_model_module": "@jupyter-widgets/controls",
      "_model_module_version": "1.5.0",
      "_model_name": "HBoxModel",
      "_view_count": null,
      "_view_module": "@jupyter-widgets/controls",
      "_view_module_version": "1.5.0",
      "_view_name": "HBoxView",
      "box_style": "",
      "children": [
       "IPY_MODEL_13f63adbdbee47cdbe34e043a3ab30ac",
       "IPY_MODEL_d8bddc8b9af948778a6b4a5e6a3fc3a5"
      ],
      "layout": "IPY_MODEL_dced374aa09f4da9ab8d546aaafce8ba"
     }
    },
    "72111d506669478b9a6914c584d95a49": {
     "model_module": "@jupyter-widgets/controls",
     "model_name": "FloatProgressModel",
     "state": {
      "_dom_classes": [],
      "_model_module": "@jupyter-widgets/controls",
      "_model_module_version": "1.5.0",
      "_model_name": "FloatProgressModel",
      "_view_count": null,
      "_view_module": "@jupyter-widgets/controls",
      "_view_module_version": "1.5.0",
      "_view_name": "ProgressView",
      "bar_style": "success",
      "description": "100%",
      "description_tooltip": null,
      "layout": "IPY_MODEL_278b2129bafd4db9a389835c9b6d31f2",
      "max": 8,
      "min": 0,
      "orientation": "horizontal",
      "style": "IPY_MODEL_288dd7c22fd44f3baf74f4d31e68e330",
      "value": 8
     }
    },
    "795f2d579d7b4751b118f3b7d234405a": {
     "model_module": "@jupyter-widgets/base",
     "model_name": "LayoutModel",
     "state": {
      "_model_module": "@jupyter-widgets/base",
      "_model_module_version": "1.2.0",
      "_model_name": "LayoutModel",
      "_view_count": null,
      "_view_module": "@jupyter-widgets/base",
      "_view_module_version": "1.2.0",
      "_view_name": "LayoutView",
      "align_content": null,
      "align_items": null,
      "align_self": null,
      "border": null,
      "bottom": null,
      "display": null,
      "flex": null,
      "flex_flow": null,
      "grid_area": null,
      "grid_auto_columns": null,
      "grid_auto_flow": null,
      "grid_auto_rows": null,
      "grid_column": null,
      "grid_gap": null,
      "grid_row": null,
      "grid_template_areas": null,
      "grid_template_columns": null,
      "grid_template_rows": null,
      "height": null,
      "justify_content": null,
      "justify_items": null,
      "left": null,
      "margin": null,
      "max_height": null,
      "max_width": null,
      "min_height": null,
      "min_width": null,
      "object_fit": null,
      "object_position": null,
      "order": null,
      "overflow": null,
      "overflow_x": null,
      "overflow_y": null,
      "padding": null,
      "right": null,
      "top": null,
      "visibility": null,
      "width": null
     }
    },
    "7ac0bb3d339b48579c8520c5f776a762": {
     "model_module": "@jupyter-widgets/controls",
     "model_name": "HBoxModel",
     "state": {
      "_dom_classes": [],
      "_model_module": "@jupyter-widgets/controls",
      "_model_module_version": "1.5.0",
      "_model_name": "HBoxModel",
      "_view_count": null,
      "_view_module": "@jupyter-widgets/controls",
      "_view_module_version": "1.5.0",
      "_view_name": "HBoxView",
      "box_style": "",
      "children": [
       "IPY_MODEL_02aec81bd7514c45b8ddf82eb11498c2",
       "IPY_MODEL_d5cb17e473024b1a99190c0ea8ff710d"
      ],
      "layout": "IPY_MODEL_13538d007a614a92b76c77b65c834ccf"
     }
    },
    "7adf2fe9876d46f1b65bafc771e76915": {
     "model_module": "@jupyter-widgets/base",
     "model_name": "LayoutModel",
     "state": {
      "_model_module": "@jupyter-widgets/base",
      "_model_module_version": "1.2.0",
      "_model_name": "LayoutModel",
      "_view_count": null,
      "_view_module": "@jupyter-widgets/base",
      "_view_module_version": "1.2.0",
      "_view_name": "LayoutView",
      "align_content": null,
      "align_items": null,
      "align_self": null,
      "border": null,
      "bottom": null,
      "display": null,
      "flex": null,
      "flex_flow": null,
      "grid_area": null,
      "grid_auto_columns": null,
      "grid_auto_flow": null,
      "grid_auto_rows": null,
      "grid_column": null,
      "grid_gap": null,
      "grid_row": null,
      "grid_template_areas": null,
      "grid_template_columns": null,
      "grid_template_rows": null,
      "height": null,
      "justify_content": null,
      "justify_items": null,
      "left": null,
      "margin": null,
      "max_height": null,
      "max_width": null,
      "min_height": null,
      "min_width": null,
      "object_fit": null,
      "object_position": null,
      "order": null,
      "overflow": null,
      "overflow_x": null,
      "overflow_y": null,
      "padding": null,
      "right": null,
      "top": null,
      "visibility": null,
      "width": null
     }
    },
    "7b4cb2c3e3c84e04a80630d2182da274": {
     "model_module": "@jupyter-widgets/controls",
     "model_name": "DescriptionStyleModel",
     "state": {
      "_model_module": "@jupyter-widgets/controls",
      "_model_module_version": "1.5.0",
      "_model_name": "DescriptionStyleModel",
      "_view_count": null,
      "_view_module": "@jupyter-widgets/base",
      "_view_module_version": "1.2.0",
      "_view_name": "StyleView",
      "description_width": ""
     }
    },
    "7fbed378ab214052a2d62e75178f554b": {
     "model_module": "@jupyter-widgets/controls",
     "model_name": "DescriptionStyleModel",
     "state": {
      "_model_module": "@jupyter-widgets/controls",
      "_model_module_version": "1.5.0",
      "_model_name": "DescriptionStyleModel",
      "_view_count": null,
      "_view_module": "@jupyter-widgets/base",
      "_view_module_version": "1.2.0",
      "_view_name": "StyleView",
      "description_width": ""
     }
    },
    "866dcf05f7054f2bae1c314cf1ae6982": {
     "model_module": "@jupyter-widgets/controls",
     "model_name": "HTMLModel",
     "state": {
      "_dom_classes": [],
      "_model_module": "@jupyter-widgets/controls",
      "_model_module_version": "1.5.0",
      "_model_name": "HTMLModel",
      "_view_count": null,
      "_view_module": "@jupyter-widgets/controls",
      "_view_module_version": "1.5.0",
      "_view_name": "HTMLView",
      "description": "",
      "description_tooltip": null,
      "layout": "IPY_MODEL_5e5f4a076f6a44b8b79cef08c4c9acbd",
      "placeholder": "​",
      "style": "IPY_MODEL_dcdd0622f5374e568fea0549a7b6c86b",
      "value": " 8/8 [02:44&lt;00:00, 20.58s/it]"
     }
    },
    "87a34e1422194ad498fcca2d2ee151e5": {
     "model_module": "@jupyter-widgets/controls",
     "model_name": "ProgressStyleModel",
     "state": {
      "_model_module": "@jupyter-widgets/controls",
      "_model_module_version": "1.5.0",
      "_model_name": "ProgressStyleModel",
      "_view_count": null,
      "_view_module": "@jupyter-widgets/base",
      "_view_module_version": "1.2.0",
      "_view_name": "StyleView",
      "bar_color": null,
      "description_width": "initial"
     }
    },
    "92f01228e0da47f39bfb5f1449e71872": {
     "model_module": "@jupyter-widgets/base",
     "model_name": "LayoutModel",
     "state": {
      "_model_module": "@jupyter-widgets/base",
      "_model_module_version": "1.2.0",
      "_model_name": "LayoutModel",
      "_view_count": null,
      "_view_module": "@jupyter-widgets/base",
      "_view_module_version": "1.2.0",
      "_view_name": "LayoutView",
      "align_content": null,
      "align_items": null,
      "align_self": null,
      "border": null,
      "bottom": null,
      "display": null,
      "flex": null,
      "flex_flow": null,
      "grid_area": null,
      "grid_auto_columns": null,
      "grid_auto_flow": null,
      "grid_auto_rows": null,
      "grid_column": null,
      "grid_gap": null,
      "grid_row": null,
      "grid_template_areas": null,
      "grid_template_columns": null,
      "grid_template_rows": null,
      "height": null,
      "justify_content": null,
      "justify_items": null,
      "left": null,
      "margin": null,
      "max_height": null,
      "max_width": null,
      "min_height": null,
      "min_width": null,
      "object_fit": null,
      "object_position": null,
      "order": null,
      "overflow": null,
      "overflow_x": null,
      "overflow_y": null,
      "padding": null,
      "right": null,
      "top": null,
      "visibility": null,
      "width": null
     }
    },
    "9ca370f0d86e4bdc9463d0ced5b26006": {
     "model_module": "@jupyter-widgets/controls",
     "model_name": "ProgressStyleModel",
     "state": {
      "_model_module": "@jupyter-widgets/controls",
      "_model_module_version": "1.5.0",
      "_model_name": "ProgressStyleModel",
      "_view_count": null,
      "_view_module": "@jupyter-widgets/base",
      "_view_module_version": "1.2.0",
      "_view_name": "StyleView",
      "bar_color": null,
      "description_width": "initial"
     }
    },
    "9e471b17680e451fab3e3b5acbc42984": {
     "model_module": "@jupyter-widgets/controls",
     "model_name": "FloatProgressModel",
     "state": {
      "_dom_classes": [],
      "_model_module": "@jupyter-widgets/controls",
      "_model_module_version": "1.5.0",
      "_model_name": "FloatProgressModel",
      "_view_count": null,
      "_view_module": "@jupyter-widgets/controls",
      "_view_module_version": "1.5.0",
      "_view_name": "ProgressView",
      "bar_style": "success",
      "description": "100%",
      "description_tooltip": null,
      "layout": "IPY_MODEL_92f01228e0da47f39bfb5f1449e71872",
      "max": 8,
      "min": 0,
      "orientation": "horizontal",
      "style": "IPY_MODEL_9ca370f0d86e4bdc9463d0ced5b26006",
      "value": 8
     }
    },
    "a9e3e2fe531942eab4ee725c13041ed6": {
     "model_module": "@jupyter-widgets/base",
     "model_name": "LayoutModel",
     "state": {
      "_model_module": "@jupyter-widgets/base",
      "_model_module_version": "1.2.0",
      "_model_name": "LayoutModel",
      "_view_count": null,
      "_view_module": "@jupyter-widgets/base",
      "_view_module_version": "1.2.0",
      "_view_name": "LayoutView",
      "align_content": null,
      "align_items": null,
      "align_self": null,
      "border": null,
      "bottom": null,
      "display": null,
      "flex": null,
      "flex_flow": null,
      "grid_area": null,
      "grid_auto_columns": null,
      "grid_auto_flow": null,
      "grid_auto_rows": null,
      "grid_column": null,
      "grid_gap": null,
      "grid_row": null,
      "grid_template_areas": null,
      "grid_template_columns": null,
      "grid_template_rows": null,
      "height": null,
      "justify_content": null,
      "justify_items": null,
      "left": null,
      "margin": null,
      "max_height": null,
      "max_width": null,
      "min_height": null,
      "min_width": null,
      "object_fit": null,
      "object_position": null,
      "order": null,
      "overflow": null,
      "overflow_x": null,
      "overflow_y": null,
      "padding": null,
      "right": null,
      "top": null,
      "visibility": null,
      "width": null
     }
    },
    "adefc2893936400b9623b214907b2043": {
     "model_module": "@jupyter-widgets/base",
     "model_name": "LayoutModel",
     "state": {
      "_model_module": "@jupyter-widgets/base",
      "_model_module_version": "1.2.0",
      "_model_name": "LayoutModel",
      "_view_count": null,
      "_view_module": "@jupyter-widgets/base",
      "_view_module_version": "1.2.0",
      "_view_name": "LayoutView",
      "align_content": null,
      "align_items": null,
      "align_self": null,
      "border": null,
      "bottom": null,
      "display": null,
      "flex": null,
      "flex_flow": null,
      "grid_area": null,
      "grid_auto_columns": null,
      "grid_auto_flow": null,
      "grid_auto_rows": null,
      "grid_column": null,
      "grid_gap": null,
      "grid_row": null,
      "grid_template_areas": null,
      "grid_template_columns": null,
      "grid_template_rows": null,
      "height": null,
      "justify_content": null,
      "justify_items": null,
      "left": null,
      "margin": null,
      "max_height": null,
      "max_width": null,
      "min_height": null,
      "min_width": null,
      "object_fit": null,
      "object_position": null,
      "order": null,
      "overflow": null,
      "overflow_x": null,
      "overflow_y": null,
      "padding": null,
      "right": null,
      "top": null,
      "visibility": null,
      "width": null
     }
    },
    "afc216392c2b44388e1cdfcaf80bb9f5": {
     "model_module": "@jupyter-widgets/controls",
     "model_name": "DescriptionStyleModel",
     "state": {
      "_model_module": "@jupyter-widgets/controls",
      "_model_module_version": "1.5.0",
      "_model_name": "DescriptionStyleModel",
      "_view_count": null,
      "_view_module": "@jupyter-widgets/base",
      "_view_module_version": "1.2.0",
      "_view_name": "StyleView",
      "description_width": ""
     }
    },
    "b7cf691abb1a497aba60c3da1251dea5": {
     "model_module": "@jupyter-widgets/controls",
     "model_name": "HTMLModel",
     "state": {
      "_dom_classes": [],
      "_model_module": "@jupyter-widgets/controls",
      "_model_module_version": "1.5.0",
      "_model_name": "HTMLModel",
      "_view_count": null,
      "_view_module": "@jupyter-widgets/controls",
      "_view_module_version": "1.5.0",
      "_view_name": "HTMLView",
      "description": "",
      "description_tooltip": null,
      "layout": "IPY_MODEL_08e6be4189f74db3bfa8c5067871fb99",
      "placeholder": "​",
      "style": "IPY_MODEL_0abb3b35b613433da87d0e4009ed113a",
      "value": " 8/8 [09:20&lt;00:00, 70.06s/it]"
     }
    },
    "c4e46aed6fa44ac0800d6d8d8c2fca5d": {
     "model_module": "@jupyter-widgets/controls",
     "model_name": "FloatProgressModel",
     "state": {
      "_dom_classes": [],
      "_model_module": "@jupyter-widgets/controls",
      "_model_module_version": "1.5.0",
      "_model_name": "FloatProgressModel",
      "_view_count": null,
      "_view_module": "@jupyter-widgets/controls",
      "_view_module_version": "1.5.0",
      "_view_name": "ProgressView",
      "bar_style": "success",
      "description": "100%",
      "description_tooltip": null,
      "layout": "IPY_MODEL_2cf7c40fc83b463ab98d94ec56ab10ac",
      "max": 8,
      "min": 0,
      "orientation": "horizontal",
      "style": "IPY_MODEL_59a03ea303fd4b0f8396f11c0cdf0255",
      "value": 8
     }
    },
    "d431ce9223d54b18b37420e1671b0493": {
     "model_module": "@jupyter-widgets/controls",
     "model_name": "ProgressStyleModel",
     "state": {
      "_model_module": "@jupyter-widgets/controls",
      "_model_module_version": "1.5.0",
      "_model_name": "ProgressStyleModel",
      "_view_count": null,
      "_view_module": "@jupyter-widgets/base",
      "_view_module_version": "1.2.0",
      "_view_name": "StyleView",
      "bar_color": null,
      "description_width": "initial"
     }
    },
    "d5cb17e473024b1a99190c0ea8ff710d": {
     "model_module": "@jupyter-widgets/controls",
     "model_name": "HTMLModel",
     "state": {
      "_dom_classes": [],
      "_model_module": "@jupyter-widgets/controls",
      "_model_module_version": "1.5.0",
      "_model_name": "HTMLModel",
      "_view_count": null,
      "_view_module": "@jupyter-widgets/controls",
      "_view_module_version": "1.5.0",
      "_view_name": "HTMLView",
      "description": "",
      "description_tooltip": null,
      "layout": "IPY_MODEL_0e2b766c39ae48cbb96d4c4503591a8a",
      "placeholder": "​",
      "style": "IPY_MODEL_34105ab67f2c48718b46fe0ef1529991",
      "value": " 18/18 [10:35&lt;00:00, 35.28s/it]"
     }
    },
    "d6446dc370064921b6d0740b0b4890b9": {
     "model_module": "@jupyter-widgets/base",
     "model_name": "LayoutModel",
     "state": {
      "_model_module": "@jupyter-widgets/base",
      "_model_module_version": "1.2.0",
      "_model_name": "LayoutModel",
      "_view_count": null,
      "_view_module": "@jupyter-widgets/base",
      "_view_module_version": "1.2.0",
      "_view_name": "LayoutView",
      "align_content": null,
      "align_items": null,
      "align_self": null,
      "border": null,
      "bottom": null,
      "display": null,
      "flex": null,
      "flex_flow": null,
      "grid_area": null,
      "grid_auto_columns": null,
      "grid_auto_flow": null,
      "grid_auto_rows": null,
      "grid_column": null,
      "grid_gap": null,
      "grid_row": null,
      "grid_template_areas": null,
      "grid_template_columns": null,
      "grid_template_rows": null,
      "height": null,
      "justify_content": null,
      "justify_items": null,
      "left": null,
      "margin": null,
      "max_height": null,
      "max_width": null,
      "min_height": null,
      "min_width": null,
      "object_fit": null,
      "object_position": null,
      "order": null,
      "overflow": null,
      "overflow_x": null,
      "overflow_y": null,
      "padding": null,
      "right": null,
      "top": null,
      "visibility": null,
      "width": null
     }
    },
    "d8bddc8b9af948778a6b4a5e6a3fc3a5": {
     "model_module": "@jupyter-widgets/controls",
     "model_name": "HTMLModel",
     "state": {
      "_dom_classes": [],
      "_model_module": "@jupyter-widgets/controls",
      "_model_module_version": "1.5.0",
      "_model_name": "HTMLModel",
      "_view_count": null,
      "_view_module": "@jupyter-widgets/controls",
      "_view_module_version": "1.5.0",
      "_view_name": "HTMLView",
      "description": "",
      "description_tooltip": null,
      "layout": "IPY_MODEL_adefc2893936400b9623b214907b2043",
      "placeholder": "​",
      "style": "IPY_MODEL_7fbed378ab214052a2d62e75178f554b",
      "value": " 8/8 [03:36&lt;00:00, 27.12s/it]"
     }
    },
    "da33ce9878f94d85a41ff3c7a6c9c098": {
     "model_module": "@jupyter-widgets/base",
     "model_name": "LayoutModel",
     "state": {
      "_model_module": "@jupyter-widgets/base",
      "_model_module_version": "1.2.0",
      "_model_name": "LayoutModel",
      "_view_count": null,
      "_view_module": "@jupyter-widgets/base",
      "_view_module_version": "1.2.0",
      "_view_name": "LayoutView",
      "align_content": null,
      "align_items": null,
      "align_self": null,
      "border": null,
      "bottom": null,
      "display": null,
      "flex": null,
      "flex_flow": null,
      "grid_area": null,
      "grid_auto_columns": null,
      "grid_auto_flow": null,
      "grid_auto_rows": null,
      "grid_column": null,
      "grid_gap": null,
      "grid_row": null,
      "grid_template_areas": null,
      "grid_template_columns": null,
      "grid_template_rows": null,
      "height": null,
      "justify_content": null,
      "justify_items": null,
      "left": null,
      "margin": null,
      "max_height": null,
      "max_width": null,
      "min_height": null,
      "min_width": null,
      "object_fit": null,
      "object_position": null,
      "order": null,
      "overflow": null,
      "overflow_x": null,
      "overflow_y": null,
      "padding": null,
      "right": null,
      "top": null,
      "visibility": null,
      "width": null
     }
    },
    "dcdd0622f5374e568fea0549a7b6c86b": {
     "model_module": "@jupyter-widgets/controls",
     "model_name": "DescriptionStyleModel",
     "state": {
      "_model_module": "@jupyter-widgets/controls",
      "_model_module_version": "1.5.0",
      "_model_name": "DescriptionStyleModel",
      "_view_count": null,
      "_view_module": "@jupyter-widgets/base",
      "_view_module_version": "1.2.0",
      "_view_name": "StyleView",
      "description_width": ""
     }
    },
    "dced374aa09f4da9ab8d546aaafce8ba": {
     "model_module": "@jupyter-widgets/base",
     "model_name": "LayoutModel",
     "state": {
      "_model_module": "@jupyter-widgets/base",
      "_model_module_version": "1.2.0",
      "_model_name": "LayoutModel",
      "_view_count": null,
      "_view_module": "@jupyter-widgets/base",
      "_view_module_version": "1.2.0",
      "_view_name": "LayoutView",
      "align_content": null,
      "align_items": null,
      "align_self": null,
      "border": null,
      "bottom": null,
      "display": null,
      "flex": null,
      "flex_flow": null,
      "grid_area": null,
      "grid_auto_columns": null,
      "grid_auto_flow": null,
      "grid_auto_rows": null,
      "grid_column": null,
      "grid_gap": null,
      "grid_row": null,
      "grid_template_areas": null,
      "grid_template_columns": null,
      "grid_template_rows": null,
      "height": null,
      "justify_content": null,
      "justify_items": null,
      "left": null,
      "margin": null,
      "max_height": null,
      "max_width": null,
      "min_height": null,
      "min_width": null,
      "object_fit": null,
      "object_position": null,
      "order": null,
      "overflow": null,
      "overflow_x": null,
      "overflow_y": null,
      "padding": null,
      "right": null,
      "top": null,
      "visibility": null,
      "width": null
     }
    },
    "df2c53b7b9174ea5922458509dfbd94c": {
     "model_module": "@jupyter-widgets/controls",
     "model_name": "HBoxModel",
     "state": {
      "_dom_classes": [],
      "_model_module": "@jupyter-widgets/controls",
      "_model_module_version": "1.5.0",
      "_model_name": "HBoxModel",
      "_view_count": null,
      "_view_module": "@jupyter-widgets/controls",
      "_view_module_version": "1.5.0",
      "_view_name": "HBoxView",
      "box_style": "",
      "children": [
       "IPY_MODEL_9e471b17680e451fab3e3b5acbc42984",
       "IPY_MODEL_b7cf691abb1a497aba60c3da1251dea5"
      ],
      "layout": "IPY_MODEL_795f2d579d7b4751b118f3b7d234405a"
     }
    },
    "ed252c3d23d74e23ba9c5ac61e8f645f": {
     "model_module": "@jupyter-widgets/controls",
     "model_name": "HBoxModel",
     "state": {
      "_dom_classes": [],
      "_model_module": "@jupyter-widgets/controls",
      "_model_module_version": "1.5.0",
      "_model_name": "HBoxModel",
      "_view_count": null,
      "_view_module": "@jupyter-widgets/controls",
      "_view_module_version": "1.5.0",
      "_view_name": "HBoxView",
      "box_style": "",
      "children": [
       "IPY_MODEL_72111d506669478b9a6914c584d95a49",
       "IPY_MODEL_866dcf05f7054f2bae1c314cf1ae6982"
      ],
      "layout": "IPY_MODEL_d6446dc370064921b6d0740b0b4890b9"
     }
    }
   }
  }
 },
 "nbformat": 4,
 "nbformat_minor": 1
}
