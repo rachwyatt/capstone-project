{
 "cells": [
  {
   "cell_type": "markdown",
   "metadata": {},
   "source": [
    "Author: Laiya Lubben (llubben@umich.edu)\n",
    "<br/>Last updated: Aug 17, 2021"
   ]
  },
  {
   "cell_type": "markdown",
   "metadata": {
    "id": "fxDUTxGzQ_IO"
   },
   "source": [
    "# **1. Import libraries**\n",
    "\n"
   ]
  },
  {
   "cell_type": "code",
   "execution_count": 1,
   "metadata": {
    "colab": {
     "base_uri": "https://localhost:8080/"
    },
    "executionInfo": {
     "elapsed": 1019,
     "status": "ok",
     "timestamp": 1628130824883,
     "user": {
      "displayName": "Laiya Lubben",
      "photoUrl": "https://lh3.googleusercontent.com/a/default-user=s64",
      "userId": "11817724685368002439"
     },
     "user_tz": 420
    },
    "id": "s9ScDGK3Q_IT",
    "outputId": "0b853de7-38df-4af6-b1b6-40399aad6248"
   },
   "outputs": [
    {
     "name": "stderr",
     "output_type": "stream",
     "text": [
      "[nltk_data] Downloading package averaged_perceptron_tagger to\n",
      "[nltk_data]     C:\\Users\\laiya\\AppData\\Roaming\\nltk_data...\n",
      "[nltk_data]   Package averaged_perceptron_tagger is already up-to-\n",
      "[nltk_data]       date!\n",
      "[nltk_data] Downloading package punkt to\n",
      "[nltk_data]     C:\\Users\\laiya\\AppData\\Roaming\\nltk_data...\n",
      "[nltk_data]   Package punkt is already up-to-date!\n",
      "[nltk_data] Downloading package stopwords to\n",
      "[nltk_data]     C:\\Users\\laiya\\AppData\\Roaming\\nltk_data...\n",
      "[nltk_data]   Package stopwords is already up-to-date!\n",
      "[nltk_data] Downloading package averaged_perceptron_tagger to\n",
      "[nltk_data]     C:\\Users\\laiya\\AppData\\Roaming\\nltk_data...\n",
      "[nltk_data]   Package averaged_perceptron_tagger is already up-to-\n",
      "[nltk_data]       date!\n",
      "[nltk_data] Downloading package punkt to\n",
      "[nltk_data]     C:\\Users\\laiya\\AppData\\Roaming\\nltk_data...\n",
      "[nltk_data]   Package punkt is already up-to-date!\n",
      "[nltk_data] Downloading package stopwords to\n",
      "[nltk_data]     C:\\Users\\laiya\\AppData\\Roaming\\nltk_data...\n",
      "[nltk_data]   Package stopwords is already up-to-date!\n"
     ]
    },
    {
     "data": {
      "text/plain": [
       "True"
      ]
     },
     "execution_count": 1,
     "metadata": {},
     "output_type": "execute_result"
    }
   ],
   "source": [
    "# Here is a list of libraries we need to conduct the analysis:\n",
    "import pandas as pd                                           # Loading files into pandas dataframe\n",
    "import numpy as np                                            # To use numpy aggregation functions\n",
    "from tqdm.auto import tqdm                                    # track loop time\n",
    "import warnings                                               # Suppress all warnings\n",
    "warnings.filterwarnings('ignore')\n",
    "\n",
    "import pymysql\n",
    "import re\n",
    "import json\n",
    "import model_shared_utilities as msu                          # helper functions \n",
    "import topic_model_utilities as tm                            # helper functions\n",
    "# --------------------------------------------------------------------------------------------------\n",
    "import matplotlib.pyplot as plt                               # Generate visualization \n",
    "import matplotlib.cm as cm\n",
    "import altair as alt                                          \n",
    "import seaborn as sns\n",
    "# --------------------------------------------------------------------------------------------------\n",
    "from sklearn.preprocessing import StandardScaler              # Transforming dataset\n",
    "from sklearn.feature_extraction.text import TfidfVectorizer\n",
    "from sklearn.feature_extraction.text import CountVectorizer\n",
    "from sklearn.decomposition import PCA\n",
    "from sklearn.manifold import TSNE\n",
    "from nltk.tokenize import sent_tokenize\n",
    "# --------------------------------------------------------------------------------------------------\n",
    "from sklearn.model_selection import train_test_split          # Model Training\n",
    "from sklearn.naive_bayes import MultinomialNB\n",
    "from sklearn.linear_model import LogisticRegression\n",
    "from sklearn.neighbors import KNeighborsClassifier\n",
    "from sklearn.ensemble import RandomForestClassifier\n",
    "from sklearn.svm import SVC\n",
    "from sklearn.dummy import DummyClassifier\n",
    "from sklearn.metrics import confusion_matrix, accuracy_score, f1_score \n",
    "from sklearn.model_selection import StratifiedKFold        \n",
    "from sklearn.model_selection import GridSearchCV\n",
    "from sklearn.metrics import plot_confusion_matrix\n",
    "from sklearn.preprocessing import LabelEncoder\n",
    "# --------------------------------------------------------------------------------------------------\n",
    "from sklearn.metrics.pairwise import cosine_similarity        # Calculate the similarity between word vectors\n",
    "# --------------------------------------------------------------------------------------------------\n",
    "import nltk                                                   # Downloading necessary packagings from nltk\n",
    "nltk.download('averaged_perceptron_tagger')\n",
    "nltk.download('punkt')\n",
    "nltk.download('stopwords')"
   ]
  },
  {
   "cell_type": "code",
   "execution_count": 2,
   "metadata": {
    "executionInfo": {
     "elapsed": 4,
     "status": "ok",
     "timestamp": 1628130824884,
     "user": {
      "displayName": "Laiya Lubben",
      "photoUrl": "https://lh3.googleusercontent.com/a/default-user=s64",
      "userId": "11817724685368002439"
     },
     "user_tz": 420
    },
    "id": "4Hxpfco6Q_IU"
   },
   "outputs": [],
   "source": [
    "# This is a magic function to generate the graph within the notebook \n",
    "%matplotlib inline\n",
    "\n",
    "# use this to set random_state to reproduce the same result\n",
    "RANDOM_SEED = 14\n"
   ]
  },
  {
   "cell_type": "markdown",
   "metadata": {
    "id": "_BzgnzWM547h"
   },
   "source": [
    "# **2. Load / Transform Datasets**"
   ]
  },
  {
   "cell_type": "code",
   "execution_count": 3,
   "metadata": {},
   "outputs": [],
   "source": [
    "# read the secret keys from json file \n",
    "# Note the config file need to be filled with your own credentials before running this notebook \n",
    "# or ask the owners of this repository for the filled config file\n",
    "with open('config.json', 'r') as f:\n",
    "    secret = json.load(f)"
   ]
  },
  {
   "cell_type": "code",
   "execution_count": 4,
   "metadata": {
    "executionInfo": {
     "elapsed": 32508,
     "status": "ok",
     "timestamp": 1628130857389,
     "user": {
      "displayName": "Laiya Lubben",
      "photoUrl": "https://lh3.googleusercontent.com/a/default-user=s64",
      "userId": "11817724685368002439"
     },
     "user_tz": 420
    },
    "id": "4BKcfB2_5Zw1"
   },
   "outputs": [],
   "source": [
    "# connect to the database\n",
    "connection = pymysql.connect(host=secret['host'],\n",
    "                              user=secret['user'],\n",
    "                              password=secret['password'],\n",
    "                              database=secret['database'],\n",
    "                              port=secret['port'],\n",
    "                              charset=secret['charset'],\n",
    "                              cursorclass=pymysql.cursors.DictCursor)\n",
    "\n",
    "cursor = connection.cursor()\n",
    "\n",
    "cursor.execute(\"SELECT * FROM jd;\")\n",
    "table = cursor.fetchall()\n",
    "\n",
    "cursor.execute(\"SELECT * FROM companies;\")\n",
    "table2 = cursor.fetchall()\n",
    "\n",
    "connection.close()"
   ]
  },
  {
   "cell_type": "code",
   "execution_count": 5,
   "metadata": {
    "executionInfo": {
     "elapsed": 3341,
     "status": "ok",
     "timestamp": 1628130860701,
     "user": {
      "displayName": "Laiya Lubben",
      "photoUrl": "https://lh3.googleusercontent.com/a/default-user=s64",
      "userId": "11817724685368002439"
     },
     "user_tz": 420
    },
    "id": "HesGQ34D5aXu"
   },
   "outputs": [
    {
     "name": "stdout",
     "output_type": "stream",
     "text": [
      "Job dataset has 18087 rows of data\n",
      "Company dataset has 1024219 rows of data\n"
     ]
    }
   ],
   "source": [
    "# Now let's put the tables into pandas dataframe \n",
    "job_df = pd.DataFrame(table)\n",
    "job_df = job_df.dropna(subset=['job_description'])\n",
    "print(\"Job dataset has\", job_df.shape[0], \"rows of data\")\n",
    "\n",
    "company_df = pd.DataFrame(table2)\n",
    "print(\"Company dataset has\", company_df.shape[0], \"rows of data\")"
   ]
  },
  {
   "cell_type": "code",
   "execution_count": 6,
   "metadata": {},
   "outputs": [
    {
     "name": "stdout",
     "output_type": "stream",
     "text": [
      "Company dataset include companies in 149 different industries\n"
     ]
    }
   ],
   "source": [
    "print(\"Company dataset include companies in\", len(company_df.industry.unique()), \"different industries\")"
   ]
  },
  {
   "cell_type": "code",
   "execution_count": 7,
   "metadata": {
    "executionInfo": {
     "elapsed": 2628,
     "status": "ok",
     "timestamp": 1628130863320,
     "user": {
      "displayName": "Laiya Lubben",
      "photoUrl": "https://lh3.googleusercontent.com/a/default-user=s64",
      "userId": "11817724685368002439"
     },
     "user_tz": 420
    },
    "id": "_GtubxjuGvc4"
   },
   "outputs": [
    {
     "name": "stdout",
     "output_type": "stream",
     "text": [
      "We condensed the industries into 23 domains\n"
     ]
    }
   ],
   "source": [
    "# since there are so many different industries in the company dataset,\n",
    "# we have redefined/condensed the set of industries into a list of domain \n",
    "# let's load the list of domains we have redefined/condensed  \n",
    "filename = 'domain_list.xlsx'\n",
    "domain_df = pd.read_excel(filename)\n",
    "print(\"We condensed the industries into\", len(domain_df.job_domain.unique()), \"domains\")\n",
    "\n",
    "# extracting the domains for the job postings\n",
    "df = msu.get_labels(domain_df, company_df, job_df, dropna=False)"
   ]
  },
  {
   "cell_type": "code",
   "execution_count": 8,
   "metadata": {
    "colab": {
     "base_uri": "https://localhost:8080/"
    },
    "executionInfo": {
     "elapsed": 15,
     "status": "ok",
     "timestamp": 1628130863325,
     "user": {
      "displayName": "Laiya Lubben",
      "photoUrl": "https://lh3.googleusercontent.com/a/default-user=s64",
      "userId": "11817724685368002439"
     },
     "user_tz": 420
    },
    "id": "30EY5T72AUIZ",
    "outputId": "8fec4d30-f092-405c-d8f9-fd91a1152a27"
   },
   "outputs": [
    {
     "name": "stdout",
     "output_type": "stream",
     "text": [
      "Labeled dataset has 10399 rows of data\n",
      "Unlabeled dataset has 7688 rows of data\n"
     ]
    }
   ],
   "source": [
    "labeled_df = df[~df.job_domain.isna()]\n",
    "unlabeled_df = df[df.job_domain.isna()]\n",
    "print(\"Labeled dataset has\", labeled_df.shape[0], \"rows of data\")\n",
    "print(\"Unlabeled dataset has\", unlabeled_df.shape[0], \"rows of data\")"
   ]
  },
  {
   "cell_type": "code",
   "execution_count": 9,
   "metadata": {},
   "outputs": [
    {
     "data": {
      "image/png": "[encoded data removed]",
      "text/plain": [
       "<Figure size 1440x1080 with 1 Axes>"
      ]
     },
     "metadata": {
      "needs_background": "light"
     },
     "output_type": "display_data"
    }
   ],
   "source": [
    "# let's look at the number of job postings for each domain (from the labeled dataset)\n",
    "agg_df = labeled_df.job_domain.value_counts()\n",
    "plt.figure(figsize=(20,15))\n",
    "sns.barplot(agg_df, agg_df.index)\n",
    "\n",
    "# add annotation to each bar to show the counts\n",
    "for i, v in enumerate(agg_df):\n",
    "    plt.text(v + 3, i -.15, str(v), color='red', fontweight='bold')\n",
    "\n",
    "plt.title('Job Postings by Domain')\n",
    "plt.ylabel('domain')\n",
    "plt.xlabel('count')\n",
    "plt.show()\n",
    "\n",
    "# Note: we have an imbalanced dataset!"
   ]
  },
  {
   "cell_type": "code",
   "execution_count": 10,
   "metadata": {
    "executionInfo": {
     "elapsed": 11,
     "status": "ok",
     "timestamp": 1628130863326,
     "user": {
      "displayName": "Laiya Lubben",
      "photoUrl": "https://lh3.googleusercontent.com/a/default-user=s64",
      "userId": "11817724685368002439"
     },
     "user_tz": 420
    },
    "id": "2S4Cs0xj7RTb"
   },
   "outputs": [],
   "source": [
    "# creating instance of labelencoder\n",
    "# this is to transform the categorical label(domain) into integers\n",
    "labelencoder = LabelEncoder()\n",
    "\n",
    "labeled_df['domain_label'] = labelencoder.fit_transform(labeled_df['job_domain'])"
   ]
  },
  {
   "cell_type": "code",
   "execution_count": 11,
   "metadata": {},
   "outputs": [],
   "source": [
    "# remove words that are common in job postings and data science related terms\n",
    "stopwords = [\"job\", \"summary\", \"posted\", \"location\" , \"employee\", \"today\", \"type\", \"data\", \"scientist\", \"level\", \"experience\", \"skills\", \n",
    "             \"deep\", \"learning\", \"machine\", \"jobdescriptiontext\", \"ability\", \"analytics\", \"work\", \"modeling\", \"models\", \"analysis\", \"research\", \n",
    "             \"big\", \"technical\", \"requirements\", \"requirement\", \"required\", \"strong\", \"years\", \"team\", \"experienced\",\n",
    "             \"rsquo\", \"nbsp\", \"reference\", \"career\", \"persons\", \"hired\", \"eligibility\", \"applicants\", \"authorized\", \"transform\",\n",
    "             \"manipulate\", \"need\", \"position\", \"complete\", \"employment\", \"document\", \"verify\", \"identity\", \"looking\", \"equal\", \"apply\", \"status\",\n",
    "             \"color\", \"veteran\", \"religion\", \"race\", \"origin\", \"sexual\", \"orientation\", \"opportunity\", \"disability\", \"gender\", \"time\", \"recruitment\", \"hiring\", \n",
    "             \"people\", \"working\", \"employer\", \"qualified\", \"form\", \"hire\", \"pregnancy\", \"marital\", \"color\", \"compliance\", \"federal\", \"right\", \"resume\", \"protected\", \"applicable\", \"laws\",\n",
    "             \"statistical\", \"projects\", \"provide\", \"reports\", \"including\" , \"large\", \"engineering\", \"insights\" , \"computer\", \"problems\",\n",
    "             \"algorithms\", \"knowledge\", \"advanced\", \"statistics\", \"solutions\", \"using\", \"techniques\", \"statistical\", \"verification\", \n",
    "             'build', 'help', 'products', 'teams', 'company', 'building', 'make', 'full', 'please', 'paid', 'jefferson', 'frank', 'cybercoders',    \n",
    "             'python', 'spark', 'sets', 'mining', 'customers', 'services', 'related', 'degree', 'support', 'information', 'project', \n",
    "             'related', 'must','scientists', 'processing', 'language', 'engineers', 'applied',\n",
    "             'reporting', 'processes', 'analyst', 'customer', 'needs', 'booz', 'allen', 'robert', 'half', 'change', 'answers', 'certifications', 'turn', 'taboola', 'newsroom', \n",
    "             'paid', 'preferred', 'schedule', 'benefits', 'year', 'dental', 'vision', 'clearance', 'jobs', 'find', 'organizations', 'jeffersonfrank', 'north', 'america',\n",
    "             'forward', 'receiving', 'states', 'upon', 'characteristic', 'united', 'national', 'proud', 'receive', 'click', 'consideration', 'without', 'regard',\n",
    "             'capture', 'methods', 'structured', 'unstructured', 'outcomes', 'analyses', 'read', 'something'\n",
    "             'drive', 'complex', 'results', 'across', 'sources', 'identify', 'great', 'happy', 'qualifications', 'relevant', 'application', 'essential',\n",
    "             'field', 'best','perform', 'relevant', 'duties', 'drive', 'analytic', 'role', 'responsibilities', 'join', 'impact', 'science', 'analytical', 'develop', 'quantitative',\n",
    "             'scale', 'like','opportunities','understanding', 'training', 'access', 'intelligence', 'know', 'world', 'onsite', 'responsibilitie', 'cluster', \n",
    "             'four', 'greater', 'case', 'problem', 'interpreting', 'feature', 'carlo', 'bagging', 'professionals', 'deploy', 'nosql', 'interpreting'] \n",
    "my_stop_words = set(nltk.corpus.stopwords.words('english')).union(stopwords)"
   ]
  },
  {
   "cell_type": "code",
   "execution_count": 12,
   "metadata": {
    "executionInfo": {
     "elapsed": 11,
     "status": "ok",
     "timestamp": 1628130863327,
     "user": {
      "displayName": "Laiya Lubben",
      "photoUrl": "https://lh3.googleusercontent.com/a/default-user=s64",
      "userId": "11817724685368002439"
     },
     "user_tz": 420
    },
    "id": "5_KsfjfQyGYw"
   },
   "outputs": [],
   "source": [
    "# TF-IDF Vectorizer\n",
    "tfidf_vectorizer = TfidfVectorizer(max_features=10000,              # only top n by freq\n",
    "                                   lowercase=True,                  # keep caps\n",
    "                                   token_pattern=r\"[A-Za-z]{4,15}\", # words with 4 to 15 characters\n",
    "                                   ngram_range=(1,2),               # include 2-word phrases\n",
    "                                   min_df=25,                       # note: absolute count of doc\n",
    "                                   max_df=0.75,                     # note: % of docs\n",
    "                                   stop_words=my_stop_words)            # default English stopword\n",
    "                                   \n",
    "# Count Vectorizer\n",
    "tf_vectorizer = CountVectorizer(max_features=10000,              # only top n by freq\n",
    "                                lowercase=True,                  # keep caps\n",
    "                                token_pattern=r\"[A-Za-z]{4,15}\", # words with 4 to 15 characters\n",
    "                                ngram_range=(1,2),               # include 2-word phrases\n",
    "                                min_df=25,                       # note: absolute count of doc\n",
    "                                max_df=0.75,                     # note: % of docs\n",
    "                                stop_words=my_stop_words)            # default English stopword"
   ]
  },
  {
   "cell_type": "code",
   "execution_count": 13,
   "metadata": {
    "colab": {
     "base_uri": "https://localhost:8080/"
    },
    "executionInfo": {
     "elapsed": 22591,
     "status": "ok",
     "timestamp": 1628130885908,
     "user": {
      "displayName": "Laiya Lubben",
      "photoUrl": "https://lh3.googleusercontent.com/a/default-user=s64",
      "userId": "11817724685368002439"
     },
     "user_tz": 420
    },
    "id": "EfLQy_ify4sU",
    "outputId": "0f15e849-1f10-4d52-deda-ce55bdb0eb2b"
   },
   "outputs": [
    {
     "name": "stdout",
     "output_type": "stream",
     "text": [
      "(10399, 10000)\n",
      "(10399, 10000)\n"
     ]
    }
   ],
   "source": [
    "# transforming the data\n",
    "tfidf_docs = tfidf_vectorizer.fit_transform(labeled_df[\"job_description\"])  \n",
    "print(tfidf_docs.shape)\n",
    "tfidf_terms = tfidf_vectorizer.get_feature_names()\n",
    "\n",
    "tf_docs = tf_vectorizer.fit_transform(labeled_df[\"job_description\"])  \n",
    "print(tf_docs.shape)\n",
    "tf_terms = tf_vectorizer.get_feature_names()"
   ]
  },
  {
   "cell_type": "markdown",
   "metadata": {
    "id": "fc-Q6utIDcdG"
   },
   "source": [
    "# **3. Model Selection** (with raw job descriptions) \n",
    "\n",
    "In this section, we will be evaluating different models performances based on accuracy and f-1 scores with both the bag of words approach and TF-IDF. Then we will take models with the highest performance for parameters tuning in the next section Model Training."
   ]
  },
  {
   "cell_type": "code",
   "execution_count": 14,
   "metadata": {
    "colab": {
     "base_uri": "https://localhost:8080/"
    },
    "executionInfo": {
     "elapsed": 13,
     "status": "ok",
     "timestamp": 1628130885909,
     "user": {
      "displayName": "Laiya Lubben",
      "photoUrl": "https://lh3.googleusercontent.com/a/default-user=s64",
      "userId": "11817724685368002439"
     },
     "user_tz": 420
    },
    "id": "eEUkdAaDHbMn",
    "outputId": "e3e17453-77ad-485a-b8e0-987e88c8dc3a"
   },
   "outputs": [
    {
     "name": "stdout",
     "output_type": "stream",
     "text": [
      "Accuracy score of dummy classifier: 0.22884615384615384\n",
      "F-1 score of dummy classifier: 0.0852353436860479\n"
     ]
    }
   ],
   "source": [
    "# This is to establish a baseline for the models we want to evaluate\n",
    "dummy_clf = DummyClassifier(strategy=\"most_frequent\")\n",
    "X = tfidf_docs\n",
    "y = labeled_df.domain_label\n",
    "X_train, X_test, y_train, y_test = train_test_split(X, y, random_state=RANDOM_SEED, stratify=y)\n",
    "\n",
    "dummy_clf.fit(X_train, y_train)\n",
    "y_pred = dummy_clf.predict(X_test)\n",
    "print(\"Accuracy score of dummy classifier:\", accuracy_score(y_test, y_pred))\n",
    "print(\"F-1 score of dummy classifier:\", f1_score(y_test, y_pred, average='weighted'))"
   ]
  },
  {
   "cell_type": "code",
   "execution_count": 15,
   "metadata": {
    "executionInfo": {
     "elapsed": 9,
     "status": "ok",
     "timestamp": 1628130885910,
     "user": {
      "displayName": "Laiya Lubben",
      "photoUrl": "https://lh3.googleusercontent.com/a/default-user=s64",
      "userId": "11817724685368002439"
     },
     "user_tz": 420
    },
    "id": "WrFWFeCRDk9e"
   },
   "outputs": [],
   "source": [
    "# initialize models \n",
    "model_mnb = MultinomialNB()\n",
    "model_lr = LogisticRegression(random_state=RANDOM_SEED)\n",
    "model_knn = KNeighborsClassifier()\n",
    "model_rf = RandomForestClassifier(random_state=RANDOM_SEED)\n",
    "\n",
    "# let's put them in a list\n",
    "models = [model_mnb, model_lr, model_knn, model_rf]\n",
    "models_name = ['Multinomial Naive Bayes', 'Logistic Regression', 'K-Nearest Neighbors', 'Random Forest']"
   ]
  },
  {
   "cell_type": "code",
   "execution_count": 16,
   "metadata": {
    "colab": {
     "base_uri": "https://localhost:8080/",
     "height": 0
    },
    "executionInfo": {
     "elapsed": 247,
     "status": "ok",
     "timestamp": 1628130886149,
     "user": {
      "displayName": "Laiya Lubben",
      "photoUrl": "https://lh3.googleusercontent.com/a/default-user=s64",
      "userId": "11817724685368002439"
     },
     "user_tz": 420
    },
    "id": "9wbTZU59IE7Q",
    "outputId": "65e8d3f7-d5be-409f-8e7a-b1b846756314"
   },
   "outputs": [
    {
     "data": {
      "text/html": [
       "<div>\n",
       "<style scoped>\n",
       "    .dataframe tbody tr th:only-of-type {\n",
       "        vertical-align: middle;\n",
       "    }\n",
       "\n",
       "    .dataframe tbody tr th {\n",
       "        vertical-align: top;\n",
       "    }\n",
       "\n",
       "    .dataframe thead th {\n",
       "        text-align: right;\n",
       "    }\n",
       "</style>\n",
       "<table border=\"1\" class=\"dataframe\">\n",
       "  <thead>\n",
       "    <tr style=\"text-align: right;\">\n",
       "      <th></th>\n",
       "      <th>company_name</th>\n",
       "      <th>industry</th>\n",
       "      <th>id</th>\n",
       "      <th>crawl_timestamp</th>\n",
       "      <th>url</th>\n",
       "      <th>job_title</th>\n",
       "      <th>category</th>\n",
       "      <th>city</th>\n",
       "      <th>state</th>\n",
       "      <th>country</th>\n",
       "      <th>...</th>\n",
       "      <th>html_job_description</th>\n",
       "      <th>company_description</th>\n",
       "      <th>location</th>\n",
       "      <th>education</th>\n",
       "      <th>skill</th>\n",
       "      <th>cleaned_jd</th>\n",
       "      <th>domain_minik</th>\n",
       "      <th>domain_lr</th>\n",
       "      <th>job_domain</th>\n",
       "      <th>domain_label</th>\n",
       "    </tr>\n",
       "  </thead>\n",
       "  <tbody>\n",
       "    <tr>\n",
       "      <td>2029</td>\n",
       "      <td>humana</td>\n",
       "      <td>insurance</td>\n",
       "      <td>9872</td>\n",
       "      <td>2019-09-08</td>\n",
       "      <td>https://job-openings.monster.com/senior-data-s...</td>\n",
       "      <td>Senior Data Scientist-Data Privacy</td>\n",
       "      <td>computer jobs</td>\n",
       "      <td>Boston</td>\n",
       "      <td>MA</td>\n",
       "      <td>UNITED STATES</td>\n",
       "      <td>...</td>\n",
       "      <td>&lt;div&gt;&lt;b&gt;Description&lt;/b&gt;&lt;p style=\"text-align%3A...</td>\n",
       "      <td>None</td>\n",
       "      <td>None</td>\n",
       "      <td>master;phd</td>\n",
       "      <td>optimization, statistical analysis</td>\n",
       "      <td>description responsibilities the data governan...</td>\n",
       "      <td>tech</td>\n",
       "      <td>finance</td>\n",
       "      <td>finance</td>\n",
       "      <td>6</td>\n",
       "    </tr>\n",
       "    <tr>\n",
       "      <td>99</td>\n",
       "      <td>accenture</td>\n",
       "      <td>information technology and services</td>\n",
       "      <td>117616</td>\n",
       "      <td>2021-07-16</td>\n",
       "      <td>https://www.glassdoor.com/job-listing/business...</td>\n",
       "      <td>Business Analyst Commerce</td>\n",
       "      <td>None</td>\n",
       "      <td>Austin</td>\n",
       "      <td>TX</td>\n",
       "      <td></td>\n",
       "      <td>...</td>\n",
       "      <td>None</td>\n",
       "      <td>None</td>\n",
       "      <td>Austin, Texas</td>\n",
       "      <td>bachelor</td>\n",
       "      <td>data analytics, excel, python, scrum, sql</td>\n",
       "      <td>accenture flex offers you the flexibility of f...</td>\n",
       "      <td>business</td>\n",
       "      <td>tech</td>\n",
       "      <td>tech</td>\n",
       "      <td>19</td>\n",
       "    </tr>\n",
       "    <tr>\n",
       "      <td>410</td>\n",
       "      <td>citi</td>\n",
       "      <td>financial services</td>\n",
       "      <td>127116</td>\n",
       "      <td>2021-07-26</td>\n",
       "      <td>https://www.glassdoor.com/job-listing/balance-...</td>\n",
       "      <td>Balance Sheet Control Lead Analyst</td>\n",
       "      <td>None</td>\n",
       "      <td>Elma</td>\n",
       "      <td>NY</td>\n",
       "      <td></td>\n",
       "      <td>...</td>\n",
       "      <td>None</td>\n",
       "      <td>None</td>\n",
       "      <td>Elma, New York State</td>\n",
       "      <td></td>\n",
       "      <td></td>\n",
       "      <td>the balance sheet ctrl ld analyst is a strateg...</td>\n",
       "      <td>general</td>\n",
       "      <td>finance</td>\n",
       "      <td>finance</td>\n",
       "      <td>6</td>\n",
       "    </tr>\n",
       "  </tbody>\n",
       "</table>\n",
       "<p>3 rows × 25 columns</p>\n",
       "</div>"
      ],
      "text/plain": [
       "     company_name                             industry      id  \\\n",
       "2029       humana                            insurance    9872   \n",
       "99      accenture  information technology and services  117616   \n",
       "410          citi                   financial services  127116   \n",
       "\n",
       "     crawl_timestamp                                                url  \\\n",
       "2029      2019-09-08  https://job-openings.monster.com/senior-data-s...   \n",
       "99        2021-07-16  https://www.glassdoor.com/job-listing/business...   \n",
       "410       2021-07-26  https://www.glassdoor.com/job-listing/balance-...   \n",
       "\n",
       "                               job_title       category    city state  \\\n",
       "2029  Senior Data Scientist-Data Privacy  computer jobs  Boston    MA   \n",
       "99             Business Analyst Commerce           None  Austin    TX   \n",
       "410   Balance Sheet Control Lead Analyst           None    Elma    NY   \n",
       "\n",
       "            country  ...                               html_job_description  \\\n",
       "2029  UNITED STATES  ...  <div><b>Description</b><p style=\"text-align%3A...   \n",
       "99                   ...                                               None   \n",
       "410                  ...                                               None   \n",
       "\n",
       "     company_description              location   education  \\\n",
       "2029                None                  None  master;phd   \n",
       "99                  None         Austin, Texas    bachelor   \n",
       "410                 None  Elma, New York State               \n",
       "\n",
       "                                          skill  \\\n",
       "2029         optimization, statistical analysis   \n",
       "99    data analytics, excel, python, scrum, sql   \n",
       "410                                               \n",
       "\n",
       "                                             cleaned_jd domain_minik  \\\n",
       "2029  description responsibilities the data governan...         tech   \n",
       "99    accenture flex offers you the flexibility of f...     business   \n",
       "410   the balance sheet ctrl ld analyst is a strateg...      general   \n",
       "\n",
       "     domain_lr job_domain domain_label  \n",
       "2029   finance    finance            6  \n",
       "99        tech       tech           19  \n",
       "410    finance    finance            6  \n",
       "\n",
       "[3 rows x 25 columns]"
      ]
     },
     "execution_count": 16,
     "metadata": {},
     "output_type": "execute_result"
    }
   ],
   "source": [
    "# Let's look at the labeled data we current have \n",
    "labeled_df.sample(3)"
   ]
  },
  {
   "cell_type": "code",
   "execution_count": 17,
   "metadata": {
    "colab": {
     "base_uri": "https://localhost:8080/",
     "height": 0,
     "referenced_widgets": [
      "fd4cbf48e2d14bf6b088a8faae130cab",
      "4dfc8953c1cd4b5fa4065b70cedb9ea8",
      "a1e30105c27d4ea6a16f9fe3a30be16e",
      "3bc1c61d69774ae5b1d5b1336f1b87dd",
      "0be7924b18754074b154b68b3beded8f",
      "72f86166aca0408cbd1a19834f464b39",
      "b3f8bf10548b4d5f9f63e76a98cfbd76",
      "30021cf6b46045b6a2919342aa082205",
      "29b7f3bd10e84a67909058f60db725e5",
      "59a7cc8664cc482cb8ac0b17cfb15e9d",
      "f4580620f2e74d34adf3e9c0f2957f6d",
      "12b3a9ac38a04d53aad95232b63d0820",
      "097b3f865e1b4636852974208e6cfb29",
      "3b54cf9f21e24053b58423fdfeff4ac9",
      "b41961aed3ff47388ce49d43e6d36527",
      "b8fa836442964bf8aad4007f334c33bb"
     ]
    },
    "executionInfo": {
     "elapsed": 119618,
     "status": "ok",
     "timestamp": 1628131005756,
     "user": {
      "displayName": "Laiya Lubben",
      "photoUrl": "https://lh3.googleusercontent.com/a/default-user=s64",
      "userId": "11817724685368002439"
     },
     "user_tz": 420
    },
    "id": "UxSqxL2VGj28",
    "outputId": "270bf469-212e-43a1-e9d8-b59db911cd9b"
   },
   "outputs": [
    {
     "data": {
      "application/vnd.jupyter.widget-view+json": {
       "model_id": "b60695626d384f2698a356060c32a01c",
       "version_major": 2,
       "version_minor": 0
      },
      "text/plain": [
       "  0%|          | 0/4 [00:00<?, ?it/s]"
      ]
     },
     "metadata": {},
     "output_type": "display_data"
    },
    {
     "data": {
      "application/vnd.jupyter.widget-view+json": {
       "model_id": "44d42746f8f44da687896690eb31c695",
       "version_major": 2,
       "version_minor": 0
      },
      "text/plain": [
       "  0%|          | 0/4 [00:00<?, ?it/s]"
      ]
     },
     "metadata": {},
     "output_type": "display_data"
    }
   ],
   "source": [
    "# now let's train the models using tfidf and tf\n",
    "# and evaluate the models by comparing accuracy and f-1 score\n",
    "acc = []\n",
    "f1 = []\n",
    "for X in [tfidf_docs, tf_docs]:\n",
    "    y = labeled_df.domain_label\n",
    "    X_train, X_test, y_train, y_test = train_test_split(X, y, random_state=RANDOM_SEED, stratify=y)\n",
    "\n",
    "    a = []\n",
    "    f = []\n",
    "    for m in tqdm(models): \n",
    "        m.fit(X_train, y_train)\n",
    "        y_pred = m.predict(X_test)\n",
    "        a.append(accuracy_score(y_test, y_pred))\n",
    "        f.append(f1_score(y_test, y_pred, average='weighted'))\n",
    "\n",
    "    acc.append(a)\n",
    "    f1.append(f) "
   ]
  },
  {
   "cell_type": "code",
   "execution_count": 18,
   "metadata": {
    "colab": {
     "base_uri": "https://localhost:8080/",
     "height": 0
    },
    "executionInfo": {
     "elapsed": 538,
     "status": "ok",
     "timestamp": 1628131006275,
     "user": {
      "displayName": "Laiya Lubben",
      "photoUrl": "https://lh3.googleusercontent.com/a/default-user=s64",
      "userId": "11817724685368002439"
     },
     "user_tz": 420
    },
    "id": "PyiYf5XYMOlU",
    "outputId": "d937218d-06d1-4d30-ab7d-02d1228eddd6"
   },
   "outputs": [
    {
     "data": {
      "image/png": "[encoded data removed]",
      "text/plain": [
       "<Figure size 1872x504 with 2 Axes>"
      ]
     },
     "metadata": {
      "needs_background": "light"
     },
     "output_type": "display_data"
    }
   ],
   "source": [
    "# let's plot the result and compare the performance based on model accuracy and f1 score\n",
    "fig, ax = plt.subplots(1,2, figsize=(26,7))\n",
    "for i in range(2): \n",
    "  X_axis = np.arange(len(models_name))\n",
    "    \n",
    "  bar1 = ax[i].bar(X_axis - 0.2, acc[i], 0.4, label = 'accuracy')\n",
    "  bar2 = ax[i].bar(X_axis + 0.2, f1[i], 0.4, label = 'f1 score')\n",
    "\n",
    "  ax[i].set_xticks(X_axis)\n",
    "  ax[i].set_xticklabels(models_name)\n",
    "  ax[i].set_xlabel(\"models\")\n",
    "  ax[i].set_ylabel(\"performance\")\n",
    "  ax[i].legend()\n",
    "\n",
    "  # add values on top of each bar\n",
    "  for bar in [bar1, bar2]:\n",
    "    for rect in bar:\n",
    "      h = rect.get_height()\n",
    "      ax[i].text(rect.get_x()+rect.get_width()/2., h, f'{h:.2f}',\n",
    "                    ha='center', va='bottom')\n",
    "          \n",
    "ax[0].set_title(\"Default Models Performance with {}\".format('TF-IDF'))  \n",
    "ax[1].set_title(\"Default Models Performance with {}\".format('TF'))  \n",
    "plt.show()"
   ]
  },
  {
   "cell_type": "code",
   "execution_count": 19,
   "metadata": {},
   "outputs": [
    {
     "name": "stdout",
     "output_type": "stream",
     "text": [
      "[[0.4819539812317504, 0.6591164640611649, 0.6721744003779436, 0.6948823997598679], [0.6583555764059336, 0.7193429574320993, 0.5226559841161581, 0.7019070079817139]]\n"
     ]
    }
   ],
   "source": [
    "print(f1)"
   ]
  },
  {
   "cell_type": "code",
   "execution_count": 20,
   "metadata": {
    "executionInfo": {
     "elapsed": 4,
     "status": "ok",
     "timestamp": 1628131006276,
     "user": {
      "displayName": "Laiya Lubben",
      "photoUrl": "https://lh3.googleusercontent.com/a/default-user=s64",
      "userId": "11817724685368002439"
     },
     "user_tz": 420
    },
    "id": "Ll_qLu5sPH_F"
   },
   "outputs": [],
   "source": [
    "# from what we see above, Random Forest performs the best with TF-IDF and Logistic Regression performs the best with TF \n",
    "# so in the upcoming section, we will continue to train RF and LR models  "
   ]
  },
  {
   "cell_type": "markdown",
   "metadata": {
    "id": "Uf_4ZKBpW4mu"
   },
   "source": [
    "# **4. Model Training** \n",
    "\n",
    "In this section, we will be using [GridSearchCV](https://scikit-learn.org/stable/modules/generated/sklearn.model_selection.GridSearchCV.html) to tune parameters on [Logistic Regression](https://scikit-learn.org/stable/modules/generated/sklearn.linear_model.LogisticRegression.html) and [Random Forest Classifier](https://scikit-learn.org/stable/modules/generated/sklearn.ensemble.RandomForestClassifier.html). We will also be training the models with both the raw job descriptions and the cleaned job descriptions. The model with the best performance will be used to predict the domain for the unlabeled dataset.  "
   ]
  },
  {
   "cell_type": "markdown",
   "metadata": {
    "id": "-Nff70Ai-1qj"
   },
   "source": [
    "## 4.A. Train with Raw Job Descriptions"
   ]
  },
  {
   "cell_type": "code",
   "execution_count": 21,
   "metadata": {
    "colab": {
     "base_uri": "https://localhost:8080/"
    },
    "executionInfo": {
     "elapsed": 22717,
     "status": "ok",
     "timestamp": 1628131028990,
     "user": {
      "displayName": "Laiya Lubben",
      "photoUrl": "https://lh3.googleusercontent.com/a/default-user=s64",
      "userId": "11817724685368002439"
     },
     "user_tz": 420
    },
    "id": "Q8BChBq8-1qk",
    "outputId": "9591a946-0459-4f65-d366-fa2b90df6963"
   },
   "outputs": [
    {
     "name": "stdout",
     "output_type": "stream",
     "text": [
      "(10399, 10000)\n",
      "(10399, 10000)\n"
     ]
    }
   ],
   "source": [
    "# transforming the data\n",
    "tfidf_docs = tfidf_vectorizer.fit_transform(labeled_df[\"job_description\"])  \n",
    "print(tfidf_docs.shape)\n",
    "tfidf_terms = tfidf_vectorizer.get_feature_names()\n",
    "\n",
    "tf_docs = tf_vectorizer.fit_transform(labeled_df[\"job_description\"])  \n",
    "print(tf_docs.shape)\n",
    "tf_terms = tf_vectorizer.get_feature_names()\n",
    "\n",
    "# split into train and test set\n",
    "X_train_tf, X_test_tf, y_train_tf, y_test_tf = train_test_split(tf_docs, labeled_df.domain_label, \n",
    "                                                                stratify=y, random_state=RANDOM_SEED)\n",
    "X_train_tfidf, X_test_tfidf, y_train_tfidf, y_test_tfidf = train_test_split(tfidf_docs, labeled_df.domain_label, \n",
    "                                                                            stratify=y, random_state=RANDOM_SEED)\n"
   ]
  },
  {
   "cell_type": "markdown",
   "metadata": {
    "id": "qaeuF_Lv-1qk"
   },
   "source": [
    "### 4.A.1. Logistic Regression"
   ]
  },
  {
   "cell_type": "code",
   "execution_count": 22,
   "metadata": {
    "executionInfo": {
     "elapsed": 8,
     "status": "ok",
     "timestamp": 1628131028991,
     "user": {
      "displayName": "Laiya Lubben",
      "photoUrl": "https://lh3.googleusercontent.com/a/default-user=s64",
      "userId": "11817724685368002439"
     },
     "user_tz": 420
    },
    "id": "RjTPMK0E-1ql"
   },
   "outputs": [],
   "source": [
    "# # set up the model and variables for training\n",
    "# model = LogisticRegression()\n",
    "\n",
    "# # define grid search for tuning the parameters\n",
    "# grid_params = {\n",
    "#                 'solver':['newton-cg', 'sag', 'lbfgs'],\n",
    "#                 'C':[100, 10, 1.0, 0.1]\n",
    "#                }\n",
    "# cv = StratifiedKFold(random_state=RANDOM_SEED)\n",
    "# grid_search = GridSearchCV(model, grid_params, cv=cv, scoring='f1_weighted', n_jobs=-1, verbose=10)\n",
    "# grid_result = grid_search.fit(X_train_tf, y_train_tf)\n",
    "\n",
    "# y_pred = grid_search.predict(X_test_tf)\n",
    "# f1 = f1_score(y_test_tf, y_pred, average='weighted')\n",
    "\n",
    "# # summarize results\n",
    "# print(\"Best parameters: {}\".format(grid_result.best_params_))\n",
    "# print(\"Best cross-validation score: {:.4f}\".format(grid_result.best_score_))\n",
    "# print(\"F1 score with best parameters on the test set: {:.4f}\".format(f1))\n",
    "\n",
    "#-------------------------------------------------------------------------------\n",
    "# The result is recorded below so we don't need to rerun this cell everytime\n",
    "# Best parameters: {'C': 0.1, 'solver': 'newton-cg'}\n",
    "# Best cross-validation score: 0.7040\n",
    "# F1 score with best parameters on the test set: 0.7227"
   ]
  },
  {
   "cell_type": "code",
   "execution_count": 23,
   "metadata": {
    "colab": {
     "base_uri": "https://localhost:8080/"
    },
    "executionInfo": {
     "elapsed": 193228,
     "status": "ok",
     "timestamp": 1628131222213,
     "user": {
      "displayName": "Laiya Lubben",
      "photoUrl": "https://lh3.googleusercontent.com/a/default-user=s64",
      "userId": "11817724685368002439"
     },
     "user_tz": 420
    },
    "id": "3pz7iJ9c-1qm",
    "outputId": "e80975ec-ec2d-4bf5-d869-10dc7f6de932"
   },
   "outputs": [
    {
     "name": "stdout",
     "output_type": "stream",
     "text": [
      "F1 score with best parameters on the test set: 0.7227\n"
     ]
    }
   ],
   "source": [
    "# using the best parameter found using grid search above and retrain a Logistic Regression model (reason for the retrain is because it takes a long time to run the gridsearch so don't want to rerun it everytime) \n",
    "model = LogisticRegression(C=0.1, solver='newton-cg', random_state=RANDOM_SEED)\n",
    "model.fit(X_train_tf, y_train_tf)\n",
    "y_pred = model.predict(X_test_tf)\n",
    "f1 = f1_score(y_test_tf, y_pred, average='weighted')\n",
    "\n",
    "print(\"F1 score with best parameters on the test set: {:.4f}\".format(f1))"
   ]
  },
  {
   "cell_type": "code",
   "execution_count": 24,
   "metadata": {
    "colab": {
     "base_uri": "https://localhost:8080/",
     "height": 1000
    },
    "executionInfo": {
     "elapsed": 2669,
     "status": "ok",
     "timestamp": 1628131224872,
     "user": {
      "displayName": "Laiya Lubben",
      "photoUrl": "https://lh3.googleusercontent.com/a/default-user=s64",
      "userId": "11817724685368002439"
     },
     "user_tz": 420
    },
    "id": "bWvKhVog-1qm",
    "outputId": "285a4c26-a150-42eb-e0eb-459778607074"
   },
   "outputs": [
    {
     "data": {
      "image/png": "[encoded data removed]",
      "text/plain": [
       "<Figure size 2880x1440 with 2 Axes>"
      ]
     },
     "metadata": {
      "needs_background": "light"
     },
     "output_type": "display_data"
    }
   ],
   "source": [
    "# this is use to help label the confusion matrix axis \n",
    "df_labels = labeled_df[['job_domain', 'domain_label']].drop_duplicates()\n",
    "\n",
    "# now evaluate the model using confusion matrix \n",
    "cm = confusion_matrix(y_test_tf, y_pred, labels=df_labels.domain_label)\n",
    "\n",
    "# let's plot the confusion matrix as heatmap and see how the model perform for each domain\n",
    "fig, ax = plt.subplots(figsize=(40,20))\n",
    "\n",
    "sns.heatmap(cm, cmap='Blues', annot=True, fmt='g')\n",
    "ax.set_xlabel('Predicted labels');\n",
    "ax.set_ylabel('True labels'); \n",
    "ax.set_title('Confusion Matrix - Logistic Regression'); \n",
    "ax.xaxis.set_ticklabels(df_labels.job_domain, rotation=45); \n",
    "ax.yaxis.set_ticklabels(df_labels.job_domain, rotation=0);"
   ]
  },
  {
   "cell_type": "code",
   "execution_count": 25,
   "metadata": {
    "colab": {
     "base_uri": "https://localhost:8080/"
    },
    "executionInfo": {
     "elapsed": 238522,
     "status": "ok",
     "timestamp": 1628131463384,
     "user": {
      "displayName": "Laiya Lubben",
      "photoUrl": "https://lh3.googleusercontent.com/a/default-user=s64",
      "userId": "11817724685368002439"
     },
     "user_tz": 420
    },
    "id": "o3ipSX6u-1qn",
    "outputId": "b2033cfe-3b7f-4e64-c49a-bd6367d4b2db"
   },
   "outputs": [
    {
     "data": {
      "text/plain": [
       "LogisticRegression(C=0.1, class_weight=None, dual=False, fit_intercept=True,\n",
       "                   intercept_scaling=1, l1_ratio=None, max_iter=100,\n",
       "                   multi_class='auto', n_jobs=None, penalty='l2',\n",
       "                   random_state=14, solver='newton-cg', tol=0.0001, verbose=0,\n",
       "                   warm_start=False)"
      ]
     },
     "execution_count": 25,
     "metadata": {},
     "output_type": "execute_result"
    }
   ],
   "source": [
    "# now that we are happy with our model, we can train the model with all the labeled data and predict labels for the unlabeled dataset\n",
    "model = LogisticRegression(C=0.1, solver='newton-cg', random_state=RANDOM_SEED)\n",
    "model.fit(tf_docs, labeled_df.domain_label)\n"
   ]
  },
  {
   "cell_type": "code",
   "execution_count": 26,
   "metadata": {
    "colab": {
     "base_uri": "https://localhost:8080/",
     "height": 418
    },
    "executionInfo": {
     "elapsed": 5336,
     "status": "ok",
     "timestamp": 1628131468710,
     "user": {
      "displayName": "Laiya Lubben",
      "photoUrl": "https://lh3.googleusercontent.com/a/default-user=s64",
      "userId": "11817724685368002439"
     },
     "user_tz": 420
    },
    "id": "OjanUd5s-1qo",
    "outputId": "ec1698ae-2c32-4a88-f6ef-aed9e6658581"
   },
   "outputs": [
    {
     "data": {
      "text/html": [
       "<div>\n",
       "<style scoped>\n",
       "    .dataframe tbody tr th:only-of-type {\n",
       "        vertical-align: middle;\n",
       "    }\n",
       "\n",
       "    .dataframe tbody tr th {\n",
       "        vertical-align: top;\n",
       "    }\n",
       "\n",
       "    .dataframe thead th {\n",
       "        text-align: right;\n",
       "    }\n",
       "</style>\n",
       "<table border=\"1\" class=\"dataframe\">\n",
       "  <thead>\n",
       "    <tr style=\"text-align: right;\">\n",
       "      <th></th>\n",
       "      <th>company_name</th>\n",
       "      <th>industry</th>\n",
       "      <th>id</th>\n",
       "      <th>crawl_timestamp</th>\n",
       "      <th>url</th>\n",
       "      <th>job_title</th>\n",
       "      <th>category</th>\n",
       "      <th>city</th>\n",
       "      <th>state</th>\n",
       "      <th>country</th>\n",
       "      <th>...</th>\n",
       "      <th>company_description</th>\n",
       "      <th>location</th>\n",
       "      <th>education</th>\n",
       "      <th>skill</th>\n",
       "      <th>cleaned_jd</th>\n",
       "      <th>domain_minik</th>\n",
       "      <th>domain_lr</th>\n",
       "      <th>pred_label</th>\n",
       "      <th>job_domain</th>\n",
       "      <th>domain_label</th>\n",
       "    </tr>\n",
       "  </thead>\n",
       "  <tbody>\n",
       "    <tr>\n",
       "      <td>5331</td>\n",
       "      <td>puresoft, inc.</td>\n",
       "      <td>NaN</td>\n",
       "      <td>109735</td>\n",
       "      <td>2021-07-13</td>\n",
       "      <td>https://www.dice.com/jobs/detail/%2528Full-Tim...</td>\n",
       "      <td>(Full Time) JAVA Developer @ NYC, NY</td>\n",
       "      <td>None</td>\n",
       "      <td></td>\n",
       "      <td></td>\n",
       "      <td></td>\n",
       "      <td>...</td>\n",
       "      <td>None</td>\n",
       "      <td>None</td>\n",
       "      <td></td>\n",
       "      <td>c#, css, data analytics, java, javascript, jqu...</td>\n",
       "      <td>position: senior java developer location: alba...</td>\n",
       "      <td>tech</td>\n",
       "      <td>tech</td>\n",
       "      <td>19</td>\n",
       "      <td>tech</td>\n",
       "      <td>19</td>\n",
       "    </tr>\n",
       "    <tr>\n",
       "      <td>3711</td>\n",
       "      <td>powdr corp 8 reviews - park city, ut 84098</td>\n",
       "      <td>NaN</td>\n",
       "      <td>8286</td>\n",
       "      <td>2019-08-17</td>\n",
       "      <td>https://www.indeed.com/viewjob?jk=f6d48caeaf0b...</td>\n",
       "      <td>Data Scientist or Engineer</td>\n",
       "      <td>Engineering-or-architecture</td>\n",
       "      <td>Park City</td>\n",
       "      <td>UT</td>\n",
       "      <td>UNITED STATES</td>\n",
       "      <td>...</td>\n",
       "      <td>None</td>\n",
       "      <td>None</td>\n",
       "      <td>bachelor</td>\n",
       "      <td>amazon web services, information systems, maya...</td>\n",
       "      <td>company: powdr corp location: park city, ut po...</td>\n",
       "      <td>business</td>\n",
       "      <td>tech</td>\n",
       "      <td>19</td>\n",
       "      <td>tech</td>\n",
       "      <td>19</td>\n",
       "    </tr>\n",
       "    <tr>\n",
       "      <td>1503</td>\n",
       "      <td>company info follow get job updates from apple...</td>\n",
       "      <td>NaN</td>\n",
       "      <td>2210</td>\n",
       "      <td>2019-03-13</td>\n",
       "      <td>https://www.indeed.com/viewjob?jk=b8021c3c957b...</td>\n",
       "      <td>Senior Data Scientist - Econometrics Forecasti...</td>\n",
       "      <td>Manufacturing/Mechanical</td>\n",
       "      <td>Santa Clara Valley</td>\n",
       "      <td>CA</td>\n",
       "      <td>UNITED STATES</td>\n",
       "      <td>...</td>\n",
       "      <td>None</td>\n",
       "      <td>None</td>\n",
       "      <td>bachelor</td>\n",
       "      <td>data mining, data modeling, hadoop, machine le...</td>\n",
       "      <td>summary posted: mar role number: the internet ...</td>\n",
       "      <td>marketing</td>\n",
       "      <td>consumer goods</td>\n",
       "      <td>1</td>\n",
       "      <td>consumer goods</td>\n",
       "      <td>1</td>\n",
       "    </tr>\n",
       "  </tbody>\n",
       "</table>\n",
       "<p>3 rows × 26 columns</p>\n",
       "</div>"
      ],
      "text/plain": [
       "                                           company_name industry      id  \\\n",
       "5331                                     puresoft, inc.      NaN  109735   \n",
       "3711         powdr corp 8 reviews - park city, ut 84098      NaN    8286   \n",
       "1503  company info follow get job updates from apple...      NaN    2210   \n",
       "\n",
       "     crawl_timestamp                                                url  \\\n",
       "5331      2021-07-13  https://www.dice.com/jobs/detail/%2528Full-Tim...   \n",
       "3711      2019-08-17  https://www.indeed.com/viewjob?jk=f6d48caeaf0b...   \n",
       "1503      2019-03-13  https://www.indeed.com/viewjob?jk=b8021c3c957b...   \n",
       "\n",
       "                                              job_title  \\\n",
       "5331               (Full Time) JAVA Developer @ NYC, NY   \n",
       "3711                         Data Scientist or Engineer   \n",
       "1503  Senior Data Scientist - Econometrics Forecasti...   \n",
       "\n",
       "                         category                city state        country  \\\n",
       "5331                         None                                            \n",
       "3711  Engineering-or-architecture           Park City    UT  UNITED STATES   \n",
       "1503     Manufacturing/Mechanical  Santa Clara Valley    CA  UNITED STATES   \n",
       "\n",
       "      ... company_description location education  \\\n",
       "5331  ...                None     None             \n",
       "3711  ...                None     None  bachelor   \n",
       "1503  ...                None     None  bachelor   \n",
       "\n",
       "                                                  skill  \\\n",
       "5331  c#, css, data analytics, java, javascript, jqu...   \n",
       "3711  amazon web services, information systems, maya...   \n",
       "1503  data mining, data modeling, hadoop, machine le...   \n",
       "\n",
       "                                             cleaned_jd domain_minik  \\\n",
       "5331  position: senior java developer location: alba...         tech   \n",
       "3711  company: powdr corp location: park city, ut po...     business   \n",
       "1503  summary posted: mar role number: the internet ...    marketing   \n",
       "\n",
       "           domain_lr pred_label      job_domain domain_label  \n",
       "5331            tech         19            tech           19  \n",
       "3711            tech         19            tech           19  \n",
       "1503  consumer goods          1  consumer goods            1  \n",
       "\n",
       "[3 rows x 26 columns]"
      ]
     },
     "execution_count": 26,
     "metadata": {},
     "output_type": "execute_result"
    }
   ],
   "source": [
    "# transform the job description of the unlabeled data and predict labels using the trained model \n",
    "unlabeled_X = tf_vectorizer.transform(unlabeled_df[\"job_description\"]) \n",
    "unlabeled_df['pred_label'] = model.predict(unlabeled_X)\n",
    "\n",
    "# now drop the job_domain column and do a merge with the df_labels to get the actual domain for each label\n",
    "# note: pred_label is in integers so we need to do this to transform it back to domain \n",
    "unlabeled_df = unlabeled_df.drop(columns=['job_domain'])\n",
    "pred_df = unlabeled_df.merge(df_labels, how='left', left_on='pred_label', right_on='domain_label')\n",
    "pred_df.sample(3)"
   ]
  },
  {
   "cell_type": "code",
   "execution_count": 27,
   "metadata": {
    "executionInfo": {
     "elapsed": 10,
     "status": "ok",
     "timestamp": 1628131468711,
     "user": {
      "displayName": "Laiya Lubben",
      "photoUrl": "https://lh3.googleusercontent.com/a/default-user=s64",
      "userId": "11817724685368002439"
     },
     "user_tz": 420
    },
    "id": "icN_VsSvOCkS"
   },
   "outputs": [],
   "source": [
    "# # record the result into the database\n",
    "# connection = pymysql.connect(host=secret['host'],\n",
    "#                               user=secret['user'],\n",
    "#                               password=secret['password'],\n",
    "#                               database=secret['database'],\n",
    "#                               port=secret['port'],\n",
    "#                               charset=secret['charset'],\n",
    "#                               cursorclass=pymysql.cursors.DictCursor)\n",
    "\n",
    "# cursor = connection.cursor()\n",
    "\n",
    "# for i in tqdm(range(pred_df.shape[0])):\n",
    "#     id = pred_df.iloc[i]['id']\n",
    "#     domain = pred_df.iloc[i]['job_domain']\n",
    "#     cursor.execute(f\"\"\"UPDATE jd SET domain_lr='{domain}' WHERE id={id};\"\"\")\n",
    "#     if i%1000 == 0: \n",
    "#       connection.commit()\n",
    "# connection.commit()\n",
    "\n",
    "# connection.close()"
   ]
  },
  {
   "cell_type": "markdown",
   "metadata": {
    "id": "Khr8OdRu-1qo"
   },
   "source": [
    "### 4.A.2. Random Forest Classifier"
   ]
  },
  {
   "cell_type": "code",
   "execution_count": 28,
   "metadata": {
    "executionInfo": {
     "elapsed": 9,
     "status": "ok",
     "timestamp": 1628131468712,
     "user": {
      "displayName": "Laiya Lubben",
      "photoUrl": "https://lh3.googleusercontent.com/a/default-user=s64",
      "userId": "11817724685368002439"
     },
     "user_tz": 420
    },
    "id": "P8rjLYYZ-1qp"
   },
   "outputs": [],
   "source": [
    "# # set up the model and variables for training\n",
    "# model = RandomForestClassifier(random_state=RANDOM_SEED)\n",
    "\n",
    "# # define grid search\n",
    "# grid_params = {\n",
    "#                 'min_samples_leaf':[1,5,15],\n",
    "#                 'n_estimators': [500,700,950,1000],\n",
    "#                 'max_depth': [100,150,200,250]\n",
    "#                 }\n",
    "# cv = StratifiedKFold(random_state=RANDOM_SEED)\n",
    "# grid_search = GridSearchCV(model, grid_params, cv=cv, scoring='f1_weighted', n_jobs=-1, verbose=20)\n",
    "# grid_result = grid_search.fit(X_train_tfidf, y_train_tfidf)\n",
    "\n",
    "# y_pred = grid_search.predict(X_test_tfidf)\n",
    "# f1 = f1_score(y_test_tfidf, y_pred, average='weighted')\n",
    "\n",
    "# # summarize results\n",
    "# print(\"Best parameters: {}\".format(grid_result.best_params_))\n",
    "# print(\"Best cross-validation score: {:.4f}\".format(grid_result.best_score_))\n",
    "# print(\"F1 score with best parameters on the test set: {:.4f}\".format(f1))\n",
    "\n",
    "#-------------------------------------------------------------------------------\n",
    "# The result is recorded below so we don't need to rerun this cell everytime\n",
    "# Best parameters: {'max_depth': 150, 'min_samples_leaf': 1, 'n_estimators': 1000}\n",
    "# Best cross-validation score: 0.6805\n",
    "# F1 score with best parameters on the test set: 0.7044"
   ]
  },
  {
   "cell_type": "code",
   "execution_count": 29,
   "metadata": {
    "colab": {
     "base_uri": "https://localhost:8080/"
    },
    "executionInfo": {
     "elapsed": 324570,
     "status": "ok",
     "timestamp": 1628131793274,
     "user": {
      "displayName": "Laiya Lubben",
      "photoUrl": "https://lh3.googleusercontent.com/a/default-user=s64",
      "userId": "11817724685368002439"
     },
     "user_tz": 420
    },
    "id": "eXYjam09-1qp",
    "outputId": "458823ff-ef59-48d1-e585-fe7351a2854b"
   },
   "outputs": [
    {
     "name": "stdout",
     "output_type": "stream",
     "text": [
      "F1 score with best parameters on the test set: 0.7044\n"
     ]
    }
   ],
   "source": [
    "# using the best parameter found using grid search above and retrain a RF model (reason for the retrain is because it takes a long time to run the gridsearch so don't want to rerun it everytime) \n",
    "model = RandomForestClassifier(max_depth=150, min_samples_leaf=1, n_estimators=1000, random_state=RANDOM_SEED)\n",
    "model.fit(X_train_tfidf, y_train_tfidf)\n",
    "y_pred = model.predict(X_test_tfidf)\n",
    "f1 = f1_score(y_test_tfidf, y_pred, average='weighted')\n",
    "\n",
    "print(\"F1 score with best parameters on the test set: {:.4f}\".format(f1))"
   ]
  },
  {
   "cell_type": "code",
   "execution_count": 30,
   "metadata": {
    "colab": {
     "base_uri": "https://localhost:8080/",
     "height": 1000
    },
    "executionInfo": {
     "elapsed": 2805,
     "status": "ok",
     "timestamp": 1628131796065,
     "user": {
      "displayName": "Laiya Lubben",
      "photoUrl": "https://lh3.googleusercontent.com/a/default-user=s64",
      "userId": "11817724685368002439"
     },
     "user_tz": 420
    },
    "id": "nbYqxDrw-1qq",
    "outputId": "360a1c60-422c-4d92-ea4d-67abb4dc6e66"
   },
   "outputs": [
    {
     "data": {
      "image/png": "[encoded data removed]",
      "text/plain": [
       "<Figure size 2880x1440 with 2 Axes>"
      ]
     },
     "metadata": {
      "needs_background": "light"
     },
     "output_type": "display_data"
    }
   ],
   "source": [
    "# this is use to help label the confusion matrix axis \n",
    "df_labels = labeled_df[['job_domain', 'domain_label']].drop_duplicates()\n",
    "\n",
    "# now evaluate the model using confusion matrix \n",
    "cm = confusion_matrix(y_test_tfidf, y_pred, labels=df_labels.domain_label)\n",
    "\n",
    "# let's plot the confusion matrix as heatmap and see how the model perform for each domain\n",
    "fig, ax = plt.subplots(figsize=(40,20))\n",
    "\n",
    "sns.heatmap(cm, cmap='Blues', annot=True, fmt='g')\n",
    "ax.set_xlabel('Predicted labels');\n",
    "ax.set_ylabel('True labels'); \n",
    "ax.set_title('Confusion Matrix - Random Forest'); \n",
    "ax.xaxis.set_ticklabels(df_labels.job_domain, rotation=45); \n",
    "ax.yaxis.set_ticklabels(df_labels.job_domain, rotation=0);"
   ]
  },
  {
   "cell_type": "markdown",
   "metadata": {
    "id": "njoZAHNB-dMq"
   },
   "source": [
    "## 4.B. Train with Cleaned Job Descriptions"
   ]
  },
  {
   "cell_type": "code",
   "execution_count": 31,
   "metadata": {
    "colab": {
     "base_uri": "https://localhost:8080/"
    },
    "executionInfo": {
     "elapsed": 22572,
     "status": "ok",
     "timestamp": 1628131818625,
     "user": {
      "displayName": "Laiya Lubben",
      "photoUrl": "https://lh3.googleusercontent.com/a/default-user=s64",
      "userId": "11817724685368002439"
     },
     "user_tz": 420
    },
    "id": "A0uyo26U-rBZ",
    "outputId": "a6ae217f-acf1-4ede-dd40-5aec37cdf8dc"
   },
   "outputs": [
    {
     "name": "stdout",
     "output_type": "stream",
     "text": [
      "(10399, 10000)\n",
      "(10399, 10000)\n"
     ]
    }
   ],
   "source": [
    "# transforming the data\n",
    "tfidf_docs = tfidf_vectorizer.fit_transform(labeled_df[\"cleaned_jd\"])  \n",
    "print(tfidf_docs.shape)\n",
    "tfidf_terms = tfidf_vectorizer.get_feature_names()\n",
    "\n",
    "tf_docs = tf_vectorizer.fit_transform(labeled_df[\"cleaned_jd\"])  \n",
    "print(tf_docs.shape)\n",
    "tf_terms = tf_vectorizer.get_feature_names()\n",
    "\n",
    "# split into train and test set\n",
    "X_train_tf, X_test_tf, y_train_tf, y_test_tf = train_test_split(tf_docs, labeled_df.domain_label, \n",
    "                                                                stratify=y, random_state=RANDOM_SEED)\n",
    "X_train_tfidf, X_test_tfidf, y_train_tfidf, y_test_tfidf = train_test_split(tfidf_docs, labeled_df.domain_label, \n",
    "                                                                            stratify=y, random_state=RANDOM_SEED)"
   ]
  },
  {
   "cell_type": "markdown",
   "metadata": {
    "id": "3_RqxEAuXWrc"
   },
   "source": [
    "### 4.B.1. Logistic Regression"
   ]
  },
  {
   "cell_type": "code",
   "execution_count": 32,
   "metadata": {
    "executionInfo": {
     "elapsed": 5,
     "status": "ok",
     "timestamp": 1628131818626,
     "user": {
      "displayName": "Laiya Lubben",
      "photoUrl": "https://lh3.googleusercontent.com/a/default-user=s64",
      "userId": "11817724685368002439"
     },
     "user_tz": 420
    },
    "id": "simQHwmQXn4e"
   },
   "outputs": [],
   "source": [
    "# # set up the model and variables for training\n",
    "# model = LogisticRegression()\n",
    "\n",
    "# # define grid search\n",
    "# grid_params = {\n",
    "#                 'solver':['newton-cg', 'sag', 'lbfgs'],\n",
    "#                 'C':[100, 10, 1.0, 0.1]\n",
    "#                }\n",
    "# cv = StratifiedKFold(random_state=RANDOM_SEED)\n",
    "# grid_search = GridSearchCV(model, grid_params, cv=cv, scoring='f1_weighted', n_jobs=-1, verbose=10)\n",
    "# grid_result = grid_search.fit(X_train_tf, y_train_tf)\n",
    "\n",
    "# y_pred = grid_search.predict(X_test_tf)\n",
    "# f1 = f1_score(y_test_tf, y_pred, average='weighted')\n",
    "\n",
    "# # summarize results\n",
    "# print(\"Best parameters: {}\".format(grid_result.best_params_))\n",
    "# print(\"Best cross-validation score: {:.4f}\".format(grid_result.best_score_))\n",
    "# print(\"F1 score with best parameters on the test set: {:.4f}\".format(f1))\n",
    "\n",
    "#-------------------------------------------------------------------------------\n",
    "# The result is recorded below so we don't need to rerun this cell everytime\n",
    "# Best parameters: {'C': 0.1, 'solver': 'lbfgs'}\n",
    "# Best cross-validation score: 0.6981\n",
    "# F1 score with best parameters on the test set: 0.7195"
   ]
  },
  {
   "cell_type": "code",
   "execution_count": 33,
   "metadata": {
    "colab": {
     "base_uri": "https://localhost:8080/"
    },
    "executionInfo": {
     "elapsed": 234175,
     "status": "ok",
     "timestamp": 1628132052797,
     "user": {
      "displayName": "Laiya Lubben",
      "photoUrl": "https://lh3.googleusercontent.com/a/default-user=s64",
      "userId": "11817724685368002439"
     },
     "user_tz": 420
    },
    "id": "r-aEPeEU1gCi",
    "outputId": "46dafcc6-cfdd-4a89-a0dd-023846cc8e5a"
   },
   "outputs": [
    {
     "name": "stdout",
     "output_type": "stream",
     "text": [
      "F1 score with best parameters on the test set: 0.7195\n"
     ]
    }
   ],
   "source": [
    "# using the best parameter found using grid search above and retrain a Logistic Regression model (reason for the retrain is because it takes a long time to run the gridsearch so don't want to rerun it everytime) \n",
    "model = LogisticRegression(C=0.1, solver='lbfgs', random_state=RANDOM_SEED)\n",
    "model.fit(X_train_tf, y_train_tf)\n",
    "y_pred = model.predict(X_test_tf)\n",
    "f1 = f1_score(y_test_tf, y_pred, average='weighted')\n",
    "\n",
    "print(\"F1 score with best parameters on the test set: {:.4f}\".format(f1))"
   ]
  },
  {
   "cell_type": "markdown",
   "metadata": {
    "id": "gI5KcPh8XTFL"
   },
   "source": [
    "### 4.B.2. Random Forest Classifier"
   ]
  },
  {
   "cell_type": "code",
   "execution_count": 34,
   "metadata": {
    "executionInfo": {
     "elapsed": 31,
     "status": "ok",
     "timestamp": 1628132052798,
     "user": {
      "displayName": "Laiya Lubben",
      "photoUrl": "https://lh3.googleusercontent.com/a/default-user=s64",
      "userId": "11817724685368002439"
     },
     "user_tz": 420
    },
    "id": "6OY08RbtW3ZX"
   },
   "outputs": [],
   "source": [
    "# # set up the model and variables for training\n",
    "# model = RandomForestClassifier(random_state=RANDOM_SEED)\n",
    "\n",
    "# # define grid search\n",
    "# grid_params = {\n",
    "#                 'min_samples_leaf':[1,5,15],\n",
    "#                 'n_estimators': [500,700,950,1000],\n",
    "#                 'max_depth': [150,200,250,300]\n",
    "#                 }\n",
    "# cv = StratifiedKFold(random_state=RANDOM_SEED)\n",
    "# grid_search = GridSearchCV(model, grid_params, cv=cv, scoring='f1_weighted', n_jobs=-1, verbose=20)\n",
    "# grid_result = grid_search.fit(X_train_tfidf, y_train_tfidf)\n",
    "\n",
    "# y_pred = grid_search.predict(X_test_tfidf)\n",
    "# f1 = f1_score(y_test_tfidf, y_pred, average='weighted')\n",
    "\n",
    "# # summarize results\n",
    "# print(\"Best parameters: {}\".format(grid_result.best_params_))\n",
    "# print(\"Best cross-validation score: {:.4f}\".format(grid_result.best_score_))\n",
    "# print(\"F1 score with best parameters on the test set: {:.4f}\".format(f1))\n",
    "\n",
    "#-------------------------------------------------------------------------------\n",
    "# The result is recorded below so we don't need to rerun this cell everytime\n",
    "# Best parameters: {'max_depth': 250, 'min_samples_leaf': 1, 'n_estimators': 700}\n",
    "# Best cross-validation score: 0.6751\n",
    "# F1 score with best parameters on the test set: 0.7026"
   ]
  },
  {
   "cell_type": "code",
   "execution_count": 35,
   "metadata": {
    "colab": {
     "base_uri": "https://localhost:8080/"
    },
    "executionInfo": {
     "elapsed": 219552,
     "status": "ok",
     "timestamp": 1628132272322,
     "user": {
      "displayName": "Laiya Lubben",
      "photoUrl": "https://lh3.googleusercontent.com/a/default-user=s64",
      "userId": "11817724685368002439"
     },
     "user_tz": 420
    },
    "id": "kevVINn0IEay",
    "outputId": "3caeb0c4-2cdf-4981-ad68-964567e200ac"
   },
   "outputs": [
    {
     "name": "stdout",
     "output_type": "stream",
     "text": [
      "F1 score with best parameters on the test set: 0.7026\n"
     ]
    }
   ],
   "source": [
    "# using the best parameter found using grid search above and retrain a RF model (reason for the retrain is because it takes a long time to run the gridsearch so don't want to rerun it everytime) \n",
    "model = RandomForestClassifier(max_depth=250, min_samples_leaf=1, n_estimators=700, random_state=RANDOM_SEED)\n",
    "model.fit(X_train_tfidf, y_train_tfidf)\n",
    "y_pred = model.predict(X_test_tfidf)\n",
    "f1 = f1_score(y_test_tfidf, y_pred, average='weighted')\n",
    "\n",
    "print(\"F1 score with best parameters on the test set: {:.4f}\".format(f1))"
   ]
  },
  {
   "cell_type": "code",
   "execution_count": null,
   "metadata": {},
   "outputs": [],
   "source": []
  }
 ],
 "metadata": {
  "colab": {
   "authorship_tag": "ABX9TyPKX1SI53eXs36S3wx8De+U",
   "collapsed_sections": [
    "fxDUTxGzQ_IO",
    "_BzgnzWM547h",
    "fc-Q6utIDcdG",
    "-Nff70Ai-1qj",
    "qaeuF_Lv-1qk",
    "Khr8OdRu-1qo",
    "njoZAHNB-dMq",
    "3_RqxEAuXWrc",
    "gI5KcPh8XTFL"
   ],
   "name": "model_training_supervised.ipynb",
   "provenance": []
  },
  "kernelspec": {
   "display_name": "Python 3",
   "language": "python",
   "name": "python3"
  },
  "language_info": {
   "codemirror_mode": {
    "name": "ipython",
    "version": 3
   },
   "file_extension": ".py",
   "mimetype": "text/x-python",
   "name": "python",
   "nbconvert_exporter": "python",
   "pygments_lexer": "ipython3",
   "version": "3.7.4"
  },
  "widgets": {
   "application/vnd.jupyter.widget-state+json": {
    "097b3f865e1b4636852974208e6cfb29": {
     "model_module": "@jupyter-widgets/controls",
     "model_name": "ProgressStyleModel",
     "state": {
      "_model_module": "@jupyter-widgets/controls",
      "_model_module_version": "1.5.0",
      "_model_name": "ProgressStyleModel",
      "_view_count": null,
      "_view_module": "@jupyter-widgets/base",
      "_view_module_version": "1.2.0",
      "_view_name": "StyleView",
      "bar_color": null,
      "description_width": "initial"
     }
    },
    "0be7924b18754074b154b68b3beded8f": {
     "model_module": "@jupyter-widgets/controls",
     "model_name": "ProgressStyleModel",
     "state": {
      "_model_module": "@jupyter-widgets/controls",
      "_model_module_version": "1.5.0",
      "_model_name": "ProgressStyleModel",
      "_view_count": null,
      "_view_module": "@jupyter-widgets/base",
      "_view_module_version": "1.2.0",
      "_view_name": "StyleView",
      "bar_color": null,
      "description_width": "initial"
     }
    },
    "12b3a9ac38a04d53aad95232b63d0820": {
     "model_module": "@jupyter-widgets/controls",
     "model_name": "HTMLModel",
     "state": {
      "_dom_classes": [],
      "_model_module": "@jupyter-widgets/controls",
      "_model_module_version": "1.5.0",
      "_model_name": "HTMLModel",
      "_view_count": null,
      "_view_module": "@jupyter-widgets/controls",
      "_view_module_version": "1.5.0",
      "_view_name": "HTMLView",
      "description": "",
      "description_tooltip": null,
      "layout": "IPY_MODEL_b8fa836442964bf8aad4007f334c33bb",
      "placeholder": "​",
      "style": "IPY_MODEL_b41961aed3ff47388ce49d43e6d36527",
      "value": " 4/4 [14:04&lt;00:00, 211.15s/it]"
     }
    },
    "29b7f3bd10e84a67909058f60db725e5": {
     "model_module": "@jupyter-widgets/controls",
     "model_name": "HBoxModel",
     "state": {
      "_dom_classes": [],
      "_model_module": "@jupyter-widgets/controls",
      "_model_module_version": "1.5.0",
      "_model_name": "HBoxModel",
      "_view_count": null,
      "_view_module": "@jupyter-widgets/controls",
      "_view_module_version": "1.5.0",
      "_view_name": "HBoxView",
      "box_style": "",
      "children": [
       "IPY_MODEL_f4580620f2e74d34adf3e9c0f2957f6d",
       "IPY_MODEL_12b3a9ac38a04d53aad95232b63d0820"
      ],
      "layout": "IPY_MODEL_59a7cc8664cc482cb8ac0b17cfb15e9d"
     }
    },
    "30021cf6b46045b6a2919342aa082205": {
     "model_module": "@jupyter-widgets/base",
     "model_name": "LayoutModel",
     "state": {
      "_model_module": "@jupyter-widgets/base",
      "_model_module_version": "1.2.0",
      "_model_name": "LayoutModel",
      "_view_count": null,
      "_view_module": "@jupyter-widgets/base",
      "_view_module_version": "1.2.0",
      "_view_name": "LayoutView",
      "align_content": null,
      "align_items": null,
      "align_self": null,
      "border": null,
      "bottom": null,
      "display": null,
      "flex": null,
      "flex_flow": null,
      "grid_area": null,
      "grid_auto_columns": null,
      "grid_auto_flow": null,
      "grid_auto_rows": null,
      "grid_column": null,
      "grid_gap": null,
      "grid_row": null,
      "grid_template_areas": null,
      "grid_template_columns": null,
      "grid_template_rows": null,
      "height": null,
      "justify_content": null,
      "justify_items": null,
      "left": null,
      "margin": null,
      "max_height": null,
      "max_width": null,
      "min_height": null,
      "min_width": null,
      "object_fit": null,
      "object_position": null,
      "order": null,
      "overflow": null,
      "overflow_x": null,
      "overflow_y": null,
      "padding": null,
      "right": null,
      "top": null,
      "visibility": null,
      "width": null
     }
    },
    "3b54cf9f21e24053b58423fdfeff4ac9": {
     "model_module": "@jupyter-widgets/base",
     "model_name": "LayoutModel",
     "state": {
      "_model_module": "@jupyter-widgets/base",
      "_model_module_version": "1.2.0",
      "_model_name": "LayoutModel",
      "_view_count": null,
      "_view_module": "@jupyter-widgets/base",
      "_view_module_version": "1.2.0",
      "_view_name": "LayoutView",
      "align_content": null,
      "align_items": null,
      "align_self": null,
      "border": null,
      "bottom": null,
      "display": null,
      "flex": null,
      "flex_flow": null,
      "grid_area": null,
      "grid_auto_columns": null,
      "grid_auto_flow": null,
      "grid_auto_rows": null,
      "grid_column": null,
      "grid_gap": null,
      "grid_row": null,
      "grid_template_areas": null,
      "grid_template_columns": null,
      "grid_template_rows": null,
      "height": null,
      "justify_content": null,
      "justify_items": null,
      "left": null,
      "margin": null,
      "max_height": null,
      "max_width": null,
      "min_height": null,
      "min_width": null,
      "object_fit": null,
      "object_position": null,
      "order": null,
      "overflow": null,
      "overflow_x": null,
      "overflow_y": null,
      "padding": null,
      "right": null,
      "top": null,
      "visibility": null,
      "width": null
     }
    },
    "3bc1c61d69774ae5b1d5b1336f1b87dd": {
     "model_module": "@jupyter-widgets/controls",
     "model_name": "HTMLModel",
     "state": {
      "_dom_classes": [],
      "_model_module": "@jupyter-widgets/controls",
      "_model_module_version": "1.5.0",
      "_model_name": "HTMLModel",
      "_view_count": null,
      "_view_module": "@jupyter-widgets/controls",
      "_view_module_version": "1.5.0",
      "_view_name": "HTMLView",
      "description": "",
      "description_tooltip": null,
      "layout": "IPY_MODEL_30021cf6b46045b6a2919342aa082205",
      "placeholder": "​",
      "style": "IPY_MODEL_b3f8bf10548b4d5f9f63e76a98cfbd76",
      "value": " 4/4 [15:06&lt;00:00, 226.56s/it]"
     }
    },
    "4dfc8953c1cd4b5fa4065b70cedb9ea8": {
     "model_module": "@jupyter-widgets/base",
     "model_name": "LayoutModel",
     "state": {
      "_model_module": "@jupyter-widgets/base",
      "_model_module_version": "1.2.0",
      "_model_name": "LayoutModel",
      "_view_count": null,
      "_view_module": "@jupyter-widgets/base",
      "_view_module_version": "1.2.0",
      "_view_name": "LayoutView",
      "align_content": null,
      "align_items": null,
      "align_self": null,
      "border": null,
      "bottom": null,
      "display": null,
      "flex": null,
      "flex_flow": null,
      "grid_area": null,
      "grid_auto_columns": null,
      "grid_auto_flow": null,
      "grid_auto_rows": null,
      "grid_column": null,
      "grid_gap": null,
      "grid_row": null,
      "grid_template_areas": null,
      "grid_template_columns": null,
      "grid_template_rows": null,
      "height": null,
      "justify_content": null,
      "justify_items": null,
      "left": null,
      "margin": null,
      "max_height": null,
      "max_width": null,
      "min_height": null,
      "min_width": null,
      "object_fit": null,
      "object_position": null,
      "order": null,
      "overflow": null,
      "overflow_x": null,
      "overflow_y": null,
      "padding": null,
      "right": null,
      "top": null,
      "visibility": null,
      "width": null
     }
    },
    "59a7cc8664cc482cb8ac0b17cfb15e9d": {
     "model_module": "@jupyter-widgets/base",
     "model_name": "LayoutModel",
     "state": {
      "_model_module": "@jupyter-widgets/base",
      "_model_module_version": "1.2.0",
      "_model_name": "LayoutModel",
      "_view_count": null,
      "_view_module": "@jupyter-widgets/base",
      "_view_module_version": "1.2.0",
      "_view_name": "LayoutView",
      "align_content": null,
      "align_items": null,
      "align_self": null,
      "border": null,
      "bottom": null,
      "display": null,
      "flex": null,
      "flex_flow": null,
      "grid_area": null,
      "grid_auto_columns": null,
      "grid_auto_flow": null,
      "grid_auto_rows": null,
      "grid_column": null,
      "grid_gap": null,
      "grid_row": null,
      "grid_template_areas": null,
      "grid_template_columns": null,
      "grid_template_rows": null,
      "height": null,
      "justify_content": null,
      "justify_items": null,
      "left": null,
      "margin": null,
      "max_height": null,
      "max_width": null,
      "min_height": null,
      "min_width": null,
      "object_fit": null,
      "object_position": null,
      "order": null,
      "overflow": null,
      "overflow_x": null,
      "overflow_y": null,
      "padding": null,
      "right": null,
      "top": null,
      "visibility": null,
      "width": null
     }
    },
    "72f86166aca0408cbd1a19834f464b39": {
     "model_module": "@jupyter-widgets/base",
     "model_name": "LayoutModel",
     "state": {
      "_model_module": "@jupyter-widgets/base",
      "_model_module_version": "1.2.0",
      "_model_name": "LayoutModel",
      "_view_count": null,
      "_view_module": "@jupyter-widgets/base",
      "_view_module_version": "1.2.0",
      "_view_name": "LayoutView",
      "align_content": null,
      "align_items": null,
      "align_self": null,
      "border": null,
      "bottom": null,
      "display": null,
      "flex": null,
      "flex_flow": null,
      "grid_area": null,
      "grid_auto_columns": null,
      "grid_auto_flow": null,
      "grid_auto_rows": null,
      "grid_column": null,
      "grid_gap": null,
      "grid_row": null,
      "grid_template_areas": null,
      "grid_template_columns": null,
      "grid_template_rows": null,
      "height": null,
      "justify_content": null,
      "justify_items": null,
      "left": null,
      "margin": null,
      "max_height": null,
      "max_width": null,
      "min_height": null,
      "min_width": null,
      "object_fit": null,
      "object_position": null,
      "order": null,
      "overflow": null,
      "overflow_x": null,
      "overflow_y": null,
      "padding": null,
      "right": null,
      "top": null,
      "visibility": null,
      "width": null
     }
    },
    "a1e30105c27d4ea6a16f9fe3a30be16e": {
     "model_module": "@jupyter-widgets/controls",
     "model_name": "FloatProgressModel",
     "state": {
      "_dom_classes": [],
      "_model_module": "@jupyter-widgets/controls",
      "_model_module_version": "1.5.0",
      "_model_name": "FloatProgressModel",
      "_view_count": null,
      "_view_module": "@jupyter-widgets/controls",
      "_view_module_version": "1.5.0",
      "_view_name": "ProgressView",
      "bar_style": "success",
      "description": "100%",
      "description_tooltip": null,
      "layout": "IPY_MODEL_72f86166aca0408cbd1a19834f464b39",
      "max": 4,
      "min": 0,
      "orientation": "horizontal",
      "style": "IPY_MODEL_0be7924b18754074b154b68b3beded8f",
      "value": 4
     }
    },
    "b3f8bf10548b4d5f9f63e76a98cfbd76": {
     "model_module": "@jupyter-widgets/controls",
     "model_name": "DescriptionStyleModel",
     "state": {
      "_model_module": "@jupyter-widgets/controls",
      "_model_module_version": "1.5.0",
      "_model_name": "DescriptionStyleModel",
      "_view_count": null,
      "_view_module": "@jupyter-widgets/base",
      "_view_module_version": "1.2.0",
      "_view_name": "StyleView",
      "description_width": ""
     }
    },
    "b41961aed3ff47388ce49d43e6d36527": {
     "model_module": "@jupyter-widgets/controls",
     "model_name": "DescriptionStyleModel",
     "state": {
      "_model_module": "@jupyter-widgets/controls",
      "_model_module_version": "1.5.0",
      "_model_name": "DescriptionStyleModel",
      "_view_count": null,
      "_view_module": "@jupyter-widgets/base",
      "_view_module_version": "1.2.0",
      "_view_name": "StyleView",
      "description_width": ""
     }
    },
    "b8fa836442964bf8aad4007f334c33bb": {
     "model_module": "@jupyter-widgets/base",
     "model_name": "LayoutModel",
     "state": {
      "_model_module": "@jupyter-widgets/base",
      "_model_module_version": "1.2.0",
      "_model_name": "LayoutModel",
      "_view_count": null,
      "_view_module": "@jupyter-widgets/base",
      "_view_module_version": "1.2.0",
      "_view_name": "LayoutView",
      "align_content": null,
      "align_items": null,
      "align_self": null,
      "border": null,
      "bottom": null,
      "display": null,
      "flex": null,
      "flex_flow": null,
      "grid_area": null,
      "grid_auto_columns": null,
      "grid_auto_flow": null,
      "grid_auto_rows": null,
      "grid_column": null,
      "grid_gap": null,
      "grid_row": null,
      "grid_template_areas": null,
      "grid_template_columns": null,
      "grid_template_rows": null,
      "height": null,
      "justify_content": null,
      "justify_items": null,
      "left": null,
      "margin": null,
      "max_height": null,
      "max_width": null,
      "min_height": null,
      "min_width": null,
      "object_fit": null,
      "object_position": null,
      "order": null,
      "overflow": null,
      "overflow_x": null,
      "overflow_y": null,
      "padding": null,
      "right": null,
      "top": null,
      "visibility": null,
      "width": null
     }
    },
    "f4580620f2e74d34adf3e9c0f2957f6d": {
     "model_module": "@jupyter-widgets/controls",
     "model_name": "FloatProgressModel",
     "state": {
      "_dom_classes": [],
      "_model_module": "@jupyter-widgets/controls",
      "_model_module_version": "1.5.0",
      "_model_name": "FloatProgressModel",
      "_view_count": null,
      "_view_module": "@jupyter-widgets/controls",
      "_view_module_version": "1.5.0",
      "_view_name": "ProgressView",
      "bar_style": "success",
      "description": "100%",
      "description_tooltip": null,
      "layout": "IPY_MODEL_3b54cf9f21e24053b58423fdfeff4ac9",
      "max": 4,
      "min": 0,
      "orientation": "horizontal",
      "style": "IPY_MODEL_097b3f865e1b4636852974208e6cfb29",
      "value": 4
     }
    },
    "fd4cbf48e2d14bf6b088a8faae130cab": {
     "model_module": "@jupyter-widgets/controls",
     "model_name": "HBoxModel",
     "state": {
      "_dom_classes": [],
      "_model_module": "@jupyter-widgets/controls",
      "_model_module_version": "1.5.0",
      "_model_name": "HBoxModel",
      "_view_count": null,
      "_view_module": "@jupyter-widgets/controls",
      "_view_module_version": "1.5.0",
      "_view_name": "HBoxView",
      "box_style": "",
      "children": [
       "IPY_MODEL_a1e30105c27d4ea6a16f9fe3a30be16e",
       "IPY_MODEL_3bc1c61d69774ae5b1d5b1336f1b87dd"
      ],
      "layout": "IPY_MODEL_4dfc8953c1cd4b5fa4065b70cedb9ea8"
     }
    }
   }
  }
 },
 "nbformat": 4,
 "nbformat_minor": 1
}
