{
 "cells": [
  {
   "cell_type": "markdown",
   "id": "e3826a7b",
   "metadata": {},
   "source": [
    "# Manual Company Name Matching"
   ]
  },
  {
   "cell_type": "code",
   "execution_count": 8,
   "id": "c598b7cc",
   "metadata": {},
   "outputs": [],
   "source": [
    "import pandas as pd\n",
    "import pymysql\n",
    "\n",
    "companies = pd.read_csv('/Users/rachelwyatt/google (um)/MADS/capstone - siads 697-699/data/companies_sorted.csv')\n",
    "\n",
    "connection = pymysql.connect(host=\"job-market.chfeqjbmewii.us-west-1.rds.amazonaws.com\",\n",
    "    user=\"root\",\n",
    "    password=\"mads_capstone\",\n",
    "    database=\"capstone\",\n",
    "    port=3306,\n",
    "    charset='utf8mb4',\n",
    "    cursorclass=pymysql.cursors.DictCursor)\n",
    "\n",
    "cursor = connection.cursor()\n",
    "cursor.execute(\"SELECT * FROM jd;\")\n",
    "table = cursor.fetchall()\n",
    "connection.close()\n",
    "\n",
    "df = pd.json_normalize(table)"
   ]
  },
  {
   "cell_type": "code",
   "execution_count": 9,
   "id": "764895cf",
   "metadata": {},
   "outputs": [
    {
     "data": {
      "text/plain": [
       "(7173426, 11)"
      ]
     },
     "execution_count": 9,
     "metadata": {},
     "output_type": "execute_result"
    }
   ],
   "source": [
    "companies.shape"
   ]
  },
  {
   "cell_type": "code",
   "execution_count": 7,
   "id": "0294e7ae",
   "metadata": {},
   "outputs": [
    {
     "data": {
      "text/plain": [
       "(19543, 19)"
      ]
     },
     "execution_count": 7,
     "metadata": {},
     "output_type": "execute_result"
    }
   ],
   "source": [
    "df.shape"
   ]
  },
  {
   "cell_type": "code",
   "execution_count": 18,
   "id": "0647151e",
   "metadata": {},
   "outputs": [],
   "source": [
    "df.company_name = df.company_name.str.lower()"
   ]
  },
  {
   "cell_type": "code",
   "execution_count": 19,
   "id": "80986c1c",
   "metadata": {},
   "outputs": [],
   "source": [
    "merge = df.merge(companies.rename(columns={'name':'company_name'}), how='left', on='company_name')"
   ]
  },
  {
   "cell_type": "code",
   "execution_count": 25,
   "id": "91e4798a",
   "metadata": {},
   "outputs": [
    {
     "data": {
      "text/plain": [
       "(27325, 29)"
      ]
     },
     "execution_count": 25,
     "metadata": {},
     "output_type": "execute_result"
    }
   ],
   "source": [
    "merge.shape"
   ]
  },
  {
   "cell_type": "code",
   "execution_count": 29,
   "id": "1d4783b3",
   "metadata": {},
   "outputs": [
    {
     "data": {
      "text/plain": [
       "(14040, 29)"
      ]
     },
     "execution_count": 29,
     "metadata": {},
     "output_type": "execute_result"
    }
   ],
   "source": [
    "merge[merge.domain.notna() & merge.job_title.notna()].shape"
   ]
  },
  {
   "cell_type": "code",
   "execution_count": 33,
   "id": "ef615b89",
   "metadata": {},
   "outputs": [],
   "source": [
    "merge.to_csv('/Users/rachelwyatt/google (um)/MADS/capstone - siads 697-699/data/companies_manually_matched.csv')"
   ]
  },
  {
   "cell_type": "code",
   "execution_count": null,
   "id": "1a71a29e",
   "metadata": {},
   "outputs": [],
   "source": []
  }
 ],
 "metadata": {
  "kernelspec": {
   "display_name": "Python 3",
   "language": "python",
   "name": "python3"
  },
  "language_info": {
   "codemirror_mode": {
    "name": "ipython",
    "version": 3
   },
   "file_extension": ".py",
   "mimetype": "text/x-python",
   "name": "python",
   "nbconvert_exporter": "python",
   "pygments_lexer": "ipython3",
   "version": "3.8.5"
  }
 },
 "nbformat": 4,
 "nbformat_minor": 5
}
