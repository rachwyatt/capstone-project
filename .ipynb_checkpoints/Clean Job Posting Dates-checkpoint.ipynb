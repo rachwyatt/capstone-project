{
 "cells": [
  {
   "cell_type": "code",
   "execution_count": 1,
   "id": "3de3716c",
   "metadata": {},
   "outputs": [],
   "source": [
    "import pandas as pd\n",
    "import numpy as np\n",
    "import pymysql"
   ]
  },
  {
   "cell_type": "code",
   "execution_count": 2,
   "id": "1ef1d4f7",
   "metadata": {},
   "outputs": [],
   "source": [
    "connection = pymysql.connect(host=\"job-market.chfeqjbmewii.us-west-1.rds.amazonaws.com\",\n",
    "    user=\"root\",\n",
    "    password=\"mads_capstone\",\n",
    "    database=\"capstone\",\n",
    "    port=3306,\n",
    "    charset='utf8mb4',\n",
    "    cursorclass=pymysql.cursors.DictCursor)\n",
    "\n",
    "cursor = connection.cursor()\n",
    "cursor.execute(\"SELECT * FROM jd;\")\n",
    "table = cursor.fetchall()\n",
    "connection.close()"
   ]
  },
  {
   "cell_type": "code",
   "execution_count": 168,
   "id": "c365e999",
   "metadata": {},
   "outputs": [],
   "source": [
    "df = pd.json_normalize(table)"
   ]
  },
  {
   "cell_type": "code",
   "execution_count": 169,
   "id": "4d46d2ca",
   "metadata": {},
   "outputs": [
    {
     "data": {
      "text/plain": [
       "(18160, 20)"
      ]
     },
     "execution_count": 169,
     "metadata": {},
     "output_type": "execute_result"
    }
   ],
   "source": [
    "df.shape"
   ]
  },
  {
   "cell_type": "markdown",
   "id": "20f6619f",
   "metadata": {},
   "source": [
    "#### Yesterday"
   ]
  },
  {
   "cell_type": "code",
   "execution_count": 170,
   "id": "c3127a99",
   "metadata": {},
   "outputs": [],
   "source": [
    "df['days_ago'] = np.where(df['post_date'].str.contains('yesterday', case=False), 1, None)"
   ]
  },
  {
   "cell_type": "markdown",
   "id": "d71de149",
   "metadata": {},
   "source": [
    "#### Weeks ago"
   ]
  },
  {
   "cell_type": "code",
   "execution_count": 171,
   "id": "598920da",
   "metadata": {},
   "outputs": [
    {
     "name": "stderr",
     "output_type": "stream",
     "text": [
      "<ipython-input-171-5a6fbcc6d4e0>:1: SettingWithCopyWarning: \n",
      "A value is trying to be set on a copy of a slice from a DataFrame\n",
      "\n",
      "See the caveats in the documentation: https://pandas.pydata.org/pandas-docs/stable/user_guide/indexing.html#returning-a-view-versus-a-copy\n",
      "  df['days_ago'][df['post_date'].str.contains('weeks', case=False)] = df['post_date'][df['post_date'].str.contains(\n"
     ]
    }
   ],
   "source": [
    "df['days_ago'][df['post_date'].str.contains('weeks', case=False)] = df['post_date'][df['post_date'].str.contains(\n",
    "    'weeks', case=False)].str.split(' ').str[0].astype(int)*7"
   ]
  },
  {
   "cell_type": "markdown",
   "id": "7b960fa1",
   "metadata": {},
   "source": [
    "#### Days ago"
   ]
  },
  {
   "cell_type": "code",
   "execution_count": 172,
   "id": "286f2dda",
   "metadata": {},
   "outputs": [],
   "source": [
    "df['days_ago'] = np.where(df['post_date'].str.contains('days', case=False) & \\\n",
    "                          df['post_date'].str.contains('posted', case=False),\n",
    "                          df['post_date'].str.split(' ').str[1],\n",
    "                          df['days_ago'])"
   ]
  },
  {
   "cell_type": "code",
   "execution_count": 173,
   "id": "d4b1c141",
   "metadata": {},
   "outputs": [],
   "source": [
    "df['days_ago'] = np.where(df['post_date'].str.contains('days', case=False) & \\\n",
    "                          ~df['post_date'].str.contains('posted', case=False),\n",
    "                          df['post_date'].str.split(' ').str[0],\n",
    "                          df['days_ago'])"
   ]
  },
  {
   "cell_type": "markdown",
   "id": "f1a5165f",
   "metadata": {},
   "source": [
    "### calculate date posted"
   ]
  },
  {
   "cell_type": "code",
   "execution_count": 174,
   "id": "b6753279",
   "metadata": {},
   "outputs": [],
   "source": [
    "df['crawl_timestamp'] = df['crawl_timestamp'].apply(lambda x: x.replace(r' +0000', ''))"
   ]
  },
  {
   "cell_type": "code",
   "execution_count": 175,
   "id": "e1f6667e",
   "metadata": {},
   "outputs": [],
   "source": [
    "df = df[df['crawl_timestamp']!='']"
   ]
  },
  {
   "cell_type": "code",
   "execution_count": 176,
   "id": "817e736d",
   "metadata": {},
   "outputs": [],
   "source": [
    "df['crawl_timestamp'] = pd.DatetimeIndex(df['crawl_timestamp'])"
   ]
  },
  {
   "cell_type": "code",
   "execution_count": 177,
   "id": "bff80aa9",
   "metadata": {},
   "outputs": [],
   "source": [
    "df['days_ago'] = df['days_ago'].fillna(0)"
   ]
  },
  {
   "cell_type": "code",
   "execution_count": 178,
   "id": "a908d4de",
   "metadata": {},
   "outputs": [],
   "source": [
    "df.days_ago = df.days_ago.astype(int)"
   ]
  },
  {
   "cell_type": "code",
   "execution_count": 179,
   "id": "5d0b54bf",
   "metadata": {},
   "outputs": [],
   "source": [
    "df['clean_post_date'] = df.apply(lambda x: x['crawl_timestamp'] - pd.Timedelta(days=x['days_ago']), axis=1)"
   ]
  },
  {
   "cell_type": "code",
   "execution_count": 180,
   "id": "d2c2afe2",
   "metadata": {},
   "outputs": [],
   "source": [
    "df['clean_post_date'] = np.where(df['days_ago']==0, df['crawl_timestamp'], df['clean_post_date'])"
   ]
  },
  {
   "cell_type": "code",
   "execution_count": 186,
   "id": "22a578dd",
   "metadata": {},
   "outputs": [
    {
     "data": {
      "text/plain": [
       "clean_post_date\n",
       "2019    9351\n",
       "2020     123\n",
       "2021    8583\n",
       "Name: id, dtype: int64"
      ]
     },
     "execution_count": 186,
     "metadata": {},
     "output_type": "execute_result"
    }
   ],
   "source": [
    "df.groupby(pd.DatetimeIndex(df['clean_post_date']).year)['id'].count()"
   ]
  },
  {
   "cell_type": "markdown",
   "id": "1a245f39",
   "metadata": {},
   "source": [
    "### Add clean post dates to database"
   ]
  },
  {
   "cell_type": "code",
   "execution_count": null,
   "id": "67a1f6b9",
   "metadata": {},
   "outputs": [],
   "source": []
  }
 ],
 "metadata": {
  "kernelspec": {
   "display_name": "Python 3",
   "language": "python",
   "name": "python3"
  },
  "language_info": {
   "codemirror_mode": {
    "name": "ipython",
    "version": 3
   },
   "file_extension": ".py",
   "mimetype": "text/x-python",
   "name": "python",
   "nbconvert_exporter": "python",
   "pygments_lexer": "ipython3",
   "version": "3.8.2"
  }
 },
 "nbformat": 4,
 "nbformat_minor": 5
}
