{
 "cells": [
  {
   "cell_type": "markdown",
   "id": "30a560eb",
   "metadata": {},
   "source": [
    "# Fuzzy Matching Company Names"
   ]
  },
  {
   "cell_type": "code",
   "execution_count": 1,
   "id": "001117b9",
   "metadata": {},
   "outputs": [],
   "source": [
    "import pandas as pd\n",
    "import pymysql\n",
    "from fuzzywuzzy import process\n",
    "import db_info as db\n",
    "\n",
    "companies = pd.read_csv('/Users/rachelwyatt/google (um)/MADS/capstone - siads 697-699/data/companies_sorted.csv')\n",
    "\n",
    "connection = pymysql.connect(host=db.DB_HOST,\n",
    "    user=db.DB_USER,\n",
    "    password=db.DB_PASSWORD,\n",
    "    database=db.DB_NAME,\n",
    "    port=db.DB_PORT,\n",
    "    charset='utf8mb4',\n",
    "    cursorclass=pymysql.cursors.DictCursor)\n",
    "\n",
    "cursor = connection.cursor()\n",
    "cursor.execute(\"SELECT * FROM jd;\")\n",
    "table = cursor.fetchall()\n",
    "connection.close()\n",
    "\n",
    "df = pd.json_normalize(table)\n",
    "\n",
    "# (There are over 7 million company names in the company data file.)\n",
    "# Filter companies to United States\n",
    "companies = companies[companies.country=='united states']\n",
    "\n",
    "# Create a unique list of all company names in the database\n",
    "company_names = list(companies['name'][companies['name'].notna()].unique())"
   ]
  },
  {
   "cell_type": "code",
   "execution_count": null,
   "id": "61d82f7e",
   "metadata": {},
   "outputs": [],
   "source": [
    "# Perform fuzzy matching and get the top match from the company info for each company in the database\n",
    "df['fuzzy_match_result'] = df['company_name'].apply(lambda x: process.extractOne(str(x), company_names))\n",
    "\n",
    "# Extract top matched company and match score from the fuzzy match results\n",
    "df['fuzzy_match_company'] = df['fuzzy_match_result'].apply(lambda x: x[0])\n",
    "df['fuzzy_match_score'] = df['fuzzy_match_result'].apply(lambda x: x[1])"
   ]
  },
  {
   "cell_type": "code",
   "execution_count": null,
   "id": "d8ec2e96",
   "metadata": {},
   "outputs": [],
   "source": [
    "df.to_csv('/Users/rachelwyatt/google (um)/MADS/capstone - siads 697-699/data/database_fuzzy_matched_US.csv')"
   ]
  },
  {
   "cell_type": "code",
   "execution_count": null,
   "id": "54137697",
   "metadata": {},
   "outputs": [],
   "source": []
  }
 ],
 "metadata": {
  "kernelspec": {
   "display_name": "Python 3",
   "language": "python",
   "name": "python3"
  },
  "language_info": {
   "codemirror_mode": {
    "name": "ipython",
    "version": 3
   },
   "file_extension": ".py",
   "mimetype": "text/x-python",
   "name": "python",
   "nbconvert_exporter": "python",
   "pygments_lexer": "ipython3",
   "version": "3.8.2"
  }
 },
 "nbformat": 4,
 "nbformat_minor": 5
}
