{
 "cells": [
  {
   "cell_type": "markdown",
   "metadata": {},
   "source": [
    "# Clean Job Posting Dates\n",
    "This notebook (by Rachel) cleans the job posting dates, performs necessary date calculations (in the case of \"posted yesterday\", \"posted 1 week ago\", etc.) and updates the database with the clean dates."
   ]
  },
  {
   "cell_type": "code",
   "execution_count": 3,
   "metadata": {
    "scrolled": false
   },
   "outputs": [],
   "source": [
    "import pandas as pd\n",
    "import numpy as np\n",
    "import pymysql\n",
    "from tqdm import tqdm"
   ]
  },
  {
   "cell_type": "code",
   "execution_count": 4,
   "metadata": {},
   "outputs": [],
   "source": [
    "import db_info as db"
   ]
  },
  {
   "cell_type": "code",
   "execution_count": 5,
   "metadata": {},
   "outputs": [],
   "source": [
    "connection = pymysql.connect(host=db.DB_HOST,\n",
    "    user=db.DB_USER,\n",
    "    password=db.DB_PASSWORD,\n",
    "    database=db.DB_NAME,\n",
    "    port=db.DB_PORT,\n",
    "    charset='utf8mb4',\n",
    "    cursorclass=pymysql.cursors.DictCursor)\n",
    "\n",
    "cursor = connection.cursor()\n",
    "cursor.execute(\"SELECT * FROM jd;\")\n",
    "table = cursor.fetchall()\n",
    "connection.close()"
   ]
  },
  {
   "cell_type": "code",
   "execution_count": 6,
   "metadata": {},
   "outputs": [],
   "source": [
    "df = pd.json_normalize(table)"
   ]
  },
  {
   "cell_type": "markdown",
   "metadata": {},
   "source": [
    "#### Yesterday"
   ]
  },
  {
   "cell_type": "code",
   "execution_count": 7,
   "metadata": {},
   "outputs": [],
   "source": [
    "df['days_ago'] = np.where(df['post_date'].str.contains('yesterday', case=False), 1, None)"
   ]
  },
  {
   "cell_type": "markdown",
   "metadata": {},
   "source": [
    "#### Weeks ago"
   ]
  },
  {
   "cell_type": "code",
   "execution_count": 8,
   "metadata": {},
   "outputs": [
    {
     "name": "stderr",
     "output_type": "stream",
     "text": [
      "<ipython-input-8-5a6fbcc6d4e0>:1: SettingWithCopyWarning: \n",
      "A value is trying to be set on a copy of a slice from a DataFrame\n",
      "\n",
      "See the caveats in the documentation: https://pandas.pydata.org/pandas-docs/stable/user_guide/indexing.html#returning-a-view-versus-a-copy\n",
      "  df['days_ago'][df['post_date'].str.contains('weeks', case=False)] = df['post_date'][df['post_date'].str.contains(\n"
     ]
    }
   ],
   "source": [
    "df['days_ago'][df['post_date'].str.contains('weeks', case=False)] = df['post_date'][df['post_date'].str.contains(\n",
    "    'weeks', case=False)].str.split(' ').str[0].astype(int)*7"
   ]
  },
  {
   "cell_type": "markdown",
   "metadata": {},
   "source": [
    "#### Days ago"
   ]
  },
  {
   "cell_type": "code",
   "execution_count": 9,
   "metadata": {},
   "outputs": [],
   "source": [
    "df['days_ago'] = np.where(df['post_date'].str.contains('days', case=False) & \\\n",
    "                          df['post_date'].str.contains('posted', case=False),\n",
    "                          df['post_date'].str.split(' ').str[1],\n",
    "                          df['days_ago'])"
   ]
  },
  {
   "cell_type": "code",
   "execution_count": 10,
   "metadata": {},
   "outputs": [],
   "source": [
    "df['days_ago'] = np.where(df['post_date'].str.contains('days', case=False) & \\\n",
    "                          ~df['post_date'].str.contains('posted', case=False),\n",
    "                          df['post_date'].str.split(' ').str[0],\n",
    "                          df['days_ago'])"
   ]
  },
  {
   "cell_type": "markdown",
   "metadata": {},
   "source": [
    "### calculate date posted"
   ]
  },
  {
   "cell_type": "code",
   "execution_count": 11,
   "metadata": {},
   "outputs": [],
   "source": [
    "df['crawl_timestamp'] = df['crawl_timestamp'].apply(lambda x: x.replace(r' +0000', ''))"
   ]
  },
  {
   "cell_type": "code",
   "execution_count": 12,
   "metadata": {},
   "outputs": [],
   "source": [
    "df = df[df['crawl_timestamp']!='']"
   ]
  },
  {
   "cell_type": "code",
   "execution_count": 13,
   "metadata": {},
   "outputs": [],
   "source": [
    "df['crawl_timestamp'] = pd.DatetimeIndex(df['crawl_timestamp'])"
   ]
  },
  {
   "cell_type": "code",
   "execution_count": 14,
   "metadata": {},
   "outputs": [],
   "source": [
    "df['days_ago'] = df['days_ago'].fillna(0)"
   ]
  },
  {
   "cell_type": "code",
   "execution_count": 15,
   "metadata": {},
   "outputs": [],
   "source": [
    "df.days_ago = df.days_ago.astype(int)"
   ]
  },
  {
   "cell_type": "code",
   "execution_count": 16,
   "metadata": {},
   "outputs": [],
   "source": [
    "df['clean_post_date'] = df.apply(lambda x: x['crawl_timestamp'] - pd.Timedelta(days=x['days_ago']), axis=1)"
   ]
  },
  {
   "cell_type": "code",
   "execution_count": 17,
   "metadata": {},
   "outputs": [],
   "source": [
    "df['clean_post_date'] = np.where(df['days_ago']==0, df['crawl_timestamp'], df['clean_post_date'])"
   ]
  },
  {
   "cell_type": "code",
   "execution_count": 18,
   "metadata": {},
   "outputs": [
    {
     "data": {
      "text/plain": [
       "clean_post_date\n",
       "2019    9351\n",
       "2020     123\n",
       "2021    8510\n",
       "Name: id, dtype: int64"
      ]
     },
     "execution_count": 18,
     "metadata": {},
     "output_type": "execute_result"
    }
   ],
   "source": [
    "df.groupby(pd.DatetimeIndex(df['clean_post_date']).year)['id'].count()"
   ]
  },
  {
   "cell_type": "markdown",
   "metadata": {},
   "source": [
    "### Add clean post dates to database"
   ]
  },
  {
   "cell_type": "code",
   "execution_count": 26,
   "metadata": {},
   "outputs": [
    {
     "name": "stderr",
     "output_type": "stream",
     "text": [
      "100%|██████████| 17984/17984 [43:17<00:00,  6.92it/s] \n"
     ]
    }
   ],
   "source": [
    "connection = pymysql.connect(host=db.DB_HOST,\n",
    "    user=db.DB_USER,\n",
    "    password=db.DB_PASSWORD,\n",
    "    database=db.DB_NAME,\n",
    "    port=db.DB_PORT,\n",
    "    charset='utf8mb4',\n",
    "    cursorclass=pymysql.cursors.DictCursor)\n",
    "cursor = connection.cursor()\n",
    "for i in tqdm(range(len(df))):\n",
    "    curr_id = df.iloc[i]['id']\n",
    "    curr_clean_date = df.iloc[i]['clean_post_date']\n",
    "    cursor.execute(f\"\"\"UPDATE jd SET clean_post_date='{curr_clean_date}' WHERE id={curr_id};\"\"\")\n",
    "    connection.commit()\n",
    "connection.close()"
   ]
  }
 ],
 "metadata": {
  "kernelspec": {
   "display_name": "Python 3",
   "language": "python",
   "name": "python3"
  },
  "language_info": {
   "codemirror_mode": {
    "name": "ipython",
    "version": 3
   },
   "file_extension": ".py",
   "mimetype": "text/x-python",
   "name": "python",
   "nbconvert_exporter": "python",
   "pygments_lexer": "ipython3",
   "version": "3.6.7"
  }
 },
 "nbformat": 4,
 "nbformat_minor": 2
}
